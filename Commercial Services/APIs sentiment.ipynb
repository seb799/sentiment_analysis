{
 "cells": [
  {
   "cell_type": "markdown",
   "metadata": {},
   "source": [
    "# Sentiment Analysis APIs"
   ]
  },
  {
   "cell_type": "code",
   "execution_count": 28,
   "metadata": {},
   "outputs": [],
   "source": [
    "import nltk\n",
    "import pandas as pd\n",
    "import re\n",
    "from sklearn.feature_extraction.text import TfidfVectorizer\n",
    "import string\n",
    "from pathlib import Path\n",
    "from matplotlib import pyplot\n",
    "import numpy as np\n",
    "%matplotlib inline\n",
    "from sklearn.metrics import precision_recall_fscore_support as score\n",
    "import time\n",
    "from sklearn.metrics import classification_report\n",
    "from sklearn.metrics import roc_auc_score, roc_curve, f1_score\n",
    "import requests"
   ]
  },
  {
   "cell_type": "code",
   "execution_count": 2,
   "metadata": {},
   "outputs": [],
   "source": [
    "pd.options.display.max_colwidth = 200"
   ]
  },
  {
   "cell_type": "code",
   "execution_count": 3,
   "metadata": {},
   "outputs": [],
   "source": [
    "DATA_PATH=Path('../data')\n",
    "CLAS_PATH=Path('../data/general_clas/')\n",
    "CLAS_PATH.mkdir(exist_ok=True)"
   ]
  },
  {
   "cell_type": "code",
   "execution_count": 4,
   "metadata": {},
   "outputs": [],
   "source": [
    "data_train = pd.read_csv(CLAS_PATH/'train.csv', header=None)\n",
    "data_val = pd.read_csv(CLAS_PATH/'val.csv', header=None)\n",
    "data_test = pd.read_csv(CLAS_PATH/'test.csv', header=None)\n",
    "data = pd.concat([data_train, data_val, data_test])\n",
    "data.columns = ['label', 'body_text']\n",
    "data['body_text'] = data['body_text'].apply(str)"
   ]
  },
  {
   "cell_type": "markdown",
   "metadata": {},
   "source": [
    "### Number of reviews in dataset"
   ]
  },
  {
   "cell_type": "code",
   "execution_count": 5,
   "metadata": {
    "scrolled": true
   },
   "outputs": [
    {
     "data": {
      "text/html": [
       "<div>\n",
       "<style scoped>\n",
       "    .dataframe tbody tr th:only-of-type {\n",
       "        vertical-align: middle;\n",
       "    }\n",
       "\n",
       "    .dataframe tbody tr th {\n",
       "        vertical-align: top;\n",
       "    }\n",
       "\n",
       "    .dataframe thead th {\n",
       "        text-align: right;\n",
       "    }\n",
       "</style>\n",
       "<table border=\"1\" class=\"dataframe\">\n",
       "  <thead>\n",
       "    <tr style=\"text-align: right;\">\n",
       "      <th></th>\n",
       "      <th>body_text</th>\n",
       "    </tr>\n",
       "    <tr>\n",
       "      <th>label</th>\n",
       "      <th></th>\n",
       "    </tr>\n",
       "  </thead>\n",
       "  <tbody>\n",
       "    <tr>\n",
       "      <th>0</th>\n",
       "      <td>250</td>\n",
       "    </tr>\n",
       "    <tr>\n",
       "      <th>1</th>\n",
       "      <td>250</td>\n",
       "    </tr>\n",
       "  </tbody>\n",
       "</table>\n",
       "</div>"
      ],
      "text/plain": [
       "       body_text\n",
       "label           \n",
       "0            250\n",
       "1            250"
      ]
     },
     "execution_count": 5,
     "metadata": {},
     "output_type": "execute_result"
    }
   ],
   "source": [
    "data['length'] = data['body_text'].apply(lambda x: len(x))\n",
    "data = data[data['length'] < 5000]\n",
    "\n",
    "\n",
    "neg_data = data[data['label']==0]\n",
    "pos_data = data[data['label']==1]\n",
    "\n",
    "neg_data = neg_data.sample(n=250, random_state=10)\n",
    "pos_data = pos_data.sample(n=250, random_state=10)\n",
    "\n",
    "\n",
    "\n",
    "data_test500 = pd.concat([pos_data, neg_data])\n",
    "data_test500[['label', 'body_text']].groupby('label').count()"
   ]
  },
  {
   "cell_type": "code",
   "execution_count": 6,
   "metadata": {},
   "outputs": [],
   "source": [
    "data_test500.to_csv(CLAS_PATH/'api_sample.csv')"
   ]
  },
  {
   "cell_type": "code",
   "execution_count": 7,
   "metadata": {},
   "outputs": [],
   "source": [
    "data_test500 = pd.read_csv(CLAS_PATH/'api_sample.csv', index_col=0)"
   ]
  },
  {
   "cell_type": "markdown",
   "metadata": {},
   "source": [
    "## Google Cloud NLP API"
   ]
  },
  {
   "cell_type": "code",
   "execution_count": 8,
   "metadata": {},
   "outputs": [],
   "source": [
    "import argparse\n",
    "import sys\n",
    "\n",
    "from google.cloud import language\n",
    "from google.cloud.language import enums\n",
    "from google.cloud.language import types\n",
    "import six"
   ]
  },
  {
   "cell_type": "code",
   "execution_count": 9,
   "metadata": {},
   "outputs": [],
   "source": [
    "client = language.LanguageServiceClient()\n",
    "def sentiment_text(text):\n",
    "   \n",
    "    if isinstance(text, six.binary_type):\n",
    "        text = text.decode('utf-8')\n",
    "\n",
    "    document = types.Document(\n",
    "        content=text,\n",
    "        type=enums.Document.Type.PLAIN_TEXT)\n",
    "\n",
    "    sentiment = client.analyze_sentiment(document).document_sentiment\n",
    "\n",
    "    return sentiment.score"
   ]
  },
  {
   "cell_type": "code",
   "execution_count": 18,
   "metadata": {},
   "outputs": [],
   "source": [
    "def google_sentiment(text):\n",
    "    if sentiment_text(text) < 0:\n",
    "        return 0\n",
    "    elif sentiment_text(text) > 0:\n",
    "        return 1\n",
    "    else:\n",
    "        return 2"
   ]
  },
  {
   "cell_type": "code",
   "execution_count": 19,
   "metadata": {},
   "outputs": [
    {
     "name": "stdout",
     "output_type": "stream",
     "text": [
      "Predict time: 167.94289922714233 seconds\n",
      "Time per item: 0.3358857984542847 seconds\n"
     ]
    }
   ],
   "source": [
    "start_time = time.time()\n",
    "data_test500['y_pred_google'] = data_test500['body_text'].apply(lambda x: google_sentiment(x))\n",
    "end_time = time.time()\n",
    "pred_time = (end_time - start_time)\n",
    "time_item = (pred_time/len(data_test500))\n",
    "print('Predict time: {} seconds'.format(pred_time))\n",
    "print('Time per item: {} seconds'.format(time_item))"
   ]
  },
  {
   "cell_type": "code",
   "execution_count": 43,
   "metadata": {
    "scrolled": true
   },
   "outputs": [
    {
     "name": "stdout",
     "output_type": "stream",
     "text": [
      "Classification Report\n",
      "----------------------\n",
      "             precision    recall  f1-score   support\n",
      "\n",
      "   negative       0.98      0.75      0.85       250\n",
      "   positive       0.87      0.94      0.91       250\n",
      "\n",
      "avg / total       0.93      0.85      0.88       500\n",
      "\n",
      "accuracy: 0.85\n",
      "ROC AUC Score : 0.819824\n",
      "F1 Score : 0.848\n"
     ]
    }
   ],
   "source": [
    "print('Classification Report')\n",
    "print('----------------------')\n",
    "print(classification_report(data_test500['label'], data_test500['y_pred_google'], labels = [0, 1], target_names=['negative', 'positive']))\n",
    "print('accuracy: {}'.format(round((data_test500['y_pred_google']==data_test500['label']).sum()/len(data_test500['label']), 2)))\n",
    "print(\"ROC AUC Score :\", roc_auc_score(data_test500['label'], data_test500['y_pred_google'], average='macro'))\n",
    "print(\"F1 Score :\", f1_score(data_test500['label'], data_test500['y_pred_google'], average='micro'))"
   ]
  },
  {
   "cell_type": "markdown",
   "metadata": {},
   "source": [
    "## Microsoft Azure Text Analytics"
   ]
  },
  {
   "cell_type": "markdown",
   "metadata": {},
   "source": [
    "https://docs.microsoft.com/en-us/azure/cognitive-services/text-analytics/quickstarts/python"
   ]
  },
  {
   "cell_type": "code",
   "execution_count": 44,
   "metadata": {},
   "outputs": [
    {
     "name": "stdout",
     "output_type": "stream",
     "text": [
      "https://canadacentral.api.cognitive.microsoft.com/text/analytics/v2.0/sentiment\n"
     ]
    }
   ],
   "source": [
    "subscription_key = '' # Register to get key.\n",
    "assert subscription_key\n",
    "\n",
    "text_analytics_base_url = \"https://canadacentral.api.cognitive.microsoft.com/text/analytics/v2.0/\"\n",
    "\n",
    "sentiment_api_url = text_analytics_base_url + \"sentiment\"\n",
    "print(sentiment_api_url)"
   ]
  },
  {
   "cell_type": "code",
   "execution_count": 45,
   "metadata": {},
   "outputs": [],
   "source": [
    "client = language.LanguageServiceClient()\n",
    "def sentiment_text(text):\n",
    "    \"\"\"Detects sentiment in the text.\"\"\"\n",
    "    \n",
    "    documents = {'documents' : [\n",
    "        {'id': '1', 'language': 'en', 'text': text}\n",
    "    ]}\n",
    "    \n",
    "    headers   = {\"Ocp-Apim-Subscription-Key\": subscription_key}\n",
    "    response  = requests.post(sentiment_api_url, headers=headers, json=documents)\n",
    "    sentiments = response.json()\n",
    "\n",
    "    time.sleep(0.75)\n",
    "    return sentiments['documents'][0]['score']"
   ]
  },
  {
   "cell_type": "code",
   "execution_count": 46,
   "metadata": {},
   "outputs": [],
   "source": [
    "def microsoft_sentiment(text):\n",
    "    if sentiment_text(text) < 0.5:\n",
    "        return 0\n",
    "    elif sentiment_text(text) > 0.5:\n",
    "        return 1\n",
    "    else:\n",
    "        return 2"
   ]
  },
  {
   "cell_type": "code",
   "execution_count": 47,
   "metadata": {},
   "outputs": [],
   "source": [
    "start_time = time.time()\n",
    "data_test500['y_pred_microsoft'] = data_test500['body_text'].apply(lambda x: microsoft_sentiment(x))\n",
    "end_time = time.time()\n",
    "pred_time = (end_time - start_time)\n",
    "time_item = (pred_time/len(data_test500))"
   ]
  },
  {
   "cell_type": "code",
   "execution_count": 48,
   "metadata": {
    "scrolled": false
   },
   "outputs": [
    {
     "name": "stdout",
     "output_type": "stream",
     "text": [
      "Classification Report\n",
      "----------------------\n",
      "             precision    recall  f1-score   support\n",
      "\n",
      "   negative       0.84      0.65      0.73       250\n",
      "   positive       0.74      0.82      0.78       250\n",
      "\n",
      "avg / total       0.79      0.73      0.76       500\n",
      "\n",
      "accuracy: 0.73\n",
      "ROC AUC Score : 0.742096\n",
      "F1 Score : 0.734\n"
     ]
    }
   ],
   "source": [
    "print('Classification Report')\n",
    "print('----------------------')\n",
    "print(classification_report(data_test500['label'], data_test500['y_pred_microsoft'], labels = [0, 1], target_names=['negative', 'positive']))\n",
    "print('accuracy: {}'.format(round((data_test500['y_pred_microsoft']==data_test500['label']).sum()/len(data_test500['label']), 2)))\n",
    "print(\"ROC AUC Score :\", roc_auc_score(data_test500['label'], data_test500['y_pred_microsoft'], average='macro'))\n",
    "print(\"F1 Score :\", f1_score(data_test500['label'], data_test500['y_pred_microsoft'], average='micro'))"
   ]
  },
  {
   "cell_type": "markdown",
   "metadata": {},
   "source": [
    "## DeepAI API"
   ]
  },
  {
   "cell_type": "markdown",
   "metadata": {},
   "source": [
    "Documentation: https://deepai.org/api-docs/?python#sentiment-analysis"
   ]
  },
  {
   "cell_type": "markdown",
   "metadata": {},
   "source": [
    "### Pricing\n",
    "\n",
    "https://deepai.org/pricing\n",
    "\n",
    "Theoretically free using Stanford NLP directly <br>\n",
    "Free up to 1000 <br>\n",
    "$1.00 up to 1M"
   ]
  },
  {
   "cell_type": "code",
   "execution_count": 51,
   "metadata": {},
   "outputs": [],
   "source": [
    "def deepAI_sentiment(text):\n",
    "    sentiment_score = requests.post(\n",
    "    \"https://api.deepai.org/api/sentiment-analysis\",\n",
    "    data={\n",
    "        'text': text,\n",
    "    },\n",
    "    headers={'api-key': ''} #Register to get key\n",
    ")\n",
    "    if 'negative' in sentiment_score.json()['output'][0].lower():\n",
    "        return 0\n",
    "    elif 'positive' in sentiment_score.json()['output'][0].lower() :\n",
    "        return 1\n",
    "    else:\n",
    "        return 2"
   ]
  },
  {
   "cell_type": "code",
   "execution_count": 52,
   "metadata": {
    "collapsed": true
   },
   "outputs": [
    {
     "ename": "KeyboardInterrupt",
     "evalue": "",
     "output_type": "error",
     "traceback": [
      "\u001b[0;31m---------------------------------------------------------------------------\u001b[0m",
      "\u001b[0;31mTypeError\u001b[0m                                 Traceback (most recent call last)",
      "\u001b[0;32m/anaconda3/lib/python3.6/site-packages/urllib3/connectionpool.py\u001b[0m in \u001b[0;36m_make_request\u001b[0;34m(self, conn, method, url, timeout, chunked, **httplib_request_kw)\u001b[0m\n\u001b[1;32m    379\u001b[0m             \u001b[0;32mtry\u001b[0m\u001b[0;34m:\u001b[0m  \u001b[0;31m# Python 2.7, use buffering of HTTP responses\u001b[0m\u001b[0;34m\u001b[0m\u001b[0m\n\u001b[0;32m--> 380\u001b[0;31m                 \u001b[0mhttplib_response\u001b[0m \u001b[0;34m=\u001b[0m \u001b[0mconn\u001b[0m\u001b[0;34m.\u001b[0m\u001b[0mgetresponse\u001b[0m\u001b[0;34m(\u001b[0m\u001b[0mbuffering\u001b[0m\u001b[0;34m=\u001b[0m\u001b[0;32mTrue\u001b[0m\u001b[0;34m)\u001b[0m\u001b[0;34m\u001b[0m\u001b[0m\n\u001b[0m\u001b[1;32m    381\u001b[0m             \u001b[0;32mexcept\u001b[0m \u001b[0mTypeError\u001b[0m\u001b[0;34m:\u001b[0m  \u001b[0;31m# Python 2.6 and older, Python 3\u001b[0m\u001b[0;34m\u001b[0m\u001b[0m\n",
      "\u001b[0;31mTypeError\u001b[0m: getresponse() got an unexpected keyword argument 'buffering'",
      "\nDuring handling of the above exception, another exception occurred:\n",
      "\u001b[0;31mKeyboardInterrupt\u001b[0m                         Traceback (most recent call last)",
      "\u001b[0;32m<ipython-input-52-b884c03a59e9>\u001b[0m in \u001b[0;36m<module>\u001b[0;34m()\u001b[0m\n\u001b[1;32m      1\u001b[0m \u001b[0mstart_time\u001b[0m \u001b[0;34m=\u001b[0m \u001b[0mtime\u001b[0m\u001b[0;34m.\u001b[0m\u001b[0mtime\u001b[0m\u001b[0;34m(\u001b[0m\u001b[0;34m)\u001b[0m\u001b[0;34m\u001b[0m\u001b[0m\n\u001b[0;32m----> 2\u001b[0;31m \u001b[0mdata_test500\u001b[0m\u001b[0;34m[\u001b[0m\u001b[0;34m'y_pred_deepai'\u001b[0m\u001b[0;34m]\u001b[0m \u001b[0;34m=\u001b[0m \u001b[0mdata_test500\u001b[0m\u001b[0;34m[\u001b[0m\u001b[0;34m'body_text'\u001b[0m\u001b[0;34m]\u001b[0m\u001b[0;34m.\u001b[0m\u001b[0mapply\u001b[0m\u001b[0;34m(\u001b[0m\u001b[0;32mlambda\u001b[0m \u001b[0mx\u001b[0m\u001b[0;34m:\u001b[0m \u001b[0mdeepAI_sentiment\u001b[0m\u001b[0;34m(\u001b[0m\u001b[0mx\u001b[0m\u001b[0;34m)\u001b[0m\u001b[0;34m)\u001b[0m\u001b[0;34m\u001b[0m\u001b[0m\n\u001b[0m\u001b[1;32m      3\u001b[0m \u001b[0mend_time\u001b[0m \u001b[0;34m=\u001b[0m \u001b[0mtime\u001b[0m\u001b[0;34m.\u001b[0m\u001b[0mtime\u001b[0m\u001b[0;34m(\u001b[0m\u001b[0;34m)\u001b[0m\u001b[0;34m\u001b[0m\u001b[0m\n\u001b[1;32m      4\u001b[0m \u001b[0mpred_time\u001b[0m \u001b[0;34m=\u001b[0m \u001b[0;34m(\u001b[0m\u001b[0mend_time\u001b[0m \u001b[0;34m-\u001b[0m \u001b[0mstart_time\u001b[0m\u001b[0;34m)\u001b[0m\u001b[0;34m\u001b[0m\u001b[0m\n\u001b[1;32m      5\u001b[0m \u001b[0mtime_item\u001b[0m \u001b[0;34m=\u001b[0m \u001b[0;34m(\u001b[0m\u001b[0mpred_time\u001b[0m\u001b[0;34m/\u001b[0m\u001b[0mlen\u001b[0m\u001b[0;34m(\u001b[0m\u001b[0mdata_test500\u001b[0m\u001b[0;34m)\u001b[0m\u001b[0;34m)\u001b[0m\u001b[0;34m\u001b[0m\u001b[0m\n",
      "\u001b[0;32m/anaconda3/lib/python3.6/site-packages/pandas/core/series.py\u001b[0m in \u001b[0;36mapply\u001b[0;34m(self, func, convert_dtype, args, **kwds)\u001b[0m\n\u001b[1;32m   2549\u001b[0m             \u001b[0;32melse\u001b[0m\u001b[0;34m:\u001b[0m\u001b[0;34m\u001b[0m\u001b[0m\n\u001b[1;32m   2550\u001b[0m                 \u001b[0mvalues\u001b[0m \u001b[0;34m=\u001b[0m \u001b[0mself\u001b[0m\u001b[0;34m.\u001b[0m\u001b[0masobject\u001b[0m\u001b[0;34m\u001b[0m\u001b[0m\n\u001b[0;32m-> 2551\u001b[0;31m                 \u001b[0mmapped\u001b[0m \u001b[0;34m=\u001b[0m \u001b[0mlib\u001b[0m\u001b[0;34m.\u001b[0m\u001b[0mmap_infer\u001b[0m\u001b[0;34m(\u001b[0m\u001b[0mvalues\u001b[0m\u001b[0;34m,\u001b[0m \u001b[0mf\u001b[0m\u001b[0;34m,\u001b[0m \u001b[0mconvert\u001b[0m\u001b[0;34m=\u001b[0m\u001b[0mconvert_dtype\u001b[0m\u001b[0;34m)\u001b[0m\u001b[0;34m\u001b[0m\u001b[0m\n\u001b[0m\u001b[1;32m   2552\u001b[0m \u001b[0;34m\u001b[0m\u001b[0m\n\u001b[1;32m   2553\u001b[0m         \u001b[0;32mif\u001b[0m \u001b[0mlen\u001b[0m\u001b[0;34m(\u001b[0m\u001b[0mmapped\u001b[0m\u001b[0;34m)\u001b[0m \u001b[0;32mand\u001b[0m \u001b[0misinstance\u001b[0m\u001b[0;34m(\u001b[0m\u001b[0mmapped\u001b[0m\u001b[0;34m[\u001b[0m\u001b[0;36m0\u001b[0m\u001b[0;34m]\u001b[0m\u001b[0;34m,\u001b[0m \u001b[0mSeries\u001b[0m\u001b[0;34m)\u001b[0m\u001b[0;34m:\u001b[0m\u001b[0;34m\u001b[0m\u001b[0m\n",
      "\u001b[0;32mpandas/_libs/src/inference.pyx\u001b[0m in \u001b[0;36mpandas._libs.lib.map_infer\u001b[0;34m()\u001b[0m\n",
      "\u001b[0;32m<ipython-input-52-b884c03a59e9>\u001b[0m in \u001b[0;36m<lambda>\u001b[0;34m(x)\u001b[0m\n\u001b[1;32m      1\u001b[0m \u001b[0mstart_time\u001b[0m \u001b[0;34m=\u001b[0m \u001b[0mtime\u001b[0m\u001b[0;34m.\u001b[0m\u001b[0mtime\u001b[0m\u001b[0;34m(\u001b[0m\u001b[0;34m)\u001b[0m\u001b[0;34m\u001b[0m\u001b[0m\n\u001b[0;32m----> 2\u001b[0;31m \u001b[0mdata_test500\u001b[0m\u001b[0;34m[\u001b[0m\u001b[0;34m'y_pred_deepai'\u001b[0m\u001b[0;34m]\u001b[0m \u001b[0;34m=\u001b[0m \u001b[0mdata_test500\u001b[0m\u001b[0;34m[\u001b[0m\u001b[0;34m'body_text'\u001b[0m\u001b[0;34m]\u001b[0m\u001b[0;34m.\u001b[0m\u001b[0mapply\u001b[0m\u001b[0;34m(\u001b[0m\u001b[0;32mlambda\u001b[0m \u001b[0mx\u001b[0m\u001b[0;34m:\u001b[0m \u001b[0mdeepAI_sentiment\u001b[0m\u001b[0;34m(\u001b[0m\u001b[0mx\u001b[0m\u001b[0;34m)\u001b[0m\u001b[0;34m)\u001b[0m\u001b[0;34m\u001b[0m\u001b[0m\n\u001b[0m\u001b[1;32m      3\u001b[0m \u001b[0mend_time\u001b[0m \u001b[0;34m=\u001b[0m \u001b[0mtime\u001b[0m\u001b[0;34m.\u001b[0m\u001b[0mtime\u001b[0m\u001b[0;34m(\u001b[0m\u001b[0;34m)\u001b[0m\u001b[0;34m\u001b[0m\u001b[0m\n\u001b[1;32m      4\u001b[0m \u001b[0mpred_time\u001b[0m \u001b[0;34m=\u001b[0m \u001b[0;34m(\u001b[0m\u001b[0mend_time\u001b[0m \u001b[0;34m-\u001b[0m \u001b[0mstart_time\u001b[0m\u001b[0;34m)\u001b[0m\u001b[0;34m\u001b[0m\u001b[0m\n\u001b[1;32m      5\u001b[0m \u001b[0mtime_item\u001b[0m \u001b[0;34m=\u001b[0m \u001b[0;34m(\u001b[0m\u001b[0mpred_time\u001b[0m\u001b[0;34m/\u001b[0m\u001b[0mlen\u001b[0m\u001b[0;34m(\u001b[0m\u001b[0mdata_test500\u001b[0m\u001b[0;34m)\u001b[0m\u001b[0;34m)\u001b[0m\u001b[0;34m\u001b[0m\u001b[0m\n",
      "\u001b[0;32m<ipython-input-51-4fcb7fdee737>\u001b[0m in \u001b[0;36mdeepAI_sentiment\u001b[0;34m(text)\u001b[0m\n\u001b[1;32m      5\u001b[0m         \u001b[0;34m'text'\u001b[0m\u001b[0;34m:\u001b[0m \u001b[0mtext\u001b[0m\u001b[0;34m,\u001b[0m\u001b[0;34m\u001b[0m\u001b[0m\n\u001b[1;32m      6\u001b[0m     },\n\u001b[0;32m----> 7\u001b[0;31m     \u001b[0mheaders\u001b[0m\u001b[0;34m=\u001b[0m\u001b[0;34m{\u001b[0m\u001b[0;34m'api-key'\u001b[0m\u001b[0;34m:\u001b[0m \u001b[0;34m'07ae5e75-d632-45a8-a0b7-268a79793f9c'\u001b[0m\u001b[0;34m}\u001b[0m\u001b[0;34m\u001b[0m\u001b[0m\n\u001b[0m\u001b[1;32m      8\u001b[0m )\n\u001b[1;32m      9\u001b[0m     \u001b[0;32mif\u001b[0m \u001b[0;34m'negative'\u001b[0m \u001b[0;32min\u001b[0m \u001b[0msentiment_score\u001b[0m\u001b[0;34m.\u001b[0m\u001b[0mjson\u001b[0m\u001b[0;34m(\u001b[0m\u001b[0;34m)\u001b[0m\u001b[0;34m[\u001b[0m\u001b[0;34m'output'\u001b[0m\u001b[0;34m]\u001b[0m\u001b[0;34m[\u001b[0m\u001b[0;36m0\u001b[0m\u001b[0;34m]\u001b[0m\u001b[0;34m.\u001b[0m\u001b[0mlower\u001b[0m\u001b[0;34m(\u001b[0m\u001b[0;34m)\u001b[0m\u001b[0;34m:\u001b[0m\u001b[0;34m\u001b[0m\u001b[0m\n",
      "\u001b[0;32m/anaconda3/lib/python3.6/site-packages/requests/api.py\u001b[0m in \u001b[0;36mpost\u001b[0;34m(url, data, json, **kwargs)\u001b[0m\n\u001b[1;32m    110\u001b[0m     \"\"\"\n\u001b[1;32m    111\u001b[0m \u001b[0;34m\u001b[0m\u001b[0m\n\u001b[0;32m--> 112\u001b[0;31m     \u001b[0;32mreturn\u001b[0m \u001b[0mrequest\u001b[0m\u001b[0;34m(\u001b[0m\u001b[0;34m'post'\u001b[0m\u001b[0;34m,\u001b[0m \u001b[0murl\u001b[0m\u001b[0;34m,\u001b[0m \u001b[0mdata\u001b[0m\u001b[0;34m=\u001b[0m\u001b[0mdata\u001b[0m\u001b[0;34m,\u001b[0m \u001b[0mjson\u001b[0m\u001b[0;34m=\u001b[0m\u001b[0mjson\u001b[0m\u001b[0;34m,\u001b[0m \u001b[0;34m**\u001b[0m\u001b[0mkwargs\u001b[0m\u001b[0;34m)\u001b[0m\u001b[0;34m\u001b[0m\u001b[0m\n\u001b[0m\u001b[1;32m    113\u001b[0m \u001b[0;34m\u001b[0m\u001b[0m\n\u001b[1;32m    114\u001b[0m \u001b[0;34m\u001b[0m\u001b[0m\n",
      "\u001b[0;32m/anaconda3/lib/python3.6/site-packages/requests/api.py\u001b[0m in \u001b[0;36mrequest\u001b[0;34m(method, url, **kwargs)\u001b[0m\n\u001b[1;32m     56\u001b[0m     \u001b[0;31m# cases, and look like a memory leak in others.\u001b[0m\u001b[0;34m\u001b[0m\u001b[0;34m\u001b[0m\u001b[0m\n\u001b[1;32m     57\u001b[0m     \u001b[0;32mwith\u001b[0m \u001b[0msessions\u001b[0m\u001b[0;34m.\u001b[0m\u001b[0mSession\u001b[0m\u001b[0;34m(\u001b[0m\u001b[0;34m)\u001b[0m \u001b[0;32mas\u001b[0m \u001b[0msession\u001b[0m\u001b[0;34m:\u001b[0m\u001b[0;34m\u001b[0m\u001b[0m\n\u001b[0;32m---> 58\u001b[0;31m         \u001b[0;32mreturn\u001b[0m \u001b[0msession\u001b[0m\u001b[0;34m.\u001b[0m\u001b[0mrequest\u001b[0m\u001b[0;34m(\u001b[0m\u001b[0mmethod\u001b[0m\u001b[0;34m=\u001b[0m\u001b[0mmethod\u001b[0m\u001b[0;34m,\u001b[0m \u001b[0murl\u001b[0m\u001b[0;34m=\u001b[0m\u001b[0murl\u001b[0m\u001b[0;34m,\u001b[0m \u001b[0;34m**\u001b[0m\u001b[0mkwargs\u001b[0m\u001b[0;34m)\u001b[0m\u001b[0;34m\u001b[0m\u001b[0m\n\u001b[0m\u001b[1;32m     59\u001b[0m \u001b[0;34m\u001b[0m\u001b[0m\n\u001b[1;32m     60\u001b[0m \u001b[0;34m\u001b[0m\u001b[0m\n",
      "\u001b[0;32m/anaconda3/lib/python3.6/site-packages/requests/sessions.py\u001b[0m in \u001b[0;36mrequest\u001b[0;34m(self, method, url, params, data, headers, cookies, files, auth, timeout, allow_redirects, proxies, hooks, stream, verify, cert, json)\u001b[0m\n\u001b[1;32m    506\u001b[0m         }\n\u001b[1;32m    507\u001b[0m         \u001b[0msend_kwargs\u001b[0m\u001b[0;34m.\u001b[0m\u001b[0mupdate\u001b[0m\u001b[0;34m(\u001b[0m\u001b[0msettings\u001b[0m\u001b[0;34m)\u001b[0m\u001b[0;34m\u001b[0m\u001b[0m\n\u001b[0;32m--> 508\u001b[0;31m         \u001b[0mresp\u001b[0m \u001b[0;34m=\u001b[0m \u001b[0mself\u001b[0m\u001b[0;34m.\u001b[0m\u001b[0msend\u001b[0m\u001b[0;34m(\u001b[0m\u001b[0mprep\u001b[0m\u001b[0;34m,\u001b[0m \u001b[0;34m**\u001b[0m\u001b[0msend_kwargs\u001b[0m\u001b[0;34m)\u001b[0m\u001b[0;34m\u001b[0m\u001b[0m\n\u001b[0m\u001b[1;32m    509\u001b[0m \u001b[0;34m\u001b[0m\u001b[0m\n\u001b[1;32m    510\u001b[0m         \u001b[0;32mreturn\u001b[0m \u001b[0mresp\u001b[0m\u001b[0;34m\u001b[0m\u001b[0m\n",
      "\u001b[0;32m/anaconda3/lib/python3.6/site-packages/requests/sessions.py\u001b[0m in \u001b[0;36msend\u001b[0;34m(self, request, **kwargs)\u001b[0m\n\u001b[1;32m    616\u001b[0m \u001b[0;34m\u001b[0m\u001b[0m\n\u001b[1;32m    617\u001b[0m         \u001b[0;31m# Send the request\u001b[0m\u001b[0;34m\u001b[0m\u001b[0;34m\u001b[0m\u001b[0m\n\u001b[0;32m--> 618\u001b[0;31m         \u001b[0mr\u001b[0m \u001b[0;34m=\u001b[0m \u001b[0madapter\u001b[0m\u001b[0;34m.\u001b[0m\u001b[0msend\u001b[0m\u001b[0;34m(\u001b[0m\u001b[0mrequest\u001b[0m\u001b[0;34m,\u001b[0m \u001b[0;34m**\u001b[0m\u001b[0mkwargs\u001b[0m\u001b[0;34m)\u001b[0m\u001b[0;34m\u001b[0m\u001b[0m\n\u001b[0m\u001b[1;32m    619\u001b[0m \u001b[0;34m\u001b[0m\u001b[0m\n\u001b[1;32m    620\u001b[0m         \u001b[0;31m# Total elapsed time of the request (approximately)\u001b[0m\u001b[0;34m\u001b[0m\u001b[0;34m\u001b[0m\u001b[0m\n",
      "\u001b[0;32m/anaconda3/lib/python3.6/site-packages/requests/adapters.py\u001b[0m in \u001b[0;36msend\u001b[0;34m(self, request, stream, timeout, verify, cert, proxies)\u001b[0m\n\u001b[1;32m    438\u001b[0m                     \u001b[0mdecode_content\u001b[0m\u001b[0;34m=\u001b[0m\u001b[0;32mFalse\u001b[0m\u001b[0;34m,\u001b[0m\u001b[0;34m\u001b[0m\u001b[0m\n\u001b[1;32m    439\u001b[0m                     \u001b[0mretries\u001b[0m\u001b[0;34m=\u001b[0m\u001b[0mself\u001b[0m\u001b[0;34m.\u001b[0m\u001b[0mmax_retries\u001b[0m\u001b[0;34m,\u001b[0m\u001b[0;34m\u001b[0m\u001b[0m\n\u001b[0;32m--> 440\u001b[0;31m                     \u001b[0mtimeout\u001b[0m\u001b[0;34m=\u001b[0m\u001b[0mtimeout\u001b[0m\u001b[0;34m\u001b[0m\u001b[0m\n\u001b[0m\u001b[1;32m    441\u001b[0m                 )\n\u001b[1;32m    442\u001b[0m \u001b[0;34m\u001b[0m\u001b[0m\n",
      "\u001b[0;32m/anaconda3/lib/python3.6/site-packages/urllib3/connectionpool.py\u001b[0m in \u001b[0;36murlopen\u001b[0;34m(self, method, url, body, headers, retries, redirect, assert_same_host, timeout, pool_timeout, release_conn, chunked, body_pos, **response_kw)\u001b[0m\n\u001b[1;32m    599\u001b[0m                                                   \u001b[0mtimeout\u001b[0m\u001b[0;34m=\u001b[0m\u001b[0mtimeout_obj\u001b[0m\u001b[0;34m,\u001b[0m\u001b[0;34m\u001b[0m\u001b[0m\n\u001b[1;32m    600\u001b[0m                                                   \u001b[0mbody\u001b[0m\u001b[0;34m=\u001b[0m\u001b[0mbody\u001b[0m\u001b[0;34m,\u001b[0m \u001b[0mheaders\u001b[0m\u001b[0;34m=\u001b[0m\u001b[0mheaders\u001b[0m\u001b[0;34m,\u001b[0m\u001b[0;34m\u001b[0m\u001b[0m\n\u001b[0;32m--> 601\u001b[0;31m                                                   chunked=chunked)\n\u001b[0m\u001b[1;32m    602\u001b[0m \u001b[0;34m\u001b[0m\u001b[0m\n\u001b[1;32m    603\u001b[0m             \u001b[0;31m# If we're going to release the connection in ``finally:``, then\u001b[0m\u001b[0;34m\u001b[0m\u001b[0;34m\u001b[0m\u001b[0m\n",
      "\u001b[0;32m/anaconda3/lib/python3.6/site-packages/urllib3/connectionpool.py\u001b[0m in \u001b[0;36m_make_request\u001b[0;34m(self, conn, method, url, timeout, chunked, **httplib_request_kw)\u001b[0m\n\u001b[1;32m    381\u001b[0m             \u001b[0;32mexcept\u001b[0m \u001b[0mTypeError\u001b[0m\u001b[0;34m:\u001b[0m  \u001b[0;31m# Python 2.6 and older, Python 3\u001b[0m\u001b[0;34m\u001b[0m\u001b[0m\n\u001b[1;32m    382\u001b[0m                 \u001b[0;32mtry\u001b[0m\u001b[0;34m:\u001b[0m\u001b[0;34m\u001b[0m\u001b[0m\n\u001b[0;32m--> 383\u001b[0;31m                     \u001b[0mhttplib_response\u001b[0m \u001b[0;34m=\u001b[0m \u001b[0mconn\u001b[0m\u001b[0;34m.\u001b[0m\u001b[0mgetresponse\u001b[0m\u001b[0;34m(\u001b[0m\u001b[0;34m)\u001b[0m\u001b[0;34m\u001b[0m\u001b[0m\n\u001b[0m\u001b[1;32m    384\u001b[0m                 \u001b[0;32mexcept\u001b[0m \u001b[0mException\u001b[0m \u001b[0;32mas\u001b[0m \u001b[0me\u001b[0m\u001b[0;34m:\u001b[0m\u001b[0;34m\u001b[0m\u001b[0m\n\u001b[1;32m    385\u001b[0m                     \u001b[0;31m# Remove the TypeError from the exception chain in Python 3;\u001b[0m\u001b[0;34m\u001b[0m\u001b[0;34m\u001b[0m\u001b[0m\n",
      "\u001b[0;32m/anaconda3/lib/python3.6/http/client.py\u001b[0m in \u001b[0;36mgetresponse\u001b[0;34m(self)\u001b[0m\n\u001b[1;32m   1329\u001b[0m         \u001b[0;32mtry\u001b[0m\u001b[0;34m:\u001b[0m\u001b[0;34m\u001b[0m\u001b[0m\n\u001b[1;32m   1330\u001b[0m             \u001b[0;32mtry\u001b[0m\u001b[0;34m:\u001b[0m\u001b[0;34m\u001b[0m\u001b[0m\n\u001b[0;32m-> 1331\u001b[0;31m                 \u001b[0mresponse\u001b[0m\u001b[0;34m.\u001b[0m\u001b[0mbegin\u001b[0m\u001b[0;34m(\u001b[0m\u001b[0;34m)\u001b[0m\u001b[0;34m\u001b[0m\u001b[0m\n\u001b[0m\u001b[1;32m   1332\u001b[0m             \u001b[0;32mexcept\u001b[0m \u001b[0mConnectionError\u001b[0m\u001b[0;34m:\u001b[0m\u001b[0;34m\u001b[0m\u001b[0m\n\u001b[1;32m   1333\u001b[0m                 \u001b[0mself\u001b[0m\u001b[0;34m.\u001b[0m\u001b[0mclose\u001b[0m\u001b[0;34m(\u001b[0m\u001b[0;34m)\u001b[0m\u001b[0;34m\u001b[0m\u001b[0m\n",
      "\u001b[0;32m/anaconda3/lib/python3.6/http/client.py\u001b[0m in \u001b[0;36mbegin\u001b[0;34m(self)\u001b[0m\n\u001b[1;32m    295\u001b[0m         \u001b[0;31m# read until we get a non-100 response\u001b[0m\u001b[0;34m\u001b[0m\u001b[0;34m\u001b[0m\u001b[0m\n\u001b[1;32m    296\u001b[0m         \u001b[0;32mwhile\u001b[0m \u001b[0;32mTrue\u001b[0m\u001b[0;34m:\u001b[0m\u001b[0;34m\u001b[0m\u001b[0m\n\u001b[0;32m--> 297\u001b[0;31m             \u001b[0mversion\u001b[0m\u001b[0;34m,\u001b[0m \u001b[0mstatus\u001b[0m\u001b[0;34m,\u001b[0m \u001b[0mreason\u001b[0m \u001b[0;34m=\u001b[0m \u001b[0mself\u001b[0m\u001b[0;34m.\u001b[0m\u001b[0m_read_status\u001b[0m\u001b[0;34m(\u001b[0m\u001b[0;34m)\u001b[0m\u001b[0;34m\u001b[0m\u001b[0m\n\u001b[0m\u001b[1;32m    298\u001b[0m             \u001b[0;32mif\u001b[0m \u001b[0mstatus\u001b[0m \u001b[0;34m!=\u001b[0m \u001b[0mCONTINUE\u001b[0m\u001b[0;34m:\u001b[0m\u001b[0;34m\u001b[0m\u001b[0m\n\u001b[1;32m    299\u001b[0m                 \u001b[0;32mbreak\u001b[0m\u001b[0;34m\u001b[0m\u001b[0m\n",
      "\u001b[0;32m/anaconda3/lib/python3.6/http/client.py\u001b[0m in \u001b[0;36m_read_status\u001b[0;34m(self)\u001b[0m\n\u001b[1;32m    256\u001b[0m \u001b[0;34m\u001b[0m\u001b[0m\n\u001b[1;32m    257\u001b[0m     \u001b[0;32mdef\u001b[0m \u001b[0m_read_status\u001b[0m\u001b[0;34m(\u001b[0m\u001b[0mself\u001b[0m\u001b[0;34m)\u001b[0m\u001b[0;34m:\u001b[0m\u001b[0;34m\u001b[0m\u001b[0m\n\u001b[0;32m--> 258\u001b[0;31m         \u001b[0mline\u001b[0m \u001b[0;34m=\u001b[0m \u001b[0mstr\u001b[0m\u001b[0;34m(\u001b[0m\u001b[0mself\u001b[0m\u001b[0;34m.\u001b[0m\u001b[0mfp\u001b[0m\u001b[0;34m.\u001b[0m\u001b[0mreadline\u001b[0m\u001b[0;34m(\u001b[0m\u001b[0m_MAXLINE\u001b[0m \u001b[0;34m+\u001b[0m \u001b[0;36m1\u001b[0m\u001b[0;34m)\u001b[0m\u001b[0;34m,\u001b[0m \u001b[0;34m\"iso-8859-1\"\u001b[0m\u001b[0;34m)\u001b[0m\u001b[0;34m\u001b[0m\u001b[0m\n\u001b[0m\u001b[1;32m    259\u001b[0m         \u001b[0;32mif\u001b[0m \u001b[0mlen\u001b[0m\u001b[0;34m(\u001b[0m\u001b[0mline\u001b[0m\u001b[0;34m)\u001b[0m \u001b[0;34m>\u001b[0m \u001b[0m_MAXLINE\u001b[0m\u001b[0;34m:\u001b[0m\u001b[0;34m\u001b[0m\u001b[0m\n\u001b[1;32m    260\u001b[0m             \u001b[0;32mraise\u001b[0m \u001b[0mLineTooLong\u001b[0m\u001b[0;34m(\u001b[0m\u001b[0;34m\"status line\"\u001b[0m\u001b[0;34m)\u001b[0m\u001b[0;34m\u001b[0m\u001b[0m\n",
      "\u001b[0;32m/anaconda3/lib/python3.6/socket.py\u001b[0m in \u001b[0;36mreadinto\u001b[0;34m(self, b)\u001b[0m\n\u001b[1;32m    584\u001b[0m         \u001b[0;32mwhile\u001b[0m \u001b[0;32mTrue\u001b[0m\u001b[0;34m:\u001b[0m\u001b[0;34m\u001b[0m\u001b[0m\n\u001b[1;32m    585\u001b[0m             \u001b[0;32mtry\u001b[0m\u001b[0;34m:\u001b[0m\u001b[0;34m\u001b[0m\u001b[0m\n\u001b[0;32m--> 586\u001b[0;31m                 \u001b[0;32mreturn\u001b[0m \u001b[0mself\u001b[0m\u001b[0;34m.\u001b[0m\u001b[0m_sock\u001b[0m\u001b[0;34m.\u001b[0m\u001b[0mrecv_into\u001b[0m\u001b[0;34m(\u001b[0m\u001b[0mb\u001b[0m\u001b[0;34m)\u001b[0m\u001b[0;34m\u001b[0m\u001b[0m\n\u001b[0m\u001b[1;32m    587\u001b[0m             \u001b[0;32mexcept\u001b[0m \u001b[0mtimeout\u001b[0m\u001b[0;34m:\u001b[0m\u001b[0;34m\u001b[0m\u001b[0m\n\u001b[1;32m    588\u001b[0m                 \u001b[0mself\u001b[0m\u001b[0;34m.\u001b[0m\u001b[0m_timeout_occurred\u001b[0m \u001b[0;34m=\u001b[0m \u001b[0;32mTrue\u001b[0m\u001b[0;34m\u001b[0m\u001b[0m\n",
      "\u001b[0;32m/anaconda3/lib/python3.6/site-packages/urllib3/contrib/pyopenssl.py\u001b[0m in \u001b[0;36mrecv_into\u001b[0;34m(self, *args, **kwargs)\u001b[0m\n\u001b[1;32m    278\u001b[0m     \u001b[0;32mdef\u001b[0m \u001b[0mrecv_into\u001b[0m\u001b[0;34m(\u001b[0m\u001b[0mself\u001b[0m\u001b[0;34m,\u001b[0m \u001b[0;34m*\u001b[0m\u001b[0margs\u001b[0m\u001b[0;34m,\u001b[0m \u001b[0;34m**\u001b[0m\u001b[0mkwargs\u001b[0m\u001b[0;34m)\u001b[0m\u001b[0;34m:\u001b[0m\u001b[0;34m\u001b[0m\u001b[0m\n\u001b[1;32m    279\u001b[0m         \u001b[0;32mtry\u001b[0m\u001b[0;34m:\u001b[0m\u001b[0;34m\u001b[0m\u001b[0m\n\u001b[0;32m--> 280\u001b[0;31m             \u001b[0;32mreturn\u001b[0m \u001b[0mself\u001b[0m\u001b[0;34m.\u001b[0m\u001b[0mconnection\u001b[0m\u001b[0;34m.\u001b[0m\u001b[0mrecv_into\u001b[0m\u001b[0;34m(\u001b[0m\u001b[0;34m*\u001b[0m\u001b[0margs\u001b[0m\u001b[0;34m,\u001b[0m \u001b[0;34m**\u001b[0m\u001b[0mkwargs\u001b[0m\u001b[0;34m)\u001b[0m\u001b[0;34m\u001b[0m\u001b[0m\n\u001b[0m\u001b[1;32m    281\u001b[0m         \u001b[0;32mexcept\u001b[0m \u001b[0mOpenSSL\u001b[0m\u001b[0;34m.\u001b[0m\u001b[0mSSL\u001b[0m\u001b[0;34m.\u001b[0m\u001b[0mSysCallError\u001b[0m \u001b[0;32mas\u001b[0m \u001b[0me\u001b[0m\u001b[0;34m:\u001b[0m\u001b[0;34m\u001b[0m\u001b[0m\n\u001b[1;32m    282\u001b[0m             \u001b[0;32mif\u001b[0m \u001b[0mself\u001b[0m\u001b[0;34m.\u001b[0m\u001b[0msuppress_ragged_eofs\u001b[0m \u001b[0;32mand\u001b[0m \u001b[0me\u001b[0m\u001b[0;34m.\u001b[0m\u001b[0margs\u001b[0m \u001b[0;34m==\u001b[0m \u001b[0;34m(\u001b[0m\u001b[0;34m-\u001b[0m\u001b[0;36m1\u001b[0m\u001b[0;34m,\u001b[0m \u001b[0;34m'Unexpected EOF'\u001b[0m\u001b[0;34m)\u001b[0m\u001b[0;34m:\u001b[0m\u001b[0;34m\u001b[0m\u001b[0m\n",
      "\u001b[0;32m/anaconda3/lib/python3.6/site-packages/OpenSSL/SSL.py\u001b[0m in \u001b[0;36mrecv_into\u001b[0;34m(self, buffer, nbytes, flags)\u001b[0m\n\u001b[1;32m   1712\u001b[0m             \u001b[0mresult\u001b[0m \u001b[0;34m=\u001b[0m \u001b[0m_lib\u001b[0m\u001b[0;34m.\u001b[0m\u001b[0mSSL_peek\u001b[0m\u001b[0;34m(\u001b[0m\u001b[0mself\u001b[0m\u001b[0;34m.\u001b[0m\u001b[0m_ssl\u001b[0m\u001b[0;34m,\u001b[0m \u001b[0mbuf\u001b[0m\u001b[0;34m,\u001b[0m \u001b[0mnbytes\u001b[0m\u001b[0;34m)\u001b[0m\u001b[0;34m\u001b[0m\u001b[0m\n\u001b[1;32m   1713\u001b[0m         \u001b[0;32melse\u001b[0m\u001b[0;34m:\u001b[0m\u001b[0;34m\u001b[0m\u001b[0m\n\u001b[0;32m-> 1714\u001b[0;31m             \u001b[0mresult\u001b[0m \u001b[0;34m=\u001b[0m \u001b[0m_lib\u001b[0m\u001b[0;34m.\u001b[0m\u001b[0mSSL_read\u001b[0m\u001b[0;34m(\u001b[0m\u001b[0mself\u001b[0m\u001b[0;34m.\u001b[0m\u001b[0m_ssl\u001b[0m\u001b[0;34m,\u001b[0m \u001b[0mbuf\u001b[0m\u001b[0;34m,\u001b[0m \u001b[0mnbytes\u001b[0m\u001b[0;34m)\u001b[0m\u001b[0;34m\u001b[0m\u001b[0m\n\u001b[0m\u001b[1;32m   1715\u001b[0m         \u001b[0mself\u001b[0m\u001b[0;34m.\u001b[0m\u001b[0m_raise_ssl_error\u001b[0m\u001b[0;34m(\u001b[0m\u001b[0mself\u001b[0m\u001b[0;34m.\u001b[0m\u001b[0m_ssl\u001b[0m\u001b[0;34m,\u001b[0m \u001b[0mresult\u001b[0m\u001b[0;34m)\u001b[0m\u001b[0;34m\u001b[0m\u001b[0m\n\u001b[1;32m   1716\u001b[0m \u001b[0;34m\u001b[0m\u001b[0m\n",
      "\u001b[0;31mKeyboardInterrupt\u001b[0m: "
     ]
    }
   ],
   "source": [
    "start_time = time.time()\n",
    "data_test500['y_pred_deepai'] = data_test500['body_text'].apply(lambda x: deepAI_sentiment(x))\n",
    "end_time = time.time()\n",
    "pred_time = (end_time - start_time)\n",
    "time_item = (pred_time/len(data_test500))"
   ]
  },
  {
   "cell_type": "code",
   "execution_count": 18,
   "metadata": {
    "scrolled": false
   },
   "outputs": [
    {
     "name": "stdout",
     "output_type": "stream",
     "text": [
      "Classification Report\n",
      "----------------------\n",
      "             precision    recall  f1-score   support\n",
      "\n",
      "   negative       0.87      0.85      0.86      1888\n",
      "   positive       0.87      0.89      0.88      2112\n",
      "\n",
      "avg / total       0.87      0.87      0.87      4000\n",
      "\n",
      "accuracy: 0.87\n"
     ]
    }
   ],
   "source": [
    "print('Classification Report')\n",
    "print('----------------------')\n",
    "print(classification_report(data_test500['label'], data_test500['y_pred_microsoft'], labels = [0, 1], target_names=['negative', 'positive']))\n",
    "print('accuracy: {}'.format(round((y_pred_rf==y_test).sum()/len(y_test), 2)))"
   ]
  },
  {
   "cell_type": "markdown",
   "metadata": {},
   "source": [
    "## Amazon Comprehend API"
   ]
  },
  {
   "cell_type": "markdown",
   "metadata": {},
   "source": [
    "Documentation boto3 : https://boto3.readthedocs.io/en/latest/reference/services/comprehend.html#Comprehend.Client.detect_sentiment\n",
    "\n",
    "Amazon Comprehend: https://docs.aws.amazon.com/comprehend/latest/dg/API_DetectSentiment.html\n",
    "\n",
    "To use the API, the user must install the AWS command line interface and register an API key."
   ]
  },
  {
   "cell_type": "code",
   "execution_count": 49,
   "metadata": {},
   "outputs": [],
   "source": [
    "import boto3"
   ]
  },
  {
   "cell_type": "code",
   "execution_count": 50,
   "metadata": {},
   "outputs": [],
   "source": [
    "client = boto3.client('comprehend')"
   ]
  },
  {
   "cell_type": "code",
   "execution_count": 51,
   "metadata": {},
   "outputs": [],
   "source": [
    "def amazon_sentiment(text):\n",
    "    sentiment_score = client.detect_sentiment(\n",
    "    Text=text,\n",
    "    LanguageCode='en'\n",
    ")\n",
    "    print(sentiment_score)\n",
    "    if sentiment_score['SentimentScore']['Positive'] > sentiment_score['SentimentScore']['Negative']:\n",
    "        return 1\n",
    "    else:\n",
    "        return 0\n",
    "    "
   ]
  },
  {
   "cell_type": "code",
   "execution_count": 52,
   "metadata": {
    "collapsed": true
   },
   "outputs": [
    {
     "name": "stdout",
     "output_type": "stream",
     "text": [
      "{'Sentiment': 'POSITIVE', 'SentimentScore': {'Positive': 0.9966818690299988, 'Negative': 4.3556836317293346e-05, 'Neutral': 0.0023984243161976337, 'Mixed': 0.0008761750068515539}, 'ResponseMetadata': {'RequestId': 'f2b90e2b-a5a9-11e8-abaa-5bd9fb10e857', 'HTTPStatusCode': 200, 'HTTPHeaders': {'date': 'Wed, 22 Aug 2018 01:23:17 GMT', 'content-type': 'application/x-amz-json-1.1', 'content-length': '167', 'connection': 'keep-alive', 'x-amzn-requestid': 'f2b90e2b-a5a9-11e8-abaa-5bd9fb10e857'}, 'RetryAttempts': 0}}\n",
      "{'Sentiment': 'POSITIVE', 'SentimentScore': {'Positive': 0.9751902222633362, 'Negative': 0.00020868040155619383, 'Neutral': 0.023412495851516724, 'Mixed': 0.0011885868152603507}, 'ResponseMetadata': {'RequestId': 'f2c8ec33-a5a9-11e8-b9eb-0d7d73fb2391', 'HTTPStatusCode': 200, 'HTTPHeaders': {'date': 'Wed, 22 Aug 2018 01:23:17 GMT', 'content-type': 'application/x-amz-json-1.1', 'content-length': '167', 'connection': 'keep-alive', 'x-amzn-requestid': 'f2c8ec33-a5a9-11e8-b9eb-0d7d73fb2391'}, 'RetryAttempts': 0}}\n",
      "{'Sentiment': 'POSITIVE', 'SentimentScore': {'Positive': 0.9969052672386169, 'Negative': 6.759474490536377e-05, 'Neutral': 0.002010458381846547, 'Mixed': 0.001016709371469915}, 'ResponseMetadata': {'RequestId': 'f2da0307-a5a9-11e8-8c25-8dfaf9f702af', 'HTTPStatusCode': 200, 'HTTPHeaders': {'date': 'Wed, 22 Aug 2018 01:23:17 GMT', 'content-type': 'application/x-amz-json-1.1', 'content-length': '165', 'connection': 'keep-alive', 'x-amzn-requestid': 'f2da0307-a5a9-11e8-8c25-8dfaf9f702af'}, 'RetryAttempts': 0}}\n",
      "{'Sentiment': 'POSITIVE', 'SentimentScore': {'Positive': 0.9898785352706909, 'Negative': 0.0006649628630839288, 'Neutral': 0.0014287177473306656, 'Mixed': 0.008027893491089344}, 'ResponseMetadata': {'RequestId': 'f2eb8f29-a5a9-11e8-ad19-e94911d6863f', 'HTTPStatusCode': 200, 'HTTPHeaders': {'date': 'Wed, 22 Aug 2018 01:23:17 GMT', 'content-type': 'application/x-amz-json-1.1', 'content-length': '166', 'connection': 'keep-alive', 'x-amzn-requestid': 'f2eb8f29-a5a9-11e8-ad19-e94911d6863f'}, 'RetryAttempts': 0}}\n",
      "{'Sentiment': 'POSITIVE', 'SentimentScore': {'Positive': 0.9966840147972107, 'Negative': 6.453136302297935e-05, 'Neutral': 0.002745113568380475, 'Mixed': 0.0005063700373284519}, 'ResponseMetadata': {'RequestId': 'f2fc3159-a5a9-11e8-9c69-7db1af1277f0', 'HTTPStatusCode': 200, 'HTTPHeaders': {'date': 'Wed, 22 Aug 2018 01:23:18 GMT', 'content-type': 'application/x-amz-json-1.1', 'content-length': '165', 'connection': 'keep-alive', 'x-amzn-requestid': 'f2fc3159-a5a9-11e8-9c69-7db1af1277f0'}, 'RetryAttempts': 0}}\n",
      "{'Sentiment': 'POSITIVE', 'SentimentScore': {'Positive': 0.9985008239746094, 'Negative': 4.0828359487932175e-05, 'Neutral': 1.0752433809102513e-05, 'Mixed': 0.0014475960051640868}, 'ResponseMetadata': {'RequestId': 'f30ef582-a5a9-11e8-a54c-579d1aae2c6e', 'HTTPStatusCode': 200, 'HTTPHeaders': {'date': 'Wed, 22 Aug 2018 01:23:18 GMT', 'content-type': 'application/x-amz-json-1.1', 'content-length': '168', 'connection': 'keep-alive', 'x-amzn-requestid': 'f30ef582-a5a9-11e8-a54c-579d1aae2c6e'}, 'RetryAttempts': 0}}\n",
      "{'Sentiment': 'POSITIVE', 'SentimentScore': {'Positive': 0.9760581851005554, 'Negative': 1.1212326171516906e-05, 'Neutral': 0.023768039420247078, 'Mixed': 0.00016264058649539948}, 'ResponseMetadata': {'RequestId': 'f31f70a6-a5a9-11e8-b9eb-0d7d73fb2391', 'HTTPStatusCode': 200, 'HTTPHeaders': {'date': 'Wed, 22 Aug 2018 01:23:18 GMT', 'content-type': 'application/x-amz-json-1.1', 'content-length': '167', 'connection': 'keep-alive', 'x-amzn-requestid': 'f31f70a6-a5a9-11e8-b9eb-0d7d73fb2391'}, 'RetryAttempts': 0}}\n",
      "{'Sentiment': 'POSITIVE', 'SentimentScore': {'Positive': 0.9972448348999023, 'Negative': 4.065234406880336e-06, 'Neutral': 0.002691339934244752, 'Mixed': 5.981799040455371e-05}, 'ResponseMetadata': {'RequestId': 'f32c6953-a5a9-11e8-a2f4-85bf7e6bcf79', 'HTTPStatusCode': 200, 'HTTPHeaders': {'date': 'Wed, 22 Aug 2018 01:23:18 GMT', 'content-type': 'application/x-amz-json-1.1', 'content-length': '165', 'connection': 'keep-alive', 'x-amzn-requestid': 'f32c6953-a5a9-11e8-a2f4-85bf7e6bcf79'}, 'RetryAttempts': 0}}\n",
      "{'Sentiment': 'POSITIVE', 'SentimentScore': {'Positive': 0.9952371120452881, 'Negative': 0.00029993883799761534, 'Neutral': 0.0008166886982508004, 'Mixed': 0.0036461951676756144}, 'ResponseMetadata': {'RequestId': 'f33bab4f-a5a9-11e8-81c3-ef4e8be5100f', 'HTTPStatusCode': 200, 'HTTPHeaders': {'date': 'Wed, 22 Aug 2018 01:23:18 GMT', 'content-type': 'application/x-amz-json-1.1', 'content-length': '167', 'connection': 'keep-alive', 'x-amzn-requestid': 'f33bab4f-a5a9-11e8-81c3-ef4e8be5100f'}, 'RetryAttempts': 0}}\n",
      "{'Sentiment': 'NEUTRAL', 'SentimentScore': {'Positive': 0.33946216106414795, 'Negative': 0.012364908121526241, 'Neutral': 0.6269862055778503, 'Mixed': 0.02118668146431446}, 'ResponseMetadata': {'RequestId': 'f34fa8bf-a5a9-11e8-bf20-e9c06e0a11d1', 'HTTPStatusCode': 200, 'HTTPHeaders': {'date': 'Wed, 22 Aug 2018 01:23:18 GMT', 'content-type': 'application/x-amz-json-1.1', 'content-length': '162', 'connection': 'keep-alive', 'x-amzn-requestid': 'f34fa8bf-a5a9-11e8-bf20-e9c06e0a11d1'}, 'RetryAttempts': 0}}\n",
      "{'Sentiment': 'POSITIVE', 'SentimentScore': {'Positive': 0.9964466691017151, 'Negative': 2.8236310754437e-05, 'Neutral': 0.00010721399303292856, 'Mixed': 0.003417772240936756}, 'ResponseMetadata': {'RequestId': 'f35eeafd-a5a9-11e8-adac-f7604fed725b', 'HTTPStatusCode': 200, 'HTTPHeaders': {'date': 'Wed, 22 Aug 2018 01:23:18 GMT', 'content-type': 'application/x-amz-json-1.1', 'content-length': '164', 'connection': 'keep-alive', 'x-amzn-requestid': 'f35eeafd-a5a9-11e8-adac-f7604fed725b'}, 'RetryAttempts': 0}}\n",
      "{'Sentiment': 'POSITIVE', 'SentimentScore': {'Positive': 0.9694694876670837, 'Negative': 0.0014982713619247079, 'Neutral': 0.011576579883694649, 'Mixed': 0.01745564304292202}, 'ResponseMetadata': {'RequestId': 'f36e0566-a5a9-11e8-845a-674cd09bb0ce', 'HTTPStatusCode': 200, 'HTTPHeaders': {'date': 'Wed, 22 Aug 2018 01:23:18 GMT', 'content-type': 'application/x-amz-json-1.1', 'content-length': '165', 'connection': 'keep-alive', 'x-amzn-requestid': 'f36e0566-a5a9-11e8-845a-674cd09bb0ce'}, 'RetryAttempts': 0}}\n",
      "{'Sentiment': 'POSITIVE', 'SentimentScore': {'Positive': 0.887847900390625, 'Negative': 0.003896671812981367, 'Neutral': 0.0386371985077858, 'Mixed': 0.06961823254823685}, 'ResponseMetadata': {'RequestId': 'f37de437-a5a9-11e8-b93a-f1e2833c09ce', 'HTTPStatusCode': 200, 'HTTPHeaders': {'date': 'Wed, 22 Aug 2018 01:23:18 GMT', 'content-type': 'application/x-amz-json-1.1', 'content-length': '161', 'connection': 'keep-alive', 'x-amzn-requestid': 'f37de437-a5a9-11e8-b93a-f1e2833c09ce'}, 'RetryAttempts': 0}}\n",
      "{'Sentiment': 'POSITIVE', 'SentimentScore': {'Positive': 0.9555764198303223, 'Negative': 0.0008122661965899169, 'Neutral': 0.01339641958475113, 'Mixed': 0.030214741826057434}, 'ResponseMetadata': {'RequestId': 'f38d74ba-a5a9-11e8-b9eb-0d7d73fb2391', 'HTTPStatusCode': 200, 'HTTPHeaders': {'date': 'Wed, 22 Aug 2018 01:23:18 GMT', 'content-type': 'application/x-amz-json-1.1', 'content-length': '164', 'connection': 'keep-alive', 'x-amzn-requestid': 'f38d74ba-a5a9-11e8-b9eb-0d7d73fb2391'}, 'RetryAttempts': 0}}\n",
      "{'Sentiment': 'POSITIVE', 'SentimentScore': {'Positive': 0.6674219369888306, 'Negative': 0.06102438271045685, 'Neutral': 0.007875774055719376, 'Mixed': 0.2636778652667999}, 'ResponseMetadata': {'RequestId': 'f39a1ebe-a5a9-11e8-8c25-8dfaf9f702af', 'HTTPStatusCode': 200, 'HTTPHeaders': {'date': 'Wed, 22 Aug 2018 01:23:19 GMT', 'content-type': 'application/x-amz-json-1.1', 'content-length': '162', 'connection': 'keep-alive', 'x-amzn-requestid': 'f39a1ebe-a5a9-11e8-8c25-8dfaf9f702af'}, 'RetryAttempts': 0}}\n",
      "{'Sentiment': 'POSITIVE', 'SentimentScore': {'Positive': 0.9627304077148438, 'Negative': 0.0007110870210453868, 'Neutral': 0.016842307522892952, 'Mixed': 0.019716190174221992}, 'ResponseMetadata': {'RequestId': 'f3a73e5d-a5a9-11e8-b50d-8301a8898004', 'HTTPStatusCode': 200, 'HTTPHeaders': {'date': 'Wed, 22 Aug 2018 01:23:19 GMT', 'content-type': 'application/x-amz-json-1.1', 'content-length': '165', 'connection': 'keep-alive', 'x-amzn-requestid': 'f3a73e5d-a5a9-11e8-b50d-8301a8898004'}, 'RetryAttempts': 0}}\n",
      "{'Sentiment': 'POSITIVE', 'SentimentScore': {'Positive': 0.9886725544929504, 'Negative': 2.0907591533614323e-06, 'Neutral': 0.011248455382883549, 'Mixed': 7.68069876357913e-05}, 'ResponseMetadata': {'RequestId': 'f3b7b8cd-a5a9-11e8-88ee-89debf0a6076', 'HTTPStatusCode': 200, 'HTTPHeaders': {'date': 'Wed, 22 Aug 2018 01:23:19 GMT', 'content-type': 'application/x-amz-json-1.1', 'content-length': '165', 'connection': 'keep-alive', 'x-amzn-requestid': 'f3b7b8cd-a5a9-11e8-88ee-89debf0a6076'}, 'RetryAttempts': 0}}\n"
     ]
    },
    {
     "name": "stdout",
     "output_type": "stream",
     "text": [
      "{'Sentiment': 'POSITIVE', 'SentimentScore': {'Positive': 0.6946184039115906, 'Negative': 0.004427457228302956, 'Neutral': 0.28699979186058044, 'Mixed': 0.01395439449697733}, 'ResponseMetadata': {'RequestId': 'f3c80c43-a5a9-11e8-9d3a-e5743fd937d0', 'HTTPStatusCode': 200, 'HTTPHeaders': {'date': 'Wed, 22 Aug 2018 01:23:19 GMT', 'content-type': 'application/x-amz-json-1.1', 'content-length': '163', 'connection': 'keep-alive', 'x-amzn-requestid': 'f3c80c43-a5a9-11e8-9d3a-e5743fd937d0'}, 'RetryAttempts': 0}}\n",
      "{'Sentiment': 'POSITIVE', 'SentimentScore': {'Positive': 0.8426517248153687, 'Negative': 0.05611424148082733, 'Neutral': 0.011899283155798912, 'Mixed': 0.0893346518278122}, 'ResponseMetadata': {'RequestId': 'f3d8871a-a5a9-11e8-a54c-579d1aae2c6e', 'HTTPStatusCode': 200, 'HTTPHeaders': {'date': 'Wed, 22 Aug 2018 01:23:19 GMT', 'content-type': 'application/x-amz-json-1.1', 'content-length': '162', 'connection': 'keep-alive', 'x-amzn-requestid': 'f3d8871a-a5a9-11e8-a54c-579d1aae2c6e'}, 'RetryAttempts': 0}}\n",
      "{'Sentiment': 'POSITIVE', 'SentimentScore': {'Positive': 0.9808710217475891, 'Negative': 7.1843774094304536e-06, 'Neutral': 0.018821854144334793, 'Mixed': 0.00030002515995875}, 'ResponseMetadata': {'RequestId': 'f3e642fd-a5a9-11e8-b93a-f1e2833c09ce', 'HTTPStatusCode': 200, 'HTTPHeaders': {'date': 'Wed, 22 Aug 2018 01:23:19 GMT', 'content-type': 'application/x-amz-json-1.1', 'content-length': '164', 'connection': 'keep-alive', 'x-amzn-requestid': 'f3e642fd-a5a9-11e8-b93a-f1e2833c09ce'}, 'RetryAttempts': 0}}\n",
      "{'Sentiment': 'POSITIVE', 'SentimentScore': {'Positive': 0.7777246236801147, 'Negative': 0.009391779080033302, 'Neutral': 0.005976411513984203, 'Mixed': 0.20690713822841644}, 'ResponseMetadata': {'RequestId': 'f3f5ac8d-a5a9-11e8-9f0c-11ad878f42b4', 'HTTPStatusCode': 200, 'HTTPHeaders': {'date': 'Wed, 22 Aug 2018 01:23:19 GMT', 'content-type': 'application/x-amz-json-1.1', 'content-length': '164', 'connection': 'keep-alive', 'x-amzn-requestid': 'f3f5ac8d-a5a9-11e8-9f0c-11ad878f42b4'}, 'RetryAttempts': 0}}\n",
      "{'Sentiment': 'POSITIVE', 'SentimentScore': {'Positive': 0.9453001022338867, 'Negative': 0.0003569209366105497, 'Neutral': 0.05234675854444504, 'Mixed': 0.001996260369196534}, 'ResponseMetadata': {'RequestId': 'f4067562-a5a9-11e8-b50d-8301a8898004', 'HTTPStatusCode': 200, 'HTTPHeaders': {'date': 'Wed, 22 Aug 2018 01:23:19 GMT', 'content-type': 'application/x-amz-json-1.1', 'content-length': '164', 'connection': 'keep-alive', 'x-amzn-requestid': 'f4067562-a5a9-11e8-b50d-8301a8898004'}, 'RetryAttempts': 0}}\n",
      "{'Sentiment': 'POSITIVE', 'SentimentScore': {'Positive': 0.9748525619506836, 'Negative': 0.00027139161829836667, 'Neutral': 0.023604681715369225, 'Mixed': 0.0012714696349576116}, 'ResponseMetadata': {'RequestId': 'f41346a8-a5a9-11e8-81c3-ef4e8be5100f', 'HTTPStatusCode': 200, 'HTTPHeaders': {'date': 'Wed, 22 Aug 2018 01:23:19 GMT', 'content-type': 'application/x-amz-json-1.1', 'content-length': '167', 'connection': 'keep-alive', 'x-amzn-requestid': 'f41346a8-a5a9-11e8-81c3-ef4e8be5100f'}, 'RetryAttempts': 0}}\n",
      "{'Sentiment': 'POSITIVE', 'SentimentScore': {'Positive': 0.999891996383667, 'Negative': 2.6379868813819485e-06, 'Neutral': 1.9726065147551708e-05, 'Mixed': 8.569657802581787e-05}, 'ResponseMetadata': {'RequestId': 'f42017b9-a5a9-11e8-bc99-03ea29243f9b', 'HTTPStatusCode': 200, 'HTTPHeaders': {'date': 'Wed, 22 Aug 2018 01:23:19 GMT', 'content-type': 'application/x-amz-json-1.1', 'content-length': '166', 'connection': 'keep-alive', 'x-amzn-requestid': 'f42017b9-a5a9-11e8-bc99-03ea29243f9b'}, 'RetryAttempts': 0}}\n",
      "{'Sentiment': 'POSITIVE', 'SentimentScore': {'Positive': 0.9961417317390442, 'Negative': 0.0006389290210790932, 'Neutral': 0.0021609619725495577, 'Mixed': 0.0010583630064502358}, 'ResponseMetadata': {'RequestId': 'f4317c8d-a5a9-11e8-a54c-579d1aae2c6e', 'HTTPStatusCode': 200, 'HTTPHeaders': {'date': 'Wed, 22 Aug 2018 01:23:20 GMT', 'content-type': 'application/x-amz-json-1.1', 'content-length': '167', 'connection': 'keep-alive', 'x-amzn-requestid': 'f4317c8d-a5a9-11e8-a54c-579d1aae2c6e'}, 'RetryAttempts': 0}}\n",
      "{'Sentiment': 'POSITIVE', 'SentimentScore': {'Positive': 0.9911065697669983, 'Negative': 0.0001896043395390734, 'Neutral': 0.0070377495139837265, 'Mixed': 0.0016660559922456741}, 'ResponseMetadata': {'RequestId': 'f43ec2df-a5a9-11e8-ae3e-c1f1bbbc4558', 'HTTPStatusCode': 200, 'HTTPHeaders': {'date': 'Wed, 22 Aug 2018 01:23:20 GMT', 'content-type': 'application/x-amz-json-1.1', 'content-length': '167', 'connection': 'keep-alive', 'x-amzn-requestid': 'f43ec2df-a5a9-11e8-ae3e-c1f1bbbc4558'}, 'RetryAttempts': 0}}\n",
      "{'Sentiment': 'POSITIVE', 'SentimentScore': {'Positive': 0.8300728797912598, 'Negative': 0.00275174411945045, 'Neutral': 0.16193869709968567, 'Mixed': 0.005236612167209387}, 'ResponseMetadata': {'RequestId': 'f453361e-a5a9-11e8-a423-23f645849a04', 'HTTPStatusCode': 200, 'HTTPHeaders': {'date': 'Wed, 22 Aug 2018 01:23:20 GMT', 'content-type': 'application/x-amz-json-1.1', 'content-length': '163', 'connection': 'keep-alive', 'x-amzn-requestid': 'f453361e-a5a9-11e8-a423-23f645849a04'}, 'RetryAttempts': 0}}\n",
      "{'Sentiment': 'POSITIVE', 'SentimentScore': {'Positive': 0.9833074808120728, 'Negative': 8.83803004398942e-05, 'Neutral': 0.00041851922287605703, 'Mixed': 0.016185635700821877}, 'ResponseMetadata': {'RequestId': 'f4664854-a5a9-11e8-88ee-89debf0a6076', 'HTTPStatusCode': 200, 'HTTPHeaders': {'date': 'Wed, 22 Aug 2018 01:23:20 GMT', 'content-type': 'application/x-amz-json-1.1', 'content-length': '165', 'connection': 'keep-alive', 'x-amzn-requestid': 'f4664854-a5a9-11e8-88ee-89debf0a6076'}, 'RetryAttempts': 0}}\n",
      "{'Sentiment': 'NEUTRAL', 'SentimentScore': {'Positive': 0.4848904609680176, 'Negative': 0.0022295888047665358, 'Neutral': 0.5085084438323975, 'Mixed': 0.004371559713035822}, 'ResponseMetadata': {'RequestId': 'f4731a2a-a5a9-11e8-adac-f7604fed725b', 'HTTPStatusCode': 200, 'HTTPHeaders': {'date': 'Wed, 22 Aug 2018 01:23:20 GMT', 'content-type': 'application/x-amz-json-1.1', 'content-length': '163', 'connection': 'keep-alive', 'x-amzn-requestid': 'f4731a2a-a5a9-11e8-adac-f7604fed725b'}, 'RetryAttempts': 0}}\n",
      "{'Sentiment': 'POSITIVE', 'SentimentScore': {'Positive': 0.9998016953468323, 'Negative': 8.644057629680901e-07, 'Neutral': 6.4608953834977e-05, 'Mixed': 0.00013285447494126856}, 'ResponseMetadata': {'RequestId': 'f47feaf3-a5a9-11e8-b93a-f1e2833c09ce', 'HTTPStatusCode': 200, 'HTTPHeaders': {'date': 'Wed, 22 Aug 2018 01:23:20 GMT', 'content-type': 'application/x-amz-json-1.1', 'content-length': '164', 'connection': 'keep-alive', 'x-amzn-requestid': 'f47feaf3-a5a9-11e8-b93a-f1e2833c09ce'}, 'RetryAttempts': 0}}\n",
      "{'Sentiment': 'POSITIVE', 'SentimentScore': {'Positive': 0.9225391745567322, 'Negative': 0.009957442060112953, 'Neutral': 0.01805769093334675, 'Mixed': 0.04944558069109917}, 'ResponseMetadata': {'RequestId': 'f48c6e90-a5a9-11e8-a423-23f645849a04', 'HTTPStatusCode': 200, 'HTTPHeaders': {'date': 'Wed, 22 Aug 2018 01:23:20 GMT', 'content-type': 'application/x-amz-json-1.1', 'content-length': '163', 'connection': 'keep-alive', 'x-amzn-requestid': 'f48c6e90-a5a9-11e8-a423-23f645849a04'}, 'RetryAttempts': 0}}\n",
      "{'Sentiment': 'POSITIVE', 'SentimentScore': {'Positive': 0.9874589443206787, 'Negative': 0.0007450131233781576, 'Neutral': 0.006613613106310368, 'Mixed': 0.005182428285479546}, 'ResponseMetadata': {'RequestId': 'f49ac62d-a5a9-11e8-81c3-ef4e8be5100f', 'HTTPStatusCode': 200, 'HTTPHeaders': {'date': 'Wed, 22 Aug 2018 01:23:20 GMT', 'content-type': 'application/x-amz-json-1.1', 'content-length': '165', 'connection': 'keep-alive', 'x-amzn-requestid': 'f49ac62d-a5a9-11e8-81c3-ef4e8be5100f'}, 'RetryAttempts': 0}}\n",
      "{'Sentiment': 'POSITIVE', 'SentimentScore': {'Positive': 0.9894607663154602, 'Negative': 9.084642806556076e-05, 'Neutral': 0.008708088658750057, 'Mixed': 0.0017402836820110679}, 'ResponseMetadata': {'RequestId': 'f4a748d6-a5a9-11e8-805e-4377d030c79f', 'HTTPStatusCode': 200, 'HTTPHeaders': {'date': 'Wed, 22 Aug 2018 01:23:20 GMT', 'content-type': 'application/x-amz-json-1.1', 'content-length': '166', 'connection': 'keep-alive', 'x-amzn-requestid': 'f4a748d6-a5a9-11e8-805e-4377d030c79f'}, 'RetryAttempts': 0}}\n",
      "{'Sentiment': 'POSITIVE', 'SentimentScore': {'Positive': 0.999815046787262, 'Negative': 6.995906574047694e-07, 'Neutral': 4.759206058224663e-05, 'Mixed': 0.00013674440560862422}, 'ResponseMetadata': {'RequestId': 'f4b6644e-a5a9-11e8-bc99-03ea29243f9b', 'HTTPStatusCode': 200, 'HTTPHeaders': {'date': 'Wed, 22 Aug 2018 01:23:20 GMT', 'content-type': 'application/x-amz-json-1.1', 'content-length': '165', 'connection': 'keep-alive', 'x-amzn-requestid': 'f4b6644e-a5a9-11e8-bc99-03ea29243f9b'}, 'RetryAttempts': 0}}\n",
      "{'Sentiment': 'POSITIVE', 'SentimentScore': {'Positive': 0.9916757345199585, 'Negative': 9.03530526557006e-05, 'Neutral': 0.002132657216861844, 'Mixed': 0.006101320963352919}, 'ResponseMetadata': {'RequestId': 'f4c57f1c-a5a9-11e8-9d3a-e5743fd937d0', 'HTTPStatusCode': 200, 'HTTPHeaders': {'date': 'Wed, 22 Aug 2018 01:23:20 GMT', 'content-type': 'application/x-amz-json-1.1', 'content-length': '164', 'connection': 'keep-alive', 'x-amzn-requestid': 'f4c57f1c-a5a9-11e8-9d3a-e5743fd937d0'}, 'RetryAttempts': 0}}\n",
      "{'Sentiment': 'POSITIVE', 'SentimentScore': {'Positive': 0.999133288860321, 'Negative': 0.00011806046677520499, 'Neutral': 0.00024937521084211767, 'Mixed': 0.0004992969916202128}, 'ResponseMetadata': {'RequestId': 'f4d25065-a5a9-11e8-845a-674cd09bb0ce', 'HTTPStatusCode': 200, 'HTTPHeaders': {'date': 'Wed, 22 Aug 2018 01:23:21 GMT', 'content-type': 'application/x-amz-json-1.1', 'content-length': '166', 'connection': 'keep-alive', 'x-amzn-requestid': 'f4d25065-a5a9-11e8-845a-674cd09bb0ce'}, 'RetryAttempts': 0}}\n"
     ]
    },
    {
     "name": "stdout",
     "output_type": "stream",
     "text": [
      "{'Sentiment': 'POSITIVE', 'SentimentScore': {'Positive': 0.9557193517684937, 'Negative': 0.0007725779432803392, 'Neutral': 0.03037841245532036, 'Mixed': 0.013129597529768944}, 'ResponseMetadata': {'RequestId': 'f4df48c4-a5a9-11e8-a54c-579d1aae2c6e', 'HTTPStatusCode': 200, 'HTTPHeaders': {'date': 'Wed, 22 Aug 2018 01:23:21 GMT', 'content-type': 'application/x-amz-json-1.1', 'content-length': '164', 'connection': 'keep-alive', 'x-amzn-requestid': 'f4df48c4-a5a9-11e8-a54c-579d1aae2c6e'}, 'RetryAttempts': 0}}\n",
      "{'Sentiment': 'POSITIVE', 'SentimentScore': {'Positive': 0.5748428702354431, 'Negative': 0.00343678193166852, 'Neutral': 0.41944634914398193, 'Mixed': 0.0022739192936569452}, 'ResponseMetadata': {'RequestId': 'f4ed0457-a5a9-11e8-b847-61cf5ece24ed', 'HTTPStatusCode': 200, 'HTTPHeaders': {'date': 'Wed, 22 Aug 2018 01:23:21 GMT', 'content-type': 'application/x-amz-json-1.1', 'content-length': '164', 'connection': 'keep-alive', 'x-amzn-requestid': 'f4ed0457-a5a9-11e8-b847-61cf5ece24ed'}, 'RetryAttempts': 0}}\n",
      "{'Sentiment': 'POSITIVE', 'SentimentScore': {'Positive': 0.9925209283828735, 'Negative': 0.00013157092325855047, 'Neutral': 0.0035417662002146244, 'Mixed': 0.0038058117497712374}, 'ResponseMetadata': {'RequestId': 'f4fce349-a5a9-11e8-b9eb-0d7d73fb2391', 'HTTPStatusCode': 200, 'HTTPHeaders': {'date': 'Wed, 22 Aug 2018 01:23:21 GMT', 'content-type': 'application/x-amz-json-1.1', 'content-length': '168', 'connection': 'keep-alive', 'x-amzn-requestid': 'f4fce349-a5a9-11e8-b9eb-0d7d73fb2391'}, 'RetryAttempts': 0}}\n",
      "{'Sentiment': 'POSITIVE', 'SentimentScore': {'Positive': 0.9995653033256531, 'Negative': 3.824339273705846e-06, 'Neutral': 0.00023960926046129316, 'Mixed': 0.00019125518156215549}, 'ResponseMetadata': {'RequestId': 'f50c9a3e-a5a9-11e8-ac20-bdca8459aef1', 'HTTPStatusCode': 200, 'HTTPHeaders': {'date': 'Wed, 22 Aug 2018 01:23:21 GMT', 'content-type': 'application/x-amz-json-1.1', 'content-length': '167', 'connection': 'keep-alive', 'x-amzn-requestid': 'f50c9a3e-a5a9-11e8-ac20-bdca8459aef1'}, 'RetryAttempts': 0}}\n",
      "{'Sentiment': 'POSITIVE', 'SentimentScore': {'Positive': 0.9954538345336914, 'Negative': 0.0002504561562091112, 'Neutral': 0.00195392151363194, 'Mixed': 0.002341704908758402}, 'ResponseMetadata': {'RequestId': 'f51bb632-a5a9-11e8-b231-75341f50b1cb', 'HTTPStatusCode': 200, 'HTTPHeaders': {'date': 'Wed, 22 Aug 2018 01:23:21 GMT', 'content-type': 'application/x-amz-json-1.1', 'content-length': '164', 'connection': 'keep-alive', 'x-amzn-requestid': 'f51bb632-a5a9-11e8-b231-75341f50b1cb'}, 'RetryAttempts': 0}}\n",
      "{'Sentiment': 'POSITIVE', 'SentimentScore': {'Positive': 0.9896721839904785, 'Negative': 0.000695443304721266, 'Neutral': 0.0003689523146022111, 'Mixed': 0.009263411164283752}, 'ResponseMetadata': {'RequestId': 'f52b1f51-a5a9-11e8-81c3-ef4e8be5100f', 'HTTPStatusCode': 200, 'HTTPHeaders': {'date': 'Wed, 22 Aug 2018 01:23:21 GMT', 'content-type': 'application/x-amz-json-1.1', 'content-length': '164', 'connection': 'keep-alive', 'x-amzn-requestid': 'f52b1f51-a5a9-11e8-81c3-ef4e8be5100f'}, 'RetryAttempts': 0}}\n",
      "{'Sentiment': 'POSITIVE', 'SentimentScore': {'Positive': 0.9983017444610596, 'Negative': 4.055755562148988e-05, 'Neutral': 4.513726526056416e-05, 'Mixed': 0.001612486899830401}, 'ResponseMetadata': {'RequestId': 'f537c999-a5a9-11e8-bd73-35d8d2ee0e50', 'HTTPStatusCode': 200, 'HTTPHeaders': {'date': 'Wed, 22 Aug 2018 01:23:21 GMT', 'content-type': 'application/x-amz-json-1.1', 'content-length': '165', 'connection': 'keep-alive', 'x-amzn-requestid': 'f537c999-a5a9-11e8-bd73-35d8d2ee0e50'}, 'RetryAttempts': 0}}\n",
      "{'Sentiment': 'POSITIVE', 'SentimentScore': {'Positive': 0.9945213794708252, 'Negative': 3.218672645743936e-05, 'Neutral': 0.0043703243136405945, 'Mixed': 0.0010760817676782608}, 'ResponseMetadata': {'RequestId': 'f5473314-a5a9-11e8-bf20-e9c06e0a11d1', 'HTTPStatusCode': 200, 'HTTPHeaders': {'date': 'Wed, 22 Aug 2018 01:23:21 GMT', 'content-type': 'application/x-amz-json-1.1', 'content-length': '167', 'connection': 'keep-alive', 'x-amzn-requestid': 'f5473314-a5a9-11e8-bf20-e9c06e0a11d1'}, 'RetryAttempts': 0}}\n",
      "{'Sentiment': 'POSITIVE', 'SentimentScore': {'Positive': 0.9897630214691162, 'Negative': 5.535317905014381e-05, 'Neutral': 0.009339149110019207, 'Mixed': 0.000842456181999296}, 'ResponseMetadata': {'RequestId': 'f55870f0-a5a9-11e8-9c69-7db1af1277f0', 'HTTPStatusCode': 200, 'HTTPHeaders': {'date': 'Wed, 22 Aug 2018 01:23:21 GMT', 'content-type': 'application/x-amz-json-1.1', 'content-length': '164', 'connection': 'keep-alive', 'x-amzn-requestid': 'f55870f0-a5a9-11e8-9c69-7db1af1277f0'}, 'RetryAttempts': 0}}\n",
      "{'Sentiment': 'POSITIVE', 'SentimentScore': {'Positive': 0.8333223462104797, 'Negative': 0.004666993394494057, 'Neutral': 0.13157503306865692, 'Mixed': 0.030435636639595032}, 'ResponseMetadata': {'RequestId': 'f5662cc3-a5a9-11e8-adac-f7604fed725b', 'HTTPStatusCode': 200, 'HTTPHeaders': {'date': 'Wed, 22 Aug 2018 01:23:22 GMT', 'content-type': 'application/x-amz-json-1.1', 'content-length': '164', 'connection': 'keep-alive', 'x-amzn-requestid': 'f5662cc3-a5a9-11e8-adac-f7604fed725b'}, 'RetryAttempts': 0}}\n",
      "{'Sentiment': 'POSITIVE', 'SentimentScore': {'Positive': 0.8062584400177002, 'Negative': 0.0039486209861934185, 'Neutral': 0.17734438180923462, 'Mixed': 0.01244853250682354}, 'ResponseMetadata': {'RequestId': 'f5726109-a5a9-11e8-a54c-579d1aae2c6e', 'HTTPStatusCode': 200, 'HTTPHeaders': {'date': 'Wed, 22 Aug 2018 01:23:22 GMT', 'content-type': 'application/x-amz-json-1.1', 'content-length': '164', 'connection': 'keep-alive', 'x-amzn-requestid': 'f5726109-a5a9-11e8-a54c-579d1aae2c6e'}, 'RetryAttempts': 0}}\n",
      "{'Sentiment': 'POSITIVE', 'SentimentScore': {'Positive': 0.9998338222503662, 'Negative': 3.244174138217204e-07, 'Neutral': 4.225882003083825e-05, 'Mixed': 0.00012350939505267888}, 'ResponseMetadata': {'RequestId': 'f57ee46c-a5a9-11e8-b93a-f1e2833c09ce', 'HTTPStatusCode': 200, 'HTTPHeaders': {'date': 'Wed, 22 Aug 2018 01:23:22 GMT', 'content-type': 'application/x-amz-json-1.1', 'content-length': '166', 'connection': 'keep-alive', 'x-amzn-requestid': 'f57ee46c-a5a9-11e8-b93a-f1e2833c09ce'}, 'RetryAttempts': 0}}\n",
      "{'Sentiment': 'POSITIVE', 'SentimentScore': {'Positive': 0.9811695218086243, 'Negative': 0.0006660819635726511, 'Neutral': 0.0002750894345808774, 'Mixed': 0.01788928546011448}, 'ResponseMetadata': {'RequestId': 'f58c2a7c-a5a9-11e8-ae3e-c1f1bbbc4558', 'HTTPStatusCode': 200, 'HTTPHeaders': {'date': 'Wed, 22 Aug 2018 01:23:22 GMT', 'content-type': 'application/x-amz-json-1.1', 'content-length': '164', 'connection': 'keep-alive', 'x-amzn-requestid': 'f58c2a7c-a5a9-11e8-ae3e-c1f1bbbc4558'}, 'RetryAttempts': 0}}\n",
      "{'Sentiment': 'POSITIVE', 'SentimentScore': {'Positive': 0.8965229392051697, 'Negative': 0.0016932946164160967, 'Neutral': 0.09524733573198318, 'Mixed': 0.006536437198519707}, 'ResponseMetadata': {'RequestId': 'f59d4254-a5a9-11e8-bd5f-2d12aafa381c', 'HTTPStatusCode': 200, 'HTTPHeaders': {'date': 'Wed, 22 Aug 2018 01:23:22 GMT', 'content-type': 'application/x-amz-json-1.1', 'content-length': '165', 'connection': 'keep-alive', 'x-amzn-requestid': 'f59d4254-a5a9-11e8-bd5f-2d12aafa381c'}, 'RetryAttempts': 0}}\n",
      "{'Sentiment': 'POSITIVE', 'SentimentScore': {'Positive': 0.9976511597633362, 'Negative': 5.518033867701888e-05, 'Neutral': 0.0017352488357573748, 'Mixed': 0.0005583723541349173}, 'ResponseMetadata': {'RequestId': 'f5ad6ebd-a5a9-11e8-9f0c-11ad878f42b4', 'HTTPStatusCode': 200, 'HTTPHeaders': {'date': 'Wed, 22 Aug 2018 01:23:22 GMT', 'content-type': 'application/x-amz-json-1.1', 'content-length': '166', 'connection': 'keep-alive', 'x-amzn-requestid': 'f5ad6ebd-a5a9-11e8-9f0c-11ad878f42b4'}, 'RetryAttempts': 0}}\n",
      "{'Sentiment': 'POSITIVE', 'SentimentScore': {'Positive': 0.9931783676147461, 'Negative': 0.00013180582027416676, 'Neutral': 0.006468478124588728, 'Mixed': 0.00022134854225441813}, 'ResponseMetadata': {'RequestId': 'f5ba1855-a5a9-11e8-ac20-bdca8459aef1', 'HTTPStatusCode': 200, 'HTTPHeaders': {'date': 'Wed, 22 Aug 2018 01:23:22 GMT', 'content-type': 'application/x-amz-json-1.1', 'content-length': '167', 'connection': 'keep-alive', 'x-amzn-requestid': 'f5ba1855-a5a9-11e8-ac20-bdca8459aef1'}, 'RetryAttempts': 0}}\n"
     ]
    },
    {
     "name": "stdout",
     "output_type": "stream",
     "text": [
      "{'Sentiment': 'POSITIVE', 'SentimentScore': {'Positive': 0.9935723543167114, 'Negative': 0.0006156720337457955, 'Neutral': 0.0018786652944982052, 'Mixed': 0.003933381289243698}, 'ResponseMetadata': {'RequestId': 'f5c71168-a5a9-11e8-b231-75341f50b1cb', 'HTTPStatusCode': 200, 'HTTPHeaders': {'date': 'Wed, 22 Aug 2018 01:23:22 GMT', 'content-type': 'application/x-amz-json-1.1', 'content-length': '166', 'connection': 'keep-alive', 'x-amzn-requestid': 'f5c71168-a5a9-11e8-b231-75341f50b1cb'}, 'RetryAttempts': 0}}\n",
      "{'Sentiment': 'POSITIVE', 'SentimentScore': {'Positive': 0.9873194694519043, 'Negative': 0.0005029303138144314, 'Neutral': 0.009161418303847313, 'Mixed': 0.0030161291360855103}, 'ResponseMetadata': {'RequestId': 'f5dd0a38-a5a9-11e8-81c3-ef4e8be5100f', 'HTTPStatusCode': 200, 'HTTPHeaders': {'date': 'Wed, 22 Aug 2018 01:23:22 GMT', 'content-type': 'application/x-amz-json-1.1', 'content-length': '166', 'connection': 'keep-alive', 'x-amzn-requestid': 'f5dd0a38-a5a9-11e8-81c3-ef4e8be5100f'}, 'RetryAttempts': 0}}\n",
      "{'Sentiment': 'POSITIVE', 'SentimentScore': {'Positive': 0.9764223098754883, 'Negative': 0.0023385263048112392, 'Neutral': 0.013869918882846832, 'Mixed': 0.007369195576757193}, 'ResponseMetadata': {'RequestId': 'f5ebafc1-a5a9-11e8-805e-4377d030c79f', 'HTTPStatusCode': 200, 'HTTPHeaders': {'date': 'Wed, 22 Aug 2018 01:23:22 GMT', 'content-type': 'application/x-amz-json-1.1', 'content-length': '166', 'connection': 'keep-alive', 'x-amzn-requestid': 'f5ebafc1-a5a9-11e8-805e-4377d030c79f'}, 'RetryAttempts': 0}}\n",
      "{'Sentiment': 'POSITIVE', 'SentimentScore': {'Positive': 0.9979338645935059, 'Negative': 0.00022949246340431273, 'Neutral': 0.0008881601970642805, 'Mixed': 0.0009484615875408053}, 'ResponseMetadata': {'RequestId': 'f5faa3c8-a5a9-11e8-b2ca-f77ae9ee4acb', 'HTTPStatusCode': 200, 'HTTPHeaders': {'date': 'Wed, 22 Aug 2018 01:23:23 GMT', 'content-type': 'application/x-amz-json-1.1', 'content-length': '166', 'connection': 'keep-alive', 'x-amzn-requestid': 'f5faa3c8-a5a9-11e8-b2ca-f77ae9ee4acb'}, 'RetryAttempts': 0}}\n",
      "{'Sentiment': 'POSITIVE', 'SentimentScore': {'Positive': 0.9916355609893799, 'Negative': 0.00032952128094621, 'Neutral': 0.004959097132086754, 'Mixed': 0.0030757177155464888}, 'ResponseMetadata': {'RequestId': 'f60970f9-a5a9-11e8-8f7d-cd5b090a526d', 'HTTPStatusCode': 200, 'HTTPHeaders': {'date': 'Wed, 22 Aug 2018 01:23:23 GMT', 'content-type': 'application/x-amz-json-1.1', 'content-length': '164', 'connection': 'keep-alive', 'x-amzn-requestid': 'f60970f9-a5a9-11e8-8f7d-cd5b090a526d'}, 'RetryAttempts': 0}}\n",
      "{'Sentiment': 'POSITIVE', 'SentimentScore': {'Positive': 0.9903995394706726, 'Negative': 0.00021186449157539755, 'Neutral': 0.008295088075101376, 'Mixed': 0.0010935672326013446}, 'ResponseMetadata': {'RequestId': 'f618b322-a5a9-11e8-b847-61cf5ece24ed', 'HTTPStatusCode': 200, 'HTTPHeaders': {'date': 'Wed, 22 Aug 2018 01:23:23 GMT', 'content-type': 'application/x-amz-json-1.1', 'content-length': '167', 'connection': 'keep-alive', 'x-amzn-requestid': 'f618b322-a5a9-11e8-b847-61cf5ece24ed'}, 'RetryAttempts': 0}}\n",
      "{'Sentiment': 'POSITIVE', 'SentimentScore': {'Positive': 0.9978958368301392, 'Negative': 0.00011561153223738074, 'Neutral': 0.0006812327192164958, 'Mixed': 0.001307221013121307}, 'ResponseMetadata': {'RequestId': 'f62584b0-a5a9-11e8-b93a-f1e2833c09ce', 'HTTPStatusCode': 200, 'HTTPHeaders': {'date': 'Wed, 22 Aug 2018 01:23:23 GMT', 'content-type': 'application/x-amz-json-1.1', 'content-length': '166', 'connection': 'keep-alive', 'x-amzn-requestid': 'f62584b0-a5a9-11e8-b93a-f1e2833c09ce'}, 'RetryAttempts': 0}}\n",
      "{'Sentiment': 'POSITIVE', 'SentimentScore': {'Positive': 0.7445666193962097, 'Negative': 0.0008044225978665054, 'Neutral': 0.24955232441425323, 'Mixed': 0.0050765760242938995}, 'ResponseMetadata': {'RequestId': 'f631e11b-a5a9-11e8-94da-d5c7ea9d7817', 'HTTPStatusCode': 200, 'HTTPHeaders': {'date': 'Wed, 22 Aug 2018 01:23:23 GMT', 'content-type': 'application/x-amz-json-1.1', 'content-length': '165', 'connection': 'keep-alive', 'x-amzn-requestid': 'f631e11b-a5a9-11e8-94da-d5c7ea9d7817'}, 'RetryAttempts': 0}}\n",
      "{'Sentiment': 'POSITIVE', 'SentimentScore': {'Positive': 0.9224190711975098, 'Negative': 0.0012811105698347092, 'Neutral': 0.07479732483625412, 'Mixed': 0.0015024725580587983}, 'ResponseMetadata': {'RequestId': 'f64086e4-a5a9-11e8-b9eb-0d7d73fb2391', 'HTTPStatusCode': 200, 'HTTPHeaders': {'date': 'Wed, 22 Aug 2018 01:23:23 GMT', 'content-type': 'application/x-amz-json-1.1', 'content-length': '166', 'connection': 'keep-alive', 'x-amzn-requestid': 'f64086e4-a5a9-11e8-b9eb-0d7d73fb2391'}, 'RetryAttempts': 0}}\n",
      "{'Sentiment': 'POSITIVE', 'SentimentScore': {'Positive': 0.9999192953109741, 'Negative': 3.9316651623266807e-07, 'Neutral': 4.348944639787078e-05, 'Mixed': 3.6843815905740485e-05}, 'ResponseMetadata': {'RequestId': 'f64dccd9-a5a9-11e8-ac20-bdca8459aef1', 'HTTPStatusCode': 200, 'HTTPHeaders': {'date': 'Wed, 22 Aug 2018 01:23:23 GMT', 'content-type': 'application/x-amz-json-1.1', 'content-length': '167', 'connection': 'keep-alive', 'x-amzn-requestid': 'f64dccd9-a5a9-11e8-ac20-bdca8459aef1'}, 'RetryAttempts': 0}}\n",
      "{'Sentiment': 'POSITIVE', 'SentimentScore': {'Positive': 0.9836452007293701, 'Negative': 0.0014005891280248761, 'Neutral': 0.0008533771033398807, 'Mixed': 0.014100819826126099}, 'ResponseMetadata': {'RequestId': 'f65a76e1-a5a9-11e8-a2f4-85bf7e6bcf79', 'HTTPStatusCode': 200, 'HTTPHeaders': {'date': 'Wed, 22 Aug 2018 01:23:23 GMT', 'content-type': 'application/x-amz-json-1.1', 'content-length': '166', 'connection': 'keep-alive', 'x-amzn-requestid': 'f65a76e1-a5a9-11e8-a2f4-85bf7e6bcf79'}, 'RetryAttempts': 0}}\n",
      "{'Sentiment': 'POSITIVE', 'SentimentScore': {'Positive': 0.9834408760070801, 'Negative': 0.004755266476422548, 'Neutral': 0.0010902959620580077, 'Mixed': 0.010713527910411358}, 'ResponseMetadata': {'RequestId': 'f67b6d1f-a5a9-11e8-a9e9-659915761180', 'HTTPStatusCode': 200, 'HTTPHeaders': {'date': 'Wed, 22 Aug 2018 01:23:23 GMT', 'content-type': 'application/x-amz-json-1.1', 'content-length': '166', 'connection': 'keep-alive', 'x-amzn-requestid': 'f67b6d1f-a5a9-11e8-a9e9-659915761180'}, 'RetryAttempts': 0}}\n",
      "{'Sentiment': 'POSITIVE', 'SentimentScore': {'Positive': 0.7746077179908752, 'Negative': 0.00026798088219948113, 'Neutral': 0.2228856235742569, 'Mixed': 0.0022386808414012194}, 'ResponseMetadata': {'RequestId': 'f68ef4ee-a5a9-11e8-bc99-03ea29243f9b', 'HTTPStatusCode': 200, 'HTTPHeaders': {'date': 'Wed, 22 Aug 2018 01:23:23 GMT', 'content-type': 'application/x-amz-json-1.1', 'content-length': '165', 'connection': 'keep-alive', 'x-amzn-requestid': 'f68ef4ee-a5a9-11e8-bc99-03ea29243f9b'}, 'RetryAttempts': 0}}\n",
      "{'Sentiment': 'POSITIVE', 'SentimentScore': {'Positive': 0.9583165645599365, 'Negative': 0.0053399731405079365, 'Neutral': 0.004563776310533285, 'Mixed': 0.03177965059876442}, 'ResponseMetadata': {'RequestId': 'f69b298e-a5a9-11e8-b2ca-f77ae9ee4acb', 'HTTPStatusCode': 200, 'HTTPHeaders': {'date': 'Wed, 22 Aug 2018 01:23:24 GMT', 'content-type': 'application/x-amz-json-1.1', 'content-length': '165', 'connection': 'keep-alive', 'x-amzn-requestid': 'f69b298e-a5a9-11e8-b2ca-f77ae9ee4acb'}, 'RetryAttempts': 0}}\n",
      "{'Sentiment': 'POSITIVE', 'SentimentScore': {'Positive': 0.9925810098648071, 'Negative': 4.4262371375225484e-05, 'Neutral': 0.00031560161733068526, 'Mixed': 0.007059150841087103}, 'ResponseMetadata': {'RequestId': 'f6aa6c9e-a5a9-11e8-adac-f7604fed725b', 'HTTPStatusCode': 200, 'HTTPHeaders': {'date': 'Wed, 22 Aug 2018 01:23:24 GMT', 'content-type': 'application/x-amz-json-1.1', 'content-length': '167', 'connection': 'keep-alive', 'x-amzn-requestid': 'f6aa6c9e-a5a9-11e8-adac-f7604fed725b'}, 'RetryAttempts': 0}}\n",
      "{'Sentiment': 'POSITIVE', 'SentimentScore': {'Positive': 0.9952383041381836, 'Negative': 0.00032691069645807147, 'Neutral': 0.0016232678899541497, 'Mixed': 0.0028115427121520042}, 'ResponseMetadata': {'RequestId': 'f6b76412-a5a9-11e8-abaa-5bd9fb10e857', 'HTTPStatusCode': 200, 'HTTPHeaders': {'date': 'Wed, 22 Aug 2018 01:23:24 GMT', 'content-type': 'application/x-amz-json-1.1', 'content-length': '168', 'connection': 'keep-alive', 'x-amzn-requestid': 'f6b76412-a5a9-11e8-abaa-5bd9fb10e857'}, 'RetryAttempts': 0}}\n",
      "{'Sentiment': 'POSITIVE', 'SentimentScore': {'Positive': 0.9966829419136047, 'Negative': 5.606038939731661e-06, 'Neutral': 0.003108167089521885, 'Mixed': 0.0002032496122410521}, 'ResponseMetadata': {'RequestId': 'f6c40e4e-a5a9-11e8-ac20-bdca8459aef1', 'HTTPStatusCode': 200, 'HTTPHeaders': {'date': 'Wed, 22 Aug 2018 01:23:24 GMT', 'content-type': 'application/x-amz-json-1.1', 'content-length': '165', 'connection': 'keep-alive', 'x-amzn-requestid': 'f6c40e4e-a5a9-11e8-ac20-bdca8459aef1'}, 'RetryAttempts': 0}}\n",
      "{'Sentiment': 'POSITIVE', 'SentimentScore': {'Positive': 0.9927506446838379, 'Negative': 1.0071129509015009e-05, 'Neutral': 0.001654151943512261, 'Mixed': 0.005585220642387867}, 'ResponseMetadata': {'RequestId': 'f6d3c651-a5a9-11e8-81c3-ef4e8be5100f', 'HTTPStatusCode': 200, 'HTTPHeaders': {'date': 'Wed, 22 Aug 2018 01:23:24 GMT', 'content-type': 'application/x-amz-json-1.1', 'content-length': '166', 'connection': 'keep-alive', 'x-amzn-requestid': 'f6d3c651-a5a9-11e8-81c3-ef4e8be5100f'}, 'RetryAttempts': 0}}\n"
     ]
    },
    {
     "name": "stdout",
     "output_type": "stream",
     "text": [
      "{'Sentiment': 'POSITIVE', 'SentimentScore': {'Positive': 0.9848912358283997, 'Negative': 0.0001356175635010004, 'Neutral': 0.01386156864464283, 'Mixed': 0.0011116201058030128}, 'ResponseMetadata': {'RequestId': 'f6e0702b-a5a9-11e8-88ee-89debf0a6076', 'HTTPStatusCode': 200, 'HTTPHeaders': {'date': 'Wed, 22 Aug 2018 01:23:24 GMT', 'content-type': 'application/x-amz-json-1.1', 'content-length': '165', 'connection': 'keep-alive', 'x-amzn-requestid': 'f6e0702b-a5a9-11e8-88ee-89debf0a6076'}, 'RetryAttempts': 0}}\n",
      "{'Sentiment': 'POSITIVE', 'SentimentScore': {'Positive': 0.9964562058448792, 'Negative': 0.00029835966415703297, 'Neutral': 0.0019237708766013384, 'Mixed': 0.0013216519728302956}, 'ResponseMetadata': {'RequestId': 'f6eccc02-a5a9-11e8-b2ca-f77ae9ee4acb', 'HTTPStatusCode': 200, 'HTTPHeaders': {'date': 'Wed, 22 Aug 2018 01:23:24 GMT', 'content-type': 'application/x-amz-json-1.1', 'content-length': '168', 'connection': 'keep-alive', 'x-amzn-requestid': 'f6eccc02-a5a9-11e8-b2ca-f77ae9ee4acb'}, 'RetryAttempts': 0}}\n",
      "{'Sentiment': 'POSITIVE', 'SentimentScore': {'Positive': 0.9719139933586121, 'Negative': 0.0012204612139612436, 'Neutral': 0.0031412295065820217, 'Mixed': 0.02372434176504612}, 'ResponseMetadata': {'RequestId': 'f6fc8387-a5a9-11e8-a54c-579d1aae2c6e', 'HTTPStatusCode': 200, 'HTTPHeaders': {'date': 'Wed, 22 Aug 2018 01:23:24 GMT', 'content-type': 'application/x-amz-json-1.1', 'content-length': '166', 'connection': 'keep-alive', 'x-amzn-requestid': 'f6fc8387-a5a9-11e8-a54c-579d1aae2c6e'}, 'RetryAttempts': 0}}\n",
      "{'Sentiment': 'NEGATIVE', 'SentimentScore': {'Positive': 0.007983081042766571, 'Negative': 0.9417067766189575, 'Neutral': 0.03331607207655907, 'Mixed': 0.016994157806038857}, 'ResponseMetadata': {'RequestId': 'f70b9e9d-a5a9-11e8-bd9d-a34b323210e2', 'HTTPStatusCode': 200, 'HTTPHeaders': {'date': 'Wed, 22 Aug 2018 01:23:24 GMT', 'content-type': 'application/x-amz-json-1.1', 'content-length': '164', 'connection': 'keep-alive', 'x-amzn-requestid': 'f70b9e9d-a5a9-11e8-bd9d-a34b323210e2'}, 'RetryAttempts': 0}}\n",
      "{'Sentiment': 'POSITIVE', 'SentimentScore': {'Positive': 0.9965517520904541, 'Negative': 0.00010905053204623982, 'Neutral': 0.0009373328066430986, 'Mixed': 0.0024018441326916218}, 'ResponseMetadata': {'RequestId': 'f71d2b6b-a5a9-11e8-9f0c-11ad878f42b4', 'HTTPStatusCode': 200, 'HTTPHeaders': {'date': 'Wed, 22 Aug 2018 01:23:24 GMT', 'content-type': 'application/x-amz-json-1.1', 'content-length': '167', 'connection': 'keep-alive', 'x-amzn-requestid': 'f71d2b6b-a5a9-11e8-9f0c-11ad878f42b4'}, 'RetryAttempts': 0}}\n",
      "{'Sentiment': 'POSITIVE', 'SentimentScore': {'Positive': 0.9990862607955933, 'Negative': 9.948688784788828e-06, 'Neutral': 0.00021506851771846414, 'Mixed': 0.000688670901581645}, 'ResponseMetadata': {'RequestId': 'f729fbe9-a5a9-11e8-a423-23f645849a04', 'HTTPStatusCode': 200, 'HTTPHeaders': {'date': 'Wed, 22 Aug 2018 01:23:24 GMT', 'content-type': 'application/x-amz-json-1.1', 'content-length': '165', 'connection': 'keep-alive', 'x-amzn-requestid': 'f729fbe9-a5a9-11e8-a423-23f645849a04'}, 'RetryAttempts': 0}}\n",
      "{'Sentiment': 'POSITIVE', 'SentimentScore': {'Positive': 0.8248589634895325, 'Negative': 0.035254884511232376, 'Neutral': 0.03794195502996445, 'Mixed': 0.10194417089223862}, 'ResponseMetadata': {'RequestId': 'f73917d0-a5a9-11e8-b50d-8301a8898004', 'HTTPStatusCode': 200, 'HTTPHeaders': {'date': 'Wed, 22 Aug 2018 01:23:25 GMT', 'content-type': 'application/x-amz-json-1.1', 'content-length': '163', 'connection': 'keep-alive', 'x-amzn-requestid': 'f73917d0-a5a9-11e8-b50d-8301a8898004'}, 'RetryAttempts': 0}}\n",
      "{'Sentiment': 'POSITIVE', 'SentimentScore': {'Positive': 0.9980972409248352, 'Negative': 8.086815068963915e-05, 'Neutral': 0.0001894588494906202, 'Mixed': 0.0016324400203302503}, 'ResponseMetadata': {'RequestId': 'f74dd857-a5a9-11e8-81c3-ef4e8be5100f', 'HTTPStatusCode': 200, 'HTTPHeaders': {'date': 'Wed, 22 Aug 2018 01:23:25 GMT', 'content-type': 'application/x-amz-json-1.1', 'content-length': '166', 'connection': 'keep-alive', 'x-amzn-requestid': 'f74dd857-a5a9-11e8-81c3-ef4e8be5100f'}, 'RetryAttempts': 0}}\n",
      "{'Sentiment': 'POSITIVE', 'SentimentScore': {'Positive': 0.9976041913032532, 'Negative': 0.00028890257817693055, 'Neutral': 0.0014174303505569696, 'Mixed': 0.0006894938996993005}, 'ResponseMetadata': {'RequestId': 'f7641f25-a5a9-11e8-ad19-e94911d6863f', 'HTTPStatusCode': 200, 'HTTPHeaders': {'date': 'Wed, 22 Aug 2018 01:23:25 GMT', 'content-type': 'application/x-amz-json-1.1', 'content-length': '167', 'connection': 'keep-alive', 'x-amzn-requestid': 'f7641f25-a5a9-11e8-ad19-e94911d6863f'}, 'RetryAttempts': 0}}\n",
      "{'Sentiment': 'POSITIVE', 'SentimentScore': {'Positive': 0.9914045333862305, 'Negative': 0.0008082853746600449, 'Neutral': 0.0011763809015974402, 'Mixed': 0.006610768847167492}, 'ResponseMetadata': {'RequestId': 'f77228e1-a5a9-11e8-88ee-89debf0a6076', 'HTTPStatusCode': 200, 'HTTPHeaders': {'date': 'Wed, 22 Aug 2018 01:23:25 GMT', 'content-type': 'application/x-amz-json-1.1', 'content-length': '166', 'connection': 'keep-alive', 'x-amzn-requestid': 'f77228e1-a5a9-11e8-88ee-89debf0a6076'}, 'RetryAttempts': 0}}\n",
      "{'Sentiment': 'POSITIVE', 'SentimentScore': {'Positive': 0.9988803267478943, 'Negative': 4.421794983500149e-06, 'Neutral': 0.0009716350468806922, 'Mixed': 0.00014361218200065196}, 'ResponseMetadata': {'RequestId': 'f780f655-a5a9-11e8-9c69-7db1af1277f0', 'HTTPStatusCode': 200, 'HTTPHeaders': {'date': 'Wed, 22 Aug 2018 01:23:25 GMT', 'content-type': 'application/x-amz-json-1.1', 'content-length': '166', 'connection': 'keep-alive', 'x-amzn-requestid': 'f780f655-a5a9-11e8-9c69-7db1af1277f0'}, 'RetryAttempts': 0}}\n",
      "{'Sentiment': 'POSITIVE', 'SentimentScore': {'Positive': 0.9836492538452148, 'Negative': 0.0012193991569802165, 'Neutral': 0.009069932624697685, 'Mixed': 0.0060613988898694515}, 'ResponseMetadata': {'RequestId': 'f7905f03-a5a9-11e8-bd9d-a34b323210e2', 'HTTPStatusCode': 200, 'HTTPHeaders': {'date': 'Wed, 22 Aug 2018 01:23:25 GMT', 'content-type': 'application/x-amz-json-1.1', 'content-length': '167', 'connection': 'keep-alive', 'x-amzn-requestid': 'f7905f03-a5a9-11e8-bd9d-a34b323210e2'}, 'RetryAttempts': 0}}\n",
      "{'Sentiment': 'POSITIVE', 'SentimentScore': {'Positive': 0.9998562335968018, 'Negative': 4.803120532415051e-07, 'Neutral': 5.2498289733193815e-06, 'Mixed': 0.0001379680325044319}, 'ResponseMetadata': {'RequestId': 'f7a03d5f-a5a9-11e8-a2f4-85bf7e6bcf79', 'HTTPStatusCode': 200, 'HTTPHeaders': {'date': 'Wed, 22 Aug 2018 01:23:25 GMT', 'content-type': 'application/x-amz-json-1.1', 'content-length': '166', 'connection': 'keep-alive', 'x-amzn-requestid': 'f7a03d5f-a5a9-11e8-a2f4-85bf7e6bcf79'}, 'RetryAttempts': 0}}\n",
      "{'Sentiment': 'POSITIVE', 'SentimentScore': {'Positive': 0.5934692025184631, 'Negative': 0.0777311772108078, 'Neutral': 0.012004630640149117, 'Mixed': 0.3167949616909027}, 'ResponseMetadata': {'RequestId': 'f7b1551d-a5a9-11e8-a9e9-659915761180', 'HTTPStatusCode': 200, 'HTTPHeaders': {'date': 'Wed, 22 Aug 2018 01:23:25 GMT', 'content-type': 'application/x-amz-json-1.1', 'content-length': '161', 'connection': 'keep-alive', 'x-amzn-requestid': 'f7b1551d-a5a9-11e8-a9e9-659915761180'}, 'RetryAttempts': 0}}\n",
      "{'Sentiment': 'MIXED', 'SentimentScore': {'Positive': 0.22104081511497498, 'Negative': 0.09516303241252899, 'Neutral': 0.007324368692934513, 'Mixed': 0.6764718294143677}, 'ResponseMetadata': {'RequestId': 'f7c77557-a5a9-11e8-85fc-133ac8d50853', 'HTTPStatusCode': 200, 'HTTPHeaders': {'date': 'Wed, 22 Aug 2018 01:23:26 GMT', 'content-type': 'application/x-amz-json-1.1', 'content-length': '160', 'connection': 'keep-alive', 'x-amzn-requestid': 'f7c77557-a5a9-11e8-85fc-133ac8d50853'}, 'RetryAttempts': 0}}\n",
      "{'Sentiment': 'NEUTRAL', 'SentimentScore': {'Positive': 0.10232317447662354, 'Negative': 0.010706806555390358, 'Neutral': 0.8810757994651794, 'Mixed': 0.005894246976822615}, 'ResponseMetadata': {'RequestId': 'f7d6b6fc-a5a9-11e8-8f7d-cd5b090a526d', 'HTTPStatusCode': 200, 'HTTPHeaders': {'date': 'Wed, 22 Aug 2018 01:23:26 GMT', 'content-type': 'application/x-amz-json-1.1', 'content-length': '163', 'connection': 'keep-alive', 'x-amzn-requestid': 'f7d6b6fc-a5a9-11e8-8f7d-cd5b090a526d'}, 'RetryAttempts': 0}}\n"
     ]
    },
    {
     "name": "stdout",
     "output_type": "stream",
     "text": [
      "{'Sentiment': 'POSITIVE', 'SentimentScore': {'Positive': 0.990281343460083, 'Negative': 0.0009849902708083391, 'Neutral': 0.0008887348813004792, 'Mixed': 0.007844946347177029}, 'ResponseMetadata': {'RequestId': 'f7e70a95-a5a9-11e8-b847-61cf5ece24ed', 'HTTPStatusCode': 200, 'HTTPHeaders': {'date': 'Wed, 22 Aug 2018 01:23:26 GMT', 'content-type': 'application/x-amz-json-1.1', 'content-length': '164', 'connection': 'keep-alive', 'x-amzn-requestid': 'f7e70a95-a5a9-11e8-b847-61cf5ece24ed'}, 'RetryAttempts': 0}}\n",
      "{'Sentiment': 'POSITIVE', 'SentimentScore': {'Positive': 0.9999425411224365, 'Negative': 2.4982972490761313e-07, 'Neutral': 9.679668437456712e-06, 'Mixed': 4.757376154884696e-05}, 'ResponseMetadata': {'RequestId': 'f7f70fec-a5a9-11e8-bd5f-2d12aafa381c', 'HTTPStatusCode': 200, 'HTTPHeaders': {'date': 'Wed, 22 Aug 2018 01:23:26 GMT', 'content-type': 'application/x-amz-json-1.1', 'content-length': '166', 'connection': 'keep-alive', 'x-amzn-requestid': 'f7f70fec-a5a9-11e8-bd5f-2d12aafa381c'}, 'RetryAttempts': 0}}\n",
      "{'Sentiment': 'POSITIVE', 'SentimentScore': {'Positive': 0.988895058631897, 'Negative': 4.913298107567243e-05, 'Neutral': 0.0005642339820042253, 'Mixed': 0.010491574183106422}, 'ResponseMetadata': {'RequestId': 'f803e133-a5a9-11e8-a423-23f645849a04', 'HTTPStatusCode': 200, 'HTTPHeaders': {'date': 'Wed, 22 Aug 2018 01:23:26 GMT', 'content-type': 'application/x-amz-json-1.1', 'content-length': '164', 'connection': 'keep-alive', 'x-amzn-requestid': 'f803e133-a5a9-11e8-a423-23f645849a04'}, 'RetryAttempts': 0}}\n",
      "{'Sentiment': 'NEUTRAL', 'SentimentScore': {'Positive': 0.07175925374031067, 'Negative': 0.00039454075158573687, 'Neutral': 0.9263348579406738, 'Mixed': 0.0015113248955458403}, 'ResponseMetadata': {'RequestId': 'f810b330-a5a9-11e8-81c3-ef4e8be5100f', 'HTTPStatusCode': 200, 'HTTPHeaders': {'date': 'Wed, 22 Aug 2018 01:23:26 GMT', 'content-type': 'application/x-amz-json-1.1', 'content-length': '165', 'connection': 'keep-alive', 'x-amzn-requestid': 'f810b330-a5a9-11e8-81c3-ef4e8be5100f'}, 'RetryAttempts': 0}}\n",
      "{'Sentiment': 'POSITIVE', 'SentimentScore': {'Positive': 0.6486976146697998, 'Negative': 0.0032619619742035866, 'Neutral': 0.33079347014427185, 'Mixed': 0.017246931791305542}, 'ResponseMetadata': {'RequestId': 'f81df927-a5a9-11e8-805e-4377d030c79f', 'HTTPStatusCode': 200, 'HTTPHeaders': {'date': 'Wed, 22 Aug 2018 01:23:26 GMT', 'content-type': 'application/x-amz-json-1.1', 'content-length': '165', 'connection': 'keep-alive', 'x-amzn-requestid': 'f81df927-a5a9-11e8-805e-4377d030c79f'}, 'RetryAttempts': 0}}\n",
      "{'Sentiment': 'POSITIVE', 'SentimentScore': {'Positive': 0.9917691946029663, 'Negative': 0.00010323266178602353, 'Neutral': 0.006375416647642851, 'Mixed': 0.0017521565314382315}, 'ResponseMetadata': {'RequestId': 'f82b66ef-a5a9-11e8-bc99-03ea29243f9b', 'HTTPStatusCode': 200, 'HTTPHeaders': {'date': 'Wed, 22 Aug 2018 01:23:26 GMT', 'content-type': 'application/x-amz-json-1.1', 'content-length': '167', 'connection': 'keep-alive', 'x-amzn-requestid': 'f82b66ef-a5a9-11e8-bc99-03ea29243f9b'}, 'RetryAttempts': 0}}\n",
      "{'Sentiment': 'POSITIVE', 'SentimentScore': {'Positive': 0.98360276222229, 'Negative': 0.00019859620078932494, 'Neutral': 0.006603797432035208, 'Mixed': 0.00959481205791235}, 'ResponseMetadata': {'RequestId': 'f8392201-a5a9-11e8-bf20-e9c06e0a11d1', 'HTTPStatusCode': 200, 'HTTPHeaders': {'date': 'Wed, 22 Aug 2018 01:23:26 GMT', 'content-type': 'application/x-amz-json-1.1', 'content-length': '163', 'connection': 'keep-alive', 'x-amzn-requestid': 'f8392201-a5a9-11e8-bf20-e9c06e0a11d1'}, 'RetryAttempts': 0}}\n",
      "{'Sentiment': 'POSITIVE', 'SentimentScore': {'Positive': 0.7397978901863098, 'Negative': 2.0937281078658998e-05, 'Neutral': 0.2598147392272949, 'Mixed': 0.000366526423022151}, 'ResponseMetadata': {'RequestId': 'f8477a18-a5a9-11e8-845a-674cd09bb0ce', 'HTTPStatusCode': 200, 'HTTPHeaders': {'date': 'Wed, 22 Aug 2018 01:23:26 GMT', 'content-type': 'application/x-amz-json-1.1', 'content-length': '163', 'connection': 'keep-alive', 'x-amzn-requestid': 'f8477a18-a5a9-11e8-845a-674cd09bb0ce'}, 'RetryAttempts': 0}}\n",
      "{'Sentiment': 'POSITIVE', 'SentimentScore': {'Positive': 0.9957310557365417, 'Negative': 9.125100405071862e-06, 'Neutral': 9.866111213341355e-05, 'Mixed': 0.004161101765930653}, 'ResponseMetadata': {'RequestId': 'f8555d18-a5a9-11e8-b93a-f1e2833c09ce', 'HTTPStatusCode': 200, 'HTTPHeaders': {'date': 'Wed, 22 Aug 2018 01:23:26 GMT', 'content-type': 'application/x-amz-json-1.1', 'content-length': '165', 'connection': 'keep-alive', 'x-amzn-requestid': 'f8555d18-a5a9-11e8-b93a-f1e2833c09ce'}, 'RetryAttempts': 0}}\n",
      "{'Sentiment': 'POSITIVE', 'SentimentScore': {'Positive': 0.9999203681945801, 'Negative': 1.511406139798055e-06, 'Neutral': 1.6431769836344756e-05, 'Mixed': 6.157058669487014e-05}, 'ResponseMetadata': {'RequestId': 'f861b8c8-a5a9-11e8-ae3e-c1f1bbbc4558', 'HTTPStatusCode': 200, 'HTTPHeaders': {'date': 'Wed, 22 Aug 2018 01:23:27 GMT', 'content-type': 'application/x-amz-json-1.1', 'content-length': '166', 'connection': 'keep-alive', 'x-amzn-requestid': 'f861b8c8-a5a9-11e8-ae3e-c1f1bbbc4558'}, 'RetryAttempts': 0}}\n",
      "{'Sentiment': 'POSITIVE', 'SentimentScore': {'Positive': 0.9979351758956909, 'Negative': 0.00017005779955070466, 'Neutral': 0.0009920619195327163, 'Mixed': 0.0009028536733239889}, 'ResponseMetadata': {'RequestId': 'f86f4d36-a5a9-11e8-a423-23f645849a04', 'HTTPStatusCode': 200, 'HTTPHeaders': {'date': 'Wed, 22 Aug 2018 01:23:27 GMT', 'content-type': 'application/x-amz-json-1.1', 'content-length': '166', 'connection': 'keep-alive', 'x-amzn-requestid': 'f86f4d36-a5a9-11e8-a423-23f645849a04'}, 'RetryAttempts': 0}}\n",
      "{'Sentiment': 'POSITIVE', 'SentimentScore': {'Positive': 0.8022304773330688, 'Negative': 0.0002422812394797802, 'Neutral': 0.0007203237619251013, 'Mixed': 0.19680701196193695}, 'ResponseMetadata': {'RequestId': 'f87ce1b3-a5a9-11e8-b231-75341f50b1cb', 'HTTPStatusCode': 200, 'HTTPHeaders': {'date': 'Wed, 22 Aug 2018 01:23:27 GMT', 'content-type': 'application/x-amz-json-1.1', 'content-length': '164', 'connection': 'keep-alive', 'x-amzn-requestid': 'f87ce1b3-a5a9-11e8-b231-75341f50b1cb'}, 'RetryAttempts': 0}}\n",
      "{'Sentiment': 'POSITIVE', 'SentimentScore': {'Positive': 0.9986165761947632, 'Negative': 3.9544196624774486e-05, 'Neutral': 0.0008544772863388062, 'Mixed': 0.0004894156591035426}, 'ResponseMetadata': {'RequestId': 'f889daea-a5a9-11e8-bd73-35d8d2ee0e50', 'HTTPStatusCode': 200, 'HTTPHeaders': {'date': 'Wed, 22 Aug 2018 01:23:27 GMT', 'content-type': 'application/x-amz-json-1.1', 'content-length': '166', 'connection': 'keep-alive', 'x-amzn-requestid': 'f889daea-a5a9-11e8-bd73-35d8d2ee0e50'}, 'RetryAttempts': 0}}\n",
      "{'Sentiment': 'POSITIVE', 'SentimentScore': {'Positive': 0.9987634420394897, 'Negative': 3.818253389908932e-05, 'Neutral': 0.0005432935431599617, 'Mixed': 0.0006551261758431792}, 'ResponseMetadata': {'RequestId': 'f898f5b1-a5a9-11e8-ad19-e94911d6863f', 'HTTPStatusCode': 200, 'HTTPHeaders': {'date': 'Wed, 22 Aug 2018 01:23:27 GMT', 'content-type': 'application/x-amz-json-1.1', 'content-length': '165', 'connection': 'keep-alive', 'x-amzn-requestid': 'f898f5b1-a5a9-11e8-ad19-e94911d6863f'}, 'RetryAttempts': 0}}\n",
      "{'Sentiment': 'POSITIVE', 'SentimentScore': {'Positive': 0.9995181560516357, 'Negative': 1.0653129720594734e-05, 'Neutral': 7.424543582601473e-05, 'Mixed': 0.0003969997924286872}, 'ResponseMetadata': {'RequestId': 'f8a5c751-a5a9-11e8-9c69-7db1af1277f0', 'HTTPStatusCode': 200, 'HTTPHeaders': {'date': 'Wed, 22 Aug 2018 01:23:27 GMT', 'content-type': 'application/x-amz-json-1.1', 'content-length': '166', 'connection': 'keep-alive', 'x-amzn-requestid': 'f8a5c751-a5a9-11e8-9c69-7db1af1277f0'}, 'RetryAttempts': 0}}\n",
      "{'Sentiment': 'POSITIVE', 'SentimentScore': {'Positive': 0.9942165613174438, 'Negative': 4.276517756807152e-06, 'Neutral': 0.005678416229784489, 'Mixed': 0.0001007561368169263}, 'ResponseMetadata': {'RequestId': 'f8b5cc4c-a5a9-11e8-845a-674cd09bb0ce', 'HTTPStatusCode': 200, 'HTTPHeaders': {'date': 'Wed, 22 Aug 2018 01:23:27 GMT', 'content-type': 'application/x-amz-json-1.1', 'content-length': '165', 'connection': 'keep-alive', 'x-amzn-requestid': 'f8b5cc4c-a5a9-11e8-845a-674cd09bb0ce'}, 'RetryAttempts': 0}}\n",
      "{'Sentiment': 'POSITIVE', 'SentimentScore': {'Positive': 0.9580520391464233, 'Negative': 0.009907628409564495, 'Neutral': 0.010313707403838634, 'Mixed': 0.0217265747487545}, 'ResponseMetadata': {'RequestId': 'f8c3aefe-a5a9-11e8-b847-61cf5ece24ed', 'HTTPStatusCode': 200, 'HTTPHeaders': {'date': 'Wed, 22 Aug 2018 01:23:27 GMT', 'content-type': 'application/x-amz-json-1.1', 'content-length': '163', 'connection': 'keep-alive', 'x-amzn-requestid': 'f8c3aefe-a5a9-11e8-b847-61cf5ece24ed'}, 'RetryAttempts': 0}}\n",
      "{'Sentiment': 'POSITIVE', 'SentimentScore': {'Positive': 0.8467654585838318, 'Negative': 0.00028314293012954295, 'Neutral': 0.1422516405582428, 'Mixed': 0.010699800215661526}, 'ResponseMetadata': {'RequestId': 'f8d2ca7d-a5a9-11e8-b93a-f1e2833c09ce', 'HTTPStatusCode': 200, 'HTTPHeaders': {'date': 'Wed, 22 Aug 2018 01:23:27 GMT', 'content-type': 'application/x-amz-json-1.1', 'content-length': '164', 'connection': 'keep-alive', 'x-amzn-requestid': 'f8d2ca7d-a5a9-11e8-b93a-f1e2833c09ce'}, 'RetryAttempts': 0}}\n"
     ]
    },
    {
     "name": "stdout",
     "output_type": "stream",
     "text": [
      "{'Sentiment': 'POSITIVE', 'SentimentScore': {'Positive': 0.954009473323822, 'Negative': 0.032909683883190155, 'Neutral': 0.004075936041772366, 'Mixed': 0.00900492537766695}, 'ResponseMetadata': {'RequestId': 'f8e1be3d-a5a9-11e8-ae3e-c1f1bbbc4558', 'HTTPStatusCode': 200, 'HTTPHeaders': {'date': 'Wed, 22 Aug 2018 01:23:27 GMT', 'content-type': 'application/x-amz-json-1.1', 'content-length': '163', 'connection': 'keep-alive', 'x-amzn-requestid': 'f8e1be3d-a5a9-11e8-ae3e-c1f1bbbc4558'}, 'RetryAttempts': 0}}\n",
      "{'Sentiment': 'POSITIVE', 'SentimentScore': {'Positive': 0.9644602537155151, 'Negative': 0.0009577649179846048, 'Neutral': 0.02348140813410282, 'Mixed': 0.011100572533905506}, 'ResponseMetadata': {'RequestId': 'f8eeb66c-a5a9-11e8-a423-23f645849a04', 'HTTPStatusCode': 200, 'HTTPHeaders': {'date': 'Wed, 22 Aug 2018 01:23:27 GMT', 'content-type': 'application/x-amz-json-1.1', 'content-length': '164', 'connection': 'keep-alive', 'x-amzn-requestid': 'f8eeb66c-a5a9-11e8-a423-23f645849a04'}, 'RetryAttempts': 0}}\n",
      "{'Sentiment': 'POSITIVE', 'SentimentScore': {'Positive': 0.9983015060424805, 'Negative': 4.448750041774474e-05, 'Neutral': 9.167168900603428e-05, 'Mixed': 0.001562317367643118}, 'ResponseMetadata': {'RequestId': 'f8fb6113-a5a9-11e8-8c25-8dfaf9f702af', 'HTTPStatusCode': 200, 'HTTPHeaders': {'date': 'Wed, 22 Aug 2018 01:23:28 GMT', 'content-type': 'application/x-amz-json-1.1', 'content-length': '165', 'connection': 'keep-alive', 'x-amzn-requestid': 'f8fb6113-a5a9-11e8-8c25-8dfaf9f702af'}, 'RetryAttempts': 0}}\n",
      "{'Sentiment': 'POSITIVE', 'SentimentScore': {'Positive': 0.999816358089447, 'Negative': 4.820936396754405e-07, 'Neutral': 4.571330009639496e-06, 'Mixed': 0.00017860386287793517}, 'ResponseMetadata': {'RequestId': 'f907e472-a5a9-11e8-b50d-8301a8898004', 'HTTPStatusCode': 200, 'HTTPHeaders': {'date': 'Wed, 22 Aug 2018 01:23:28 GMT', 'content-type': 'application/x-amz-json-1.1', 'content-length': '165', 'connection': 'keep-alive', 'x-amzn-requestid': 'f907e472-a5a9-11e8-b50d-8301a8898004'}, 'RetryAttempts': 0}}\n",
      "{'Sentiment': 'POSITIVE', 'SentimentScore': {'Positive': 0.9909452199935913, 'Negative': 1.501102542533772e-05, 'Neutral': 0.00874453503638506, 'Mixed': 0.00029523615376092494}, 'ResponseMetadata': {'RequestId': 'f914b541-a5a9-11e8-805e-4377d030c79f', 'HTTPStatusCode': 200, 'HTTPHeaders': {'date': 'Wed, 22 Aug 2018 01:23:28 GMT', 'content-type': 'application/x-amz-json-1.1', 'content-length': '165', 'connection': 'keep-alive', 'x-amzn-requestid': 'f914b541-a5a9-11e8-805e-4377d030c79f'}, 'RetryAttempts': 0}}\n",
      "{'Sentiment': 'POSITIVE', 'SentimentScore': {'Positive': 0.9713689088821411, 'Negative': 0.013436201959848404, 'Neutral': 0.006996186915785074, 'Mixed': 0.008198747411370277}, 'ResponseMetadata': {'RequestId': 'f9238239-a5a9-11e8-b2ca-f77ae9ee4acb', 'HTTPStatusCode': 200, 'HTTPHeaders': {'date': 'Wed, 22 Aug 2018 01:23:28 GMT', 'content-type': 'application/x-amz-json-1.1', 'content-length': '165', 'connection': 'keep-alive', 'x-amzn-requestid': 'f9238239-a5a9-11e8-b2ca-f77ae9ee4acb'}, 'RetryAttempts': 0}}\n",
      "{'Sentiment': 'POSITIVE', 'SentimentScore': {'Positive': 0.9951026439666748, 'Negative': 2.101876998494845e-05, 'Neutral': 0.004267930518835783, 'Mixed': 0.0006084793712943792}, 'ResponseMetadata': {'RequestId': 'f93646f3-a5a9-11e8-b847-61cf5ece24ed', 'HTTPStatusCode': 200, 'HTTPHeaders': {'date': 'Wed, 22 Aug 2018 01:23:28 GMT', 'content-type': 'application/x-amz-json-1.1', 'content-length': '165', 'connection': 'keep-alive', 'x-amzn-requestid': 'f93646f3-a5a9-11e8-b847-61cf5ece24ed'}, 'RetryAttempts': 0}}\n",
      "{'Sentiment': 'NEUTRAL', 'SentimentScore': {'Positive': 0.004114842042326927, 'Negative': 0.02407717891037464, 'Neutral': 0.9600985646247864, 'Mixed': 0.01170941349118948}, 'ResponseMetadata': {'RequestId': 'f94318dc-a5a9-11e8-94da-d5c7ea9d7817', 'HTTPStatusCode': 200, 'HTTPHeaders': {'date': 'Wed, 22 Aug 2018 01:23:28 GMT', 'content-type': 'application/x-amz-json-1.1', 'content-length': '162', 'connection': 'keep-alive', 'x-amzn-requestid': 'f94318dc-a5a9-11e8-94da-d5c7ea9d7817'}, 'RetryAttempts': 0}}\n",
      "{'Sentiment': 'POSITIVE', 'SentimentScore': {'Positive': 0.9907806515693665, 'Negative': 0.00036227700184099376, 'Neutral': 0.002173962537199259, 'Mixed': 0.006683175452053547}, 'ResponseMetadata': {'RequestId': 'f9505f14-a5a9-11e8-b9eb-0d7d73fb2391', 'HTTPStatusCode': 200, 'HTTPHeaders': {'date': 'Wed, 22 Aug 2018 01:23:28 GMT', 'content-type': 'application/x-amz-json-1.1', 'content-length': '166', 'connection': 'keep-alive', 'x-amzn-requestid': 'f9505f14-a5a9-11e8-b9eb-0d7d73fb2391'}, 'RetryAttempts': 0}}\n",
      "{'Sentiment': 'POSITIVE', 'SentimentScore': {'Positive': 0.9996289014816284, 'Negative': 6.671145001746481e-06, 'Neutral': 0.0001288968196604401, 'Mixed': 0.0002354559110244736}, 'ResponseMetadata': {'RequestId': 'f962adf0-a5a9-11e8-a423-23f645849a04', 'HTTPStatusCode': 200, 'HTTPHeaders': {'date': 'Wed, 22 Aug 2018 01:23:28 GMT', 'content-type': 'application/x-amz-json-1.1', 'content-length': '165', 'connection': 'keep-alive', 'x-amzn-requestid': 'f962adf0-a5a9-11e8-a423-23f645849a04'}, 'RetryAttempts': 0}}\n",
      "{'Sentiment': 'POSITIVE', 'SentimentScore': {'Positive': 0.9939741492271423, 'Negative': 0.00035119164385832846, 'Neutral': 0.0013430825201794505, 'Mixed': 0.004331510979682207}, 'ResponseMetadata': {'RequestId': 'f9717bb7-a5a9-11e8-b50d-8301a8898004', 'HTTPStatusCode': 200, 'HTTPHeaders': {'date': 'Wed, 22 Aug 2018 01:23:28 GMT', 'content-type': 'application/x-amz-json-1.1', 'content-length': '167', 'connection': 'keep-alive', 'x-amzn-requestid': 'f9717bb7-a5a9-11e8-b50d-8301a8898004'}, 'RetryAttempts': 0}}\n",
      "{'Sentiment': 'POSITIVE', 'SentimentScore': {'Positive': 0.9854147434234619, 'Negative': 0.0005615368136204779, 'Neutral': 0.005982764530926943, 'Mixed': 0.008040925487875938}, 'ResponseMetadata': {'RequestId': 'f980bda7-a5a9-11e8-88ee-89debf0a6076', 'HTTPStatusCode': 200, 'HTTPHeaders': {'date': 'Wed, 22 Aug 2018 01:23:28 GMT', 'content-type': 'application/x-amz-json-1.1', 'content-length': '165', 'connection': 'keep-alive', 'x-amzn-requestid': 'f980bda7-a5a9-11e8-88ee-89debf0a6076'}, 'RetryAttempts': 0}}\n",
      "{'Sentiment': 'POSITIVE', 'SentimentScore': {'Positive': 0.9717227816581726, 'Negative': 0.0022903510835021734, 'Neutral': 0.0007227651076391339, 'Mixed': 0.025264156982302666}, 'ResponseMetadata': {'RequestId': 'f99382ba-a5a9-11e8-9c69-7db1af1277f0', 'HTTPStatusCode': 200, 'HTTPHeaders': {'date': 'Wed, 22 Aug 2018 01:23:29 GMT', 'content-type': 'application/x-amz-json-1.1', 'content-length': '166', 'connection': 'keep-alive', 'x-amzn-requestid': 'f99382ba-a5a9-11e8-9c69-7db1af1277f0'}, 'RetryAttempts': 0}}\n",
      "{'Sentiment': 'POSITIVE', 'SentimentScore': {'Positive': 0.9183779954910278, 'Negative': 0.0034945434890687466, 'Neutral': 0.006550622638314962, 'Mixed': 0.07157686352729797}, 'ResponseMetadata': {'RequestId': 'f9a0a170-a5a9-11e8-abaa-5bd9fb10e857', 'HTTPStatusCode': 200, 'HTTPHeaders': {'date': 'Wed, 22 Aug 2018 01:23:29 GMT', 'content-type': 'application/x-amz-json-1.1', 'content-length': '165', 'connection': 'keep-alive', 'x-amzn-requestid': 'f9a0a170-a5a9-11e8-abaa-5bd9fb10e857'}, 'RetryAttempts': 0}}\n",
      "{'Sentiment': 'POSITIVE', 'SentimentScore': {'Positive': 0.9998577833175659, 'Negative': 3.3029950827767607e-06, 'Neutral': 2.0644449250539765e-05, 'Mixed': 0.00011828734568553045}, 'ResponseMetadata': {'RequestId': 'f9adc157-a5a9-11e8-b9eb-0d7d73fb2391', 'HTTPStatusCode': 200, 'HTTPHeaders': {'date': 'Wed, 22 Aug 2018 01:23:29 GMT', 'content-type': 'application/x-amz-json-1.1', 'content-length': '168', 'connection': 'keep-alive', 'x-amzn-requestid': 'f9adc157-a5a9-11e8-b9eb-0d7d73fb2391'}, 'RetryAttempts': 0}}\n",
      "{'Sentiment': 'POSITIVE', 'SentimentScore': {'Positive': 0.9908933639526367, 'Negative': 0.00039146997733041644, 'Neutral': 0.0010481496574357152, 'Mixed': 0.007666997145861387}, 'ResponseMetadata': {'RequestId': 'f9bae0d6-a5a9-11e8-9f0c-11ad878f42b4', 'HTTPStatusCode': 200, 'HTTPHeaders': {'date': 'Wed, 22 Aug 2018 01:23:29 GMT', 'content-type': 'application/x-amz-json-1.1', 'content-length': '167', 'connection': 'keep-alive', 'x-amzn-requestid': 'f9bae0d6-a5a9-11e8-9f0c-11ad878f42b4'}, 'RetryAttempts': 0}}\n",
      "{'Sentiment': 'POSITIVE', 'SentimentScore': {'Positive': 0.9895667433738708, 'Negative': 0.00031617909553460777, 'Neutral': 0.005166801158338785, 'Mixed': 0.004950309172272682}, 'ResponseMetadata': {'RequestId': 'f9c9ad25-a5a9-11e8-a2f4-85bf7e6bcf79', 'HTTPStatusCode': 200, 'HTTPHeaders': {'date': 'Wed, 22 Aug 2018 01:23:29 GMT', 'content-type': 'application/x-amz-json-1.1', 'content-length': '166', 'connection': 'keep-alive', 'x-amzn-requestid': 'f9c9ad25-a5a9-11e8-a2f4-85bf7e6bcf79'}, 'RetryAttempts': 0}}\n"
     ]
    },
    {
     "name": "stdout",
     "output_type": "stream",
     "text": [
      "{'Sentiment': 'POSITIVE', 'SentimentScore': {'Positive': 0.9236615300178528, 'Negative': 0.0023946647997945547, 'Neutral': 0.05226349085569382, 'Mixed': 0.021680325269699097}, 'ResponseMetadata': {'RequestId': 'f9d8a216-a5a9-11e8-bd73-35d8d2ee0e50', 'HTTPStatusCode': 200, 'HTTPHeaders': {'date': 'Wed, 22 Aug 2018 01:23:29 GMT', 'content-type': 'application/x-amz-json-1.1', 'content-length': '165', 'connection': 'keep-alive', 'x-amzn-requestid': 'f9d8a216-a5a9-11e8-bd73-35d8d2ee0e50'}, 'RetryAttempts': 0}}\n",
      "{'Sentiment': 'POSITIVE', 'SentimentScore': {'Positive': 0.9258909225463867, 'Negative': 0.00030466626049019396, 'Neutral': 0.0002949982590507716, 'Mixed': 0.07350935786962509}, 'ResponseMetadata': {'RequestId': 'f9e6d211-a5a9-11e8-bf20-e9c06e0a11d1', 'HTTPStatusCode': 200, 'HTTPHeaders': {'date': 'Wed, 22 Aug 2018 01:23:29 GMT', 'content-type': 'application/x-amz-json-1.1', 'content-length': '165', 'connection': 'keep-alive', 'x-amzn-requestid': 'f9e6d211-a5a9-11e8-bf20-e9c06e0a11d1'}, 'RetryAttempts': 0}}\n",
      "{'Sentiment': 'NEUTRAL', 'SentimentScore': {'Positive': 0.409553587436676, 'Negative': 0.0020580636337399483, 'Neutral': 0.4796220660209656, 'Mixed': 0.10876623541116714}, 'ResponseMetadata': {'RequestId': 'f9f3ca90-a5a9-11e8-b2ca-f77ae9ee4acb', 'HTTPStatusCode': 200, 'HTTPHeaders': {'date': 'Wed, 22 Aug 2018 01:23:29 GMT', 'content-type': 'application/x-amz-json-1.1', 'content-length': '161', 'connection': 'keep-alive', 'x-amzn-requestid': 'f9f3ca90-a5a9-11e8-b2ca-f77ae9ee4acb'}, 'RetryAttempts': 0}}\n",
      "{'Sentiment': 'POSITIVE', 'SentimentScore': {'Positive': 0.9964752793312073, 'Negative': 0.00010802409815369174, 'Neutral': 0.0013827808434143662, 'Mixed': 0.0020338816102594137}, 'ResponseMetadata': {'RequestId': 'fa01ad11-a5a9-11e8-adac-f7604fed725b', 'HTTPStatusCode': 200, 'HTTPHeaders': {'date': 'Wed, 22 Aug 2018 01:23:29 GMT', 'content-type': 'application/x-amz-json-1.1', 'content-length': '168', 'connection': 'keep-alive', 'x-amzn-requestid': 'fa01ad11-a5a9-11e8-adac-f7604fed725b'}, 'RetryAttempts': 0}}\n",
      "{'Sentiment': 'POSITIVE', 'SentimentScore': {'Positive': 0.9334271550178528, 'Negative': 3.3669679396552965e-05, 'Neutral': 0.06522881239652634, 'Mixed': 0.0013103499077260494}, 'ResponseMetadata': {'RequestId': 'fa0e577a-a5a9-11e8-b847-61cf5ece24ed', 'HTTPStatusCode': 200, 'HTTPHeaders': {'date': 'Wed, 22 Aug 2018 01:23:29 GMT', 'content-type': 'application/x-amz-json-1.1', 'content-length': '166', 'connection': 'keep-alive', 'x-amzn-requestid': 'fa0e577a-a5a9-11e8-b847-61cf5ece24ed'}, 'RetryAttempts': 0}}\n",
      "{'Sentiment': 'POSITIVE', 'SentimentScore': {'Positive': 0.999606192111969, 'Negative': 4.236004315316677e-06, 'Neutral': 0.00029329804237931967, 'Mixed': 9.629431588109583e-05}, 'ResponseMetadata': {'RequestId': 'fa1f957a-a5a9-11e8-ae3e-c1f1bbbc4558', 'HTTPStatusCode': 200, 'HTTPHeaders': {'date': 'Wed, 22 Aug 2018 01:23:29 GMT', 'content-type': 'application/x-amz-json-1.1', 'content-length': '165', 'connection': 'keep-alive', 'x-amzn-requestid': 'fa1f957a-a5a9-11e8-ae3e-c1f1bbbc4558'}, 'RetryAttempts': 0}}\n",
      "{'Sentiment': 'POSITIVE', 'SentimentScore': {'Positive': 0.9993487000465393, 'Negative': 4.262472066329792e-05, 'Neutral': 0.0001355984713882208, 'Mixed': 0.0004730683867819607}, 'ResponseMetadata': {'RequestId': 'fa2c8e6b-a5a9-11e8-9f0c-11ad878f42b4', 'HTTPStatusCode': 200, 'HTTPHeaders': {'date': 'Wed, 22 Aug 2018 01:23:30 GMT', 'content-type': 'application/x-amz-json-1.1', 'content-length': '165', 'connection': 'keep-alive', 'x-amzn-requestid': 'fa2c8e6b-a5a9-11e8-9f0c-11ad878f42b4'}, 'RetryAttempts': 0}}\n",
      "{'Sentiment': 'NEUTRAL', 'SentimentScore': {'Positive': 0.19314391911029816, 'Negative': 0.0012415326200425625, 'Neutral': 0.8044529557228088, 'Mixed': 0.0011616575066000223}, 'ResponseMetadata': {'RequestId': 'fa3bf723-a5a9-11e8-ac20-bdca8459aef1', 'HTTPStatusCode': 200, 'HTTPHeaders': {'date': 'Wed, 22 Aug 2018 01:23:30 GMT', 'content-type': 'application/x-amz-json-1.1', 'content-length': '165', 'connection': 'keep-alive', 'x-amzn-requestid': 'fa3bf723-a5a9-11e8-ac20-bdca8459aef1'}, 'RetryAttempts': 0}}\n",
      "{'Sentiment': 'POSITIVE', 'SentimentScore': {'Positive': 0.9845240712165833, 'Negative': 0.0007386814686469734, 'Neutral': 0.01366644911468029, 'Mixed': 0.0010707498295232654}, 'ResponseMetadata': {'RequestId': 'fa498b8a-a5a9-11e8-a2f4-85bf7e6bcf79', 'HTTPStatusCode': 200, 'HTTPHeaders': {'date': 'Wed, 22 Aug 2018 01:23:30 GMT', 'content-type': 'application/x-amz-json-1.1', 'content-length': '165', 'connection': 'keep-alive', 'x-amzn-requestid': 'fa498b8a-a5a9-11e8-a2f4-85bf7e6bcf79'}, 'RetryAttempts': 0}}\n",
      "{'Sentiment': 'POSITIVE', 'SentimentScore': {'Positive': 0.9999500513076782, 'Negative': 4.683985252995626e-07, 'Neutral': 8.340210115420632e-06, 'Mixed': 4.1142371628666297e-05}, 'ResponseMetadata': {'RequestId': 'fa579600-a5a9-11e8-b50d-8301a8898004', 'HTTPStatusCode': 200, 'HTTPHeaders': {'date': 'Wed, 22 Aug 2018 01:23:30 GMT', 'content-type': 'application/x-amz-json-1.1', 'content-length': '166', 'connection': 'keep-alive', 'x-amzn-requestid': 'fa579600-a5a9-11e8-b50d-8301a8898004'}, 'RetryAttempts': 0}}\n",
      "{'Sentiment': 'POSITIVE', 'SentimentScore': {'Positive': 0.9704073667526245, 'Negative': 0.00016463492647744715, 'Neutral': 0.028762895613908768, 'Mixed': 0.0006650270079262555}, 'ResponseMetadata': {'RequestId': 'fa657864-a5a9-11e8-ad19-e94911d6863f', 'HTTPStatusCode': 200, 'HTTPHeaders': {'date': 'Wed, 22 Aug 2018 01:23:30 GMT', 'content-type': 'application/x-amz-json-1.1', 'content-length': '166', 'connection': 'keep-alive', 'x-amzn-requestid': 'fa657864-a5a9-11e8-ad19-e94911d6863f'}, 'RetryAttempts': 0}}\n",
      "{'Sentiment': 'POSITIVE', 'SentimentScore': {'Positive': 0.9284919500350952, 'Negative': 2.311225216544699e-05, 'Neutral': 0.07098263502120972, 'Mixed': 0.0005022494588047266}, 'ResponseMetadata': {'RequestId': 'fa729786-a5a9-11e8-b2ca-f77ae9ee4acb', 'HTTPStatusCode': 200, 'HTTPHeaders': {'date': 'Wed, 22 Aug 2018 01:23:30 GMT', 'content-type': 'application/x-amz-json-1.1', 'content-length': '164', 'connection': 'keep-alive', 'x-amzn-requestid': 'fa729786-a5a9-11e8-b2ca-f77ae9ee4acb'}, 'RetryAttempts': 0}}\n",
      "{'Sentiment': 'POSITIVE', 'SentimentScore': {'Positive': 0.609197199344635, 'Negative': 0.006871501915156841, 'Neutral': 0.37774187326431274, 'Mixed': 0.006189429201185703}, 'ResponseMetadata': {'RequestId': 'fa7f8fd5-a5a9-11e8-9d3a-e5743fd937d0', 'HTTPStatusCode': 200, 'HTTPHeaders': {'date': 'Wed, 22 Aug 2018 01:23:30 GMT', 'content-type': 'application/x-amz-json-1.1', 'content-length': '163', 'connection': 'keep-alive', 'x-amzn-requestid': 'fa7f8fd5-a5a9-11e8-9d3a-e5743fd937d0'}, 'RetryAttempts': 0}}\n",
      "{'Sentiment': 'POSITIVE', 'SentimentScore': {'Positive': 0.997869610786438, 'Negative': 2.997279261762742e-05, 'Neutral': 0.0016796450363472104, 'Mixed': 0.00042069508344866335}, 'ResponseMetadata': {'RequestId': 'fa8f473a-a5a9-11e8-abaa-5bd9fb10e857', 'HTTPStatusCode': 200, 'HTTPHeaders': {'date': 'Wed, 22 Aug 2018 01:23:30 GMT', 'content-type': 'application/x-amz-json-1.1', 'content-length': '166', 'connection': 'keep-alive', 'x-amzn-requestid': 'fa8f473a-a5a9-11e8-abaa-5bd9fb10e857'}, 'RetryAttempts': 0}}\n",
      "{'Sentiment': 'POSITIVE', 'SentimentScore': {'Positive': 0.9992069602012634, 'Negative': 6.146074156276882e-05, 'Neutral': 6.575657607754692e-05, 'Mixed': 0.0006658069905824959}, 'ResponseMetadata': {'RequestId': 'fa9c8e30-a5a9-11e8-b9eb-0d7d73fb2391', 'HTTPStatusCode': 200, 'HTTPHeaders': {'date': 'Wed, 22 Aug 2018 01:23:30 GMT', 'content-type': 'application/x-amz-json-1.1', 'content-length': '165', 'connection': 'keep-alive', 'x-amzn-requestid': 'fa9c8e30-a5a9-11e8-b9eb-0d7d73fb2391'}, 'RetryAttempts': 0}}\n",
      "{'Sentiment': 'POSITIVE', 'SentimentScore': {'Positive': 0.949870228767395, 'Negative': 0.014213106594979763, 'Neutral': 0.023581823334097862, 'Mixed': 0.012334848754107952}, 'ResponseMetadata': {'RequestId': 'faa985dd-a5a9-11e8-a2f4-85bf7e6bcf79', 'HTTPStatusCode': 200, 'HTTPHeaders': {'date': 'Wed, 22 Aug 2018 01:23:30 GMT', 'content-type': 'application/x-amz-json-1.1', 'content-length': '164', 'connection': 'keep-alive', 'x-amzn-requestid': 'faa985dd-a5a9-11e8-a2f4-85bf7e6bcf79'}, 'RetryAttempts': 0}}\n",
      "{'Sentiment': 'POSITIVE', 'SentimentScore': {'Positive': 0.9400585889816284, 'Negative': 0.00026290197274647653, 'Neutral': 0.022681135684251785, 'Mixed': 0.036997437477111816}, 'ResponseMetadata': {'RequestId': 'fab96518-a5a9-11e8-81c3-ef4e8be5100f', 'HTTPStatusCode': 200, 'HTTPHeaders': {'date': 'Wed, 22 Aug 2018 01:23:30 GMT', 'content-type': 'application/x-amz-json-1.1', 'content-length': '166', 'connection': 'keep-alive', 'x-amzn-requestid': 'fab96518-a5a9-11e8-81c3-ef4e8be5100f'}, 'RetryAttempts': 0}}\n",
      "{'Sentiment': 'POSITIVE', 'SentimentScore': {'Positive': 0.9904270172119141, 'Negative': 0.0018787347944453359, 'Neutral': 0.0005153345409780741, 'Mixed': 0.007178951054811478}, 'ResponseMetadata': {'RequestId': 'fac72066-a5a9-11e8-ad19-e94911d6863f', 'HTTPStatusCode': 200, 'HTTPHeaders': {'date': 'Wed, 22 Aug 2018 01:23:31 GMT', 'content-type': 'application/x-amz-json-1.1', 'content-length': '166', 'connection': 'keep-alive', 'x-amzn-requestid': 'fac72066-a5a9-11e8-ad19-e94911d6863f'}, 'RetryAttempts': 0}}\n"
     ]
    },
    {
     "name": "stdout",
     "output_type": "stream",
     "text": [
      "{'Sentiment': 'POSITIVE', 'SentimentScore': {'Positive': 0.9993245601654053, 'Negative': 3.7588683881040197e-06, 'Neutral': 0.0003954682033509016, 'Mixed': 0.0002761774230748415}, 'ResponseMetadata': {'RequestId': 'fad3f125-a5a9-11e8-85fc-133ac8d50853', 'HTTPStatusCode': 200, 'HTTPHeaders': {'date': 'Wed, 22 Aug 2018 01:23:31 GMT', 'content-type': 'application/x-amz-json-1.1', 'content-length': '166', 'connection': 'keep-alive', 'x-amzn-requestid': 'fad3f125-a5a9-11e8-85fc-133ac8d50853'}, 'RetryAttempts': 0}}\n",
      "{'Sentiment': 'POSITIVE', 'SentimentScore': {'Positive': 0.8018090724945068, 'Negative': 0.007537195459008217, 'Neutral': 0.05746498331427574, 'Mixed': 0.13318876922130585}, 'ResponseMetadata': {'RequestId': 'fae137e0-a5a9-11e8-845a-674cd09bb0ce', 'HTTPStatusCode': 200, 'HTTPHeaders': {'date': 'Wed, 22 Aug 2018 01:23:31 GMT', 'content-type': 'application/x-amz-json-1.1', 'content-length': '163', 'connection': 'keep-alive', 'x-amzn-requestid': 'fae137e0-a5a9-11e8-845a-674cd09bb0ce'}, 'RetryAttempts': 0}}\n",
      "{'Sentiment': 'POSITIVE', 'SentimentScore': {'Positive': 0.6158502697944641, 'Negative': 0.011759879998862743, 'Neutral': 0.3662761449813843, 'Mixed': 0.006113788112998009}, 'ResponseMetadata': {'RequestId': 'faf18b7c-a5a9-11e8-abaa-5bd9fb10e857', 'HTTPStatusCode': 200, 'HTTPHeaders': {'date': 'Wed, 22 Aug 2018 01:23:31 GMT', 'content-type': 'application/x-amz-json-1.1', 'content-length': '163', 'connection': 'keep-alive', 'x-amzn-requestid': 'faf18b7c-a5a9-11e8-abaa-5bd9fb10e857'}, 'RetryAttempts': 0}}\n",
      "{'Sentiment': 'POSITIVE', 'SentimentScore': {'Positive': 0.9983969330787659, 'Negative': 1.1861700841109268e-05, 'Neutral': 8.136306860251352e-05, 'Mixed': 0.0015097889117896557}, 'ResponseMetadata': {'RequestId': 'faffbc54-a5a9-11e8-bd9d-a34b323210e2', 'HTTPStatusCode': 200, 'HTTPHeaders': {'date': 'Wed, 22 Aug 2018 01:23:31 GMT', 'content-type': 'application/x-amz-json-1.1', 'content-length': '167', 'connection': 'keep-alive', 'x-amzn-requestid': 'faffbc54-a5a9-11e8-bd9d-a34b323210e2'}, 'RetryAttempts': 0}}\n",
      "{'Sentiment': 'POSITIVE', 'SentimentScore': {'Positive': 0.9988170862197876, 'Negative': 9.445878276892472e-06, 'Neutral': 0.00044135082862339914, 'Mixed': 0.0007321825833059847}, 'ResponseMetadata': {'RequestId': 'fb0e8939-a5a9-11e8-bd5f-2d12aafa381c', 'HTTPStatusCode': 200, 'HTTPHeaders': {'date': 'Wed, 22 Aug 2018 01:23:31 GMT', 'content-type': 'application/x-amz-json-1.1', 'content-length': '166', 'connection': 'keep-alive', 'x-amzn-requestid': 'fb0e8939-a5a9-11e8-bd5f-2d12aafa381c'}, 'RetryAttempts': 0}}\n",
      "{'Sentiment': 'POSITIVE', 'SentimentScore': {'Positive': 0.9957959651947021, 'Negative': 0.00015220840577967465, 'Neutral': 0.0016744433669373393, 'Mixed': 0.002377418801188469}, 'ResponseMetadata': {'RequestId': 'fb1b8190-a5a9-11e8-a2f4-85bf7e6bcf79', 'HTTPStatusCode': 200, 'HTTPHeaders': {'date': 'Wed, 22 Aug 2018 01:23:31 GMT', 'content-type': 'application/x-amz-json-1.1', 'content-length': '167', 'connection': 'keep-alive', 'x-amzn-requestid': 'fb1b8190-a5a9-11e8-a2f4-85bf7e6bcf79'}, 'RetryAttempts': 0}}\n",
      "{'Sentiment': 'POSITIVE', 'SentimentScore': {'Positive': 0.9998563528060913, 'Negative': 2.1115199615451274e-06, 'Neutral': 3.124485010630451e-05, 'Mixed': 0.0001101992093026638}, 'ResponseMetadata': {'RequestId': 'fb28efce-a5a9-11e8-a9e9-659915761180', 'HTTPStatusCode': 200, 'HTTPHeaders': {'date': 'Wed, 22 Aug 2018 01:23:31 GMT', 'content-type': 'application/x-amz-json-1.1', 'content-length': '166', 'connection': 'keep-alive', 'x-amzn-requestid': 'fb28efce-a5a9-11e8-a9e9-659915761180'}, 'RetryAttempts': 0}}\n",
      "{'Sentiment': 'POSITIVE', 'SentimentScore': {'Positive': 0.9977990984916687, 'Negative': 6.764464342268184e-05, 'Neutral': 0.0003426468756515533, 'Mixed': 0.0017905220156535506}, 'ResponseMetadata': {'RequestId': 'fb36842d-a5a9-11e8-bc99-03ea29243f9b', 'HTTPStatusCode': 200, 'HTTPHeaders': {'date': 'Wed, 22 Aug 2018 01:23:31 GMT', 'content-type': 'application/x-amz-json-1.1', 'content-length': '166', 'connection': 'keep-alive', 'x-amzn-requestid': 'fb36842d-a5a9-11e8-bc99-03ea29243f9b'}, 'RetryAttempts': 0}}\n",
      "{'Sentiment': 'POSITIVE', 'SentimentScore': {'Positive': 0.8691591620445251, 'Negative': 0.05694117769598961, 'Neutral': 0.014438106678426266, 'Mixed': 0.059461575001478195}, 'ResponseMetadata': {'RequestId': 'fb43550d-a5a9-11e8-b2ca-f77ae9ee4acb', 'HTTPStatusCode': 200, 'HTTPHeaders': {'date': 'Wed, 22 Aug 2018 01:23:31 GMT', 'content-type': 'application/x-amz-json-1.1', 'content-length': '164', 'connection': 'keep-alive', 'x-amzn-requestid': 'fb43550d-a5a9-11e8-b2ca-f77ae9ee4acb'}, 'RetryAttempts': 0}}\n",
      "{'Sentiment': 'POSITIVE', 'SentimentScore': {'Positive': 0.991792619228363, 'Negative': 0.00011305430962238461, 'Neutral': 0.0035283700563013554, 'Mixed': 0.00456599798053503}, 'ResponseMetadata': {'RequestId': 'fb52e53d-a5a9-11e8-adac-f7604fed725b', 'HTTPStatusCode': 200, 'HTTPHeaders': {'date': 'Wed, 22 Aug 2018 01:23:31 GMT', 'content-type': 'application/x-amz-json-1.1', 'content-length': '165', 'connection': 'keep-alive', 'x-amzn-requestid': 'fb52e53d-a5a9-11e8-adac-f7604fed725b'}, 'RetryAttempts': 0}}\n",
      "{'Sentiment': 'NEUTRAL', 'SentimentScore': {'Positive': 0.4693600535392761, 'Negative': 4.6453449613181874e-05, 'Neutral': 0.5299113392829895, 'Mixed': 0.0006821224233135581}, 'ResponseMetadata': {'RequestId': 'fb622760-a5a9-11e8-94da-d5c7ea9d7817', 'HTTPStatusCode': 200, 'HTTPHeaders': {'date': 'Wed, 22 Aug 2018 01:23:32 GMT', 'content-type': 'application/x-amz-json-1.1', 'content-length': '163', 'connection': 'keep-alive', 'x-amzn-requestid': 'fb622760-a5a9-11e8-94da-d5c7ea9d7817'}, 'RetryAttempts': 0}}\n",
      "{'Sentiment': 'POSITIVE', 'SentimentScore': {'Positive': 0.9296152591705322, 'Negative': 0.005639750976115465, 'Neutral': 0.05922103300690651, 'Mixed': 0.005524023436009884}, 'ResponseMetadata': {'RequestId': 'fb70a6eb-a5a9-11e8-8c25-8dfaf9f702af', 'HTTPStatusCode': 200, 'HTTPHeaders': {'date': 'Wed, 22 Aug 2018 01:23:32 GMT', 'content-type': 'application/x-amz-json-1.1', 'content-length': '164', 'connection': 'keep-alive', 'x-amzn-requestid': 'fb70a6eb-a5a9-11e8-8c25-8dfaf9f702af'}, 'RetryAttempts': 0}}\n",
      "{'Sentiment': 'POSITIVE', 'SentimentScore': {'Positive': 0.9548908472061157, 'Negative': 0.0028022031765431166, 'Neutral': 0.041136499494314194, 'Mixed': 0.0011704928474500775}, 'ResponseMetadata': {'RequestId': 'fb7d033a-a5a9-11e8-b50d-8301a8898004', 'HTTPStatusCode': 200, 'HTTPHeaders': {'date': 'Wed, 22 Aug 2018 01:23:32 GMT', 'content-type': 'application/x-amz-json-1.1', 'content-length': '167', 'connection': 'keep-alive', 'x-amzn-requestid': 'fb7d033a-a5a9-11e8-b50d-8301a8898004'}, 'RetryAttempts': 0}}\n",
      "{'Sentiment': 'NEUTRAL', 'SentimentScore': {'Positive': 0.00900717917829752, 'Negative': 0.017744507640600204, 'Neutral': 0.9597456455230713, 'Mixed': 0.013502582907676697}, 'ResponseMetadata': {'RequestId': 'fb8a96e7-a5a9-11e8-bd73-35d8d2ee0e50', 'HTTPStatusCode': 200, 'HTTPHeaders': {'date': 'Wed, 22 Aug 2018 01:23:32 GMT', 'content-type': 'application/x-amz-json-1.1', 'content-length': '163', 'connection': 'keep-alive', 'x-amzn-requestid': 'fb8a96e7-a5a9-11e8-bd73-35d8d2ee0e50'}, 'RetryAttempts': 0}}\n",
      "{'Sentiment': 'POSITIVE', 'SentimentScore': {'Positive': 0.9867353439331055, 'Negative': 0.0005479512619785964, 'Neutral': 0.011406978592276573, 'Mixed': 0.001309834304265678}, 'ResponseMetadata': {'RequestId': 'fb974141-a5a9-11e8-bf20-e9c06e0a11d1', 'HTTPStatusCode': 200, 'HTTPHeaders': {'date': 'Wed, 22 Aug 2018 01:23:32 GMT', 'content-type': 'application/x-amz-json-1.1', 'content-length': '165', 'connection': 'keep-alive', 'x-amzn-requestid': 'fb974141-a5a9-11e8-bf20-e9c06e0a11d1'}, 'RetryAttempts': 0}}\n",
      "{'Sentiment': 'POSITIVE', 'SentimentScore': {'Positive': 0.9204695224761963, 'Negative': 0.010012215003371239, 'Neutral': 0.002903102897107601, 'Mixed': 0.06661515682935715}, 'ResponseMetadata': {'RequestId': 'fba57210-a5a9-11e8-adac-f7604fed725b', 'HTTPStatusCode': 200, 'HTTPHeaders': {'date': 'Wed, 22 Aug 2018 01:23:32 GMT', 'content-type': 'application/x-amz-json-1.1', 'content-length': '164', 'connection': 'keep-alive', 'x-amzn-requestid': 'fba57210-a5a9-11e8-adac-f7604fed725b'}, 'RetryAttempts': 0}}\n"
     ]
    },
    {
     "name": "stdout",
     "output_type": "stream",
     "text": [
      "{'Sentiment': 'POSITIVE', 'SentimentScore': {'Positive': 0.9046111106872559, 'Negative': 0.0007251164061017334, 'Neutral': 0.09185926616191864, 'Mixed': 0.0028045973740518093}, 'ResponseMetadata': {'RequestId': 'fbb4665c-a5a9-11e8-bd9d-a34b323210e2', 'HTTPStatusCode': 200, 'HTTPHeaders': {'date': 'Wed, 22 Aug 2018 01:23:32 GMT', 'content-type': 'application/x-amz-json-1.1', 'content-length': '165', 'connection': 'keep-alive', 'x-amzn-requestid': 'fbb4665c-a5a9-11e8-bd9d-a34b323210e2'}, 'RetryAttempts': 0}}\n",
      "{'Sentiment': 'POSITIVE', 'SentimentScore': {'Positive': 0.707450270652771, 'Negative': 0.06913446635007858, 'Neutral': 0.024882135912775993, 'Mixed': 0.19853313267230988}, 'ResponseMetadata': {'RequestId': 'fbc5a4ec-a5a9-11e8-b9eb-0d7d73fb2391', 'HTTPStatusCode': 200, 'HTTPHeaders': {'date': 'Wed, 22 Aug 2018 01:23:32 GMT', 'content-type': 'application/x-amz-json-1.1', 'content-length': '162', 'connection': 'keep-alive', 'x-amzn-requestid': 'fbc5a4ec-a5a9-11e8-b9eb-0d7d73fb2391'}, 'RetryAttempts': 0}}\n",
      "{'Sentiment': 'POSITIVE', 'SentimentScore': {'Positive': 0.9991843104362488, 'Negative': 3.9106831536628306e-05, 'Neutral': 0.00010085836402140558, 'Mixed': 0.000675709918141365}, 'ResponseMetadata': {'RequestId': 'fbd70969-a5a9-11e8-a2f4-85bf7e6bcf79', 'HTTPStatusCode': 200, 'HTTPHeaders': {'date': 'Wed, 22 Aug 2018 01:23:32 GMT', 'content-type': 'application/x-amz-json-1.1', 'content-length': '166', 'connection': 'keep-alive', 'x-amzn-requestid': 'fbd70969-a5a9-11e8-a2f4-85bf7e6bcf79'}, 'RetryAttempts': 0}}\n",
      "{'Sentiment': 'POSITIVE', 'SentimentScore': {'Positive': 0.9714416861534119, 'Negative': 8.655899728182703e-05, 'Neutral': 0.02652527578175068, 'Mixed': 0.0019465571967884898}, 'ResponseMetadata': {'RequestId': 'fbe5fe44-a5a9-11e8-81c3-ef4e8be5100f', 'HTTPStatusCode': 200, 'HTTPHeaders': {'date': 'Wed, 22 Aug 2018 01:23:32 GMT', 'content-type': 'application/x-amz-json-1.1', 'content-length': '165', 'connection': 'keep-alive', 'x-amzn-requestid': 'fbe5fe44-a5a9-11e8-81c3-ef4e8be5100f'}, 'RetryAttempts': 0}}\n",
      "{'Sentiment': 'POSITIVE', 'SentimentScore': {'Positive': 0.9997418522834778, 'Negative': 5.499562689692539e-07, 'Neutral': 2.6023175450973213e-05, 'Mixed': 0.00023157602117862552}, 'ResponseMetadata': {'RequestId': 'fbf40807-a5a9-11e8-a9e9-659915761180', 'HTTPStatusCode': 200, 'HTTPHeaders': {'date': 'Wed, 22 Aug 2018 01:23:33 GMT', 'content-type': 'application/x-amz-json-1.1', 'content-length': '167', 'connection': 'keep-alive', 'x-amzn-requestid': 'fbf40807-a5a9-11e8-a9e9-659915761180'}, 'RetryAttempts': 0}}\n",
      "{'Sentiment': 'POSITIVE', 'SentimentScore': {'Positive': 0.9387610554695129, 'Negative': 0.00013988043065182865, 'Neutral': 0.060590606182813644, 'Mixed': 0.0005085227312520146}, 'ResponseMetadata': {'RequestId': 'fc03980e-a5a9-11e8-88ee-89debf0a6076', 'HTTPStatusCode': 200, 'HTTPHeaders': {'date': 'Wed, 22 Aug 2018 01:23:33 GMT', 'content-type': 'application/x-amz-json-1.1', 'content-length': '166', 'connection': 'keep-alive', 'x-amzn-requestid': 'fc03980e-a5a9-11e8-88ee-89debf0a6076'}, 'RetryAttempts': 0}}\n",
      "{'Sentiment': 'NEUTRAL', 'SentimentScore': {'Positive': 0.09043313562870026, 'Negative': 0.005236269906163216, 'Neutral': 0.9020991325378418, 'Mixed': 0.002231475431472063}, 'ResponseMetadata': {'RequestId': 'fc115312-a5a9-11e8-9c69-7db1af1277f0', 'HTTPStatusCode': 200, 'HTTPHeaders': {'date': 'Wed, 22 Aug 2018 01:23:33 GMT', 'content-type': 'application/x-amz-json-1.1', 'content-length': '163', 'connection': 'keep-alive', 'x-amzn-requestid': 'fc115312-a5a9-11e8-9c69-7db1af1277f0'}, 'RetryAttempts': 0}}\n",
      "{'Sentiment': 'POSITIVE', 'SentimentScore': {'Positive': 0.9020879864692688, 'Negative': 0.004089757334440947, 'Neutral': 0.09035647660493851, 'Mixed': 0.00346576701849699}, 'ResponseMetadata': {'RequestId': 'fc1dd6b7-a5a9-11e8-8f7d-cd5b090a526d', 'HTTPStatusCode': 200, 'HTTPHeaders': {'date': 'Wed, 22 Aug 2018 01:23:33 GMT', 'content-type': 'application/x-amz-json-1.1', 'content-length': '163', 'connection': 'keep-alive', 'x-amzn-requestid': 'fc1dd6b7-a5a9-11e8-8f7d-cd5b090a526d'}, 'RetryAttempts': 0}}\n",
      "{'Sentiment': 'POSITIVE', 'SentimentScore': {'Positive': 0.5045179724693298, 'Negative': 0.09772814810276031, 'Neutral': 0.00506495451554656, 'Mixed': 0.39268893003463745}, 'ResponseMetadata': {'RequestId': 'fc2d1887-a5a9-11e8-94da-d5c7ea9d7817', 'HTTPStatusCode': 200, 'HTTPHeaders': {'date': 'Wed, 22 Aug 2018 01:23:33 GMT', 'content-type': 'application/x-amz-json-1.1', 'content-length': '162', 'connection': 'keep-alive', 'x-amzn-requestid': 'fc2d1887-a5a9-11e8-94da-d5c7ea9d7817'}, 'RetryAttempts': 0}}\n",
      "{'Sentiment': 'POSITIVE', 'SentimentScore': {'Positive': 0.9962671399116516, 'Negative': 0.00013156745990272611, 'Neutral': 0.002348980400711298, 'Mixed': 0.001252253190614283}, 'ResponseMetadata': {'RequestId': 'fc3d942d-a5a9-11e8-9f0c-11ad878f42b4', 'HTTPStatusCode': 200, 'HTTPHeaders': {'date': 'Wed, 22 Aug 2018 01:23:33 GMT', 'content-type': 'application/x-amz-json-1.1', 'content-length': '166', 'connection': 'keep-alive', 'x-amzn-requestid': 'fc3d942d-a5a9-11e8-9f0c-11ad878f42b4'}, 'RetryAttempts': 0}}\n",
      "{'Sentiment': 'NEUTRAL', 'SentimentScore': {'Positive': 0.252706915140152, 'Negative': 0.01873967796564102, 'Neutral': 0.7200567126274109, 'Mixed': 0.008496745489537716}, 'ResponseMetadata': {'RequestId': 'fc49f030-a5a9-11e8-b50d-8301a8898004', 'HTTPStatusCode': 200, 'HTTPHeaders': {'date': 'Wed, 22 Aug 2018 01:23:33 GMT', 'content-type': 'application/x-amz-json-1.1', 'content-length': '160', 'connection': 'keep-alive', 'x-amzn-requestid': 'fc49f030-a5a9-11e8-b50d-8301a8898004'}, 'RetryAttempts': 0}}\n",
      "{'Sentiment': 'POSITIVE', 'SentimentScore': {'Positive': 0.9963414072990417, 'Negative': 8.700750186108053e-05, 'Neutral': 0.0023338482715189457, 'Mixed': 0.0012376589002087712}, 'ResponseMetadata': {'RequestId': 'fc56e888-a5a9-11e8-a9e9-659915761180', 'HTTPStatusCode': 200, 'HTTPHeaders': {'date': 'Wed, 22 Aug 2018 01:23:33 GMT', 'content-type': 'application/x-amz-json-1.1', 'content-length': '167', 'connection': 'keep-alive', 'x-amzn-requestid': 'fc56e888-a5a9-11e8-a9e9-659915761180'}, 'RetryAttempts': 0}}\n",
      "{'Sentiment': 'NEUTRAL', 'SentimentScore': {'Positive': 0.04606455937027931, 'Negative': 0.023068895563483238, 'Neutral': 0.9160175323486328, 'Mixed': 0.014849088154733181}, 'ResponseMetadata': {'RequestId': 'fc67b0a8-a5a9-11e8-bf20-e9c06e0a11d1', 'HTTPStatusCode': 200, 'HTTPHeaders': {'date': 'Wed, 22 Aug 2018 01:23:33 GMT', 'content-type': 'application/x-amz-json-1.1', 'content-length': '163', 'connection': 'keep-alive', 'x-amzn-requestid': 'fc67b0a8-a5a9-11e8-bf20-e9c06e0a11d1'}, 'RetryAttempts': 0}}\n",
      "{'Sentiment': 'POSITIVE', 'SentimentScore': {'Positive': 0.9998347759246826, 'Negative': 1.960146164492471e-06, 'Neutral': 6.849785859230906e-05, 'Mixed': 9.478711581323296e-05}, 'ResponseMetadata': {'RequestId': 'fc785277-a5a9-11e8-adac-f7604fed725b', 'HTTPStatusCode': 200, 'HTTPHeaders': {'date': 'Wed, 22 Aug 2018 01:23:33 GMT', 'content-type': 'application/x-amz-json-1.1', 'content-length': '165', 'connection': 'keep-alive', 'x-amzn-requestid': 'fc785277-a5a9-11e8-adac-f7604fed725b'}, 'RetryAttempts': 0}}\n",
      "{'Sentiment': 'POSITIVE', 'SentimentScore': {'Positive': 0.6585763096809387, 'Negative': 0.000256094615906477, 'Neutral': 0.3369654715061188, 'Mixed': 0.004202072974294424}, 'ResponseMetadata': {'RequestId': 'fc885890-a5a9-11e8-b93a-f1e2833c09ce', 'HTTPStatusCode': 200, 'HTTPHeaders': {'date': 'Wed, 22 Aug 2018 01:23:33 GMT', 'content-type': 'application/x-amz-json-1.1', 'content-length': '162', 'connection': 'keep-alive', 'x-amzn-requestid': 'fc885890-a5a9-11e8-b93a-f1e2833c09ce'}, 'RetryAttempts': 0}}\n",
      "{'Sentiment': 'POSITIVE', 'SentimentScore': {'Positive': 0.9961177110671997, 'Negative': 3.903800097759813e-05, 'Neutral': 0.003010558895766735, 'Mixed': 0.0008327077957801521}, 'ResponseMetadata': {'RequestId': 'fc95ecc0-a5a9-11e8-ae3e-c1f1bbbc4558', 'HTTPStatusCode': 200, 'HTTPHeaders': {'date': 'Wed, 22 Aug 2018 01:23:34 GMT', 'content-type': 'application/x-amz-json-1.1', 'content-length': '165', 'connection': 'keep-alive', 'x-amzn-requestid': 'fc95ecc0-a5a9-11e8-ae3e-c1f1bbbc4558'}, 'RetryAttempts': 0}}\n",
      "{'Sentiment': 'POSITIVE', 'SentimentScore': {'Positive': 0.991097092628479, 'Negative': 6.712227332172915e-05, 'Neutral': 0.001439628191292286, 'Mixed': 0.007396149914711714}, 'ResponseMetadata': {'RequestId': 'fca5f2d4-a5a9-11e8-b9eb-0d7d73fb2391', 'HTTPStatusCode': 200, 'HTTPHeaders': {'date': 'Wed, 22 Aug 2018 01:23:34 GMT', 'content-type': 'application/x-amz-json-1.1', 'content-length': '164', 'connection': 'keep-alive', 'x-amzn-requestid': 'fca5f2d4-a5a9-11e8-b9eb-0d7d73fb2391'}, 'RetryAttempts': 0}}\n",
      "{'Sentiment': 'POSITIVE', 'SentimentScore': {'Positive': 0.998925507068634, 'Negative': 1.5214342283798032e-06, 'Neutral': 0.0010388469090685248, 'Mixed': 3.4101201890734956e-05}, 'ResponseMetadata': {'RequestId': 'fcb29c60-a5a9-11e8-a423-23f645849a04', 'HTTPStatusCode': 200, 'HTTPHeaders': {'date': 'Wed, 22 Aug 2018 01:23:34 GMT', 'content-type': 'application/x-amz-json-1.1', 'content-length': '167', 'connection': 'keep-alive', 'x-amzn-requestid': 'fcb29c60-a5a9-11e8-a423-23f645849a04'}, 'RetryAttempts': 0}}\n",
      "{'Sentiment': 'POSITIVE', 'SentimentScore': {'Positive': 0.5755472183227539, 'Negative': 0.0005945867742411792, 'Neutral': 0.42253783345222473, 'Mixed': 0.0013204121496528387}, 'ResponseMetadata': {'RequestId': 'fcc009e1-a5a9-11e8-a2f4-85bf7e6bcf79', 'HTTPStatusCode': 200, 'HTTPHeaders': {'date': 'Wed, 22 Aug 2018 01:23:34 GMT', 'content-type': 'application/x-amz-json-1.1', 'content-length': '165', 'connection': 'keep-alive', 'x-amzn-requestid': 'fcc009e1-a5a9-11e8-a2f4-85bf7e6bcf79'}, 'RetryAttempts': 0}}\n"
     ]
    },
    {
     "name": "stdout",
     "output_type": "stream",
     "text": [
      "{'Sentiment': 'POSITIVE', 'SentimentScore': {'Positive': 0.9960159659385681, 'Negative': 5.4182302847038954e-05, 'Neutral': 0.003001619828864932, 'Mixed': 0.0009282397222705185}, 'ResponseMetadata': {'RequestId': 'fcce1374-a5a9-11e8-bd73-35d8d2ee0e50', 'HTTPStatusCode': 200, 'HTTPHeaders': {'date': 'Wed, 22 Aug 2018 01:23:34 GMT', 'content-type': 'application/x-amz-json-1.1', 'content-length': '166', 'connection': 'keep-alive', 'x-amzn-requestid': 'fcce1374-a5a9-11e8-bd73-35d8d2ee0e50'}, 'RetryAttempts': 0}}\n",
      "{'Sentiment': 'POSITIVE', 'SentimentScore': {'Positive': 0.9956644177436829, 'Negative': 0.0004077888443134725, 'Neutral': 0.0031296461820602417, 'Mixed': 0.0007981263916008174}, 'ResponseMetadata': {'RequestId': 'fcdce11b-a5a9-11e8-ad19-e94911d6863f', 'HTTPStatusCode': 200, 'HTTPHeaders': {'date': 'Wed, 22 Aug 2018 01:23:34 GMT', 'content-type': 'application/x-amz-json-1.1', 'content-length': '166', 'connection': 'keep-alive', 'x-amzn-requestid': 'fcdce11b-a5a9-11e8-ad19-e94911d6863f'}, 'RetryAttempts': 0}}\n",
      "{'Sentiment': 'POSITIVE', 'SentimentScore': {'Positive': 0.9981076717376709, 'Negative': 2.872110781027004e-05, 'Neutral': 0.0016967771807685494, 'Mixed': 0.00016687027527950704}, 'ResponseMetadata': {'RequestId': 'fcec980b-a5a9-11e8-85fc-133ac8d50853', 'HTTPStatusCode': 200, 'HTTPHeaders': {'date': 'Wed, 22 Aug 2018 01:23:34 GMT', 'content-type': 'application/x-amz-json-1.1', 'content-length': '167', 'connection': 'keep-alive', 'x-amzn-requestid': 'fcec980b-a5a9-11e8-85fc-133ac8d50853'}, 'RetryAttempts': 0}}\n",
      "{'Sentiment': 'POSITIVE', 'SentimentScore': {'Positive': 0.9908355474472046, 'Negative': 0.0008411702001467347, 'Neutral': 0.003211658913642168, 'Mixed': 0.0051115103997290134}, 'ResponseMetadata': {'RequestId': 'fcf9424e-a5a9-11e8-adac-f7604fed725b', 'HTTPStatusCode': 200, 'HTTPHeaders': {'date': 'Wed, 22 Aug 2018 01:23:34 GMT', 'content-type': 'application/x-amz-json-1.1', 'content-length': '166', 'connection': 'keep-alive', 'x-amzn-requestid': 'fcf9424e-a5a9-11e8-adac-f7604fed725b'}, 'RetryAttempts': 0}}\n",
      "{'Sentiment': 'POSITIVE', 'SentimentScore': {'Positive': 0.9409552812576294, 'Negative': 0.01757008023560047, 'Neutral': 0.03262897953391075, 'Mixed': 0.008845620788633823}, 'ResponseMetadata': {'RequestId': 'fd063ad6-a5a9-11e8-845a-674cd09bb0ce', 'HTTPStatusCode': 200, 'HTTPHeaders': {'date': 'Wed, 22 Aug 2018 01:23:34 GMT', 'content-type': 'application/x-amz-json-1.1', 'content-length': '163', 'connection': 'keep-alive', 'x-amzn-requestid': 'fd063ad6-a5a9-11e8-845a-674cd09bb0ce'}, 'RetryAttempts': 0}}\n",
      "{'Sentiment': 'POSITIVE', 'SentimentScore': {'Positive': 0.8837842345237732, 'Negative': 0.008194276131689548, 'Neutral': 0.07141901552677155, 'Mixed': 0.03660242259502411}, 'ResponseMetadata': {'RequestId': 'fd12bde3-a5a9-11e8-abaa-5bd9fb10e857', 'HTTPStatusCode': 200, 'HTTPHeaders': {'date': 'Wed, 22 Aug 2018 01:23:34 GMT', 'content-type': 'application/x-amz-json-1.1', 'content-length': '163', 'connection': 'keep-alive', 'x-amzn-requestid': 'fd12bde3-a5a9-11e8-abaa-5bd9fb10e857'}, 'RetryAttempts': 0}}\n",
      "{'Sentiment': 'POSITIVE', 'SentimentScore': {'Positive': 0.9969874024391174, 'Negative': 2.1875019228900783e-05, 'Neutral': 0.0008055655634962022, 'Mixed': 0.0021851886995136738}, 'ResponseMetadata': {'RequestId': 'fd1f8f88-a5a9-11e8-b93a-f1e2833c09ce', 'HTTPStatusCode': 200, 'HTTPHeaders': {'date': 'Wed, 22 Aug 2018 01:23:35 GMT', 'content-type': 'application/x-amz-json-1.1', 'content-length': '167', 'connection': 'keep-alive', 'x-amzn-requestid': 'fd1f8f88-a5a9-11e8-b93a-f1e2833c09ce'}, 'RetryAttempts': 0}}\n",
      "{'Sentiment': 'POSITIVE', 'SentimentScore': {'Positive': 0.9993873834609985, 'Negative': 6.116424628999084e-05, 'Neutral': 0.00018256162002217025, 'Mixed': 0.00036902190186083317}, 'ResponseMetadata': {'RequestId': 'fd2fe35b-a5a9-11e8-b9eb-0d7d73fb2391', 'HTTPStatusCode': 200, 'HTTPHeaders': {'date': 'Wed, 22 Aug 2018 01:23:35 GMT', 'content-type': 'application/x-amz-json-1.1', 'content-length': '167', 'connection': 'keep-alive', 'x-amzn-requestid': 'fd2fe35b-a5a9-11e8-b9eb-0d7d73fb2391'}, 'RetryAttempts': 0}}\n",
      "{'Sentiment': 'POSITIVE', 'SentimentScore': {'Positive': 0.8138437271118164, 'Negative': 0.002469802275300026, 'Neutral': 0.17894606292247772, 'Mixed': 0.004740518983453512}, 'ResponseMetadata': {'RequestId': 'fd3cdb08-a5a9-11e8-a2f4-85bf7e6bcf79', 'HTTPStatusCode': 200, 'HTTPHeaders': {'date': 'Wed, 22 Aug 2018 01:23:35 GMT', 'content-type': 'application/x-amz-json-1.1', 'content-length': '164', 'connection': 'keep-alive', 'x-amzn-requestid': 'fd3cdb08-a5a9-11e8-a2f4-85bf7e6bcf79'}, 'RetryAttempts': 0}}\n",
      "{'Sentiment': 'POSITIVE', 'SentimentScore': {'Positive': 0.9996933937072754, 'Negative': 4.912116651212273e-07, 'Neutral': 3.3281721698585898e-06, 'Mixed': 0.00030284258536994457}, 'ResponseMetadata': {'RequestId': 'fd4a493e-a5a9-11e8-b50d-8301a8898004', 'HTTPStatusCode': 200, 'HTTPHeaders': {'date': 'Wed, 22 Aug 2018 01:23:35 GMT', 'content-type': 'application/x-amz-json-1.1', 'content-length': '167', 'connection': 'keep-alive', 'x-amzn-requestid': 'fd4a493e-a5a9-11e8-b50d-8301a8898004'}, 'RetryAttempts': 0}}\n",
      "{'Sentiment': 'POSITIVE', 'SentimentScore': {'Positive': 0.8541128039360046, 'Negative': 0.0006714744376949966, 'Neutral': 0.1441894769668579, 'Mixed': 0.001026217476464808}, 'ResponseMetadata': {'RequestId': 'fd5767a6-a5a9-11e8-a9e9-659915761180', 'HTTPStatusCode': 200, 'HTTPHeaders': {'date': 'Wed, 22 Aug 2018 01:23:35 GMT', 'content-type': 'application/x-amz-json-1.1', 'content-length': '163', 'connection': 'keep-alive', 'x-amzn-requestid': 'fd5767a6-a5a9-11e8-a9e9-659915761180'}, 'RetryAttempts': 0}}\n",
      "{'Sentiment': 'POSITIVE', 'SentimentScore': {'Positive': 0.9990621209144592, 'Negative': 8.033113772398792e-06, 'Neutral': 0.0008073216304183006, 'Mixed': 0.0001225604210048914}, 'ResponseMetadata': {'RequestId': 'fd64ae84-a5a9-11e8-b2ca-f77ae9ee4acb', 'HTTPStatusCode': 200, 'HTTPHeaders': {'date': 'Wed, 22 Aug 2018 01:23:35 GMT', 'content-type': 'application/x-amz-json-1.1', 'content-length': '165', 'connection': 'keep-alive', 'x-amzn-requestid': 'fd64ae84-a5a9-11e8-b2ca-f77ae9ee4acb'}, 'RetryAttempts': 0}}\n",
      "{'Sentiment': 'POSITIVE', 'SentimentScore': {'Positive': 0.9915618300437927, 'Negative': 6.642787047894672e-05, 'Neutral': 0.007166493218392134, 'Mixed': 0.0012053537648171186}, 'ResponseMetadata': {'RequestId': 'fd71cde3-a5a9-11e8-9d3a-e5743fd937d0', 'HTTPStatusCode': 200, 'HTTPHeaders': {'date': 'Wed, 22 Aug 2018 01:23:35 GMT', 'content-type': 'application/x-amz-json-1.1', 'content-length': '166', 'connection': 'keep-alive', 'x-amzn-requestid': 'fd71cde3-a5a9-11e8-9d3a-e5743fd937d0'}, 'RetryAttempts': 0}}\n",
      "{'Sentiment': 'POSITIVE', 'SentimentScore': {'Positive': 0.963135302066803, 'Negative': 0.00011870389425894246, 'Neutral': 0.020120669156312943, 'Mixed': 0.016625335440039635}, 'ResponseMetadata': {'RequestId': 'fd826fc0-a5a9-11e8-b847-61cf5ece24ed', 'HTTPStatusCode': 200, 'HTTPHeaders': {'date': 'Wed, 22 Aug 2018 01:23:35 GMT', 'content-type': 'application/x-amz-json-1.1', 'content-length': '165', 'connection': 'keep-alive', 'x-amzn-requestid': 'fd826fc0-a5a9-11e8-b847-61cf5ece24ed'}, 'RetryAttempts': 0}}\n",
      "{'Sentiment': 'POSITIVE', 'SentimentScore': {'Positive': 0.8770058155059814, 'Negative': 0.015311488881707191, 'Neutral': 0.008396746590733528, 'Mixed': 0.09928598254919052}, 'ResponseMetadata': {'RequestId': 'fd902bad-a5a9-11e8-b93a-f1e2833c09ce', 'HTTPStatusCode': 200, 'HTTPHeaders': {'date': 'Wed, 22 Aug 2018 01:23:35 GMT', 'content-type': 'application/x-amz-json-1.1', 'content-length': '164', 'connection': 'keep-alive', 'x-amzn-requestid': 'fd902bad-a5a9-11e8-b93a-f1e2833c09ce'}, 'RetryAttempts': 0}}\n",
      "{'Sentiment': 'POSITIVE', 'SentimentScore': {'Positive': 0.8054980635643005, 'Negative': 0.032889124006032944, 'Neutral': 0.09735729545354843, 'Mixed': 0.0642554983496666}, 'ResponseMetadata': {'RequestId': 'fda6c10f-a5a9-11e8-b9eb-0d7d73fb2391', 'HTTPStatusCode': 200, 'HTTPHeaders': {'date': 'Wed, 22 Aug 2018 01:23:35 GMT', 'content-type': 'application/x-amz-json-1.1', 'content-length': '162', 'connection': 'keep-alive', 'x-amzn-requestid': 'fda6c10f-a5a9-11e8-b9eb-0d7d73fb2391'}, 'RetryAttempts': 0}}\n",
      "{'Sentiment': 'NEGATIVE', 'SentimentScore': {'Positive': 0.07547364383935928, 'Negative': 0.7043588757514954, 'Neutral': 0.021622292697429657, 'Mixed': 0.1985451877117157}, 'ResponseMetadata': {'RequestId': 'fdb58d3d-a5a9-11e8-9f0c-11ad878f42b4', 'HTTPStatusCode': 200, 'HTTPHeaders': {'date': 'Wed, 22 Aug 2018 01:23:35 GMT', 'content-type': 'application/x-amz-json-1.1', 'content-length': '162', 'connection': 'keep-alive', 'x-amzn-requestid': 'fdb58d3d-a5a9-11e8-9f0c-11ad878f42b4'}, 'RetryAttempts': 0}}\n"
     ]
    },
    {
     "name": "stdout",
     "output_type": "stream",
     "text": [
      "{'Sentiment': 'POSITIVE', 'SentimentScore': {'Positive': 0.5814893841743469, 'Negative': 0.06591051071882248, 'Neutral': 0.16992595791816711, 'Mixed': 0.18267416954040527}, 'ResponseMetadata': {'RequestId': 'fdc321c9-a5a9-11e8-a9e9-659915761180', 'HTTPStatusCode': 200, 'HTTPHeaders': {'date': 'Wed, 22 Aug 2018 01:23:36 GMT', 'content-type': 'application/x-amz-json-1.1', 'content-length': '162', 'connection': 'keep-alive', 'x-amzn-requestid': 'fdc321c9-a5a9-11e8-a9e9-659915761180'}, 'RetryAttempts': 0}}\n",
      "{'Sentiment': 'POSITIVE', 'SentimentScore': {'Positive': 0.9827654957771301, 'Negative': 0.0004517681954894215, 'Neutral': 0.015050506219267845, 'Mixed': 0.001732214237563312}, 'ResponseMetadata': {'RequestId': 'fdd43970-a5a9-11e8-88ee-89debf0a6076', 'HTTPStatusCode': 200, 'HTTPHeaders': {'date': 'Wed, 22 Aug 2018 01:23:36 GMT', 'content-type': 'application/x-amz-json-1.1', 'content-length': '165', 'connection': 'keep-alive', 'x-amzn-requestid': 'fdd43970-a5a9-11e8-88ee-89debf0a6076'}, 'RetryAttempts': 0}}\n",
      "{'Sentiment': 'POSITIVE', 'SentimentScore': {'Positive': 0.9946367144584656, 'Negative': 0.001005844445899129, 'Neutral': 0.002220380352810025, 'Mixed': 0.002137068659067154}, 'ResponseMetadata': {'RequestId': 'fde528f9-a5a9-11e8-bf20-e9c06e0a11d1', 'HTTPStatusCode': 200, 'HTTPHeaders': {'date': 'Wed, 22 Aug 2018 01:23:36 GMT', 'content-type': 'application/x-amz-json-1.1', 'content-length': '165', 'connection': 'keep-alive', 'x-amzn-requestid': 'fde528f9-a5a9-11e8-bf20-e9c06e0a11d1'}, 'RetryAttempts': 0}}\n",
      "{'Sentiment': 'POSITIVE', 'SentimentScore': {'Positive': 0.9102404713630676, 'Negative': 0.026567595079541206, 'Neutral': 0.05760764330625534, 'Mixed': 0.005584314931184053}, 'ResponseMetadata': {'RequestId': 'fdf8ff4f-a5a9-11e8-845a-674cd09bb0ce', 'HTTPStatusCode': 200, 'HTTPHeaders': {'date': 'Wed, 22 Aug 2018 01:23:36 GMT', 'content-type': 'application/x-amz-json-1.1', 'content-length': '164', 'connection': 'keep-alive', 'x-amzn-requestid': 'fdf8ff4f-a5a9-11e8-845a-674cd09bb0ce'}, 'RetryAttempts': 0}}\n",
      "{'Sentiment': 'POSITIVE', 'SentimentScore': {'Positive': 0.9979919195175171, 'Negative': 5.404513649409637e-05, 'Neutral': 0.0010998218785971403, 'Mixed': 0.00085421436233446}, 'ResponseMetadata': {'RequestId': 'fe06bb40-a5a9-11e8-b93a-f1e2833c09ce', 'HTTPStatusCode': 200, 'HTTPHeaders': {'date': 'Wed, 22 Aug 2018 01:23:36 GMT', 'content-type': 'application/x-amz-json-1.1', 'content-length': '164', 'connection': 'keep-alive', 'x-amzn-requestid': 'fe06bb40-a5a9-11e8-b93a-f1e2833c09ce'}, 'RetryAttempts': 0}}\n",
      "{'Sentiment': 'POSITIVE', 'SentimentScore': {'Positive': 0.9972432851791382, 'Negative': 0.00016702289576642215, 'Neutral': 0.0017365239327773452, 'Mixed': 0.0008531821076758206}, 'ResponseMetadata': {'RequestId': 'fe186e20-a5a9-11e8-ae3e-c1f1bbbc4558', 'HTTPStatusCode': 200, 'HTTPHeaders': {'date': 'Wed, 22 Aug 2018 01:23:36 GMT', 'content-type': 'application/x-amz-json-1.1', 'content-length': '167', 'connection': 'keep-alive', 'x-amzn-requestid': 'fe186e20-a5a9-11e8-ae3e-c1f1bbbc4558'}, 'RetryAttempts': 0}}\n",
      "{'Sentiment': 'POSITIVE', 'SentimentScore': {'Positive': 0.9992904663085938, 'Negative': 6.210853371158009e-06, 'Neutral': 0.00040992299909703434, 'Mixed': 0.0002933830546680838}, 'ResponseMetadata': {'RequestId': 'fe284c79-a5a9-11e8-bd5f-2d12aafa381c', 'HTTPStatusCode': 200, 'HTTPHeaders': {'date': 'Wed, 22 Aug 2018 01:23:36 GMT', 'content-type': 'application/x-amz-json-1.1', 'content-length': '166', 'connection': 'keep-alive', 'x-amzn-requestid': 'fe284c79-a5a9-11e8-bd5f-2d12aafa381c'}, 'RetryAttempts': 0}}\n",
      "{'Sentiment': 'POSITIVE', 'SentimentScore': {'Positive': 0.9065617322921753, 'Negative': 0.016485540196299553, 'Neutral': 0.011211113072931767, 'Mixed': 0.06574161350727081}, 'ResponseMetadata': {'RequestId': 'fe36f2aa-a5a9-11e8-ac20-bdca8459aef1', 'HTTPStatusCode': 200, 'HTTPHeaders': {'date': 'Wed, 22 Aug 2018 01:23:36 GMT', 'content-type': 'application/x-amz-json-1.1', 'content-length': '164', 'connection': 'keep-alive', 'x-amzn-requestid': 'fe36f2aa-a5a9-11e8-ac20-bdca8459aef1'}, 'RetryAttempts': 0}}\n",
      "{'Sentiment': 'POSITIVE', 'SentimentScore': {'Positive': 0.300076961517334, 'Negative': 0.2783828675746918, 'Neutral': 0.16882070899009705, 'Mixed': 0.2527194619178772}, 'ResponseMetadata': {'RequestId': 'fe46a9de-a5a9-11e8-b231-75341f50b1cb', 'HTTPStatusCode': 200, 'HTTPHeaders': {'date': 'Wed, 22 Aug 2018 01:23:36 GMT', 'content-type': 'application/x-amz-json-1.1', 'content-length': '159', 'connection': 'keep-alive', 'x-amzn-requestid': 'fe46a9de-a5a9-11e8-b231-75341f50b1cb'}, 'RetryAttempts': 0}}\n",
      "{'Sentiment': 'POSITIVE', 'SentimentScore': {'Positive': 0.9840248227119446, 'Negative': 0.00011034499038942158, 'Neutral': 0.01097835972905159, 'Mixed': 0.00488650007173419}, 'ResponseMetadata': {'RequestId': 'fe56882e-a5a9-11e8-81c3-ef4e8be5100f', 'HTTPStatusCode': 200, 'HTTPHeaders': {'date': 'Wed, 22 Aug 2018 01:23:37 GMT', 'content-type': 'application/x-amz-json-1.1', 'content-length': '164', 'connection': 'keep-alive', 'x-amzn-requestid': 'fe56882e-a5a9-11e8-81c3-ef4e8be5100f'}, 'RetryAttempts': 0}}\n",
      "{'Sentiment': 'POSITIVE', 'SentimentScore': {'Positive': 0.999568521976471, 'Negative': 1.5400089978356846e-05, 'Neutral': 0.00016324160969816148, 'Mixed': 0.0002528173790778965}, 'ResponseMetadata': {'RequestId': 'fe641d47-a5a9-11e8-805e-4377d030c79f', 'HTTPStatusCode': 200, 'HTTPHeaders': {'date': 'Wed, 22 Aug 2018 01:23:37 GMT', 'content-type': 'application/x-amz-json-1.1', 'content-length': '166', 'connection': 'keep-alive', 'x-amzn-requestid': 'fe641d47-a5a9-11e8-805e-4377d030c79f'}, 'RetryAttempts': 0}}\n",
      "{'Sentiment': 'POSITIVE', 'SentimentScore': {'Positive': 0.9983745813369751, 'Negative': 0.0003334452921990305, 'Neutral': 0.00018329462909605354, 'Mixed': 0.0011086788726970553}, 'ResponseMetadata': {'RequestId': 'fe716370-a5a9-11e8-bf20-e9c06e0a11d1', 'HTTPStatusCode': 200, 'HTTPHeaders': {'date': 'Wed, 22 Aug 2018 01:23:37 GMT', 'content-type': 'application/x-amz-json-1.1', 'content-length': '167', 'connection': 'keep-alive', 'x-amzn-requestid': 'fe716370-a5a9-11e8-bf20-e9c06e0a11d1'}, 'RetryAttempts': 0}}\n",
      "{'Sentiment': 'POSITIVE', 'SentimentScore': {'Positive': 0.9993399977684021, 'Negative': 2.627435424074065e-05, 'Neutral': 0.0004262467846274376, 'Mixed': 0.00020734884310513735}, 'ResponseMetadata': {'RequestId': 'fe7f942b-a5a9-11e8-85fc-133ac8d50853', 'HTTPStatusCode': 200, 'HTTPHeaders': {'date': 'Wed, 22 Aug 2018 01:23:37 GMT', 'content-type': 'application/x-amz-json-1.1', 'content-length': '166', 'connection': 'keep-alive', 'x-amzn-requestid': 'fe7f942b-a5a9-11e8-85fc-133ac8d50853'}, 'RetryAttempts': 0}}\n",
      "{'Sentiment': 'NEUTRAL', 'SentimentScore': {'Positive': 0.36965706944465637, 'Negative': 0.014265830628573895, 'Neutral': 0.5989879965782166, 'Mixed': 0.017089126631617546}, 'ResponseMetadata': {'RequestId': 'fe8d773f-a5a9-11e8-8f7d-cd5b090a526d', 'HTTPStatusCode': 200, 'HTTPHeaders': {'date': 'Wed, 22 Aug 2018 01:23:37 GMT', 'content-type': 'application/x-amz-json-1.1', 'content-length': '163', 'connection': 'keep-alive', 'x-amzn-requestid': 'fe8d773f-a5a9-11e8-8f7d-cd5b090a526d'}, 'RetryAttempts': 0}}\n",
      "{'Sentiment': 'POSITIVE', 'SentimentScore': {'Positive': 0.9983298182487488, 'Negative': 1.793446790543385e-05, 'Neutral': 0.0012387565802782774, 'Mixed': 0.0004133877228014171}, 'ResponseMetadata': {'RequestId': 'fe9a9673-a5a9-11e8-abaa-5bd9fb10e857', 'HTTPStatusCode': 200, 'HTTPHeaders': {'date': 'Wed, 22 Aug 2018 01:23:37 GMT', 'content-type': 'application/x-amz-json-1.1', 'content-length': '166', 'connection': 'keep-alive', 'x-amzn-requestid': 'fe9a9673-a5a9-11e8-abaa-5bd9fb10e857'}, 'RetryAttempts': 0}}\n",
      "{'Sentiment': 'POSITIVE', 'SentimentScore': {'Positive': 0.9954121708869934, 'Negative': 0.0001246882020495832, 'Neutral': 0.002884332090616226, 'Mixed': 0.001578794908709824}, 'ResponseMetadata': {'RequestId': 'feac97d8-a5a9-11e8-ae3e-c1f1bbbc4558', 'HTTPStatusCode': 200, 'HTTPHeaders': {'date': 'Wed, 22 Aug 2018 01:23:37 GMT', 'content-type': 'application/x-amz-json-1.1', 'content-length': '165', 'connection': 'keep-alive', 'x-amzn-requestid': 'feac97d8-a5a9-11e8-ae3e-c1f1bbbc4558'}, 'RetryAttempts': 0}}\n",
      "{'Sentiment': 'POSITIVE', 'SentimentScore': {'Positive': 0.9808449745178223, 'Negative': 0.0017769361147657037, 'Neutral': 0.013845770619809628, 'Mixed': 0.0035323079209774733}, 'ResponseMetadata': {'RequestId': 'febd3987-a5a9-11e8-a423-23f645849a04', 'HTTPStatusCode': 200, 'HTTPHeaders': {'date': 'Wed, 22 Aug 2018 01:23:37 GMT', 'content-type': 'application/x-amz-json-1.1', 'content-length': '167', 'connection': 'keep-alive', 'x-amzn-requestid': 'febd3987-a5a9-11e8-a423-23f645849a04'}, 'RetryAttempts': 0}}\n"
     ]
    },
    {
     "name": "stdout",
     "output_type": "stream",
     "text": [
      "{'Sentiment': 'POSITIVE', 'SentimentScore': {'Positive': 0.9987292885780334, 'Negative': 2.1403525352070574e-06, 'Neutral': 0.00034420014708302915, 'Mixed': 0.0009243388776667416}, 'ResponseMetadata': {'RequestId': 'fecec62f-a5a9-11e8-8c25-8dfaf9f702af', 'HTTPStatusCode': 200, 'HTTPHeaders': {'date': 'Wed, 22 Aug 2018 01:23:37 GMT', 'content-type': 'application/x-amz-json-1.1', 'content-length': '167', 'connection': 'keep-alive', 'x-amzn-requestid': 'fecec62f-a5a9-11e8-8c25-8dfaf9f702af'}, 'RetryAttempts': 0}}\n",
      "{'Sentiment': 'POSITIVE', 'SentimentScore': {'Positive': 0.9939129948616028, 'Negative': 8.663467451697215e-05, 'Neutral': 0.004626263398677111, 'Mixed': 0.001374106272123754}, 'ResponseMetadata': {'RequestId': 'fee1157c-a5a9-11e8-805e-4377d030c79f', 'HTTPStatusCode': 200, 'HTTPHeaders': {'date': 'Wed, 22 Aug 2018 01:23:37 GMT', 'content-type': 'application/x-amz-json-1.1', 'content-length': '165', 'connection': 'keep-alive', 'x-amzn-requestid': 'fee1157c-a5a9-11e8-805e-4377d030c79f'}, 'RetryAttempts': 0}}\n",
      "{'Sentiment': 'POSITIVE', 'SentimentScore': {'Positive': 0.9990052580833435, 'Negative': 9.594898983777966e-06, 'Neutral': 0.0006804510485380888, 'Mixed': 0.00030465045711025596}, 'ResponseMetadata': {'RequestId': 'fef364b5-a5a9-11e8-bf20-e9c06e0a11d1', 'HTTPStatusCode': 200, 'HTTPHeaders': {'date': 'Wed, 22 Aug 2018 01:23:38 GMT', 'content-type': 'application/x-amz-json-1.1', 'content-length': '166', 'connection': 'keep-alive', 'x-amzn-requestid': 'fef364b5-a5a9-11e8-bf20-e9c06e0a11d1'}, 'RetryAttempts': 0}}\n",
      "{'Sentiment': 'NEUTRAL', 'SentimentScore': {'Positive': 0.024397719651460648, 'Negative': 0.33283114433288574, 'Neutral': 0.6238749623298645, 'Mixed': 0.018896184861660004}, 'ResponseMetadata': {'RequestId': 'ff020ae2-a5a9-11e8-9d3a-e5743fd937d0', 'HTTPStatusCode': 200, 'HTTPHeaders': {'date': 'Wed, 22 Aug 2018 01:23:38 GMT', 'content-type': 'application/x-amz-json-1.1', 'content-length': '163', 'connection': 'keep-alive', 'x-amzn-requestid': 'ff020ae2-a5a9-11e8-9d3a-e5743fd937d0'}, 'RetryAttempts': 0}}\n",
      "{'Sentiment': 'MIXED', 'SentimentScore': {'Positive': 0.09407888352870941, 'Negative': 0.22090938687324524, 'Neutral': 0.1217879056930542, 'Mixed': 0.5632238984107971}, 'ResponseMetadata': {'RequestId': 'ff114cf3-a5a9-11e8-adac-f7604fed725b', 'HTTPStatusCode': 200, 'HTTPHeaders': {'date': 'Wed, 22 Aug 2018 01:23:38 GMT', 'content-type': 'application/x-amz-json-1.1', 'content-length': '158', 'connection': 'keep-alive', 'x-amzn-requestid': 'ff114cf3-a5a9-11e8-adac-f7604fed725b'}, 'RetryAttempts': 0}}\n",
      "{'Sentiment': 'POSITIVE', 'SentimentScore': {'Positive': 0.9519785046577454, 'Negative': 2.420096734567778e-06, 'Neutral': 0.047818202525377274, 'Mixed': 0.00020088869496248662}, 'ResponseMetadata': {'RequestId': 'ff20dd8b-a5a9-11e8-845a-674cd09bb0ce', 'HTTPStatusCode': 200, 'HTTPHeaders': {'date': 'Wed, 22 Aug 2018 01:23:38 GMT', 'content-type': 'application/x-amz-json-1.1', 'content-length': '166', 'connection': 'keep-alive', 'x-amzn-requestid': 'ff20dd8b-a5a9-11e8-845a-674cd09bb0ce'}, 'RetryAttempts': 0}}\n",
      "{'Sentiment': 'NEUTRAL', 'SentimentScore': {'Positive': 0.14032167196273804, 'Negative': 0.0020576894748955965, 'Neutral': 0.8504000306129456, 'Mixed': 0.007220534607768059}, 'ResponseMetadata': {'RequestId': 'ff2e23ff-a5a9-11e8-b847-61cf5ece24ed', 'HTTPStatusCode': 200, 'HTTPHeaders': {'date': 'Wed, 22 Aug 2018 01:23:38 GMT', 'content-type': 'application/x-amz-json-1.1', 'content-length': '164', 'connection': 'keep-alive', 'x-amzn-requestid': 'ff2e23ff-a5a9-11e8-b847-61cf5ece24ed'}, 'RetryAttempts': 0}}\n",
      "{'Sentiment': 'POSITIVE', 'SentimentScore': {'Positive': 0.9674474596977234, 'Negative': 3.8305031921481714e-05, 'Neutral': 0.031767264008522034, 'Mixed': 0.0007469653501175344}, 'ResponseMetadata': {'RequestId': 'ff3b1c3c-a5a9-11e8-ae3e-c1f1bbbc4558', 'HTTPStatusCode': 200, 'HTTPHeaders': {'date': 'Wed, 22 Aug 2018 01:23:38 GMT', 'content-type': 'application/x-amz-json-1.1', 'content-length': '166', 'connection': 'keep-alive', 'x-amzn-requestid': 'ff3b1c3c-a5a9-11e8-ae3e-c1f1bbbc4558'}, 'RetryAttempts': 0}}\n",
      "{'Sentiment': 'POSITIVE', 'SentimentScore': {'Positive': 0.9729605317115784, 'Negative': 4.7316483687609434e-05, 'Neutral': 0.025966987013816833, 'Mixed': 0.0010252391221001744}, 'ResponseMetadata': {'RequestId': 'ff4a5e1d-a5a9-11e8-9f0c-11ad878f42b4', 'HTTPStatusCode': 200, 'HTTPHeaders': {'date': 'Wed, 22 Aug 2018 01:23:38 GMT', 'content-type': 'application/x-amz-json-1.1', 'content-length': '167', 'connection': 'keep-alive', 'x-amzn-requestid': 'ff4a5e1d-a5a9-11e8-9f0c-11ad878f42b4'}, 'RetryAttempts': 0}}\n",
      "{'Sentiment': 'POSITIVE', 'SentimentScore': {'Positive': 0.9953246116638184, 'Negative': 4.487815385800786e-05, 'Neutral': 0.0004085914115421474, 'Mixed': 0.004221844952553511}, 'ResponseMetadata': {'RequestId': 'ff575723-a5a9-11e8-8c25-8dfaf9f702af', 'HTTPStatusCode': 200, 'HTTPHeaders': {'date': 'Wed, 22 Aug 2018 01:23:38 GMT', 'content-type': 'application/x-amz-json-1.1', 'content-length': '165', 'connection': 'keep-alive', 'x-amzn-requestid': 'ff575723-a5a9-11e8-8c25-8dfaf9f702af'}, 'RetryAttempts': 0}}\n",
      "{'Sentiment': 'POSITIVE', 'SentimentScore': {'Positive': 0.9621838927268982, 'Negative': 0.00039416964864358306, 'Neutral': 0.0005094623775221407, 'Mixed': 0.03691241890192032}, 'ResponseMetadata': {'RequestId': 'ff653919-a5a9-11e8-81c3-ef4e8be5100f', 'HTTPStatusCode': 200, 'HTTPHeaders': {'date': 'Wed, 22 Aug 2018 01:23:38 GMT', 'content-type': 'application/x-amz-json-1.1', 'content-length': '165', 'connection': 'keep-alive', 'x-amzn-requestid': 'ff653919-a5a9-11e8-81c3-ef4e8be5100f'}, 'RetryAttempts': 0}}\n",
      "{'Sentiment': 'POSITIVE', 'SentimentScore': {'Positive': 0.9586384296417236, 'Negative': 0.0012858589179813862, 'Neutral': 0.017182180657982826, 'Mixed': 0.022893520072102547}, 'ResponseMetadata': {'RequestId': 'ff720ae2-a5a9-11e8-805e-4377d030c79f', 'HTTPStatusCode': 200, 'HTTPHeaders': {'date': 'Wed, 22 Aug 2018 01:23:38 GMT', 'content-type': 'application/x-amz-json-1.1', 'content-length': '166', 'connection': 'keep-alive', 'x-amzn-requestid': 'ff720ae2-a5a9-11e8-805e-4377d030c79f'}, 'RetryAttempts': 0}}\n",
      "{'Sentiment': 'POSITIVE', 'SentimentScore': {'Positive': 0.9975957274436951, 'Negative': 2.463929558871314e-05, 'Neutral': 0.0019568740390241146, 'Mixed': 0.0004227458848617971}, 'ResponseMetadata': {'RequestId': 'ff7f9f93-a5a9-11e8-88ee-89debf0a6076', 'HTTPStatusCode': 200, 'HTTPHeaders': {'date': 'Wed, 22 Aug 2018 01:23:38 GMT', 'content-type': 'application/x-amz-json-1.1', 'content-length': '166', 'connection': 'keep-alive', 'x-amzn-requestid': 'ff7f9f93-a5a9-11e8-88ee-89debf0a6076'}, 'RetryAttempts': 0}}\n",
      "{'Sentiment': 'POSITIVE', 'SentimentScore': {'Positive': 0.9388597011566162, 'Negative': 0.0010458618635311723, 'Neutral': 0.015161373652517796, 'Mixed': 0.04493303969502449}, 'ResponseMetadata': {'RequestId': 'ff8d0c96-a5a9-11e8-85fc-133ac8d50853', 'HTTPStatusCode': 200, 'HTTPHeaders': {'date': 'Wed, 22 Aug 2018 01:23:39 GMT', 'content-type': 'application/x-amz-json-1.1', 'content-length': '165', 'connection': 'keep-alive', 'x-amzn-requestid': 'ff8d0c96-a5a9-11e8-85fc-133ac8d50853'}, 'RetryAttempts': 0}}\n",
      "{'Sentiment': 'POSITIVE', 'SentimentScore': {'Positive': 0.9923608899116516, 'Negative': 0.0003851163201034069, 'Neutral': 0.005832764320075512, 'Mixed': 0.001421375316567719}, 'ResponseMetadata': {'RequestId': 'ff9d128b-a5a9-11e8-8f7d-cd5b090a526d', 'HTTPStatusCode': 200, 'HTTPHeaders': {'date': 'Wed, 22 Aug 2018 01:23:39 GMT', 'content-type': 'application/x-amz-json-1.1', 'content-length': '165', 'connection': 'keep-alive', 'x-amzn-requestid': 'ff9d128b-a5a9-11e8-8f7d-cd5b090a526d'}, 'RetryAttempts': 0}}\n",
      "{'Sentiment': 'POSITIVE', 'SentimentScore': {'Positive': 0.9285687208175659, 'Negative': 0.0020148493349552155, 'Neutral': 0.004317308310419321, 'Mixed': 0.06509911268949509}, 'ResponseMetadata': {'RequestId': 'ffaa0ac6-a5a9-11e8-b847-61cf5ece24ed', 'HTTPStatusCode': 200, 'HTTPHeaders': {'date': 'Wed, 22 Aug 2018 01:23:39 GMT', 'content-type': 'application/x-amz-json-1.1', 'content-length': '165', 'connection': 'keep-alive', 'x-amzn-requestid': 'ffaa0ac6-a5a9-11e8-b847-61cf5ece24ed'}, 'RetryAttempts': 0}}\n",
      "{'Sentiment': 'NEUTRAL', 'SentimentScore': {'Positive': 0.21405892074108124, 'Negative': 0.0002868128940463066, 'Neutral': 0.7840958833694458, 'Mixed': 0.0015584412030875683}, 'ResponseMetadata': {'RequestId': 'ffb81473-a5a9-11e8-ae3e-c1f1bbbc4558', 'HTTPStatusCode': 200, 'HTTPHeaders': {'date': 'Wed, 22 Aug 2018 01:23:39 GMT', 'content-type': 'application/x-amz-json-1.1', 'content-length': '164', 'connection': 'keep-alive', 'x-amzn-requestid': 'ffb81473-a5a9-11e8-ae3e-c1f1bbbc4558'}, 'RetryAttempts': 0}}\n"
     ]
    },
    {
     "name": "stdout",
     "output_type": "stream",
     "text": [
      "{'Sentiment': 'POSITIVE', 'SentimentScore': {'Positive': 0.9723666310310364, 'Negative': 0.00010024236689787358, 'Neutral': 0.027080731466412544, 'Mixed': 0.00045238310121931136}, 'ResponseMetadata': {'RequestId': 'ffc9046a-a5a9-11e8-ac20-bdca8459aef1', 'HTTPStatusCode': 200, 'HTTPHeaders': {'date': 'Wed, 22 Aug 2018 01:23:39 GMT', 'content-type': 'application/x-amz-json-1.1', 'content-length': '167', 'connection': 'keep-alive', 'x-amzn-requestid': 'ffc9046a-a5a9-11e8-ac20-bdca8459aef1'}, 'RetryAttempts': 0}}\n",
      "{'Sentiment': 'NEUTRAL', 'SentimentScore': {'Positive': 0.028966572135686874, 'Negative': 0.008992932736873627, 'Neutral': 0.9593253135681152, 'Mixed': 0.002715212060138583}, 'ResponseMetadata': {'RequestId': 'ffd64a9f-a5a9-11e8-b231-75341f50b1cb', 'HTTPStatusCode': 200, 'HTTPHeaders': {'date': 'Wed, 22 Aug 2018 01:23:39 GMT', 'content-type': 'application/x-amz-json-1.1', 'content-length': '164', 'connection': 'keep-alive', 'x-amzn-requestid': 'ffd64a9f-a5a9-11e8-b231-75341f50b1cb'}, 'RetryAttempts': 0}}\n",
      "{'Sentiment': 'POSITIVE', 'SentimentScore': {'Positive': 0.9983837604522705, 'Negative': 8.43835459818365e-06, 'Neutral': 0.00134149263612926, 'Mixed': 0.0002663440827745944}, 'ResponseMetadata': {'RequestId': 'ffe4a24e-a5a9-11e8-81c3-ef4e8be5100f', 'HTTPStatusCode': 200, 'HTTPHeaders': {'date': 'Wed, 22 Aug 2018 01:23:39 GMT', 'content-type': 'application/x-amz-json-1.1', 'content-length': '163', 'connection': 'keep-alive', 'x-amzn-requestid': 'ffe4a24e-a5a9-11e8-81c3-ef4e8be5100f'}, 'RetryAttempts': 0}}\n",
      "{'Sentiment': 'POSITIVE', 'SentimentScore': {'Positive': 0.9992050528526306, 'Negative': 1.8418748368276283e-05, 'Neutral': 0.0004960682708770037, 'Mixed': 0.00028044384089298546}, 'ResponseMetadata': {'RequestId': 'fff19b4c-a5a9-11e8-ad19-e94911d6863f', 'HTTPStatusCode': 200, 'HTTPHeaders': {'date': 'Wed, 22 Aug 2018 01:23:39 GMT', 'content-type': 'application/x-amz-json-1.1', 'content-length': '167', 'connection': 'keep-alive', 'x-amzn-requestid': 'fff19b4c-a5a9-11e8-ad19-e94911d6863f'}, 'RetryAttempts': 0}}\n",
      "{'Sentiment': 'POSITIVE', 'SentimentScore': {'Positive': 0.7437241077423096, 'Negative': 0.012811359949409962, 'Neutral': 0.23825913667678833, 'Mixed': 0.0052053178660571575}, 'ResponseMetadata': {'RequestId': '0001a09d-a5aa-11e8-9d3a-e5743fd937d0', 'HTTPStatusCode': 200, 'HTTPHeaders': {'date': 'Wed, 22 Aug 2018 01:23:39 GMT', 'content-type': 'application/x-amz-json-1.1', 'content-length': '165', 'connection': 'keep-alive', 'x-amzn-requestid': '0001a09d-a5aa-11e8-9d3a-e5743fd937d0'}, 'RetryAttempts': 0}}\n",
      "{'Sentiment': 'POSITIVE', 'SentimentScore': {'Positive': 0.998833954334259, 'Negative': 6.791913619963452e-06, 'Neutral': 0.0004743417666759342, 'Mixed': 0.0006849202909506857}, 'ResponseMetadata': {'RequestId': '000ff894-a5aa-11e8-a54c-579d1aae2c6e', 'HTTPStatusCode': 200, 'HTTPHeaders': {'date': 'Wed, 22 Aug 2018 01:23:39 GMT', 'content-type': 'application/x-amz-json-1.1', 'content-length': '164', 'connection': 'keep-alive', 'x-amzn-requestid': '000ff894-a5aa-11e8-a54c-579d1aae2c6e'}, 'RetryAttempts': 0}}\n",
      "{'Sentiment': 'POSITIVE', 'SentimentScore': {'Positive': 0.9740419387817383, 'Negative': 0.00045907479943707585, 'Neutral': 0.0026526828296482563, 'Mixed': 0.02284630388021469}, 'ResponseMetadata': {'RequestId': '0021f992-a5aa-11e8-94da-d5c7ea9d7817', 'HTTPStatusCode': 200, 'HTTPHeaders': {'date': 'Wed, 22 Aug 2018 01:23:40 GMT', 'content-type': 'application/x-amz-json-1.1', 'content-length': '166', 'connection': 'keep-alive', 'x-amzn-requestid': '0021f992-a5aa-11e8-94da-d5c7ea9d7817'}, 'RetryAttempts': 0}}\n",
      "{'Sentiment': 'POSITIVE', 'SentimentScore': {'Positive': 0.974927544593811, 'Negative': 0.006148957647383213, 'Neutral': 0.002393735107034445, 'Mixed': 0.016529623419046402}, 'ResponseMetadata': {'RequestId': '00324d0a-a5aa-11e8-b9eb-0d7d73fb2391', 'HTTPStatusCode': 200, 'HTTPHeaders': {'date': 'Wed, 22 Aug 2018 01:23:40 GMT', 'content-type': 'application/x-amz-json-1.1', 'content-length': '164', 'connection': 'keep-alive', 'x-amzn-requestid': '00324d0a-a5aa-11e8-b9eb-0d7d73fb2391'}, 'RetryAttempts': 0}}\n",
      "{'Sentiment': 'POSITIVE', 'SentimentScore': {'Positive': 0.7281316518783569, 'Negative': 0.025166446343064308, 'Neutral': 0.028077637776732445, 'Mixed': 0.21862423419952393}, 'ResponseMetadata': {'RequestId': '004427b6-a5aa-11e8-a2f4-85bf7e6bcf79', 'HTTPStatusCode': 200, 'HTTPHeaders': {'date': 'Wed, 22 Aug 2018 01:23:40 GMT', 'content-type': 'application/x-amz-json-1.1', 'content-length': '164', 'connection': 'keep-alive', 'x-amzn-requestid': '004427b6-a5aa-11e8-a2f4-85bf7e6bcf79'}, 'RetryAttempts': 0}}\n",
      "{'Sentiment': 'POSITIVE', 'SentimentScore': {'Positive': 0.9922882318496704, 'Negative': 0.0005417290958575904, 'Neutral': 0.005522112362086773, 'Mixed': 0.001647853758186102}, 'ResponseMetadata': {'RequestId': '00520a54-a5aa-11e8-b231-75341f50b1cb', 'HTTPStatusCode': 200, 'HTTPHeaders': {'date': 'Wed, 22 Aug 2018 01:23:40 GMT', 'content-type': 'application/x-amz-json-1.1', 'content-length': '165', 'connection': 'keep-alive', 'x-amzn-requestid': '00520a54-a5aa-11e8-b231-75341f50b1cb'}, 'RetryAttempts': 0}}\n",
      "{'Sentiment': 'POSITIVE', 'SentimentScore': {'Positive': 0.5784701704978943, 'Negative': 0.1343551129102707, 'Neutral': 0.08288443088531494, 'Mixed': 0.20429033041000366}, 'ResponseMetadata': {'RequestId': '005fed5c-a5aa-11e8-805e-4377d030c79f', 'HTTPStatusCode': 200, 'HTTPHeaders': {'date': 'Wed, 22 Aug 2018 01:23:40 GMT', 'content-type': 'application/x-amz-json-1.1', 'content-length': '161', 'connection': 'keep-alive', 'x-amzn-requestid': '005fed5c-a5aa-11e8-805e-4377d030c79f'}, 'RetryAttempts': 0}}\n",
      "{'Sentiment': 'POSITIVE', 'SentimentScore': {'Positive': 0.998580813407898, 'Negative': 6.416137330234051e-05, 'Neutral': 0.001000854535959661, 'Mixed': 0.00035415575257502496}, 'ResponseMetadata': {'RequestId': '006e6c02-a5aa-11e8-adac-f7604fed725b', 'HTTPStatusCode': 200, 'HTTPHeaders': {'date': 'Wed, 22 Aug 2018 01:23:40 GMT', 'content-type': 'application/x-amz-json-1.1', 'content-length': '165', 'connection': 'keep-alive', 'x-amzn-requestid': '006e6c02-a5aa-11e8-adac-f7604fed725b'}, 'RetryAttempts': 0}}\n",
      "{'Sentiment': 'POSITIVE', 'SentimentScore': {'Positive': 0.9779966473579407, 'Negative': 7.609282329212874e-05, 'Neutral': 0.021150605753064156, 'Mixed': 0.0007765925256535411}, 'ResponseMetadata': {'RequestId': '007d8756-a5aa-11e8-abaa-5bd9fb10e857', 'HTTPStatusCode': 200, 'HTTPHeaders': {'date': 'Wed, 22 Aug 2018 01:23:40 GMT', 'content-type': 'application/x-amz-json-1.1', 'content-length': '165', 'connection': 'keep-alive', 'x-amzn-requestid': '007d8756-a5aa-11e8-abaa-5bd9fb10e857'}, 'RetryAttempts': 0}}\n",
      "{'Sentiment': 'POSITIVE', 'SentimentScore': {'Positive': 0.9714194536209106, 'Negative': 0.0013629712630063295, 'Neutral': 0.01644914224743843, 'Mixed': 0.010768405161798}, 'ResponseMetadata': {'RequestId': '008af53b-a5aa-11e8-b93a-f1e2833c09ce', 'HTTPStatusCode': 200, 'HTTPHeaders': {'date': 'Wed, 22 Aug 2018 01:23:40 GMT', 'content-type': 'application/x-amz-json-1.1', 'content-length': '162', 'connection': 'keep-alive', 'x-amzn-requestid': '008af53b-a5aa-11e8-b93a-f1e2833c09ce'}, 'RetryAttempts': 0}}\n",
      "{'Sentiment': 'POSITIVE', 'SentimentScore': {'Positive': 0.9980154037475586, 'Negative': 3.9856873627286404e-05, 'Neutral': 0.000610215007327497, 'Mixed': 0.001334490138106048}, 'ResponseMetadata': {'RequestId': '0098896a-a5aa-11e8-ae3e-c1f1bbbc4558', 'HTTPStatusCode': 200, 'HTTPHeaders': {'date': 'Wed, 22 Aug 2018 01:23:40 GMT', 'content-type': 'application/x-amz-json-1.1', 'content-length': '165', 'connection': 'keep-alive', 'x-amzn-requestid': '0098896a-a5aa-11e8-ae3e-c1f1bbbc4558'}, 'RetryAttempts': 0}}\n",
      "{'Sentiment': 'POSITIVE', 'SentimentScore': {'Positive': 0.9972892999649048, 'Negative': 0.0001777080469764769, 'Neutral': 0.00043318798998370767, 'Mixed': 0.0020997775718569756}, 'ResponseMetadata': {'RequestId': '00a7cbb3-a5aa-11e8-ac20-bdca8459aef1', 'HTTPStatusCode': 200, 'HTTPHeaders': {'date': 'Wed, 22 Aug 2018 01:23:40 GMT', 'content-type': 'application/x-amz-json-1.1', 'content-length': '167', 'connection': 'keep-alive', 'x-amzn-requestid': '00a7cbb3-a5aa-11e8-ac20-bdca8459aef1'}, 'RetryAttempts': 0}}\n",
      "{'Sentiment': 'POSITIVE', 'SentimentScore': {'Positive': 0.9953759908676147, 'Negative': 3.347983511048369e-05, 'Neutral': 0.0038050857838243246, 'Mixed': 0.0007854245486669242}, 'ResponseMetadata': {'RequestId': '00b49c86-a5aa-11e8-81c3-ef4e8be5100f', 'HTTPStatusCode': 200, 'HTTPHeaders': {'date': 'Wed, 22 Aug 2018 01:23:40 GMT', 'content-type': 'application/x-amz-json-1.1', 'content-length': '166', 'connection': 'keep-alive', 'x-amzn-requestid': '00b49c86-a5aa-11e8-81c3-ef4e8be5100f'}, 'RetryAttempts': 0}}\n",
      "{'Sentiment': 'POSITIVE', 'SentimentScore': {'Positive': 0.9996790885925293, 'Negative': 1.3297241139298421e-06, 'Neutral': 8.463145786663517e-05, 'Mixed': 0.0002350046852370724}, 'ResponseMetadata': {'RequestId': '00c1955e-a5aa-11e8-805e-4377d030c79f', 'HTTPStatusCode': 200, 'HTTPHeaders': {'date': 'Wed, 22 Aug 2018 01:23:41 GMT', 'content-type': 'application/x-amz-json-1.1', 'content-length': '166', 'connection': 'keep-alive', 'x-amzn-requestid': '00c1955e-a5aa-11e8-805e-4377d030c79f'}, 'RetryAttempts': 0}}\n",
      "{'Sentiment': 'POSITIVE', 'SentimentScore': {'Positive': 0.47072556614875793, 'Negative': 0.08503030240535736, 'Neutral': 0.011519758962094784, 'Mixed': 0.4327244162559509}, 'ResponseMetadata': {'RequestId': '00d03ba6-a5aa-11e8-bc99-03ea29243f9b', 'HTTPStatusCode': 200, 'HTTPHeaders': {'date': 'Wed, 22 Aug 2018 01:23:41 GMT', 'content-type': 'application/x-amz-json-1.1', 'content-length': '163', 'connection': 'keep-alive', 'x-amzn-requestid': '00d03ba6-a5aa-11e8-bc99-03ea29243f9b'}, 'RetryAttempts': 0}}\n"
     ]
    },
    {
     "name": "stdout",
     "output_type": "stream",
     "text": [
      "{'Sentiment': 'POSITIVE', 'SentimentScore': {'Positive': 0.9630517363548279, 'Negative': 0.004738215822726488, 'Neutral': 0.004281939938664436, 'Mixed': 0.027928048744797707}, 'ResponseMetadata': {'RequestId': '00ddf6b8-a5aa-11e8-bf20-e9c06e0a11d1', 'HTTPStatusCode': 200, 'HTTPHeaders': {'date': 'Wed, 22 Aug 2018 01:23:41 GMT', 'content-type': 'application/x-amz-json-1.1', 'content-length': '165', 'connection': 'keep-alive', 'x-amzn-requestid': '00ddf6b8-a5aa-11e8-bf20-e9c06e0a11d1'}, 'RetryAttempts': 0}}\n",
      "{'Sentiment': 'NEUTRAL', 'SentimentScore': {'Positive': 0.478414386510849, 'Negative': 1.5910720321699046e-05, 'Neutral': 0.5213095545768738, 'Mixed': 0.00026022730162367225}, 'ResponseMetadata': {'RequestId': '00ecc3c6-a5aa-11e8-adac-f7604fed725b', 'HTTPStatusCode': 200, 'HTTPHeaders': {'date': 'Wed, 22 Aug 2018 01:23:41 GMT', 'content-type': 'application/x-amz-json-1.1', 'content-length': '163', 'connection': 'keep-alive', 'x-amzn-requestid': '00ecc3c6-a5aa-11e8-adac-f7604fed725b'}, 'RetryAttempts': 0}}\n",
      "{'Sentiment': 'POSITIVE', 'SentimentScore': {'Positive': 0.4807710647583008, 'Negative': 0.3538677394390106, 'Neutral': 0.0725608542561531, 'Mixed': 0.09280038625001907}, 'ResponseMetadata': {'RequestId': '00f9e34a-a5aa-11e8-abaa-5bd9fb10e857', 'HTTPStatusCode': 200, 'HTTPHeaders': {'date': 'Wed, 22 Aug 2018 01:23:41 GMT', 'content-type': 'application/x-amz-json-1.1', 'content-length': '160', 'connection': 'keep-alive', 'x-amzn-requestid': '00f9e34a-a5aa-11e8-abaa-5bd9fb10e857'}, 'RetryAttempts': 0}}\n",
      "{'Sentiment': 'POSITIVE', 'SentimentScore': {'Positive': 0.9702370166778564, 'Negative': 0.00013921003846917301, 'Neutral': 0.028244879096746445, 'Mixed': 0.0013789426302537322}, 'ResponseMetadata': {'RequestId': '01099a79-a5aa-11e8-94da-d5c7ea9d7817', 'HTTPStatusCode': 200, 'HTTPHeaders': {'date': 'Wed, 22 Aug 2018 01:23:41 GMT', 'content-type': 'application/x-amz-json-1.1', 'content-length': '167', 'connection': 'keep-alive', 'x-amzn-requestid': '01099a79-a5aa-11e8-94da-d5c7ea9d7817'}, 'RetryAttempts': 0}}\n",
      "{'Sentiment': 'POSITIVE', 'SentimentScore': {'Positive': 0.9977355003356934, 'Negative': 9.278402103518602e-06, 'Neutral': 0.0013962546363472939, 'Mixed': 0.0008590045035816729}, 'ResponseMetadata': {'RequestId': '01161db6-a5aa-11e8-bd5f-2d12aafa381c', 'HTTPStatusCode': 200, 'HTTPHeaders': {'date': 'Wed, 22 Aug 2018 01:23:41 GMT', 'content-type': 'application/x-amz-json-1.1', 'content-length': '166', 'connection': 'keep-alive', 'x-amzn-requestid': '01161db6-a5aa-11e8-bd5f-2d12aafa381c'}, 'RetryAttempts': 0}}\n",
      "{'Sentiment': 'POSITIVE', 'SentimentScore': {'Positive': 0.9886399507522583, 'Negative': 0.0006771318148821592, 'Neutral': 0.0011355255264788866, 'Mixed': 0.00954748596996069}, 'ResponseMetadata': {'RequestId': '0123d9d5-a5aa-11e8-8c25-8dfaf9f702af', 'HTTPStatusCode': 200, 'HTTPHeaders': {'date': 'Wed, 22 Aug 2018 01:23:41 GMT', 'content-type': 'application/x-amz-json-1.1', 'content-length': '165', 'connection': 'keep-alive', 'x-amzn-requestid': '0123d9d5-a5aa-11e8-8c25-8dfaf9f702af'}, 'RetryAttempts': 0}}\n",
      "{'Sentiment': 'NEGATIVE', 'SentimentScore': {'Positive': 0.0018602045020088553, 'Negative': 0.9107353091239929, 'Neutral': 0.0023041171953082085, 'Mixed': 0.08510030061006546}, 'ResponseMetadata': {'RequestId': '0136289a-a5aa-11e8-81c3-ef4e8be5100f', 'HTTPStatusCode': 200, 'HTTPHeaders': {'date': 'Wed, 22 Aug 2018 01:23:41 GMT', 'content-type': 'application/x-amz-json-1.1', 'content-length': '166', 'connection': 'keep-alive', 'x-amzn-requestid': '0136289a-a5aa-11e8-81c3-ef4e8be5100f'}, 'RetryAttempts': 0}}\n",
      "{'Sentiment': 'NEGATIVE', 'SentimentScore': {'Positive': 0.015620713122189045, 'Negative': 0.7696731686592102, 'Neutral': 0.01067771390080452, 'Mixed': 0.20402838289737701}, 'ResponseMetadata': {'RequestId': '01462efa-a5aa-11e8-bc99-03ea29243f9b', 'HTTPStatusCode': 200, 'HTTPHeaders': {'date': 'Wed, 22 Aug 2018 01:23:41 GMT', 'content-type': 'application/x-amz-json-1.1', 'content-length': '163', 'connection': 'keep-alive', 'x-amzn-requestid': '01462efa-a5aa-11e8-bc99-03ea29243f9b'}, 'RetryAttempts': 0}}\n",
      "{'Sentiment': 'NEGATIVE', 'SentimentScore': {'Positive': 0.0004047589609399438, 'Negative': 0.9888666272163391, 'Neutral': 0.0031738129910081625, 'Mixed': 0.007554659619927406}, 'ResponseMetadata': {'RequestId': '0153c329-a5aa-11e8-9d3a-e5743fd937d0', 'HTTPStatusCode': 200, 'HTTPHeaders': {'date': 'Wed, 22 Aug 2018 01:23:42 GMT', 'content-type': 'application/x-amz-json-1.1', 'content-length': '166', 'connection': 'keep-alive', 'x-amzn-requestid': '0153c329-a5aa-11e8-9d3a-e5743fd937d0'}, 'RetryAttempts': 0}}\n",
      "{'Sentiment': 'NEGATIVE', 'SentimentScore': {'Positive': 0.13865219056606293, 'Negative': 0.7245215773582458, 'Neutral': 0.03510438650846481, 'Mixed': 0.101721853017807}, 'ResponseMetadata': {'RequestId': '016157db-a5aa-11e8-8f7d-cd5b090a526d', 'HTTPStatusCode': 200, 'HTTPHeaders': {'date': 'Wed, 22 Aug 2018 01:23:42 GMT', 'content-type': 'application/x-amz-json-1.1', 'content-length': '160', 'connection': 'keep-alive', 'x-amzn-requestid': '016157db-a5aa-11e8-8f7d-cd5b090a526d'}, 'RetryAttempts': 0}}\n",
      "{'Sentiment': 'NEGATIVE', 'SentimentScore': {'Positive': 0.042824242264032364, 'Negative': 0.7246061563491821, 'Neutral': 0.16163566708564758, 'Mixed': 0.07093393802642822}, 'ResponseMetadata': {'RequestId': '01704c32-a5aa-11e8-b93a-f1e2833c09ce', 'HTTPStatusCode': 200, 'HTTPHeaders': {'date': 'Wed, 22 Aug 2018 01:23:42 GMT', 'content-type': 'application/x-amz-json-1.1', 'content-length': '163', 'connection': 'keep-alive', 'x-amzn-requestid': '01704c32-a5aa-11e8-b93a-f1e2833c09ce'}, 'RetryAttempts': 0}}\n",
      "{'Sentiment': 'POSITIVE', 'SentimentScore': {'Positive': 0.8854448795318604, 'Negative': 0.014478998258709908, 'Neutral': 0.063878633081913, 'Mixed': 0.036197636276483536}, 'ResponseMetadata': {'RequestId': '017ccef2-a5aa-11e8-ae3e-c1f1bbbc4558', 'HTTPStatusCode': 200, 'HTTPHeaders': {'date': 'Wed, 22 Aug 2018 01:23:42 GMT', 'content-type': 'application/x-amz-json-1.1', 'content-length': '162', 'connection': 'keep-alive', 'x-amzn-requestid': '017ccef2-a5aa-11e8-ae3e-c1f1bbbc4558'}, 'RetryAttempts': 0}}\n",
      "{'Sentiment': 'NEGATIVE', 'SentimentScore': {'Positive': 0.03682888671755791, 'Negative': 0.7913128733634949, 'Neutral': 0.11253105103969574, 'Mixed': 0.05932718515396118}, 'ResponseMetadata': {'RequestId': '01897979-a5aa-11e8-8c25-8dfaf9f702af', 'HTTPStatusCode': 200, 'HTTPHeaders': {'date': 'Wed, 22 Aug 2018 01:23:42 GMT', 'content-type': 'application/x-amz-json-1.1', 'content-length': '162', 'connection': 'keep-alive', 'x-amzn-requestid': '01897979-a5aa-11e8-8c25-8dfaf9f702af'}, 'RetryAttempts': 0}}\n",
      "{'Sentiment': 'NEGATIVE', 'SentimentScore': {'Positive': 0.029113467782735825, 'Negative': 0.8446711897850037, 'Neutral': 0.0195052120834589, 'Mixed': 0.10671012103557587}, 'ResponseMetadata': {'RequestId': '01986d8c-a5aa-11e8-ad19-e94911d6863f', 'HTTPStatusCode': 200, 'HTTPHeaders': {'date': 'Wed, 22 Aug 2018 01:23:42 GMT', 'content-type': 'application/x-amz-json-1.1', 'content-length': '162', 'connection': 'keep-alive', 'x-amzn-requestid': '01986d8c-a5aa-11e8-ad19-e94911d6863f'}, 'RetryAttempts': 0}}\n",
      "{'Sentiment': 'NEGATIVE', 'SentimentScore': {'Positive': 0.01920042186975479, 'Negative': 0.5249186158180237, 'Neutral': 0.003076802473515272, 'Mixed': 0.4528041481971741}, 'ResponseMetadata': {'RequestId': '01a6017b-a5aa-11e8-9c69-7db1af1277f0', 'HTTPStatusCode': 200, 'HTTPHeaders': {'date': 'Wed, 22 Aug 2018 01:23:42 GMT', 'content-type': 'application/x-amz-json-1.1', 'content-length': '162', 'connection': 'keep-alive', 'x-amzn-requestid': '01a6017b-a5aa-11e8-9c69-7db1af1277f0'}, 'RetryAttempts': 0}}\n",
      "{'Sentiment': 'NEGATIVE', 'SentimentScore': {'Positive': 0.0007520212675444782, 'Negative': 0.9911853671073914, 'Neutral': 0.0011765100061893463, 'Mixed': 0.006886064540594816}, 'ResponseMetadata': {'RequestId': '01b40b6f-a5aa-11e8-adac-f7604fed725b', 'HTTPStatusCode': 200, 'HTTPHeaders': {'date': 'Wed, 22 Aug 2018 01:23:42 GMT', 'content-type': 'application/x-amz-json-1.1', 'content-length': '166', 'connection': 'keep-alive', 'x-amzn-requestid': '01b40b6f-a5aa-11e8-adac-f7604fed725b'}, 'RetryAttempts': 0}}\n",
      "{'Sentiment': 'NEGATIVE', 'SentimentScore': {'Positive': 0.0005770805873908103, 'Negative': 0.997643768787384, 'Neutral': 0.0007485332316718996, 'Mixed': 0.0010306850308552384}, 'ResponseMetadata': {'RequestId': '01c0b5d9-a5aa-11e8-b847-61cf5ece24ed', 'HTTPStatusCode': 200, 'HTTPHeaders': {'date': 'Wed, 22 Aug 2018 01:23:42 GMT', 'content-type': 'application/x-amz-json-1.1', 'content-length': '165', 'connection': 'keep-alive', 'x-amzn-requestid': '01c0b5d9-a5aa-11e8-b847-61cf5ece24ed'}, 'RetryAttempts': 0}}\n"
     ]
    },
    {
     "name": "stdout",
     "output_type": "stream",
     "text": [
      "{'Sentiment': 'NEGATIVE', 'SentimentScore': {'Positive': 0.13394340872764587, 'Negative': 0.7626647353172302, 'Neutral': 0.026103921234607697, 'Mixed': 0.07728797197341919}, 'ResponseMetadata': {'RequestId': '01ce2301-a5aa-11e8-94da-d5c7ea9d7817', 'HTTPStatusCode': 200, 'HTTPHeaders': {'date': 'Wed, 22 Aug 2018 01:23:42 GMT', 'content-type': 'application/x-amz-json-1.1', 'content-length': '163', 'connection': 'keep-alive', 'x-amzn-requestid': '01ce2301-a5aa-11e8-94da-d5c7ea9d7817'}, 'RetryAttempts': 0}}\n",
      "{'Sentiment': 'NEUTRAL', 'SentimentScore': {'Positive': 0.014684091322124004, 'Negative': 0.43577054142951965, 'Neutral': 0.5117200016975403, 'Mixed': 0.037825316190719604}, 'ResponseMetadata': {'RequestId': '01e7c591-a5aa-11e8-b231-75341f50b1cb', 'HTTPStatusCode': 200, 'HTTPHeaders': {'date': 'Wed, 22 Aug 2018 01:23:43 GMT', 'content-type': 'application/x-amz-json-1.1', 'content-length': '163', 'connection': 'keep-alive', 'x-amzn-requestid': '01e7c591-a5aa-11e8-b231-75341f50b1cb'}, 'RetryAttempts': 0}}\n",
      "{'Sentiment': 'NEGATIVE', 'SentimentScore': {'Positive': 0.0006269901641644537, 'Negative': 0.9817959666252136, 'Neutral': 0.0008000138332135975, 'Mixed': 0.016777120530605316}, 'ResponseMetadata': {'RequestId': '01f64467-a5aa-11e8-bd73-35d8d2ee0e50', 'HTTPStatusCode': 200, 'HTTPHeaders': {'date': 'Wed, 22 Aug 2018 01:23:43 GMT', 'content-type': 'application/x-amz-json-1.1', 'content-length': '165', 'connection': 'keep-alive', 'x-amzn-requestid': '01f64467-a5aa-11e8-bd73-35d8d2ee0e50'}, 'RetryAttempts': 0}}\n",
      "{'Sentiment': 'NEGATIVE', 'SentimentScore': {'Positive': 0.37554308772087097, 'Negative': 0.48529869318008423, 'Neutral': 0.057163674384355545, 'Mixed': 0.08199457824230194}, 'ResponseMetadata': {'RequestId': '0203d922-a5aa-11e8-bf20-e9c06e0a11d1', 'HTTPStatusCode': 200, 'HTTPHeaders': {'date': 'Wed, 22 Aug 2018 01:23:43 GMT', 'content-type': 'application/x-amz-json-1.1', 'content-length': '164', 'connection': 'keep-alive', 'x-amzn-requestid': '0203d922-a5aa-11e8-bf20-e9c06e0a11d1'}, 'RetryAttempts': 0}}\n",
      "{'Sentiment': 'MIXED', 'SentimentScore': {'Positive': 0.3604806661605835, 'Negative': 0.08997932821512222, 'Neutral': 0.026853427290916443, 'Mixed': 0.5226866006851196}, 'ResponseMetadata': {'RequestId': '02145406-a5aa-11e8-abaa-5bd9fb10e857', 'HTTPStatusCode': 200, 'HTTPHeaders': {'date': 'Wed, 22 Aug 2018 01:23:43 GMT', 'content-type': 'application/x-amz-json-1.1', 'content-length': '159', 'connection': 'keep-alive', 'x-amzn-requestid': '02145406-a5aa-11e8-abaa-5bd9fb10e857'}, 'RetryAttempts': 0}}\n",
      "{'Sentiment': 'NEGATIVE', 'SentimentScore': {'Positive': 1.5465089745703153e-05, 'Negative': 0.9857082366943359, 'Neutral': 0.01302698627114296, 'Mixed': 0.0012491685338318348}, 'ResponseMetadata': {'RequestId': '0220891e-a5aa-11e8-b847-61cf5ece24ed', 'HTTPStatusCode': 200, 'HTTPHeaders': {'date': 'Wed, 22 Aug 2018 01:23:43 GMT', 'content-type': 'application/x-amz-json-1.1', 'content-length': '166', 'connection': 'keep-alive', 'x-amzn-requestid': '0220891e-a5aa-11e8-b847-61cf5ece24ed'}, 'RetryAttempts': 0}}\n",
      "{'Sentiment': 'NEGATIVE', 'SentimentScore': {'Positive': 0.3137931525707245, 'Negative': 0.5647633075714111, 'Neutral': 0.07498984783887863, 'Mixed': 0.04645373299717903}, 'ResponseMetadata': {'RequestId': '022e44aa-a5aa-11e8-ae3e-c1f1bbbc4558', 'HTTPStatusCode': 200, 'HTTPHeaders': {'date': 'Wed, 22 Aug 2018 01:23:43 GMT', 'content-type': 'application/x-amz-json-1.1', 'content-length': '161', 'connection': 'keep-alive', 'x-amzn-requestid': '022e44aa-a5aa-11e8-ae3e-c1f1bbbc4558'}, 'RetryAttempts': 0}}\n",
      "{'Sentiment': 'NEGATIVE', 'SentimentScore': {'Positive': 0.003464866429567337, 'Negative': 0.7910005450248718, 'Neutral': 0.0036529996432363987, 'Mixed': 0.20188169181346893}, 'ResponseMetadata': {'RequestId': '023fd0b9-a5aa-11e8-a2f4-85bf7e6bcf79', 'HTTPStatusCode': 200, 'HTTPHeaders': {'date': 'Wed, 22 Aug 2018 01:23:43 GMT', 'content-type': 'application/x-amz-json-1.1', 'content-length': '165', 'connection': 'keep-alive', 'x-amzn-requestid': '023fd0b9-a5aa-11e8-a2f4-85bf7e6bcf79'}, 'RetryAttempts': 0}}\n",
      "{'Sentiment': 'NEUTRAL', 'SentimentScore': {'Positive': 0.061329323798418045, 'Negative': 0.24241477251052856, 'Neutral': 0.651412844657898, 'Mixed': 0.044843077659606934}, 'ResponseMetadata': {'RequestId': '0253315f-a5aa-11e8-b50d-8301a8898004', 'HTTPStatusCode': 200, 'HTTPHeaders': {'date': 'Wed, 22 Aug 2018 01:23:43 GMT', 'content-type': 'application/x-amz-json-1.1', 'content-length': '162', 'connection': 'keep-alive', 'x-amzn-requestid': '0253315f-a5aa-11e8-b50d-8301a8898004'}, 'RetryAttempts': 0}}\n",
      "{'Sentiment': 'POSITIVE', 'SentimentScore': {'Positive': 0.44102054834365845, 'Negative': 0.021687688305974007, 'Neutral': 0.26416465640068054, 'Mixed': 0.27312707901000977}, 'ResponseMetadata': {'RequestId': '0262260e-a5aa-11e8-805e-4377d030c79f', 'HTTPStatusCode': 200, 'HTTPHeaders': {'date': 'Wed, 22 Aug 2018 01:23:43 GMT', 'content-type': 'application/x-amz-json-1.1', 'content-length': '164', 'connection': 'keep-alive', 'x-amzn-requestid': '0262260e-a5aa-11e8-805e-4377d030c79f'}, 'RetryAttempts': 0}}\n",
      "{'Sentiment': 'NEGATIVE', 'SentimentScore': {'Positive': 0.08929640054702759, 'Negative': 0.7213262915611267, 'Neutral': 0.15047186613082886, 'Mixed': 0.03890538215637207}, 'ResponseMetadata': {'RequestId': '02700842-a5aa-11e8-9c69-7db1af1277f0', 'HTTPStatusCode': 200, 'HTTPHeaders': {'date': 'Wed, 22 Aug 2018 01:23:43 GMT', 'content-type': 'application/x-amz-json-1.1', 'content-length': '162', 'connection': 'keep-alive', 'x-amzn-requestid': '02700842-a5aa-11e8-9c69-7db1af1277f0'}, 'RetryAttempts': 0}}\n",
      "{'Sentiment': 'MIXED', 'SentimentScore': {'Positive': 0.029485927894711494, 'Negative': 0.32704779505729675, 'Neutral': 0.010893281549215317, 'Mixed': 0.6325729489326477}, 'ResponseMetadata': {'RequestId': '027d9d3f-a5aa-11e8-b847-61cf5ece24ed', 'HTTPStatusCode': 200, 'HTTPHeaders': {'date': 'Wed, 22 Aug 2018 01:23:43 GMT', 'content-type': 'application/x-amz-json-1.1', 'content-length': '161', 'connection': 'keep-alive', 'x-amzn-requestid': '027d9d3f-a5aa-11e8-b847-61cf5ece24ed'}, 'RetryAttempts': 0}}\n",
      "{'Sentiment': 'NEGATIVE', 'SentimentScore': {'Positive': 2.116448013111949e-05, 'Negative': 0.9972906708717346, 'Neutral': 0.0013364804908633232, 'Mixed': 0.0013516137842088938}, 'ResponseMetadata': {'RequestId': '028cdf6d-a5aa-11e8-ae3e-c1f1bbbc4558', 'HTTPStatusCode': 200, 'HTTPHeaders': {'date': 'Wed, 22 Aug 2018 01:23:44 GMT', 'content-type': 'application/x-amz-json-1.1', 'content-length': '167', 'connection': 'keep-alive', 'x-amzn-requestid': '028cdf6d-a5aa-11e8-ae3e-c1f1bbbc4558'}, 'RetryAttempts': 0}}\n",
      "{'Sentiment': 'NEGATIVE', 'SentimentScore': {'Positive': 0.032233599573373795, 'Negative': 0.8815242648124695, 'Neutral': 0.02330796606838703, 'Mixed': 0.06293410807847977}, 'ResponseMetadata': {'RequestId': '029a4ccb-a5aa-11e8-a2f4-85bf7e6bcf79', 'HTTPStatusCode': 200, 'HTTPHeaders': {'date': 'Wed, 22 Aug 2018 01:23:44 GMT', 'content-type': 'application/x-amz-json-1.1', 'content-length': '163', 'connection': 'keep-alive', 'x-amzn-requestid': '029a4ccb-a5aa-11e8-a2f4-85bf7e6bcf79'}, 'RetryAttempts': 0}}\n",
      "{'Sentiment': 'NEGATIVE', 'SentimentScore': {'Positive': 0.023716354742646217, 'Negative': 0.9399428367614746, 'Neutral': 0.0047569856978952885, 'Mixed': 0.031583793461322784}, 'ResponseMetadata': {'RequestId': '02adad78-a5aa-11e8-81c3-ef4e8be5100f', 'HTTPStatusCode': 200, 'HTTPHeaders': {'date': 'Wed, 22 Aug 2018 01:23:44 GMT', 'content-type': 'application/x-amz-json-1.1', 'content-length': '166', 'connection': 'keep-alive', 'x-amzn-requestid': '02adad78-a5aa-11e8-81c3-ef4e8be5100f'}, 'RetryAttempts': 0}}\n",
      "{'Sentiment': 'NEGATIVE', 'SentimentScore': {'Positive': 0.0034302324056625366, 'Negative': 0.9348945617675781, 'Neutral': 0.014724782668054104, 'Mixed': 0.04695042222738266}, 'ResponseMetadata': {'RequestId': '02bacd85-a5aa-11e8-ad19-e94911d6863f', 'HTTPStatusCode': 200, 'HTTPHeaders': {'date': 'Wed, 22 Aug 2018 01:23:44 GMT', 'content-type': 'application/x-amz-json-1.1', 'content-length': '165', 'connection': 'keep-alive', 'x-amzn-requestid': '02bacd85-a5aa-11e8-ad19-e94911d6863f'}, 'RetryAttempts': 0}}\n",
      "{'Sentiment': 'NEGATIVE', 'SentimentScore': {'Positive': 0.03380309045314789, 'Negative': 0.6701140999794006, 'Neutral': 0.0055700186640024185, 'Mixed': 0.2905128300189972}, 'ResponseMetadata': {'RequestId': '02c77734-a5aa-11e8-85fc-133ac8d50853', 'HTTPStatusCode': 200, 'HTTPHeaders': {'date': 'Wed, 22 Aug 2018 01:23:44 GMT', 'content-type': 'application/x-amz-json-1.1', 'content-length': '163', 'connection': 'keep-alive', 'x-amzn-requestid': '02c77734-a5aa-11e8-85fc-133ac8d50853'}, 'RetryAttempts': 0}}\n",
      "{'Sentiment': 'NEGATIVE', 'SentimentScore': {'Positive': 0.00768396258354187, 'Negative': 0.531150758266449, 'Neutral': 0.023913536220788956, 'Mixed': 0.4372517466545105}, 'ResponseMetadata': {'RequestId': '02d7a43a-a5aa-11e8-8f7d-cd5b090a526d', 'HTTPStatusCode': 200, 'HTTPHeaders': {'date': 'Wed, 22 Aug 2018 01:23:44 GMT', 'content-type': 'application/x-amz-json-1.1', 'content-length': '161', 'connection': 'keep-alive', 'x-amzn-requestid': '02d7a43a-a5aa-11e8-8f7d-cd5b090a526d'}, 'RetryAttempts': 0}}\n",
      "{'Sentiment': 'MIXED', 'SentimentScore': {'Positive': 0.01594662480056286, 'Negative': 0.06228160485625267, 'Neutral': 0.01167267095297575, 'Mixed': 0.9100990891456604}, 'ResponseMetadata': {'RequestId': '02e55fc5-a5aa-11e8-b847-61cf5ece24ed', 'HTTPStatusCode': 200, 'HTTPHeaders': {'date': 'Wed, 22 Aug 2018 01:23:44 GMT', 'content-type': 'application/x-amz-json-1.1', 'content-length': '159', 'connection': 'keep-alive', 'x-amzn-requestid': '02e55fc5-a5aa-11e8-b847-61cf5ece24ed'}, 'RetryAttempts': 0}}\n"
     ]
    },
    {
     "name": "stdout",
     "output_type": "stream",
     "text": [
      "{'Sentiment': 'NEGATIVE', 'SentimentScore': {'Positive': 0.026744265109300613, 'Negative': 0.7130832076072693, 'Neutral': 0.02039949595928192, 'Mixed': 0.2397729903459549}, 'ResponseMetadata': {'RequestId': '02f230ad-a5aa-11e8-94da-d5c7ea9d7817', 'HTTPStatusCode': 200, 'HTTPHeaders': {'date': 'Wed, 22 Aug 2018 01:23:44 GMT', 'content-type': 'application/x-amz-json-1.1', 'content-length': '162', 'connection': 'keep-alive', 'x-amzn-requestid': '02f230ad-a5aa-11e8-94da-d5c7ea9d7817'}, 'RetryAttempts': 0}}\n",
      "{'Sentiment': 'NEGATIVE', 'SentimentScore': {'Positive': 0.0027234063018113375, 'Negative': 0.9776304364204407, 'Neutral': 0.00033530767541378736, 'Mixed': 0.019310858100652695}, 'ResponseMetadata': {'RequestId': '0303e3d2-a5aa-11e8-9f0c-11ad878f42b4', 'HTTPStatusCode': 200, 'HTTPHeaders': {'date': 'Wed, 22 Aug 2018 01:23:44 GMT', 'content-type': 'application/x-amz-json-1.1', 'content-length': '167', 'connection': 'keep-alive', 'x-amzn-requestid': '0303e3d2-a5aa-11e8-9f0c-11ad878f42b4'}, 'RetryAttempts': 0}}\n",
      "{'Sentiment': 'MIXED', 'SentimentScore': {'Positive': 0.006079577840864658, 'Negative': 0.1203506588935852, 'Neutral': 0.00041508948197588325, 'Mixed': 0.8731546401977539}, 'ResponseMetadata': {'RequestId': '03110326-a5aa-11e8-b50d-8301a8898004', 'HTTPStatusCode': 200, 'HTTPHeaders': {'date': 'Wed, 22 Aug 2018 01:23:44 GMT', 'content-type': 'application/x-amz-json-1.1', 'content-length': '161', 'connection': 'keep-alive', 'x-amzn-requestid': '03110326-a5aa-11e8-b50d-8301a8898004'}, 'RetryAttempts': 0}}\n",
      "{'Sentiment': 'POSITIVE', 'SentimentScore': {'Positive': 0.3910604417324066, 'Negative': 0.23078875243663788, 'Neutral': 0.3338678181171417, 'Mixed': 0.044282905757427216}, 'ResponseMetadata': {'RequestId': '031fd0c5-a5aa-11e8-805e-4377d030c79f', 'HTTPStatusCode': 200, 'HTTPHeaders': {'date': 'Wed, 22 Aug 2018 01:23:45 GMT', 'content-type': 'application/x-amz-json-1.1', 'content-length': '162', 'connection': 'keep-alive', 'x-amzn-requestid': '031fd0c5-a5aa-11e8-805e-4377d030c79f'}, 'RetryAttempts': 0}}\n",
      "{'Sentiment': 'NEGATIVE', 'SentimentScore': {'Positive': 0.00011686959624057636, 'Negative': 0.9975778460502625, 'Neutral': 0.0011725889053195715, 'Mixed': 0.001132713514380157}, 'ResponseMetadata': {'RequestId': '032d649e-a5aa-11e8-bc99-03ea29243f9b', 'HTTPStatusCode': 200, 'HTTPHeaders': {'date': 'Wed, 22 Aug 2018 01:23:45 GMT', 'content-type': 'application/x-amz-json-1.1', 'content-length': '167', 'connection': 'keep-alive', 'x-amzn-requestid': '032d649e-a5aa-11e8-bc99-03ea29243f9b'}, 'RetryAttempts': 0}}\n",
      "{'Sentiment': 'POSITIVE', 'SentimentScore': {'Positive': 0.8139817714691162, 'Negative': 0.03174113109707832, 'Neutral': 0.003936289809644222, 'Mixed': 0.1503407508134842}, 'ResponseMetadata': {'RequestId': '033a8459-a5aa-11e8-85fc-133ac8d50853', 'HTTPStatusCode': 200, 'HTTPHeaders': {'date': 'Wed, 22 Aug 2018 01:23:45 GMT', 'content-type': 'application/x-amz-json-1.1', 'content-length': '162', 'connection': 'keep-alive', 'x-amzn-requestid': '033a8459-a5aa-11e8-85fc-133ac8d50853'}, 'RetryAttempts': 0}}\n",
      "{'Sentiment': 'NEGATIVE', 'SentimentScore': {'Positive': 0.02289312519133091, 'Negative': 0.7281391620635986, 'Neutral': 0.004815669264644384, 'Mixed': 0.24415206909179688}, 'ResponseMetadata': {'RequestId': '034707dd-a5aa-11e8-8f7d-cd5b090a526d', 'HTTPStatusCode': 200, 'HTTPHeaders': {'date': 'Wed, 22 Aug 2018 01:23:45 GMT', 'content-type': 'application/x-amz-json-1.1', 'content-length': '163', 'connection': 'keep-alive', 'x-amzn-requestid': '034707dd-a5aa-11e8-8f7d-cd5b090a526d'}, 'RetryAttempts': 0}}\n",
      "{'Sentiment': 'NEGATIVE', 'SentimentScore': {'Positive': 0.000493158760946244, 'Negative': 0.9882760643959045, 'Neutral': 0.009674309752881527, 'Mixed': 0.0015564631903544068}, 'ResponseMetadata': {'RequestId': '0353b144-a5aa-11e8-b93a-f1e2833c09ce', 'HTTPStatusCode': 200, 'HTTPHeaders': {'date': 'Wed, 22 Aug 2018 01:23:45 GMT', 'content-type': 'application/x-amz-json-1.1', 'content-length': '165', 'connection': 'keep-alive', 'x-amzn-requestid': '0353b144-a5aa-11e8-b93a-f1e2833c09ce'}, 'RetryAttempts': 0}}\n",
      "{'Sentiment': 'NEUTRAL', 'SentimentScore': {'Positive': 0.09873827546834946, 'Negative': 0.0738273411989212, 'Neutral': 0.7995249629020691, 'Mixed': 0.027909347787499428}, 'ResponseMetadata': {'RequestId': '03623057-a5aa-11e8-b9eb-0d7d73fb2391', 'HTTPStatusCode': 200, 'HTTPHeaders': {'date': 'Wed, 22 Aug 2018 01:23:45 GMT', 'content-type': 'application/x-amz-json-1.1', 'content-length': '161', 'connection': 'keep-alive', 'x-amzn-requestid': '03623057-a5aa-11e8-b9eb-0d7d73fb2391'}, 'RetryAttempts': 0}}\n",
      "{'Sentiment': 'MIXED', 'SentimentScore': {'Positive': 0.2556372582912445, 'Negative': 0.1736329197883606, 'Neutral': 0.014523808844387531, 'Mixed': 0.5562060475349426}, 'ResponseMetadata': {'RequestId': '037124d4-a5aa-11e8-a2f4-85bf7e6bcf79', 'HTTPStatusCode': 200, 'HTTPHeaders': {'date': 'Wed, 22 Aug 2018 01:23:45 GMT', 'content-type': 'application/x-amz-json-1.1', 'content-length': '158', 'connection': 'keep-alive', 'x-amzn-requestid': '037124d4-a5aa-11e8-a2f4-85bf7e6bcf79'}, 'RetryAttempts': 0}}\n",
      "{'Sentiment': 'NEGATIVE', 'SentimentScore': {'Positive': 0.001311837462708354, 'Negative': 0.5604798197746277, 'Neutral': 0.42815718054771423, 'Mixed': 0.010051124729216099}, 'ResponseMetadata': {'RequestId': '037fcaa7-a5aa-11e8-bd73-35d8d2ee0e50', 'HTTPStatusCode': 200, 'HTTPHeaders': {'date': 'Wed, 22 Aug 2018 01:23:45 GMT', 'content-type': 'application/x-amz-json-1.1', 'content-length': '164', 'connection': 'keep-alive', 'x-amzn-requestid': '037fcaa7-a5aa-11e8-bd73-35d8d2ee0e50'}, 'RetryAttempts': 0}}\n",
      "{'Sentiment': 'POSITIVE', 'SentimentScore': {'Positive': 0.4135017395019531, 'Negative': 0.28330618143081665, 'Neutral': 0.008191924542188644, 'Mixed': 0.2950001657009125}, 'ResponseMetadata': {'RequestId': '038fd090-a5aa-11e8-b2ca-f77ae9ee4acb', 'HTTPStatusCode': 200, 'HTTPHeaders': {'date': 'Wed, 22 Aug 2018 01:23:45 GMT', 'content-type': 'application/x-amz-json-1.1', 'content-length': '162', 'connection': 'keep-alive', 'x-amzn-requestid': '038fd090-a5aa-11e8-b2ca-f77ae9ee4acb'}, 'RetryAttempts': 0}}\n",
      "{'Sentiment': 'NEGATIVE', 'SentimentScore': {'Positive': 0.006269283127039671, 'Negative': 0.8465195894241333, 'Neutral': 0.00042438783566467464, 'Mixed': 0.14678668975830078}, 'ResponseMetadata': {'RequestId': '03a57b40-a5aa-11e8-adac-f7604fed725b', 'HTTPStatusCode': 200, 'HTTPHeaders': {'date': 'Wed, 22 Aug 2018 01:23:45 GMT', 'content-type': 'application/x-amz-json-1.1', 'content-length': '165', 'connection': 'keep-alive', 'x-amzn-requestid': '03a57b40-a5aa-11e8-adac-f7604fed725b'}, 'RetryAttempts': 0}}\n",
      "{'Sentiment': 'NEGATIVE', 'SentimentScore': {'Positive': 0.0071669225580990314, 'Negative': 0.6994278430938721, 'Neutral': 0.00180481665302068, 'Mixed': 0.29160043597221375}, 'ResponseMetadata': {'RequestId': '03b72ea4-a5aa-11e8-abaa-5bd9fb10e857', 'HTTPStatusCode': 200, 'HTTPHeaders': {'date': 'Wed, 22 Aug 2018 01:23:46 GMT', 'content-type': 'application/x-amz-json-1.1', 'content-length': '164', 'connection': 'keep-alive', 'x-amzn-requestid': '03b72ea4-a5aa-11e8-abaa-5bd9fb10e857'}, 'RetryAttempts': 0}}\n",
      "{'Sentiment': 'NEGATIVE', 'SentimentScore': {'Positive': 0.013502847403287888, 'Negative': 0.8713140487670898, 'Neutral': 0.033465828746557236, 'Mixed': 0.08171737939119339}, 'ResponseMetadata': {'RequestId': '03ca4134-a5aa-11e8-94da-d5c7ea9d7817', 'HTTPStatusCode': 200, 'HTTPHeaders': {'date': 'Wed, 22 Aug 2018 01:23:46 GMT', 'content-type': 'application/x-amz-json-1.1', 'content-length': '164', 'connection': 'keep-alive', 'x-amzn-requestid': '03ca4134-a5aa-11e8-94da-d5c7ea9d7817'}, 'RetryAttempts': 0}}\n",
      "{'Sentiment': 'NEGATIVE', 'SentimentScore': {'Positive': 0.00047136598732322454, 'Negative': 0.9941616654396057, 'Neutral': 0.0013599967351183295, 'Mixed': 0.004007050301879644}, 'ResponseMetadata': {'RequestId': '03da1fd7-a5aa-11e8-a423-23f645849a04', 'HTTPStatusCode': 200, 'HTTPHeaders': {'date': 'Wed, 22 Aug 2018 01:23:46 GMT', 'content-type': 'application/x-amz-json-1.1', 'content-length': '167', 'connection': 'keep-alive', 'x-amzn-requestid': '03da1fd7-a5aa-11e8-a423-23f645849a04'}, 'RetryAttempts': 0}}\n",
      "{'Sentiment': 'NEGATIVE', 'SentimentScore': {'Positive': 0.008444002829492092, 'Negative': 0.9103435277938843, 'Neutral': 0.004220699425786734, 'Mixed': 0.07699165493249893}, 'ResponseMetadata': {'RequestId': '03e802b2-a5aa-11e8-ac20-bdca8459aef1', 'HTTPStatusCode': 200, 'HTTPHeaders': {'date': 'Wed, 22 Aug 2018 01:23:46 GMT', 'content-type': 'application/x-amz-json-1.1', 'content-length': '164', 'connection': 'keep-alive', 'x-amzn-requestid': '03e802b2-a5aa-11e8-ac20-bdca8459aef1'}, 'RetryAttempts': 0}}\n",
      "{'Sentiment': 'POSITIVE', 'SentimentScore': {'Positive': 0.6905893087387085, 'Negative': 0.04262888431549072, 'Neutral': 0.08126772940158844, 'Mixed': 0.1855141967535019}, 'ResponseMetadata': {'RequestId': '03f6cf10-a5aa-11e8-8c25-8dfaf9f702af', 'HTTPStatusCode': 200, 'HTTPHeaders': {'date': 'Wed, 22 Aug 2018 01:23:46 GMT', 'content-type': 'application/x-amz-json-1.1', 'content-length': '161', 'connection': 'keep-alive', 'x-amzn-requestid': '03f6cf10-a5aa-11e8-8c25-8dfaf9f702af'}, 'RetryAttempts': 0}}\n",
      "{'Sentiment': 'NEGATIVE', 'SentimentScore': {'Positive': 0.0003634062595665455, 'Negative': 0.9892430305480957, 'Neutral': 0.000498454028274864, 'Mixed': 0.00989503413438797}, 'ResponseMetadata': {'RequestId': '0403eeb6-a5aa-11e8-a9e9-659915761180', 'HTTPStatusCode': 200, 'HTTPHeaders': {'date': 'Wed, 22 Aug 2018 01:23:46 GMT', 'content-type': 'application/x-amz-json-1.1', 'content-length': '163', 'connection': 'keep-alive', 'x-amzn-requestid': '0403eeb6-a5aa-11e8-a9e9-659915761180'}, 'RetryAttempts': 0}}\n"
     ]
    },
    {
     "name": "stdout",
     "output_type": "stream",
     "text": [
      "{'Sentiment': 'POSITIVE', 'SentimentScore': {'Positive': 0.8011806607246399, 'Negative': 0.11785184592008591, 'Neutral': 0.01942591182887554, 'Mixed': 0.06154164299368858}, 'ResponseMetadata': {'RequestId': '04149055-a5aa-11e8-bc99-03ea29243f9b', 'HTTPStatusCode': 200, 'HTTPHeaders': {'date': 'Wed, 22 Aug 2018 01:23:46 GMT', 'content-type': 'application/x-amz-json-1.1', 'content-length': '162', 'connection': 'keep-alive', 'x-amzn-requestid': '04149055-a5aa-11e8-bc99-03ea29243f9b'}, 'RetryAttempts': 0}}\n",
      "{'Sentiment': 'NEGATIVE', 'SentimentScore': {'Positive': 0.00031864733318798244, 'Negative': 0.9892609119415283, 'Neutral': 0.0001549755543237552, 'Mixed': 0.010265488177537918}, 'ResponseMetadata': {'RequestId': '04229a71-a5aa-11e8-85fc-133ac8d50853', 'HTTPStatusCode': 200, 'HTTPHeaders': {'date': 'Wed, 22 Aug 2018 01:23:46 GMT', 'content-type': 'application/x-amz-json-1.1', 'content-length': '166', 'connection': 'keep-alive', 'x-amzn-requestid': '04229a71-a5aa-11e8-85fc-133ac8d50853'}, 'RetryAttempts': 0}}\n",
      "{'Sentiment': 'MIXED', 'SentimentScore': {'Positive': 0.08087474852800369, 'Negative': 0.3488559126853943, 'Neutral': 0.1022416278719902, 'Mixed': 0.46802768111228943}, 'ResponseMetadata': {'RequestId': '042f9326-a5aa-11e8-8f7d-cd5b090a526d', 'HTTPStatusCode': 200, 'HTTPHeaders': {'date': 'Wed, 22 Aug 2018 01:23:46 GMT', 'content-type': 'application/x-amz-json-1.1', 'content-length': '158', 'connection': 'keep-alive', 'x-amzn-requestid': '042f9326-a5aa-11e8-8f7d-cd5b090a526d'}, 'RetryAttempts': 0}}\n",
      "{'Sentiment': 'NEGATIVE', 'SentimentScore': {'Positive': 0.010691548697650433, 'Negative': 0.9370336532592773, 'Neutral': 0.019955459982156754, 'Mixed': 0.03231934458017349}, 'ResponseMetadata': {'RequestId': '043cd8ce-a5aa-11e8-b93a-f1e2833c09ce', 'HTTPStatusCode': 200, 'HTTPHeaders': {'date': 'Wed, 22 Aug 2018 01:23:46 GMT', 'content-type': 'application/x-amz-json-1.1', 'content-length': '164', 'connection': 'keep-alive', 'x-amzn-requestid': '043cd8ce-a5aa-11e8-b93a-f1e2833c09ce'}, 'RetryAttempts': 0}}\n",
      "{'Sentiment': 'NEGATIVE', 'SentimentScore': {'Positive': 0.2993333637714386, 'Negative': 0.37883511185646057, 'Neutral': 0.05622861161828041, 'Mixed': 0.26560288667678833}, 'ResponseMetadata': {'RequestId': '044e1738-a5aa-11e8-94da-d5c7ea9d7817', 'HTTPStatusCode': 200, 'HTTPHeaders': {'date': 'Wed, 22 Aug 2018 01:23:47 GMT', 'content-type': 'application/x-amz-json-1.1', 'content-length': '162', 'connection': 'keep-alive', 'x-amzn-requestid': '044e1738-a5aa-11e8-94da-d5c7ea9d7817'}, 'RetryAttempts': 0}}\n",
      "{'Sentiment': 'NEGATIVE', 'SentimentScore': {'Positive': 0.04103733226656914, 'Negative': 0.7755573987960815, 'Neutral': 0.07224475592374802, 'Mixed': 0.1111605316400528}, 'ResponseMetadata': {'RequestId': '045d32b6-a5aa-11e8-ac20-bdca8459aef1', 'HTTPStatusCode': 200, 'HTTPHeaders': {'date': 'Wed, 22 Aug 2018 01:23:47 GMT', 'content-type': 'application/x-amz-json-1.1', 'content-length': '161', 'connection': 'keep-alive', 'x-amzn-requestid': '045d32b6-a5aa-11e8-ac20-bdca8459aef1'}, 'RetryAttempts': 0}}\n",
      "{'Sentiment': 'NEGATIVE', 'SentimentScore': {'Positive': 0.07919775694608688, 'Negative': 0.5309080481529236, 'Neutral': 0.17728370428085327, 'Mixed': 0.21261045336723328}, 'ResponseMetadata': {'RequestId': '04706c23-a5aa-11e8-b50d-8301a8898004', 'HTTPStatusCode': 200, 'HTTPHeaders': {'date': 'Wed, 22 Aug 2018 01:23:47 GMT', 'content-type': 'application/x-amz-json-1.1', 'content-length': '162', 'connection': 'keep-alive', 'x-amzn-requestid': '04706c23-a5aa-11e8-b50d-8301a8898004'}, 'RetryAttempts': 0}}\n",
      "{'Sentiment': 'NEGATIVE', 'SentimentScore': {'Positive': 0.030388006940484047, 'Negative': 0.6806939840316772, 'Neutral': 0.006066886708140373, 'Mixed': 0.28285112977027893}, 'ResponseMetadata': {'RequestId': '0485c997-a5aa-11e8-ad19-e94911d6863f', 'HTTPStatusCode': 200, 'HTTPHeaders': {'date': 'Wed, 22 Aug 2018 01:23:47 GMT', 'content-type': 'application/x-amz-json-1.1', 'content-length': '164', 'connection': 'keep-alive', 'x-amzn-requestid': '0485c997-a5aa-11e8-ad19-e94911d6863f'}, 'RetryAttempts': 0}}\n",
      "{'Sentiment': 'POSITIVE', 'SentimentScore': {'Positive': 0.7437032461166382, 'Negative': 0.015161871910095215, 'Neutral': 0.022833099588751793, 'Mixed': 0.21830186247825623}, 'ResponseMetadata': {'RequestId': '04922526-a5aa-11e8-85fc-133ac8d50853', 'HTTPStatusCode': 200, 'HTTPHeaders': {'date': 'Wed, 22 Aug 2018 01:23:47 GMT', 'content-type': 'application/x-amz-json-1.1', 'content-length': '164', 'connection': 'keep-alive', 'x-amzn-requestid': '04922526-a5aa-11e8-85fc-133ac8d50853'}, 'RetryAttempts': 0}}\n",
      "{'Sentiment': 'NEGATIVE', 'SentimentScore': {'Positive': 0.01109403558075428, 'Negative': 0.8924890160560608, 'Neutral': 0.019609298557043076, 'Mixed': 0.07680767774581909}, 'ResponseMetadata': {'RequestId': '049ecfba-a5aa-11e8-8f7d-cd5b090a526d', 'HTTPStatusCode': 200, 'HTTPHeaders': {'date': 'Wed, 22 Aug 2018 01:23:47 GMT', 'content-type': 'application/x-amz-json-1.1', 'content-length': '163', 'connection': 'keep-alive', 'x-amzn-requestid': '049ecfba-a5aa-11e8-8f7d-cd5b090a526d'}, 'RetryAttempts': 0}}\n",
      "{'Sentiment': 'NEGATIVE', 'SentimentScore': {'Positive': 0.00600339425727725, 'Negative': 0.8983763456344604, 'Neutral': 0.003675995860248804, 'Mixed': 0.09194421768188477}, 'ResponseMetadata': {'RequestId': '04ad74f1-a5aa-11e8-b93a-f1e2833c09ce', 'HTTPStatusCode': 200, 'HTTPHeaders': {'date': 'Wed, 22 Aug 2018 01:23:47 GMT', 'content-type': 'application/x-amz-json-1.1', 'content-length': '163', 'connection': 'keep-alive', 'x-amzn-requestid': '04ad74f1-a5aa-11e8-b93a-f1e2833c09ce'}, 'RetryAttempts': 0}}\n",
      "{'Sentiment': 'NEGATIVE', 'SentimentScore': {'Positive': 0.2108742594718933, 'Negative': 0.36715781688690186, 'Neutral': 0.26984402537345886, 'Mixed': 0.15212386846542358}, 'ResponseMetadata': {'RequestId': '04bae311-a5aa-11e8-ae3e-c1f1bbbc4558', 'HTTPStatusCode': 200, 'HTTPHeaders': {'date': 'Wed, 22 Aug 2018 01:23:47 GMT', 'content-type': 'application/x-amz-json-1.1', 'content-length': '162', 'connection': 'keep-alive', 'x-amzn-requestid': '04bae311-a5aa-11e8-ae3e-c1f1bbbc4558'}, 'RetryAttempts': 0}}\n",
      "{'Sentiment': 'NEGATIVE', 'SentimentScore': {'Positive': 0.00436594570055604, 'Negative': 0.9334551095962524, 'Neutral': 0.015199287794530392, 'Mixed': 0.046979766339063644}, 'ResponseMetadata': {'RequestId': '04c80212-a5aa-11e8-9f0c-11ad878f42b4', 'HTTPStatusCode': 200, 'HTTPHeaders': {'date': 'Wed, 22 Aug 2018 01:23:47 GMT', 'content-type': 'application/x-amz-json-1.1', 'content-length': '164', 'connection': 'keep-alive', 'x-amzn-requestid': '04c80212-a5aa-11e8-9f0c-11ad878f42b4'}, 'RetryAttempts': 0}}\n",
      "{'Sentiment': 'NEGATIVE', 'SentimentScore': {'Positive': 0.0467262826859951, 'Negative': 0.7494556903839111, 'Neutral': 0.031666360795497894, 'Mixed': 0.17215169966220856}, 'ResponseMetadata': {'RequestId': '04d807e1-a5aa-11e8-a2f4-85bf7e6bcf79', 'HTTPStatusCode': 200, 'HTTPHeaders': {'date': 'Wed, 22 Aug 2018 01:23:47 GMT', 'content-type': 'application/x-amz-json-1.1', 'content-length': '162', 'connection': 'keep-alive', 'x-amzn-requestid': '04d807e1-a5aa-11e8-a2f4-85bf7e6bcf79'}, 'RetryAttempts': 0}}\n",
      "{'Sentiment': 'NEGATIVE', 'SentimentScore': {'Positive': 0.005457030609250069, 'Negative': 0.8821874856948853, 'Neutral': 0.04558781906962395, 'Mixed': 0.06676764041185379}, 'ResponseMetadata': {'RequestId': '04e59c2d-a5aa-11e8-81c3-ef4e8be5100f', 'HTTPStatusCode': 200, 'HTTPHeaders': {'date': 'Wed, 22 Aug 2018 01:23:48 GMT', 'content-type': 'application/x-amz-json-1.1', 'content-length': '163', 'connection': 'keep-alive', 'x-amzn-requestid': '04e59c2d-a5aa-11e8-81c3-ef4e8be5100f'}, 'RetryAttempts': 0}}\n",
      "{'Sentiment': 'NEGATIVE', 'SentimentScore': {'Positive': 0.004413176793605089, 'Negative': 0.9475109577178955, 'Neutral': 0.014639858156442642, 'Mixed': 0.03343609347939491}, 'ResponseMetadata': {'RequestId': '04f553b4-a5aa-11e8-bd73-35d8d2ee0e50', 'HTTPStatusCode': 200, 'HTTPHeaders': {'date': 'Wed, 22 Aug 2018 01:23:48 GMT', 'content-type': 'application/x-amz-json-1.1', 'content-length': '164', 'connection': 'keep-alive', 'x-amzn-requestid': '04f553b4-a5aa-11e8-bd73-35d8d2ee0e50'}, 'RetryAttempts': 0}}\n",
      "{'Sentiment': 'NEGATIVE', 'SentimentScore': {'Positive': 0.010325535200536251, 'Negative': 0.8759993314743042, 'Neutral': 0.04528416693210602, 'Mixed': 0.06839092820882797}, 'ResponseMetadata': {'RequestId': '0506435f-a5aa-11e8-bc99-03ea29243f9b', 'HTTPStatusCode': 200, 'HTTPHeaders': {'date': 'Wed, 22 Aug 2018 01:23:48 GMT', 'content-type': 'application/x-amz-json-1.1', 'content-length': '163', 'connection': 'keep-alive', 'x-amzn-requestid': '0506435f-a5aa-11e8-bc99-03ea29243f9b'}, 'RetryAttempts': 0}}\n",
      "{'Sentiment': 'MIXED', 'SentimentScore': {'Positive': 0.036794696003198624, 'Negative': 0.29544758796691895, 'Neutral': 0.00794364232569933, 'Mixed': 0.6598140597343445}, 'ResponseMetadata': {'RequestId': '0513b180-a5aa-11e8-b2ca-f77ae9ee4acb', 'HTTPStatusCode': 200, 'HTTPHeaders': {'date': 'Wed, 22 Aug 2018 01:23:48 GMT', 'content-type': 'application/x-amz-json-1.1', 'content-length': '160', 'connection': 'keep-alive', 'x-amzn-requestid': '0513b180-a5aa-11e8-b2ca-f77ae9ee4acb'}, 'RetryAttempts': 0}}\n"
     ]
    },
    {
     "name": "stdout",
     "output_type": "stream",
     "text": [
      "{'Sentiment': 'POSITIVE', 'SentimentScore': {'Positive': 0.49970537424087524, 'Negative': 0.18384751677513123, 'Neutral': 0.028219139203429222, 'Mixed': 0.288227915763855}, 'ResponseMetadata': {'RequestId': '0522f35d-a5aa-11e8-9c69-7db1af1277f0', 'HTTPStatusCode': 200, 'HTTPHeaders': {'date': 'Wed, 22 Aug 2018 01:23:48 GMT', 'content-type': 'application/x-amz-json-1.1', 'content-length': '162', 'connection': 'keep-alive', 'x-amzn-requestid': '0522f35d-a5aa-11e8-9c69-7db1af1277f0'}, 'RetryAttempts': 0}}\n",
      "{'Sentiment': 'NEUTRAL', 'SentimentScore': {'Positive': 0.0981384888291359, 'Negative': 0.12957316637039185, 'Neutral': 0.7454332709312439, 'Mixed': 0.026855066418647766}, 'ResponseMetadata': {'RequestId': '053346c7-a5aa-11e8-b93a-f1e2833c09ce', 'HTTPStatusCode': 200, 'HTTPHeaders': {'date': 'Wed, 22 Aug 2018 01:23:48 GMT', 'content-type': 'application/x-amz-json-1.1', 'content-length': '161', 'connection': 'keep-alive', 'x-amzn-requestid': '053346c7-a5aa-11e8-b93a-f1e2833c09ce'}, 'RetryAttempts': 0}}\n",
      "{'Sentiment': 'NEGATIVE', 'SentimentScore': {'Positive': 0.0096366498619318, 'Negative': 0.9288836717605591, 'Neutral': 0.02648642659187317, 'Mixed': 0.03499323129653931}, 'ResponseMetadata': {'RequestId': '054102a7-a5aa-11e8-9f0c-11ad878f42b4', 'HTTPStatusCode': 200, 'HTTPHeaders': {'date': 'Wed, 22 Aug 2018 01:23:48 GMT', 'content-type': 'application/x-amz-json-1.1', 'content-length': '161', 'connection': 'keep-alive', 'x-amzn-requestid': '054102a7-a5aa-11e8-9f0c-11ad878f42b4'}, 'RetryAttempts': 0}}\n",
      "{'Sentiment': 'NEGATIVE', 'SentimentScore': {'Positive': 0.002516593551263213, 'Negative': 0.9771229028701782, 'Neutral': 0.003700945759192109, 'Mixed': 0.016659507527947426}, 'ResponseMetadata': {'RequestId': '05557503-a5aa-11e8-a9e9-659915761180', 'HTTPStatusCode': 200, 'HTTPHeaders': {'date': 'Wed, 22 Aug 2018 01:23:48 GMT', 'content-type': 'application/x-amz-json-1.1', 'content-length': '165', 'connection': 'keep-alive', 'x-amzn-requestid': '05557503-a5aa-11e8-a9e9-659915761180'}, 'RetryAttempts': 0}}\n",
      "{'Sentiment': 'NEGATIVE', 'SentimentScore': {'Positive': 0.00433929031714797, 'Negative': 0.9250437021255493, 'Neutral': 0.053553506731987, 'Mixed': 0.017063530161976814}, 'ResponseMetadata': {'RequestId': '0562e30a-a5aa-11e8-805e-4377d030c79f', 'HTTPStatusCode': 200, 'HTTPHeaders': {'date': 'Wed, 22 Aug 2018 01:23:48 GMT', 'content-type': 'application/x-amz-json-1.1', 'content-length': '161', 'connection': 'keep-alive', 'x-amzn-requestid': '0562e30a-a5aa-11e8-805e-4377d030c79f'}, 'RetryAttempts': 0}}\n",
      "{'Sentiment': 'NEUTRAL', 'SentimentScore': {'Positive': 0.05710752680897713, 'Negative': 0.37229666113853455, 'Neutral': 0.46793192625045776, 'Mixed': 0.10266394913196564}, 'ResponseMetadata': {'RequestId': '0570c502-a5aa-11e8-bc99-03ea29243f9b', 'HTTPStatusCode': 200, 'HTTPHeaders': {'date': 'Wed, 22 Aug 2018 01:23:48 GMT', 'content-type': 'application/x-amz-json-1.1', 'content-length': '162', 'connection': 'keep-alive', 'x-amzn-requestid': '0570c502-a5aa-11e8-bc99-03ea29243f9b'}, 'RetryAttempts': 0}}\n",
      "{'Sentiment': 'NEGATIVE', 'SentimentScore': {'Positive': 0.20665939152240753, 'Negative': 0.517462432384491, 'Neutral': 0.1868833303451538, 'Mixed': 0.0889948159456253}, 'ResponseMetadata': {'RequestId': '057f6b3f-a5aa-11e8-9c69-7db1af1277f0', 'HTTPStatusCode': 200, 'HTTPHeaders': {'date': 'Wed, 22 Aug 2018 01:23:49 GMT', 'content-type': 'application/x-amz-json-1.1', 'content-length': '159', 'connection': 'keep-alive', 'x-amzn-requestid': '057f6b3f-a5aa-11e8-9c69-7db1af1277f0'}, 'RetryAttempts': 0}}\n",
      "{'Sentiment': 'NEGATIVE', 'SentimentScore': {'Positive': 0.0080184955149889, 'Negative': 0.9447222948074341, 'Neutral': 0.017065323889255524, 'Mixed': 0.030193772166967392}, 'ResponseMetadata': {'RequestId': '058e5fcb-a5aa-11e8-845a-674cd09bb0ce', 'HTTPStatusCode': 200, 'HTTPHeaders': {'date': 'Wed, 22 Aug 2018 01:23:49 GMT', 'content-type': 'application/x-amz-json-1.1', 'content-length': '163', 'connection': 'keep-alive', 'x-amzn-requestid': '058e5fcb-a5aa-11e8-845a-674cd09bb0ce'}, 'RetryAttempts': 0}}\n",
      "{'Sentiment': 'NEGATIVE', 'SentimentScore': {'Positive': 0.0002001892135012895, 'Negative': 0.9940318465232849, 'Neutral': 0.002194262109696865, 'Mixed': 0.003573739668354392}, 'ResponseMetadata': {'RequestId': '059ae2ef-a5aa-11e8-b847-61cf5ece24ed', 'HTTPStatusCode': 200, 'HTTPHeaders': {'date': 'Wed, 22 Aug 2018 01:23:49 GMT', 'content-type': 'application/x-amz-json-1.1', 'content-length': '165', 'connection': 'keep-alive', 'x-amzn-requestid': '059ae2ef-a5aa-11e8-b847-61cf5ece24ed'}, 'RetryAttempts': 0}}\n",
      "{'Sentiment': 'NEGATIVE', 'SentimentScore': {'Positive': 0.09525296837091446, 'Negative': 0.6128307580947876, 'Neutral': 0.07459870725870132, 'Mixed': 0.2173175811767578}, 'ResponseMetadata': {'RequestId': '05a6f04e-a5aa-11e8-b9eb-0d7d73fb2391', 'HTTPStatusCode': 200, 'HTTPHeaders': {'date': 'Wed, 22 Aug 2018 01:23:49 GMT', 'content-type': 'application/x-amz-json-1.1', 'content-length': '161', 'connection': 'keep-alive', 'x-amzn-requestid': '05a6f04e-a5aa-11e8-b9eb-0d7d73fb2391'}, 'RetryAttempts': 0}}\n",
      "{'Sentiment': 'NEUTRAL', 'SentimentScore': {'Positive': 0.08234460651874542, 'Negative': 0.2461862415075302, 'Neutral': 0.6526902318000793, 'Mixed': 0.01877889223396778}, 'ResponseMetadata': {'RequestId': '05b59661-a5aa-11e8-b50d-8301a8898004', 'HTTPStatusCode': 200, 'HTTPHeaders': {'date': 'Wed, 22 Aug 2018 01:23:49 GMT', 'content-type': 'application/x-amz-json-1.1', 'content-length': '160', 'connection': 'keep-alive', 'x-amzn-requestid': '05b59661-a5aa-11e8-b50d-8301a8898004'}, 'RetryAttempts': 0}}\n",
      "{'Sentiment': 'NEGATIVE', 'SentimentScore': {'Positive': 0.041997332125902176, 'Negative': 0.8938486576080322, 'Neutral': 0.03277277946472168, 'Mixed': 0.03138124942779541}, 'ResponseMetadata': {'RequestId': '05c5c390-a5aa-11e8-805e-4377d030c79f', 'HTTPStatusCode': 200, 'HTTPHeaders': {'date': 'Wed, 22 Aug 2018 01:23:49 GMT', 'content-type': 'application/x-amz-json-1.1', 'content-length': '163', 'connection': 'keep-alive', 'x-amzn-requestid': '05c5c390-a5aa-11e8-805e-4377d030c79f'}, 'RetryAttempts': 0}}\n",
      "{'Sentiment': 'POSITIVE', 'SentimentScore': {'Positive': 0.5251325368881226, 'Negative': 0.3433260917663574, 'Neutral': 0.03158615902066231, 'Mixed': 0.09995520114898682}, 'ResponseMetadata': {'RequestId': '05d2e211-a5aa-11e8-88ee-89debf0a6076', 'HTTPStatusCode': 200, 'HTTPHeaders': {'date': 'Wed, 22 Aug 2018 01:23:49 GMT', 'content-type': 'application/x-amz-json-1.1', 'content-length': '161', 'connection': 'keep-alive', 'x-amzn-requestid': '05d2e211-a5aa-11e8-88ee-89debf0a6076'}, 'RetryAttempts': 0}}\n",
      "{'Sentiment': 'NEGATIVE', 'SentimentScore': {'Positive': 0.05427172780036926, 'Negative': 0.6373972296714783, 'Neutral': 0.023039700463414192, 'Mixed': 0.2852913439273834}, 'ResponseMetadata': {'RequestId': '05e1d6f6-a5aa-11e8-9d3a-e5743fd937d0', 'HTTPStatusCode': 200, 'HTTPHeaders': {'date': 'Wed, 22 Aug 2018 01:23:49 GMT', 'content-type': 'application/x-amz-json-1.1', 'content-length': '162', 'connection': 'keep-alive', 'x-amzn-requestid': '05e1d6f6-a5aa-11e8-9d3a-e5743fd937d0'}, 'RetryAttempts': 0}}\n",
      "{'Sentiment': 'NEUTRAL', 'SentimentScore': {'Positive': 0.140593022108078, 'Negative': 0.011943766847252846, 'Neutral': 0.8433516621589661, 'Mixed': 0.004111592657864094}, 'ResponseMetadata': {'RequestId': '05f203a2-a5aa-11e8-b847-61cf5ece24ed', 'HTTPStatusCode': 200, 'HTTPHeaders': {'date': 'Wed, 22 Aug 2018 01:23:49 GMT', 'content-type': 'application/x-amz-json-1.1', 'content-length': '161', 'connection': 'keep-alive', 'x-amzn-requestid': '05f203a2-a5aa-11e8-b847-61cf5ece24ed'}, 'RetryAttempts': 0}}\n",
      "{'Sentiment': 'NEUTRAL', 'SentimentScore': {'Positive': 0.12714655697345734, 'Negative': 0.3530694246292114, 'Neutral': 0.40907078981399536, 'Mixed': 0.11071324348449707}, 'ResponseMetadata': {'RequestId': '05ffe63f-a5aa-11e8-ae3e-c1f1bbbc4558', 'HTTPStatusCode': 200, 'HTTPHeaders': {'date': 'Wed, 22 Aug 2018 01:23:49 GMT', 'content-type': 'application/x-amz-json-1.1', 'content-length': '161', 'connection': 'keep-alive', 'x-amzn-requestid': '05ffe63f-a5aa-11e8-ae3e-c1f1bbbc4558'}, 'RetryAttempts': 0}}\n",
      "{'Sentiment': 'NEGATIVE', 'SentimentScore': {'Positive': 0.007358417380601168, 'Negative': 0.9072968363761902, 'Neutral': 0.010174332186579704, 'Mixed': 0.07517038285732269}, 'ResponseMetadata': {'RequestId': '060d7aa7-a5aa-11e8-bd5f-2d12aafa381c', 'HTTPStatusCode': 200, 'HTTPHeaders': {'date': 'Wed, 22 Aug 2018 01:23:49 GMT', 'content-type': 'application/x-amz-json-1.1', 'content-length': '164', 'connection': 'keep-alive', 'x-amzn-requestid': '060d7aa7-a5aa-11e8-bd5f-2d12aafa381c'}, 'RetryAttempts': 0}}\n",
      "{'Sentiment': 'NEGATIVE', 'SentimentScore': {'Positive': 0.008403230458498001, 'Negative': 0.9093999266624451, 'Neutral': 0.004859132692217827, 'Mixed': 0.07733768224716187}, 'ResponseMetadata': {'RequestId': '061c20d8-a5aa-11e8-ac20-bdca8459aef1', 'HTTPStatusCode': 200, 'HTTPHeaders': {'date': 'Wed, 22 Aug 2018 01:23:50 GMT', 'content-type': 'application/x-amz-json-1.1', 'content-length': '164', 'connection': 'keep-alive', 'x-amzn-requestid': '061c20d8-a5aa-11e8-ac20-bdca8459aef1'}, 'RetryAttempts': 0}}\n"
     ]
    },
    {
     "name": "stdout",
     "output_type": "stream",
     "text": [
      "{'Sentiment': 'MIXED', 'SentimentScore': {'Positive': 0.029783103615045547, 'Negative': 0.14659084379673004, 'Neutral': 0.002400224097073078, 'Mixed': 0.8212258219718933}, 'ResponseMetadata': {'RequestId': '062f5a45-a5aa-11e8-b50d-8301a8898004', 'HTTPStatusCode': 200, 'HTTPHeaders': {'date': 'Wed, 22 Aug 2018 01:23:50 GMT', 'content-type': 'application/x-amz-json-1.1', 'content-length': '161', 'connection': 'keep-alive', 'x-amzn-requestid': '062f5a45-a5aa-11e8-b50d-8301a8898004'}, 'RetryAttempts': 0}}\n",
      "{'Sentiment': 'NEGATIVE', 'SentimentScore': {'Positive': 0.005880584008991718, 'Negative': 0.9136993288993835, 'Neutral': 0.015907738357782364, 'Mixed': 0.06451232731342316}, 'ResponseMetadata': {'RequestId': '063ca144-a5aa-11e8-805e-4377d030c79f', 'HTTPStatusCode': 200, 'HTTPHeaders': {'date': 'Wed, 22 Aug 2018 01:23:50 GMT', 'content-type': 'application/x-amz-json-1.1', 'content-length': '164', 'connection': 'keep-alive', 'x-amzn-requestid': '063ca144-a5aa-11e8-805e-4377d030c79f'}, 'RetryAttempts': 0}}\n",
      "{'Sentiment': 'NEGATIVE', 'SentimentScore': {'Positive': 3.7790612168464577e-06, 'Negative': 0.9989595413208008, 'Neutral': 0.00011224310583202168, 'Mixed': 0.000924337247852236}, 'ResponseMetadata': {'RequestId': '064a5c2c-a5aa-11e8-bc99-03ea29243f9b', 'HTTPStatusCode': 200, 'HTTPHeaders': {'date': 'Wed, 22 Aug 2018 01:23:50 GMT', 'content-type': 'application/x-amz-json-1.1', 'content-length': '166', 'connection': 'keep-alive', 'x-amzn-requestid': '064a5c2c-a5aa-11e8-bc99-03ea29243f9b'}, 'RetryAttempts': 0}}\n",
      "{'Sentiment': 'POSITIVE', 'SentimentScore': {'Positive': 0.6234681606292725, 'Negative': 0.1876233071088791, 'Neutral': 0.1347428560256958, 'Mixed': 0.05416569858789444}, 'ResponseMetadata': {'RequestId': '06581809-a5aa-11e8-9c69-7db1af1277f0', 'HTTPStatusCode': 200, 'HTTPHeaders': {'date': 'Wed, 22 Aug 2018 01:23:50 GMT', 'content-type': 'application/x-amz-json-1.1', 'content-length': '160', 'connection': 'keep-alive', 'x-amzn-requestid': '06581809-a5aa-11e8-9c69-7db1af1277f0'}, 'RetryAttempts': 0}}\n",
      "{'Sentiment': 'NEGATIVE', 'SentimentScore': {'Positive': 0.000651520153041929, 'Negative': 0.9838093519210815, 'Neutral': 0.0021867963951081038, 'Mixed': 0.01335234846919775}, 'ResponseMetadata': {'RequestId': '0669a4bd-a5aa-11e8-8f7d-cd5b090a526d', 'HTTPStatusCode': 200, 'HTTPHeaders': {'date': 'Wed, 22 Aug 2018 01:23:50 GMT', 'content-type': 'application/x-amz-json-1.1', 'content-length': '164', 'connection': 'keep-alive', 'x-amzn-requestid': '0669a4bd-a5aa-11e8-8f7d-cd5b090a526d'}, 'RetryAttempts': 0}}\n",
      "{'Sentiment': 'NEGATIVE', 'SentimentScore': {'Positive': 0.0036282383371144533, 'Negative': 0.9903239011764526, 'Neutral': 0.0022086724638938904, 'Mixed': 0.003839208511635661}, 'ResponseMetadata': {'RequestId': '067627c8-a5aa-11e8-b847-61cf5ece24ed', 'HTTPStatusCode': 200, 'HTTPHeaders': {'date': 'Wed, 22 Aug 2018 01:23:50 GMT', 'content-type': 'application/x-amz-json-1.1', 'content-length': '167', 'connection': 'keep-alive', 'x-amzn-requestid': '067627c8-a5aa-11e8-b847-61cf5ece24ed'}, 'RetryAttempts': 0}}\n",
      "{'Sentiment': 'NEGATIVE', 'SentimentScore': {'Positive': 0.00013902003411203623, 'Negative': 0.9952129125595093, 'Neutral': 0.0015529935481026769, 'Mixed': 0.0030950435902923346}, 'ResponseMetadata': {'RequestId': '0683bc00-a5aa-11e8-94da-d5c7ea9d7817', 'HTTPStatusCode': 200, 'HTTPHeaders': {'date': 'Wed, 22 Aug 2018 01:23:50 GMT', 'content-type': 'application/x-amz-json-1.1', 'content-length': '168', 'connection': 'keep-alive', 'x-amzn-requestid': '0683bc00-a5aa-11e8-94da-d5c7ea9d7817'}, 'RetryAttempts': 0}}\n",
      "{'Sentiment': 'NEGATIVE', 'SentimentScore': {'Positive': 0.2975288927555084, 'Negative': 0.3874152600765228, 'Neutral': 0.016506347805261612, 'Mixed': 0.2985495328903198}, 'ResponseMetadata': {'RequestId': '06903ee7-a5aa-11e8-b9eb-0d7d73fb2391', 'HTTPStatusCode': 200, 'HTTPHeaders': {'date': 'Wed, 22 Aug 2018 01:23:50 GMT', 'content-type': 'application/x-amz-json-1.1', 'content-length': '161', 'connection': 'keep-alive', 'x-amzn-requestid': '06903ee7-a5aa-11e8-b9eb-0d7d73fb2391'}, 'RetryAttempts': 0}}\n",
      "{'Sentiment': 'NEGATIVE', 'SentimentScore': {'Positive': 0.03867403417825699, 'Negative': 0.7437466382980347, 'Neutral': 0.0026450955774635077, 'Mixed': 0.21493415534496307}, 'ResponseMetadata': {'RequestId': '06a17ccb-a5aa-11e8-8c25-8dfaf9f702af', 'HTTPStatusCode': 200, 'HTTPHeaders': {'date': 'Wed, 22 Aug 2018 01:23:50 GMT', 'content-type': 'application/x-amz-json-1.1', 'content-length': '164', 'connection': 'keep-alive', 'x-amzn-requestid': '06a17ccb-a5aa-11e8-8c25-8dfaf9f702af'}, 'RetryAttempts': 0}}\n",
      "{'Sentiment': 'POSITIVE', 'SentimentScore': {'Positive': 0.5845165252685547, 'Negative': 0.12038034945726395, 'Neutral': 0.13973461091518402, 'Mixed': 0.15536855161190033}, 'ResponseMetadata': {'RequestId': '06af5fd7-a5aa-11e8-bd73-35d8d2ee0e50', 'HTTPStatusCode': 200, 'HTTPHeaders': {'date': 'Wed, 22 Aug 2018 01:23:51 GMT', 'content-type': 'application/x-amz-json-1.1', 'content-length': '162', 'connection': 'keep-alive', 'x-amzn-requestid': '06af5fd7-a5aa-11e8-bd73-35d8d2ee0e50'}, 'RetryAttempts': 0}}\n",
      "{'Sentiment': 'NEGATIVE', 'SentimentScore': {'Positive': 0.0696122795343399, 'Negative': 0.8182151317596436, 'Neutral': 0.0645056739449501, 'Mixed': 0.04766692966222763}, 'ResponseMetadata': {'RequestId': '06c30ea1-a5aa-11e8-bc99-03ea29243f9b', 'HTTPStatusCode': 200, 'HTTPHeaders': {'date': 'Wed, 22 Aug 2018 01:23:51 GMT', 'content-type': 'application/x-amz-json-1.1', 'content-length': '160', 'connection': 'keep-alive', 'x-amzn-requestid': '06c30ea1-a5aa-11e8-bc99-03ea29243f9b'}, 'RetryAttempts': 0}}\n",
      "{'Sentiment': 'NEGATIVE', 'SentimentScore': {'Positive': 0.007350374478846788, 'Negative': 0.9628164768218994, 'Neutral': 0.007231594994664192, 'Mixed': 0.022601446136832237}, 'ResponseMetadata': {'RequestId': '06d5fafe-a5aa-11e8-9d3a-e5743fd937d0', 'HTTPStatusCode': 200, 'HTTPHeaders': {'date': 'Wed, 22 Aug 2018 01:23:51 GMT', 'content-type': 'application/x-amz-json-1.1', 'content-length': '165', 'connection': 'keep-alive', 'x-amzn-requestid': '06d5fafe-a5aa-11e8-9d3a-e5743fd937d0'}, 'RetryAttempts': 0}}\n",
      "{'Sentiment': 'NEGATIVE', 'SentimentScore': {'Positive': 0.06982041895389557, 'Negative': 0.7444949746131897, 'Neutral': 0.10921537131071091, 'Mixed': 0.07646917551755905}, 'ResponseMetadata': {'RequestId': '06e2a523-a5aa-11e8-abaa-5bd9fb10e857', 'HTTPStatusCode': 200, 'HTTPHeaders': {'date': 'Wed, 22 Aug 2018 01:23:51 GMT', 'content-type': 'application/x-amz-json-1.1', 'content-length': '162', 'connection': 'keep-alive', 'x-amzn-requestid': '06e2a523-a5aa-11e8-abaa-5bd9fb10e857'}, 'RetryAttempts': 0}}\n",
      "{'Sentiment': 'NEGATIVE', 'SentimentScore': {'Positive': 0.0038795508444309235, 'Negative': 0.8352654576301575, 'Neutral': 0.10811574012041092, 'Mixed': 0.05273926258087158}, 'ResponseMetadata': {'RequestId': '06f1e709-a5aa-11e8-9f0c-11ad878f42b4', 'HTTPStatusCode': 200, 'HTTPHeaders': {'date': 'Wed, 22 Aug 2018 01:23:51 GMT', 'content-type': 'application/x-amz-json-1.1', 'content-length': '164', 'connection': 'keep-alive', 'x-amzn-requestid': '06f1e709-a5aa-11e8-9f0c-11ad878f42b4'}, 'RetryAttempts': 0}}\n",
      "{'Sentiment': 'NEGATIVE', 'SentimentScore': {'Positive': 0.3964204490184784, 'Negative': 0.39662298560142517, 'Neutral': 0.010770234279334545, 'Mixed': 0.19618633389472961}, 'ResponseMetadata': {'RequestId': '0700178f-a5aa-11e8-8c25-8dfaf9f702af', 'HTTPStatusCode': 200, 'HTTPHeaders': {'date': 'Wed, 22 Aug 2018 01:23:51 GMT', 'content-type': 'application/x-amz-json-1.1', 'content-length': '163', 'connection': 'keep-alive', 'x-amzn-requestid': '0700178f-a5aa-11e8-8c25-8dfaf9f702af'}, 'RetryAttempts': 0}}\n",
      "{'Sentiment': 'NEGATIVE', 'SentimentScore': {'Positive': 0.010586686432361603, 'Negative': 0.7788131237030029, 'Neutral': 0.17032498121261597, 'Mixed': 0.04027524217963219}, 'ResponseMetadata': {'RequestId': '071107da-a5aa-11e8-bd73-35d8d2ee0e50', 'HTTPStatusCode': 200, 'HTTPHeaders': {'date': 'Wed, 22 Aug 2018 01:23:51 GMT', 'content-type': 'application/x-amz-json-1.1', 'content-length': '163', 'connection': 'keep-alive', 'x-amzn-requestid': '071107da-a5aa-11e8-bd73-35d8d2ee0e50'}, 'RetryAttempts': 0}}\n",
      "{'Sentiment': 'NEGATIVE', 'SentimentScore': {'Positive': 0.03974637761712074, 'Negative': 0.9158176779747009, 'Neutral': 0.0024982274044305086, 'Mixed': 0.04193762689828873}, 'ResponseMetadata': {'RequestId': '072049ad-a5aa-11e8-88ee-89debf0a6076', 'HTTPStatusCode': 200, 'HTTPHeaders': {'date': 'Wed, 22 Aug 2018 01:23:51 GMT', 'content-type': 'application/x-amz-json-1.1', 'content-length': '164', 'connection': 'keep-alive', 'x-amzn-requestid': '072049ad-a5aa-11e8-88ee-89debf0a6076'}, 'RetryAttempts': 0}}\n"
     ]
    },
    {
     "name": "stdout",
     "output_type": "stream",
     "text": [
      "{'Sentiment': 'NEGATIVE', 'SentimentScore': {'Positive': 0.14139753580093384, 'Negative': 0.4997584819793701, 'Neutral': 0.0018084850162267685, 'Mixed': 0.3570355176925659}, 'ResponseMetadata': {'RequestId': '072f6573-a5aa-11e8-adac-f7604fed725b', 'HTTPStatusCode': 200, 'HTTPHeaders': {'date': 'Wed, 22 Aug 2018 01:23:51 GMT', 'content-type': 'application/x-amz-json-1.1', 'content-length': '163', 'connection': 'keep-alive', 'x-amzn-requestid': '072f6573-a5aa-11e8-adac-f7604fed725b'}, 'RetryAttempts': 0}}\n",
      "{'Sentiment': 'NEGATIVE', 'SentimentScore': {'Positive': 4.852671918342821e-05, 'Negative': 0.9992730021476746, 'Neutral': 9.251057781511918e-05, 'Mixed': 0.0005859198281541467}, 'ResponseMetadata': {'RequestId': '07418de3-a5aa-11e8-bd5f-2d12aafa381c', 'HTTPStatusCode': 200, 'HTTPHeaders': {'date': 'Wed, 22 Aug 2018 01:23:51 GMT', 'content-type': 'application/x-amz-json-1.1', 'content-length': '165', 'connection': 'keep-alive', 'x-amzn-requestid': '07418de3-a5aa-11e8-bd5f-2d12aafa381c'}, 'RetryAttempts': 0}}\n",
      "{'Sentiment': 'NEGATIVE', 'SentimentScore': {'Positive': 0.014026439748704433, 'Negative': 0.95444256067276, 'Neutral': 0.006792394444346428, 'Mixed': 0.024738643318414688}, 'ResponseMetadata': {'RequestId': '074f97ab-a5aa-11e8-a2f4-85bf7e6bcf79', 'HTTPStatusCode': 200, 'HTTPHeaders': {'date': 'Wed, 22 Aug 2018 01:23:52 GMT', 'content-type': 'application/x-amz-json-1.1', 'content-length': '163', 'connection': 'keep-alive', 'x-amzn-requestid': '074f97ab-a5aa-11e8-a2f4-85bf7e6bcf79'}, 'RetryAttempts': 0}}\n",
      "{'Sentiment': 'NEGATIVE', 'SentimentScore': {'Positive': 4.395759242470376e-05, 'Negative': 0.9955453872680664, 'Neutral': 0.00016563718963880092, 'Mixed': 0.004244974814355373}, 'ResponseMetadata': {'RequestId': '075f75e8-a5aa-11e8-a9e9-659915761180', 'HTTPStatusCode': 200, 'HTTPHeaders': {'date': 'Wed, 22 Aug 2018 01:23:52 GMT', 'content-type': 'application/x-amz-json-1.1', 'content-length': '166', 'connection': 'keep-alive', 'x-amzn-requestid': '075f75e8-a5aa-11e8-a9e9-659915761180'}, 'RetryAttempts': 0}}\n",
      "{'Sentiment': 'POSITIVE', 'SentimentScore': {'Positive': 0.5467357635498047, 'Negative': 0.0060228924266994, 'Neutral': 0.028343455865979195, 'Mixed': 0.4188978374004364}, 'ResponseMetadata': {'RequestId': '076bab6f-a5aa-11e8-805e-4377d030c79f', 'HTTPStatusCode': 200, 'HTTPHeaders': {'date': 'Wed, 22 Aug 2018 01:23:52 GMT', 'content-type': 'application/x-amz-json-1.1', 'content-length': '161', 'connection': 'keep-alive', 'x-amzn-requestid': '076bab6f-a5aa-11e8-805e-4377d030c79f'}, 'RetryAttempts': 0}}\n",
      "{'Sentiment': 'MIXED', 'SentimentScore': {'Positive': 0.38639476895332336, 'Negative': 0.03713936358690262, 'Neutral': 0.036579642444849014, 'Mixed': 0.5398862361907959}, 'ResponseMetadata': {'RequestId': '077a9f48-a5aa-11e8-bf20-e9c06e0a11d1', 'HTTPStatusCode': 200, 'HTTPHeaders': {'date': 'Wed, 22 Aug 2018 01:23:52 GMT', 'content-type': 'application/x-amz-json-1.1', 'content-length': '160', 'connection': 'keep-alive', 'x-amzn-requestid': '077a9f48-a5aa-11e8-bf20-e9c06e0a11d1'}, 'RetryAttempts': 0}}\n",
      "{'Sentiment': 'NEGATIVE', 'SentimentScore': {'Positive': 0.07355814427137375, 'Negative': 0.7689018249511719, 'Neutral': 0.0639868751168251, 'Mixed': 0.09355314075946808}, 'ResponseMetadata': {'RequestId': '07874944-a5aa-11e8-9c69-7db1af1277f0', 'HTTPStatusCode': 200, 'HTTPHeaders': {'date': 'Wed, 22 Aug 2018 01:23:52 GMT', 'content-type': 'application/x-amz-json-1.1', 'content-length': '161', 'connection': 'keep-alive', 'x-amzn-requestid': '07874944-a5aa-11e8-9c69-7db1af1277f0'}, 'RetryAttempts': 0}}\n",
      "{'Sentiment': 'NEGATIVE', 'SentimentScore': {'Positive': 0.1644924283027649, 'Negative': 0.5712174773216248, 'Neutral': 0.0048310160636901855, 'Mixed': 0.2594590187072754}, 'ResponseMetadata': {'RequestId': '0796b2c7-a5aa-11e8-adac-f7604fed725b', 'HTTPStatusCode': 200, 'HTTPHeaders': {'date': 'Wed, 22 Aug 2018 01:23:52 GMT', 'content-type': 'application/x-amz-json-1.1', 'content-length': '162', 'connection': 'keep-alive', 'x-amzn-requestid': '0796b2c7-a5aa-11e8-adac-f7604fed725b'}, 'RetryAttempts': 0}}\n",
      "{'Sentiment': 'NEGATIVE', 'SentimentScore': {'Positive': 0.002887899521738291, 'Negative': 0.9834616184234619, 'Neutral': 0.005767902825027704, 'Mixed': 0.00788257084786892}, 'ResponseMetadata': {'RequestId': '07a7a2ef-a5aa-11e8-845a-674cd09bb0ce', 'HTTPStatusCode': 200, 'HTTPHeaders': {'date': 'Wed, 22 Aug 2018 01:23:52 GMT', 'content-type': 'application/x-amz-json-1.1', 'content-length': '164', 'connection': 'keep-alive', 'x-amzn-requestid': '07a7a2ef-a5aa-11e8-845a-674cd09bb0ce'}, 'RetryAttempts': 0}}\n",
      "{'Sentiment': 'NEGATIVE', 'SentimentScore': {'Positive': 9.666560072218999e-05, 'Negative': 0.997761607170105, 'Neutral': 0.0006763871642760932, 'Mixed': 0.0014652129029855132}, 'ResponseMetadata': {'RequestId': '07b4741b-a5aa-11e8-abaa-5bd9fb10e857', 'HTTPStatusCode': 200, 'HTTPHeaders': {'date': 'Wed, 22 Aug 2018 01:23:52 GMT', 'content-type': 'application/x-amz-json-1.1', 'content-length': '165', 'connection': 'keep-alive', 'x-amzn-requestid': '07b4741b-a5aa-11e8-abaa-5bd9fb10e857'}, 'RetryAttempts': 0}}\n",
      "{'Sentiment': 'POSITIVE', 'SentimentScore': {'Positive': 0.40961629152297974, 'Negative': 0.19851823151111603, 'Neutral': 0.012583230622112751, 'Mixed': 0.37928229570388794}, 'ResponseMetadata': {'RequestId': '07c208b3-a5aa-11e8-bd9d-a34b323210e2', 'HTTPStatusCode': 200, 'HTTPHeaders': {'date': 'Wed, 22 Aug 2018 01:23:52 GMT', 'content-type': 'application/x-amz-json-1.1', 'content-length': '164', 'connection': 'keep-alive', 'x-amzn-requestid': '07c208b3-a5aa-11e8-bd9d-a34b323210e2'}, 'RetryAttempts': 0}}\n",
      "{'Sentiment': 'NEGATIVE', 'SentimentScore': {'Positive': 0.03247954696416855, 'Negative': 0.9016646146774292, 'Neutral': 0.03697824105620384, 'Mixed': 0.02887766808271408}, 'ResponseMetadata': {'RequestId': '07d3e2a1-a5aa-11e8-9f0c-11ad878f42b4', 'HTTPStatusCode': 200, 'HTTPHeaders': {'date': 'Wed, 22 Aug 2018 01:23:52 GMT', 'content-type': 'application/x-amz-json-1.1', 'content-length': '162', 'connection': 'keep-alive', 'x-amzn-requestid': '07d3e2a1-a5aa-11e8-9f0c-11ad878f42b4'}, 'RetryAttempts': 0}}\n",
      "{'Sentiment': 'NEGATIVE', 'SentimentScore': {'Positive': 0.04833100363612175, 'Negative': 0.7504470944404602, 'Neutral': 0.0670134574174881, 'Mixed': 0.13420847058296204}, 'ResponseMetadata': {'RequestId': '07e1ecc9-a5aa-11e8-ac20-bdca8459aef1', 'HTTPStatusCode': 200, 'HTTPHeaders': {'date': 'Wed, 22 Aug 2018 01:23:53 GMT', 'content-type': 'application/x-amz-json-1.1', 'content-length': '161', 'connection': 'keep-alive', 'x-amzn-requestid': '07e1ecc9-a5aa-11e8-ac20-bdca8459aef1'}, 'RetryAttempts': 0}}\n",
      "{'Sentiment': 'NEGATIVE', 'SentimentScore': {'Positive': 0.008623708970844746, 'Negative': 0.8041573762893677, 'Neutral': 0.0019968764390796423, 'Mixed': 0.18522194027900696}, 'ResponseMetadata': {'RequestId': '07f65eb6-a5aa-11e8-b50d-8301a8898004', 'HTTPStatusCode': 200, 'HTTPHeaders': {'date': 'Wed, 22 Aug 2018 01:23:53 GMT', 'content-type': 'application/x-amz-json-1.1', 'content-length': '165', 'connection': 'keep-alive', 'x-amzn-requestid': '07f65eb6-a5aa-11e8-b50d-8301a8898004'}, 'RetryAttempts': 0}}\n",
      "{'Sentiment': 'POSITIVE', 'SentimentScore': {'Positive': 0.861575186252594, 'Negative': 0.031411003321409225, 'Neutral': 0.07891335338354111, 'Mixed': 0.028100475668907166}, 'ResponseMetadata': {'RequestId': '08037dc6-a5aa-11e8-88ee-89debf0a6076', 'HTTPStatusCode': 200, 'HTTPHeaders': {'date': 'Wed, 22 Aug 2018 01:23:53 GMT', 'content-type': 'application/x-amz-json-1.1', 'content-length': '163', 'connection': 'keep-alive', 'x-amzn-requestid': '08037dc6-a5aa-11e8-88ee-89debf0a6076'}, 'RetryAttempts': 0}}\n",
      "{'Sentiment': 'NEGATIVE', 'SentimentScore': {'Positive': 0.016895737498998642, 'Negative': 0.8829729557037354, 'Neutral': 0.08089854568243027, 'Mixed': 0.01923273876309395}, 'ResponseMetadata': {'RequestId': '081028dc-a5aa-11e8-8f7d-cd5b090a526d', 'HTTPStatusCode': 200, 'HTTPHeaders': {'date': 'Wed, 22 Aug 2018 01:23:53 GMT', 'content-type': 'application/x-amz-json-1.1', 'content-length': '163', 'connection': 'keep-alive', 'x-amzn-requestid': '081028dc-a5aa-11e8-8f7d-cd5b090a526d'}, 'RetryAttempts': 0}}\n",
      "{'Sentiment': 'NEGATIVE', 'SentimentScore': {'Positive': 0.0025768796913325787, 'Negative': 0.9745272994041443, 'Neutral': 0.000880772655364126, 'Mixed': 0.02201511710882187}, 'ResponseMetadata': {'RequestId': '081c5dc6-a5aa-11e8-b847-61cf5ece24ed', 'HTTPStatusCode': 200, 'HTTPHeaders': {'date': 'Wed, 22 Aug 2018 01:23:53 GMT', 'content-type': 'application/x-amz-json-1.1', 'content-length': '164', 'connection': 'keep-alive', 'x-amzn-requestid': '081c5dc6-a5aa-11e8-b847-61cf5ece24ed'}, 'RetryAttempts': 0}}\n",
      "{'Sentiment': 'NEGATIVE', 'SentimentScore': {'Positive': 0.03759185969829559, 'Negative': 0.8638660907745361, 'Neutral': 0.03295719251036644, 'Mixed': 0.06558486819267273}, 'ResponseMetadata': {'RequestId': '0829a427-a5aa-11e8-bd9d-a34b323210e2', 'HTTPStatusCode': 200, 'HTTPHeaders': {'date': 'Wed, 22 Aug 2018 01:23:53 GMT', 'content-type': 'application/x-amz-json-1.1', 'content-length': '162', 'connection': 'keep-alive', 'x-amzn-requestid': '0829a427-a5aa-11e8-bd9d-a34b323210e2'}, 'RetryAttempts': 0}}\n"
     ]
    },
    {
     "name": "stdout",
     "output_type": "stream",
     "text": [
      "{'Sentiment': 'NEGATIVE', 'SentimentScore': {'Positive': 0.2366439700126648, 'Negative': 0.5851342678070068, 'Neutral': 0.014069938100874424, 'Mixed': 0.16415178775787354}, 'ResponseMetadata': {'RequestId': '08364e54-a5aa-11e8-ae3e-c1f1bbbc4558', 'HTTPStatusCode': 200, 'HTTPHeaders': {'date': 'Wed, 22 Aug 2018 01:23:53 GMT', 'content-type': 'application/x-amz-json-1.1', 'content-length': '162', 'connection': 'keep-alive', 'x-amzn-requestid': '08364e54-a5aa-11e8-ae3e-c1f1bbbc4558'}, 'RetryAttempts': 0}}\n",
      "{'Sentiment': 'MIXED', 'SentimentScore': {'Positive': 0.1676005721092224, 'Negative': 0.0662505105137825, 'Neutral': 0.012178387492895126, 'Mixed': 0.7539705038070679}, 'ResponseMetadata': {'RequestId': '08436d93-a5aa-11e8-a423-23f645849a04', 'HTTPStatusCode': 200, 'HTTPHeaders': {'date': 'Wed, 22 Aug 2018 01:23:53 GMT', 'content-type': 'application/x-amz-json-1.1', 'content-length': '158', 'connection': 'keep-alive', 'x-amzn-requestid': '08436d93-a5aa-11e8-a423-23f645849a04'}, 'RetryAttempts': 0}}\n",
      "{'Sentiment': 'POSITIVE', 'SentimentScore': {'Positive': 0.8677477836608887, 'Negative': 0.02124963514506817, 'Neutral': 0.09450573474168777, 'Mixed': 0.016496917232871056}, 'ResponseMetadata': {'RequestId': '084fa20b-a5aa-11e8-8c25-8dfaf9f702af', 'HTTPStatusCode': 200, 'HTTPHeaders': {'date': 'Wed, 22 Aug 2018 01:23:53 GMT', 'content-type': 'application/x-amz-json-1.1', 'content-length': '163', 'connection': 'keep-alive', 'x-amzn-requestid': '084fa20b-a5aa-11e8-8c25-8dfaf9f702af'}, 'RetryAttempts': 0}}\n",
      "{'Sentiment': 'NEGATIVE', 'SentimentScore': {'Positive': 0.001139637897722423, 'Negative': 0.9824143052101135, 'Neutral': 0.000729115738067776, 'Mixed': 0.015716850757598877}, 'ResponseMetadata': {'RequestId': '085c4c7a-a5aa-11e8-b50d-8301a8898004', 'HTTPStatusCode': 200, 'HTTPHeaders': {'date': 'Wed, 22 Aug 2018 01:23:53 GMT', 'content-type': 'application/x-amz-json-1.1', 'content-length': '164', 'connection': 'keep-alive', 'x-amzn-requestid': '085c4c7a-a5aa-11e8-b50d-8301a8898004'}, 'RetryAttempts': 0}}\n",
      "{'Sentiment': 'NEGATIVE', 'SentimentScore': {'Positive': 0.18627218902111053, 'Negative': 0.5814508199691772, 'Neutral': 0.0419103242456913, 'Mixed': 0.19036667048931122}, 'ResponseMetadata': {'RequestId': '0869ba17-a5aa-11e8-bd73-35d8d2ee0e50', 'HTTPStatusCode': 200, 'HTTPHeaders': {'date': 'Wed, 22 Aug 2018 01:23:53 GMT', 'content-type': 'application/x-amz-json-1.1', 'content-length': '161', 'connection': 'keep-alive', 'x-amzn-requestid': '0869ba17-a5aa-11e8-bd73-35d8d2ee0e50'}, 'RetryAttempts': 0}}\n",
      "{'Sentiment': 'NEGATIVE', 'SentimentScore': {'Positive': 0.011000555008649826, 'Negative': 0.8992578387260437, 'Neutral': 0.05876196548342705, 'Mixed': 0.03097969852387905}, 'ResponseMetadata': {'RequestId': '087cf38a-a5aa-11e8-88ee-89debf0a6076', 'HTTPStatusCode': 200, 'HTTPHeaders': {'date': 'Wed, 22 Aug 2018 01:23:54 GMT', 'content-type': 'application/x-amz-json-1.1', 'content-length': '163', 'connection': 'keep-alive', 'x-amzn-requestid': '087cf38a-a5aa-11e8-88ee-89debf0a6076'}, 'RetryAttempts': 0}}\n",
      "{'Sentiment': 'NEGATIVE', 'SentimentScore': {'Positive': 0.0033099993597716093, 'Negative': 0.9337044358253479, 'Neutral': 0.0010510141728445888, 'Mixed': 0.06193448603153229}, 'ResponseMetadata': {'RequestId': '08899e52-a5aa-11e8-bf20-e9c06e0a11d1', 'HTTPStatusCode': 200, 'HTTPHeaders': {'date': 'Wed, 22 Aug 2018 01:23:54 GMT', 'content-type': 'application/x-amz-json-1.1', 'content-length': '166', 'connection': 'keep-alive', 'x-amzn-requestid': '08899e52-a5aa-11e8-bf20-e9c06e0a11d1'}, 'RetryAttempts': 0}}\n",
      "{'Sentiment': 'NEGATIVE', 'SentimentScore': {'Positive': 4.465900929062627e-06, 'Negative': 0.9995735287666321, 'Neutral': 2.0938434317940846e-05, 'Mixed': 0.00040106955566443503}, 'ResponseMetadata': {'RequestId': '08970c00-a5aa-11e8-9d3a-e5743fd937d0', 'HTTPStatusCode': 200, 'HTTPHeaders': {'date': 'Wed, 22 Aug 2018 01:23:54 GMT', 'content-type': 'application/x-amz-json-1.1', 'content-length': '167', 'connection': 'keep-alive', 'x-amzn-requestid': '08970c00-a5aa-11e8-9d3a-e5743fd937d0'}, 'RetryAttempts': 0}}\n",
      "{'Sentiment': 'NEGATIVE', 'SentimentScore': {'Positive': 0.00033190613612532616, 'Negative': 0.9822123050689697, 'Neutral': 0.0029943985864520073, 'Mixed': 0.014461273327469826}, 'ResponseMetadata': {'RequestId': '08a6c387-a5aa-11e8-a54c-579d1aae2c6e', 'HTTPStatusCode': 200, 'HTTPHeaders': {'date': 'Wed, 22 Aug 2018 01:23:54 GMT', 'content-type': 'application/x-amz-json-1.1', 'content-length': '167', 'connection': 'keep-alive', 'x-amzn-requestid': '08a6c387-a5aa-11e8-a54c-579d1aae2c6e'}, 'RetryAttempts': 0}}\n",
      "{'Sentiment': 'NEUTRAL', 'SentimentScore': {'Positive': 0.05607375502586365, 'Negative': 0.46135205030441284, 'Neutral': 0.46469977498054504, 'Mixed': 0.017874429002404213}, 'ResponseMetadata': {'RequestId': '08b36d54-a5aa-11e8-94da-d5c7ea9d7817', 'HTTPStatusCode': 200, 'HTTPHeaders': {'date': 'Wed, 22 Aug 2018 01:23:54 GMT', 'content-type': 'application/x-amz-json-1.1', 'content-length': '163', 'connection': 'keep-alive', 'x-amzn-requestid': '08b36d54-a5aa-11e8-94da-d5c7ea9d7817'}, 'RetryAttempts': 0}}\n",
      "{'Sentiment': 'MIXED', 'SentimentScore': {'Positive': 0.19362004101276398, 'Negative': 0.3493356704711914, 'Neutral': 0.019696183502674103, 'Mixed': 0.4373481273651123}, 'ResponseMetadata': {'RequestId': '08c10231-a5aa-11e8-ac20-bdca8459aef1', 'HTTPStatusCode': 200, 'HTTPHeaders': {'date': 'Wed, 22 Aug 2018 01:23:54 GMT', 'content-type': 'application/x-amz-json-1.1', 'content-length': '159', 'connection': 'keep-alive', 'x-amzn-requestid': '08c10231-a5aa-11e8-ac20-bdca8459aef1'}, 'RetryAttempts': 0}}\n",
      "{'Sentiment': 'NEGATIVE', 'SentimentScore': {'Positive': 0.17420966923236847, 'Negative': 0.6353644728660583, 'Neutral': 0.054295144975185394, 'Mixed': 0.13613076508045197}, 'ResponseMetadata': {'RequestId': '08d10754-a5aa-11e8-81c3-ef4e8be5100f', 'HTTPStatusCode': 200, 'HTTPHeaders': {'date': 'Wed, 22 Aug 2018 01:23:54 GMT', 'content-type': 'application/x-amz-json-1.1', 'content-length': '163', 'connection': 'keep-alive', 'x-amzn-requestid': '08d10754-a5aa-11e8-81c3-ef4e8be5100f'}, 'RetryAttempts': 0}}\n",
      "{'Sentiment': 'NEUTRAL', 'SentimentScore': {'Positive': 0.016989877447485924, 'Negative': 0.009344770573079586, 'Neutral': 0.9719476699829102, 'Mixed': 0.0017177537083625793}, 'ResponseMetadata': {'RequestId': '08f95045-a5aa-11e8-b2ca-f77ae9ee4acb', 'HTTPStatusCode': 200, 'HTTPHeaders': {'date': 'Wed, 22 Aug 2018 01:23:54 GMT', 'content-type': 'application/x-amz-json-1.1', 'content-length': '165', 'connection': 'keep-alive', 'x-amzn-requestid': '08f95045-a5aa-11e8-b2ca-f77ae9ee4acb'}, 'RetryAttempts': 0}}\n",
      "{'Sentiment': 'POSITIVE', 'SentimentScore': {'Positive': 0.7618488073348999, 'Negative': 0.14998434484004974, 'Neutral': 0.043757785111665726, 'Mixed': 0.044409044086933136}, 'ResponseMetadata': {'RequestId': '0906bddb-a5aa-11e8-a54c-579d1aae2c6e', 'HTTPStatusCode': 200, 'HTTPHeaders': {'date': 'Wed, 22 Aug 2018 01:23:54 GMT', 'content-type': 'application/x-amz-json-1.1', 'content-length': '164', 'connection': 'keep-alive', 'x-amzn-requestid': '0906bddb-a5aa-11e8-a54c-579d1aae2c6e'}, 'RetryAttempts': 0}}\n",
      "{'Sentiment': 'POSITIVE', 'SentimentScore': {'Positive': 0.5884971022605896, 'Negative': 0.044606760144233704, 'Neutral': 0.29121777415275574, 'Mixed': 0.07567834854125977}, 'ResponseMetadata': {'RequestId': '091403e8-a5aa-11e8-94da-d5c7ea9d7817', 'HTTPStatusCode': 200, 'HTTPHeaders': {'date': 'Wed, 22 Aug 2018 01:23:55 GMT', 'content-type': 'application/x-amz-json-1.1', 'content-length': '163', 'connection': 'keep-alive', 'x-amzn-requestid': '091403e8-a5aa-11e8-94da-d5c7ea9d7817'}, 'RetryAttempts': 0}}\n",
      "{'Sentiment': 'NEGATIVE', 'SentimentScore': {'Positive': 0.06706001609563828, 'Negative': 0.7214020490646362, 'Neutral': 0.09033039957284927, 'Mixed': 0.12120755761861801}, 'ResponseMetadata': {'RequestId': '0920fc85-a5aa-11e8-ac20-bdca8459aef1', 'HTTPStatusCode': 200, 'HTTPHeaders': {'date': 'Wed, 22 Aug 2018 01:23:55 GMT', 'content-type': 'application/x-amz-json-1.1', 'content-length': '162', 'connection': 'keep-alive', 'x-amzn-requestid': '0920fc85-a5aa-11e8-ac20-bdca8459aef1'}, 'RetryAttempts': 0}}\n",
      "{'Sentiment': 'NEGATIVE', 'SentimentScore': {'Positive': 0.00042910833144560456, 'Negative': 0.9922276139259338, 'Neutral': 0.004106414038687944, 'Mixed': 0.003236782504245639}, 'ResponseMetadata': {'RequestId': '092dcd52-a5aa-11e8-b50d-8301a8898004', 'HTTPStatusCode': 200, 'HTTPHeaders': {'date': 'Wed, 22 Aug 2018 01:23:55 GMT', 'content-type': 'application/x-amz-json-1.1', 'content-length': '166', 'connection': 'keep-alive', 'x-amzn-requestid': '092dcd52-a5aa-11e8-b50d-8301a8898004'}, 'RetryAttempts': 0}}\n"
     ]
    },
    {
     "name": "stdout",
     "output_type": "stream",
     "text": [
      "{'Sentiment': 'NEGATIVE', 'SentimentScore': {'Positive': 0.0006602996727451682, 'Negative': 0.9807817935943604, 'Neutral': 0.012723071500658989, 'Mixed': 0.005834817886352539}, 'ResponseMetadata': {'RequestId': '093ac5bf-a5aa-11e8-bd73-35d8d2ee0e50', 'HTTPStatusCode': 200, 'HTTPHeaders': {'date': 'Wed, 22 Aug 2018 01:23:55 GMT', 'content-type': 'application/x-amz-json-1.1', 'content-length': '165', 'connection': 'keep-alive', 'x-amzn-requestid': '093ac5bf-a5aa-11e8-bd73-35d8d2ee0e50'}, 'RetryAttempts': 0}}\n",
      "{'Sentiment': 'NEGATIVE', 'SentimentScore': {'Positive': 0.019144104793667793, 'Negative': 0.9297733902931213, 'Neutral': 0.03340288996696472, 'Mixed': 0.017679620534181595}, 'ResponseMetadata': {'RequestId': '09476f82-a5aa-11e8-88ee-89debf0a6076', 'HTTPStatusCode': 200, 'HTTPHeaders': {'date': 'Wed, 22 Aug 2018 01:23:55 GMT', 'content-type': 'application/x-amz-json-1.1', 'content-length': '164', 'connection': 'keep-alive', 'x-amzn-requestid': '09476f82-a5aa-11e8-88ee-89debf0a6076'}, 'RetryAttempts': 0}}\n",
      "{'Sentiment': 'NEGATIVE', 'SentimentScore': {'Positive': 0.0819101557135582, 'Negative': 0.858787477016449, 'Neutral': 0.011861680075526237, 'Mixed': 0.04744063690304756}, 'ResponseMetadata': {'RequestId': '095775d9-a5aa-11e8-b2ca-f77ae9ee4acb', 'HTTPStatusCode': 200, 'HTTPHeaders': {'date': 'Wed, 22 Aug 2018 01:23:55 GMT', 'content-type': 'application/x-amz-json-1.1', 'content-length': '161', 'connection': 'keep-alive', 'x-amzn-requestid': '095775d9-a5aa-11e8-b2ca-f77ae9ee4acb'}, 'RetryAttempts': 0}}\n",
      "{'Sentiment': 'POSITIVE', 'SentimentScore': {'Positive': 0.44857293367385864, 'Negative': 0.1064431369304657, 'Neutral': 0.218919575214386, 'Mixed': 0.22606439888477325}, 'ResponseMetadata': {'RequestId': '0964463a-a5aa-11e8-8f7d-cd5b090a526d', 'HTTPStatusCode': 200, 'HTTPHeaders': {'date': 'Wed, 22 Aug 2018 01:23:55 GMT', 'content-type': 'application/x-amz-json-1.1', 'content-length': '160', 'connection': 'keep-alive', 'x-amzn-requestid': '0964463a-a5aa-11e8-8f7d-cd5b090a526d'}, 'RetryAttempts': 0}}\n",
      "{'Sentiment': 'NEUTRAL', 'SentimentScore': {'Positive': 0.10540857911109924, 'Negative': 0.3534708619117737, 'Neutral': 0.4403119385242462, 'Mixed': 0.10080864280462265}, 'ResponseMetadata': {'RequestId': '0972c5fe-a5aa-11e8-abaa-5bd9fb10e857', 'HTTPStatusCode': 200, 'HTTPHeaders': {'date': 'Wed, 22 Aug 2018 01:23:55 GMT', 'content-type': 'application/x-amz-json-1.1', 'content-length': '160', 'connection': 'keep-alive', 'x-amzn-requestid': '0972c5fe-a5aa-11e8-abaa-5bd9fb10e857'}, 'RetryAttempts': 0}}\n",
      "{'Sentiment': 'NEUTRAL', 'SentimentScore': {'Positive': 0.09572891891002655, 'Negative': 0.21059168875217438, 'Neutral': 0.5987260341644287, 'Mixed': 0.09495338052511215}, 'ResponseMetadata': {'RequestId': '097f7032-a5aa-11e8-ae3e-c1f1bbbc4558', 'HTTPStatusCode': 200, 'HTTPHeaders': {'date': 'Wed, 22 Aug 2018 01:23:55 GMT', 'content-type': 'application/x-amz-json-1.1', 'content-length': '161', 'connection': 'keep-alive', 'x-amzn-requestid': '097f7032-a5aa-11e8-ae3e-c1f1bbbc4558'}, 'RetryAttempts': 0}}\n",
      "{'Sentiment': 'POSITIVE', 'SentimentScore': {'Positive': 0.5054506063461304, 'Negative': 0.016996946185827255, 'Neutral': 0.4365021586418152, 'Mixed': 0.04105030372738838}, 'ResponseMetadata': {'RequestId': '098c1a39-a5aa-11e8-bd5f-2d12aafa381c', 'HTTPStatusCode': 200, 'HTTPHeaders': {'date': 'Wed, 22 Aug 2018 01:23:55 GMT', 'content-type': 'application/x-amz-json-1.1', 'content-length': '162', 'connection': 'keep-alive', 'x-amzn-requestid': '098c1a39-a5aa-11e8-bd5f-2d12aafa381c'}, 'RetryAttempts': 0}}\n",
      "{'Sentiment': 'MIXED', 'SentimentScore': {'Positive': 0.35809922218322754, 'Negative': 0.00729755125939846, 'Neutral': 0.0017486675642430782, 'Mixed': 0.6328545808792114}, 'ResponseMetadata': {'RequestId': '0999fcf1-a5aa-11e8-a2f4-85bf7e6bcf79', 'HTTPStatusCode': 200, 'HTTPHeaders': {'date': 'Wed, 22 Aug 2018 01:23:55 GMT', 'content-type': 'application/x-amz-json-1.1', 'content-length': '161', 'connection': 'keep-alive', 'x-amzn-requestid': '0999fcf1-a5aa-11e8-a2f4-85bf7e6bcf79'}, 'RetryAttempts': 0}}\n",
      "{'Sentiment': 'NEGATIVE', 'SentimentScore': {'Positive': 0.03460942208766937, 'Negative': 0.895637571811676, 'Neutral': 0.05870068445801735, 'Mixed': 0.01105237752199173}, 'ResponseMetadata': {'RequestId': '09a71c0d-a5aa-11e8-81c3-ef4e8be5100f', 'HTTPStatusCode': 200, 'HTTPHeaders': {'date': 'Wed, 22 Aug 2018 01:23:56 GMT', 'content-type': 'application/x-amz-json-1.1', 'content-length': '161', 'connection': 'keep-alive', 'x-amzn-requestid': '09a71c0d-a5aa-11e8-81c3-ef4e8be5100f'}, 'RetryAttempts': 0}}\n",
      "{'Sentiment': 'NEGATIVE', 'SentimentScore': {'Positive': 0.00470573827624321, 'Negative': 0.9287532567977905, 'Neutral': 0.00880346167832613, 'Mixed': 0.05773754045367241}, 'ResponseMetadata': {'RequestId': '09b43b1b-a5aa-11e8-ad19-e94911d6863f', 'HTTPStatusCode': 200, 'HTTPHeaders': {'date': 'Wed, 22 Aug 2018 01:23:56 GMT', 'content-type': 'application/x-amz-json-1.1', 'content-length': '162', 'connection': 'keep-alive', 'x-amzn-requestid': '09b43b1b-a5aa-11e8-ad19-e94911d6863f'}, 'RetryAttempts': 0}}\n",
      "{'Sentiment': 'POSITIVE', 'SentimentScore': {'Positive': 0.3230232000350952, 'Negative': 0.3229585886001587, 'Neutral': 0.0596955344080925, 'Mixed': 0.2943227291107178}, 'ResponseMetadata': {'RequestId': '09c0be5d-a5aa-11e8-bc99-03ea29243f9b', 'HTTPStatusCode': 200, 'HTTPHeaders': {'date': 'Wed, 22 Aug 2018 01:23:56 GMT', 'content-type': 'application/x-amz-json-1.1', 'content-length': '159', 'connection': 'keep-alive', 'x-amzn-requestid': '09c0be5d-a5aa-11e8-bc99-03ea29243f9b'}, 'RetryAttempts': 0}}\n",
      "{'Sentiment': 'NEGATIVE', 'SentimentScore': {'Positive': 0.015623221173882484, 'Negative': 0.634871780872345, 'Neutral': 0.012933877296745777, 'Mixed': 0.33657106757164}, 'ResponseMetadata': {'RequestId': '09cdb709-a5aa-11e8-85fc-133ac8d50853', 'HTTPStatusCode': 200, 'HTTPHeaders': {'date': 'Wed, 22 Aug 2018 01:23:56 GMT', 'content-type': 'application/x-amz-json-1.1', 'content-length': '160', 'connection': 'keep-alive', 'x-amzn-requestid': '09cdb709-a5aa-11e8-85fc-133ac8d50853'}, 'RetryAttempts': 0}}\n",
      "{'Sentiment': 'NEGATIVE', 'SentimentScore': {'Positive': 0.1033906415104866, 'Negative': 0.5948010087013245, 'Neutral': 0.20807625353336334, 'Mixed': 0.09373211860656738}, 'ResponseMetadata': {'RequestId': '09db23e3-a5aa-11e8-a54c-579d1aae2c6e', 'HTTPStatusCode': 200, 'HTTPHeaders': {'date': 'Wed, 22 Aug 2018 01:23:56 GMT', 'content-type': 'application/x-amz-json-1.1', 'content-length': '161', 'connection': 'keep-alive', 'x-amzn-requestid': '09db23e3-a5aa-11e8-a54c-579d1aae2c6e'}, 'RetryAttempts': 0}}\n",
      "{'Sentiment': 'POSITIVE', 'SentimentScore': {'Positive': 0.9576552510261536, 'Negative': 0.008640237152576447, 'Neutral': 0.004641848150640726, 'Mixed': 0.029062747955322266}, 'ResponseMetadata': {'RequestId': '09eb02a6-a5aa-11e8-b93a-f1e2833c09ce', 'HTTPStatusCode': 200, 'HTTPHeaders': {'date': 'Wed, 22 Aug 2018 01:23:56 GMT', 'content-type': 'application/x-amz-json-1.1', 'content-length': '165', 'connection': 'keep-alive', 'x-amzn-requestid': '09eb02a6-a5aa-11e8-b93a-f1e2833c09ce'}, 'RetryAttempts': 0}}\n",
      "{'Sentiment': 'NEGATIVE', 'SentimentScore': {'Positive': 0.0006630328134633601, 'Negative': 0.9495609998703003, 'Neutral': 0.00045006966684013605, 'Mixed': 0.04932592064142227}, 'ResponseMetadata': {'RequestId': '09fae182-a5aa-11e8-94da-d5c7ea9d7817', 'HTTPStatusCode': 200, 'HTTPHeaders': {'date': 'Wed, 22 Aug 2018 01:23:56 GMT', 'content-type': 'application/x-amz-json-1.1', 'content-length': '165', 'connection': 'keep-alive', 'x-amzn-requestid': '09fae182-a5aa-11e8-94da-d5c7ea9d7817'}, 'RetryAttempts': 0}}\n",
      "{'Sentiment': 'NEGATIVE', 'SentimentScore': {'Positive': 0.009524128399789333, 'Negative': 0.954755961894989, 'Neutral': 0.011912849731743336, 'Mixed': 0.023807069286704063}, 'ResponseMetadata': {'RequestId': '0a07169e-a5aa-11e8-bd5f-2d12aafa381c', 'HTTPStatusCode': 200, 'HTTPHeaders': {'date': 'Wed, 22 Aug 2018 01:23:56 GMT', 'content-type': 'application/x-amz-json-1.1', 'content-length': '164', 'connection': 'keep-alive', 'x-amzn-requestid': '0a07169e-a5aa-11e8-bd5f-2d12aafa381c'}, 'RetryAttempts': 0}}\n",
      "{'Sentiment': 'POSITIVE', 'SentimentScore': {'Positive': 0.3828270435333252, 'Negative': 0.19839735329151154, 'Neutral': 0.08798296004533768, 'Mixed': 0.3307926058769226}, 'ResponseMetadata': {'RequestId': '0a167fab-a5aa-11e8-b50d-8301a8898004', 'HTTPStatusCode': 200, 'HTTPHeaders': {'date': 'Wed, 22 Aug 2018 01:23:56 GMT', 'content-type': 'application/x-amz-json-1.1', 'content-length': '161', 'connection': 'keep-alive', 'x-amzn-requestid': '0a167fab-a5aa-11e8-b50d-8301a8898004'}, 'RetryAttempts': 0}}\n",
      "{'Sentiment': 'NEGATIVE', 'SentimentScore': {'Positive': 0.043425776064395905, 'Negative': 0.8775035738945007, 'Neutral': 0.04732099920511246, 'Mixed': 0.031749628484249115}, 'ResponseMetadata': {'RequestId': '0a2413ca-a5aa-11e8-805e-4377d030c79f', 'HTTPStatusCode': 200, 'HTTPHeaders': {'date': 'Wed, 22 Aug 2018 01:23:56 GMT', 'content-type': 'application/x-amz-json-1.1', 'content-length': '164', 'connection': 'keep-alive', 'x-amzn-requestid': '0a2413ca-a5aa-11e8-805e-4377d030c79f'}, 'RetryAttempts': 0}}\n"
     ]
    },
    {
     "name": "stdout",
     "output_type": "stream",
     "text": [
      "{'Sentiment': 'NEGATIVE', 'SentimentScore': {'Positive': 0.017547959461808205, 'Negative': 0.8862559199333191, 'Neutral': 0.05846921727061272, 'Mixed': 0.03772696107625961}, 'ResponseMetadata': {'RequestId': '0a31cfb1-a5aa-11e8-bc99-03ea29243f9b', 'HTTPStatusCode': 200, 'HTTPHeaders': {'date': 'Wed, 22 Aug 2018 01:23:56 GMT', 'content-type': 'application/x-amz-json-1.1', 'content-length': '163', 'connection': 'keep-alive', 'x-amzn-requestid': '0a31cfb1-a5aa-11e8-bc99-03ea29243f9b'}, 'RetryAttempts': 0}}\n",
      "{'Sentiment': 'NEGATIVE', 'SentimentScore': {'Positive': 0.0033807866275310516, 'Negative': 0.9267985820770264, 'Neutral': 0.011895268224179745, 'Mixed': 0.05792529881000519}, 'ResponseMetadata': {'RequestId': '0a3e7a3d-a5aa-11e8-85fc-133ac8d50853', 'HTTPStatusCode': 200, 'HTTPHeaders': {'date': 'Wed, 22 Aug 2018 01:23:56 GMT', 'content-type': 'application/x-amz-json-1.1', 'content-length': '165', 'connection': 'keep-alive', 'x-amzn-requestid': '0a3e7a3d-a5aa-11e8-85fc-133ac8d50853'}, 'RetryAttempts': 0}}\n",
      "{'Sentiment': 'NEGATIVE', 'SentimentScore': {'Positive': 0.00030711881117895246, 'Negative': 0.9931249022483826, 'Neutral': 0.0036129869986325502, 'Mixed': 0.002955003408715129}, 'ResponseMetadata': {'RequestId': '0a4be7d1-a5aa-11e8-adac-f7604fed725b', 'HTTPStatusCode': 200, 'HTTPHeaders': {'date': 'Wed, 22 Aug 2018 01:23:57 GMT', 'content-type': 'application/x-amz-json-1.1', 'content-length': '167', 'connection': 'keep-alive', 'x-amzn-requestid': '0a4be7d1-a5aa-11e8-adac-f7604fed725b'}, 'RetryAttempts': 0}}\n",
      "{'Sentiment': 'NEGATIVE', 'SentimentScore': {'Positive': 0.0011047532316297293, 'Negative': 0.993681788444519, 'Neutral': 0.002913248958066106, 'Mixed': 0.0023003031965345144}, 'ResponseMetadata': {'RequestId': '0a5adc15-a5aa-11e8-abaa-5bd9fb10e857', 'HTTPStatusCode': 200, 'HTTPHeaders': {'date': 'Wed, 22 Aug 2018 01:23:57 GMT', 'content-type': 'application/x-amz-json-1.1', 'content-length': '166', 'connection': 'keep-alive', 'x-amzn-requestid': '0a5adc15-a5aa-11e8-abaa-5bd9fb10e857'}, 'RetryAttempts': 0}}\n",
      "{'Sentiment': 'NEGATIVE', 'SentimentScore': {'Positive': 0.005273544695228338, 'Negative': 0.962078869342804, 'Neutral': 0.004611763637512922, 'Mixed': 0.028035856783390045}, 'ResponseMetadata': {'RequestId': '0a689775-a5aa-11e8-94da-d5c7ea9d7817', 'HTTPStatusCode': 200, 'HTTPHeaders': {'date': 'Wed, 22 Aug 2018 01:23:57 GMT', 'content-type': 'application/x-amz-json-1.1', 'content-length': '164', 'connection': 'keep-alive', 'x-amzn-requestid': '0a689775-a5aa-11e8-94da-d5c7ea9d7817'}, 'RetryAttempts': 0}}\n",
      "{'Sentiment': 'POSITIVE', 'SentimentScore': {'Positive': 0.9814571142196655, 'Negative': 0.00010339741129428148, 'Neutral': 0.01539628580212593, 'Mixed': 0.0030431083869189024}, 'ResponseMetadata': {'RequestId': '0a7ac033-a5aa-11e8-ac20-bdca8459aef1', 'HTTPStatusCode': 200, 'HTTPHeaders': {'date': 'Wed, 22 Aug 2018 01:23:57 GMT', 'content-type': 'application/x-amz-json-1.1', 'content-length': '166', 'connection': 'keep-alive', 'x-amzn-requestid': '0a7ac033-a5aa-11e8-ac20-bdca8459aef1'}, 'RetryAttempts': 0}}\n",
      "{'Sentiment': 'POSITIVE', 'SentimentScore': {'Positive': 0.9698466658592224, 'Negative': 0.0009819776751101017, 'Neutral': 0.026610327884554863, 'Mixed': 0.0025609249714761972}, 'ResponseMetadata': {'RequestId': '0a893ee7-a5aa-11e8-b231-75341f50b1cb', 'HTTPStatusCode': 200, 'HTTPHeaders': {'date': 'Wed, 22 Aug 2018 01:23:57 GMT', 'content-type': 'application/x-amz-json-1.1', 'content-length': '166', 'connection': 'keep-alive', 'x-amzn-requestid': '0a893ee7-a5aa-11e8-b231-75341f50b1cb'}, 'RetryAttempts': 0}}\n",
      "{'Sentiment': 'NEGATIVE', 'SentimentScore': {'Positive': 0.026141732931137085, 'Negative': 0.6937136650085449, 'Neutral': 0.25665682554244995, 'Mixed': 0.023487765341997147}, 'ResponseMetadata': {'RequestId': '0a960ff8-a5aa-11e8-a9e9-659915761180', 'HTTPStatusCode': 200, 'HTTPHeaders': {'date': 'Wed, 22 Aug 2018 01:23:57 GMT', 'content-type': 'application/x-amz-json-1.1', 'content-length': '164', 'connection': 'keep-alive', 'x-amzn-requestid': '0a960ff8-a5aa-11e8-a9e9-659915761180'}, 'RetryAttempts': 0}}\n",
      "{'Sentiment': 'NEGATIVE', 'SentimentScore': {'Positive': 0.002055054297670722, 'Negative': 0.9442880153656006, 'Neutral': 0.024010462686419487, 'Mixed': 0.0296464990824461}, 'ResponseMetadata': {'RequestId': '0aa37d24-a5aa-11e8-ad19-e94911d6863f', 'HTTPStatusCode': 200, 'HTTPHeaders': {'date': 'Wed, 22 Aug 2018 01:23:57 GMT', 'content-type': 'application/x-amz-json-1.1', 'content-length': '163', 'connection': 'keep-alive', 'x-amzn-requestid': '0aa37d24-a5aa-11e8-ad19-e94911d6863f'}, 'RetryAttempts': 0}}\n",
      "{'Sentiment': 'NEGATIVE', 'SentimentScore': {'Positive': 0.17005839943885803, 'Negative': 0.5666313171386719, 'Neutral': 0.12075377255678177, 'Mixed': 0.14255653321743011}, 'ResponseMetadata': {'RequestId': '0ab138c0-a5aa-11e8-88ee-89debf0a6076', 'HTTPStatusCode': 200, 'HTTPHeaders': {'date': 'Wed, 22 Aug 2018 01:23:57 GMT', 'content-type': 'application/x-amz-json-1.1', 'content-length': '162', 'connection': 'keep-alive', 'x-amzn-requestid': '0ab138c0-a5aa-11e8-88ee-89debf0a6076'}, 'RetryAttempts': 0}}\n",
      "{'Sentiment': 'NEGATIVE', 'SentimentScore': {'Positive': 0.009313235059380531, 'Negative': 0.9001445174217224, 'Neutral': 0.035043295472860336, 'Mixed': 0.055498842149972916}, 'ResponseMetadata': {'RequestId': '0acf47ed-a5aa-11e8-a54c-579d1aae2c6e', 'HTTPStatusCode': 200, 'HTTPHeaders': {'date': 'Wed, 22 Aug 2018 01:23:57 GMT', 'content-type': 'application/x-amz-json-1.1', 'content-length': '165', 'connection': 'keep-alive', 'x-amzn-requestid': '0acf47ed-a5aa-11e8-a54c-579d1aae2c6e'}, 'RetryAttempts': 0}}\n",
      "{'Sentiment': 'POSITIVE', 'SentimentScore': {'Positive': 0.9366078972816467, 'Negative': 0.004660790786147118, 'Neutral': 0.0528593435883522, 'Mixed': 0.005871898028999567}, 'ResponseMetadata': {'RequestId': '0ae8eb26-a5aa-11e8-bd5f-2d12aafa381c', 'HTTPStatusCode': 200, 'HTTPHeaders': {'date': 'Wed, 22 Aug 2018 01:23:58 GMT', 'content-type': 'application/x-amz-json-1.1', 'content-length': '163', 'connection': 'keep-alive', 'x-amzn-requestid': '0ae8eb26-a5aa-11e8-bd5f-2d12aafa381c'}, 'RetryAttempts': 0}}\n",
      "{'Sentiment': 'NEUTRAL', 'SentimentScore': {'Positive': 0.03638509660959244, 'Negative': 0.002810228383168578, 'Neutral': 0.959998369216919, 'Mixed': 0.0008062373381108046}, 'ResponseMetadata': {'RequestId': '0af7912d-a5aa-11e8-a2f4-85bf7e6bcf79', 'HTTPStatusCode': 200, 'HTTPHeaders': {'date': 'Wed, 22 Aug 2018 01:23:58 GMT', 'content-type': 'application/x-amz-json-1.1', 'content-length': '162', 'connection': 'keep-alive', 'x-amzn-requestid': '0af7912d-a5aa-11e8-a2f4-85bf7e6bcf79'}, 'RetryAttempts': 0}}\n",
      "{'Sentiment': 'NEGATIVE', 'SentimentScore': {'Positive': 0.031264230608940125, 'Negative': 0.9021376371383667, 'Neutral': 0.016114337369799614, 'Mixed': 0.050483766943216324}, 'ResponseMetadata': {'RequestId': '0b041403-a5aa-11e8-b50d-8301a8898004', 'HTTPStatusCode': 200, 'HTTPHeaders': {'date': 'Wed, 22 Aug 2018 01:23:58 GMT', 'content-type': 'application/x-amz-json-1.1', 'content-length': '165', 'connection': 'keep-alive', 'x-amzn-requestid': '0b041403-a5aa-11e8-b50d-8301a8898004'}, 'RetryAttempts': 0}}\n",
      "{'Sentiment': 'NEGATIVE', 'SentimentScore': {'Positive': 0.09188799560070038, 'Negative': 0.8072347640991211, 'Neutral': 0.0015110145322978497, 'Mixed': 0.09936616569757462}, 'ResponseMetadata': {'RequestId': '0b132f50-a5aa-11e8-bd73-35d8d2ee0e50', 'HTTPStatusCode': 200, 'HTTPHeaders': {'date': 'Wed, 22 Aug 2018 01:23:58 GMT', 'content-type': 'application/x-amz-json-1.1', 'content-length': '164', 'connection': 'keep-alive', 'x-amzn-requestid': '0b132f50-a5aa-11e8-bd73-35d8d2ee0e50'}, 'RetryAttempts': 0}}\n",
      "{'Sentiment': 'POSITIVE', 'SentimentScore': {'Positive': 0.6142635345458984, 'Negative': 0.11327679455280304, 'Neutral': 0.034894976764917374, 'Mixed': 0.23756465315818787}, 'ResponseMetadata': {'RequestId': '0b224ad9-a5aa-11e8-b2ca-f77ae9ee4acb', 'HTTPStatusCode': 200, 'HTTPHeaders': {'date': 'Wed, 22 Aug 2018 01:23:58 GMT', 'content-type': 'application/x-amz-json-1.1', 'content-length': '163', 'connection': 'keep-alive', 'x-amzn-requestid': '0b224ad9-a5aa-11e8-b2ca-f77ae9ee4acb'}, 'RetryAttempts': 0}}\n",
      "{'Sentiment': 'MIXED', 'SentimentScore': {'Positive': 0.23679164052009583, 'Negative': 0.10286444425582886, 'Neutral': 0.2752373516559601, 'Mixed': 0.38510662317276}, 'ResponseMetadata': {'RequestId': '0b36bd38-a5aa-11e8-9d3a-e5743fd937d0', 'HTTPStatusCode': 200, 'HTTPHeaders': {'date': 'Wed, 22 Aug 2018 01:23:58 GMT', 'content-type': 'application/x-amz-json-1.1', 'content-length': '156', 'connection': 'keep-alive', 'x-amzn-requestid': '0b36bd38-a5aa-11e8-9d3a-e5743fd937d0'}, 'RetryAttempts': 0}}\n",
      "{'Sentiment': 'NEUTRAL', 'SentimentScore': {'Positive': 0.0341922827064991, 'Negative': 0.02138291671872139, 'Neutral': 0.9407156705856323, 'Mixed': 0.00370910600759089}, 'ResponseMetadata': {'RequestId': '0b43404d-a5aa-11e8-abaa-5bd9fb10e857', 'HTTPStatusCode': 200, 'HTTPHeaders': {'date': 'Wed, 22 Aug 2018 01:23:58 GMT', 'content-type': 'application/x-amz-json-1.1', 'content-length': '160', 'connection': 'keep-alive', 'x-amzn-requestid': '0b43404d-a5aa-11e8-abaa-5bd9fb10e857'}, 'RetryAttempts': 0}}\n",
      "{'Sentiment': 'NEGATIVE', 'SentimentScore': {'Positive': 0.0003514014242682606, 'Negative': 0.9913114309310913, 'Neutral': 5.890242391615175e-05, 'Mixed': 0.00827826652675867}, 'ResponseMetadata': {'RequestId': '0b51e62b-a5aa-11e8-bd5f-2d12aafa381c', 'HTTPStatusCode': 200, 'HTTPHeaders': {'date': 'Wed, 22 Aug 2018 01:23:58 GMT', 'content-type': 'application/x-amz-json-1.1', 'content-length': '164', 'connection': 'keep-alive', 'x-amzn-requestid': '0b51e62b-a5aa-11e8-bd5f-2d12aafa381c'}, 'RetryAttempts': 0}}\n"
     ]
    },
    {
     "name": "stdout",
     "output_type": "stream",
     "text": [
      "{'Sentiment': 'POSITIVE', 'SentimentScore': {'Positive': 0.8118529915809631, 'Negative': 0.005362357012927532, 'Neutral': 0.007103406358510256, 'Mixed': 0.17568129301071167}, 'ResponseMetadata': {'RequestId': '0b5ede82-a5aa-11e8-a423-23f645849a04', 'HTTPStatusCode': 200, 'HTTPHeaders': {'date': 'Wed, 22 Aug 2018 01:23:58 GMT', 'content-type': 'application/x-amz-json-1.1', 'content-length': '164', 'connection': 'keep-alive', 'x-amzn-requestid': '0b5ede82-a5aa-11e8-a423-23f645849a04'}, 'RetryAttempts': 0}}\n",
      "{'Sentiment': 'NEGATIVE', 'SentimentScore': {'Positive': 0.02510823681950569, 'Negative': 0.9278420805931091, 'Neutral': 0.0025389783550053835, 'Mixed': 0.04451073706150055}, 'ResponseMetadata': {'RequestId': '0b6b3a0a-a5aa-11e8-8c25-8dfaf9f702af', 'HTTPStatusCode': 200, 'HTTPHeaders': {'date': 'Wed, 22 Aug 2018 01:23:58 GMT', 'content-type': 'application/x-amz-json-1.1', 'content-length': '164', 'connection': 'keep-alive', 'x-amzn-requestid': '0b6b3a0a-a5aa-11e8-8c25-8dfaf9f702af'}, 'RetryAttempts': 0}}\n",
      "{'Sentiment': 'NEUTRAL', 'SentimentScore': {'Positive': 0.2682248055934906, 'Negative': 0.28759002685546875, 'Neutral': 0.4072577655315399, 'Mixed': 0.03692733123898506}, 'ResponseMetadata': {'RequestId': '0b78a800-a5aa-11e8-b231-75341f50b1cb', 'HTTPStatusCode': 200, 'HTTPHeaders': {'date': 'Wed, 22 Aug 2018 01:23:59 GMT', 'content-type': 'application/x-amz-json-1.1', 'content-length': '160', 'connection': 'keep-alive', 'x-amzn-requestid': '0b78a800-a5aa-11e8-b231-75341f50b1cb'}, 'RetryAttempts': 0}}\n",
      "{'Sentiment': 'POSITIVE', 'SentimentScore': {'Positive': 0.8187101483345032, 'Negative': 0.03460270166397095, 'Neutral': 0.05559675768017769, 'Mixed': 0.09109045565128326}, 'ResponseMetadata': {'RequestId': '0b85a035-a5aa-11e8-bd73-35d8d2ee0e50', 'HTTPStatusCode': 200, 'HTTPHeaders': {'date': 'Wed, 22 Aug 2018 01:23:59 GMT', 'content-type': 'application/x-amz-json-1.1', 'content-length': '162', 'connection': 'keep-alive', 'x-amzn-requestid': '0b85a035-a5aa-11e8-bd73-35d8d2ee0e50'}, 'RetryAttempts': 0}}\n",
      "{'Sentiment': 'POSITIVE', 'SentimentScore': {'Positive': 0.7488186955451965, 'Negative': 0.17205959558486938, 'Neutral': 0.030255990102887154, 'Mixed': 0.048865728080272675}, 'ResponseMetadata': {'RequestId': '0b91fbd8-a5aa-11e8-88ee-89debf0a6076', 'HTTPStatusCode': 200, 'HTTPHeaders': {'date': 'Wed, 22 Aug 2018 01:23:59 GMT', 'content-type': 'application/x-amz-json-1.1', 'content-length': '164', 'connection': 'keep-alive', 'x-amzn-requestid': '0b91fbd8-a5aa-11e8-88ee-89debf0a6076'}, 'RetryAttempts': 0}}\n",
      "{'Sentiment': 'NEGATIVE', 'SentimentScore': {'Positive': 2.800056608975865e-05, 'Negative': 0.9984468817710876, 'Neutral': 0.0003192571457475424, 'Mixed': 0.0012059329310432076}, 'ResponseMetadata': {'RequestId': '0b9e7f1f-a5aa-11e8-bc99-03ea29243f9b', 'HTTPStatusCode': 200, 'HTTPHeaders': {'date': 'Wed, 22 Aug 2018 01:23:59 GMT', 'content-type': 'application/x-amz-json-1.1', 'content-length': '166', 'connection': 'keep-alive', 'x-amzn-requestid': '0b9e7f1f-a5aa-11e8-bc99-03ea29243f9b'}, 'RetryAttempts': 0}}\n",
      "{'Sentiment': 'NEGATIVE', 'SentimentScore': {'Positive': 0.045860812067985535, 'Negative': 0.7458135485649109, 'Neutral': 0.012598494067788124, 'Mixed': 0.1957271546125412}, 'ResponseMetadata': {'RequestId': '0bac620c-a5aa-11e8-9c69-7db1af1277f0', 'HTTPStatusCode': 200, 'HTTPHeaders': {'date': 'Wed, 22 Aug 2018 01:23:59 GMT', 'content-type': 'application/x-amz-json-1.1', 'content-length': '163', 'connection': 'keep-alive', 'x-amzn-requestid': '0bac620c-a5aa-11e8-9c69-7db1af1277f0'}, 'RetryAttempts': 0}}\n",
      "{'Sentiment': 'POSITIVE', 'SentimentScore': {'Positive': 0.43005692958831787, 'Negative': 0.1978120505809784, 'Neutral': 0.27462565898895264, 'Mixed': 0.09750531613826752}, 'ResponseMetadata': {'RequestId': '0bba1d30-a5aa-11e8-8f7d-cd5b090a526d', 'HTTPStatusCode': 200, 'HTTPHeaders': {'date': 'Wed, 22 Aug 2018 01:23:59 GMT', 'content-type': 'application/x-amz-json-1.1', 'content-length': '162', 'connection': 'keep-alive', 'x-amzn-requestid': '0bba1d30-a5aa-11e8-8f7d-cd5b090a526d'}, 'RetryAttempts': 0}}\n",
      "{'Sentiment': 'POSITIVE', 'SentimentScore': {'Positive': 0.4407214820384979, 'Negative': 0.27941861748695374, 'Neutral': 0.17655374109745026, 'Mixed': 0.10330616682767868}, 'ResponseMetadata': {'RequestId': '0bcb0df3-a5aa-11e8-abaa-5bd9fb10e857', 'HTTPStatusCode': 200, 'HTTPHeaders': {'date': 'Wed, 22 Aug 2018 01:23:59 GMT', 'content-type': 'application/x-amz-json-1.1', 'content-length': '162', 'connection': 'keep-alive', 'x-amzn-requestid': '0bcb0df3-a5aa-11e8-abaa-5bd9fb10e857'}, 'RetryAttempts': 0}}\n",
      "{'Sentiment': 'NEGATIVE', 'SentimentScore': {'Positive': 0.07765807211399078, 'Negative': 0.5780968070030212, 'Neutral': 0.23551593720912933, 'Mixed': 0.10872907936573029}, 'ResponseMetadata': {'RequestId': '0bd8f008-a5aa-11e8-b93a-f1e2833c09ce', 'HTTPStatusCode': 200, 'HTTPHeaders': {'date': 'Wed, 22 Aug 2018 01:23:59 GMT', 'content-type': 'application/x-amz-json-1.1', 'content-length': '162', 'connection': 'keep-alive', 'x-amzn-requestid': '0bd8f008-a5aa-11e8-b93a-f1e2833c09ce'}, 'RetryAttempts': 0}}\n",
      "{'Sentiment': 'POSITIVE', 'SentimentScore': {'Positive': 0.882337749004364, 'Negative': 0.0005421033129096031, 'Neutral': 0.006028125528246164, 'Mixed': 0.11109206825494766}, 'ResponseMetadata': {'RequestId': '0be57383-a5aa-11e8-94da-d5c7ea9d7817', 'HTTPStatusCode': 200, 'HTTPHeaders': {'date': 'Wed, 22 Aug 2018 01:23:59 GMT', 'content-type': 'application/x-amz-json-1.1', 'content-length': '163', 'connection': 'keep-alive', 'x-amzn-requestid': '0be57383-a5aa-11e8-94da-d5c7ea9d7817'}, 'RetryAttempts': 0}}\n",
      "{'Sentiment': 'NEGATIVE', 'SentimentScore': {'Positive': 0.00096890953136608, 'Negative': 0.9894835352897644, 'Neutral': 0.004317138344049454, 'Mixed': 0.005230348091572523}, 'ResponseMetadata': {'RequestId': '0bf26bb9-a5aa-11e8-9f0c-11ad878f42b4', 'HTTPStatusCode': 200, 'HTTPHeaders': {'date': 'Wed, 22 Aug 2018 01:23:59 GMT', 'content-type': 'application/x-amz-json-1.1', 'content-length': '163', 'connection': 'keep-alive', 'x-amzn-requestid': '0bf26bb9-a5aa-11e8-9f0c-11ad878f42b4'}, 'RetryAttempts': 0}}\n",
      "{'Sentiment': 'NEGATIVE', 'SentimentScore': {'Positive': 0.36594703793525696, 'Negative': 0.4064185917377472, 'Neutral': 0.027197763323783875, 'Mixed': 0.20043666660785675}, 'ResponseMetadata': {'RequestId': '0bffd978-a5aa-11e8-a2f4-85bf7e6bcf79', 'HTTPStatusCode': 200, 'HTTPHeaders': {'date': 'Wed, 22 Aug 2018 01:24:00 GMT', 'content-type': 'application/x-amz-json-1.1', 'content-length': '163', 'connection': 'keep-alive', 'x-amzn-requestid': '0bffd978-a5aa-11e8-a2f4-85bf7e6bcf79'}, 'RetryAttempts': 0}}\n",
      "{'Sentiment': 'POSITIVE', 'SentimentScore': {'Positive': 0.4247616231441498, 'Negative': 0.3939654529094696, 'Neutral': 0.035760924220085144, 'Mixed': 0.14551205933094025}, 'ResponseMetadata': {'RequestId': '0c1fbccd-a5aa-11e8-805e-4377d030c79f', 'HTTPStatusCode': 200, 'HTTPHeaders': {'date': 'Wed, 22 Aug 2018 01:24:00 GMT', 'content-type': 'application/x-amz-json-1.1', 'content-length': '162', 'connection': 'keep-alive', 'x-amzn-requestid': '0c1fbccd-a5aa-11e8-805e-4377d030c79f'}, 'RetryAttempts': 0}}\n",
      "{'Sentiment': 'POSITIVE', 'SentimentScore': {'Positive': 0.591541051864624, 'Negative': 0.016856666654348373, 'Neutral': 0.029506757855415344, 'Mixed': 0.36209556460380554}, 'ResponseMetadata': {'RequestId': '0c2f26d7-a5aa-11e8-bf20-e9c06e0a11d1', 'HTTPStatusCode': 200, 'HTTPHeaders': {'date': 'Wed, 22 Aug 2018 01:24:00 GMT', 'content-type': 'application/x-amz-json-1.1', 'content-length': '163', 'connection': 'keep-alive', 'x-amzn-requestid': '0c2f26d7-a5aa-11e8-bf20-e9c06e0a11d1'}, 'RetryAttempts': 0}}\n",
      "{'Sentiment': 'NEGATIVE', 'SentimentScore': {'Positive': 0.05864158272743225, 'Negative': 0.717419445514679, 'Neutral': 0.13583721220493317, 'Mixed': 0.08810163289308548}, 'ResponseMetadata': {'RequestId': '0c3bd0f2-a5aa-11e8-85fc-133ac8d50853', 'HTTPStatusCode': 200, 'HTTPHeaders': {'date': 'Wed, 22 Aug 2018 01:24:00 GMT', 'content-type': 'application/x-amz-json-1.1', 'content-length': '161', 'connection': 'keep-alive', 'x-amzn-requestid': '0c3bd0f2-a5aa-11e8-85fc-133ac8d50853'}, 'RetryAttempts': 0}}\n",
      "{'Sentiment': 'NEGATIVE', 'SentimentScore': {'Positive': 0.2351336032152176, 'Negative': 0.35649561882019043, 'Neutral': 0.26289933919906616, 'Mixed': 0.14547142386436462}, 'ResponseMetadata': {'RequestId': '0c4bafa8-a5aa-11e8-abaa-5bd9fb10e857', 'HTTPStatusCode': 200, 'HTTPHeaders': {'date': 'Wed, 22 Aug 2018 01:24:00 GMT', 'content-type': 'application/x-amz-json-1.1', 'content-length': '162', 'connection': 'keep-alive', 'x-amzn-requestid': '0c4bafa8-a5aa-11e8-abaa-5bd9fb10e857'}, 'RetryAttempts': 0}}\n",
      "{'Sentiment': 'POSITIVE', 'SentimentScore': {'Positive': 0.6537261009216309, 'Negative': 0.011401859112083912, 'Neutral': 0.04517422989010811, 'Mixed': 0.2896978259086609}, 'ResponseMetadata': {'RequestId': '0c5a54b0-a5aa-11e8-bd9d-a34b323210e2', 'HTTPStatusCode': 200, 'HTTPHeaders': {'date': 'Wed, 22 Aug 2018 01:24:00 GMT', 'content-type': 'application/x-amz-json-1.1', 'content-length': '162', 'connection': 'keep-alive', 'x-amzn-requestid': '0c5a54b0-a5aa-11e8-bd9d-a34b323210e2'}, 'RetryAttempts': 0}}\n"
     ]
    },
    {
     "name": "stdout",
     "output_type": "stream",
     "text": [
      "{'Sentiment': 'NEGATIVE', 'SentimentScore': {'Positive': 0.027524447068572044, 'Negative': 0.8879253268241882, 'Neutral': 0.04538876563310623, 'Mixed': 0.03916145861148834}, 'ResponseMetadata': {'RequestId': '0c677415-a5aa-11e8-ac20-bdca8459aef1', 'HTTPStatusCode': 200, 'HTTPHeaders': {'date': 'Wed, 22 Aug 2018 01:24:00 GMT', 'content-type': 'application/x-amz-json-1.1', 'content-length': '163', 'connection': 'keep-alive', 'x-amzn-requestid': '0c677415-a5aa-11e8-ac20-bdca8459aef1'}, 'RetryAttempts': 0}}\n",
      "{'Sentiment': 'NEUTRAL', 'SentimentScore': {'Positive': 0.037730589509010315, 'Negative': 0.007920411415398121, 'Neutral': 0.9525136947631836, 'Mixed': 0.0018352651968598366}, 'ResponseMetadata': {'RequestId': '0c7ad599-a5aa-11e8-a9e9-659915761180', 'HTTPStatusCode': 200, 'HTTPHeaders': {'date': 'Wed, 22 Aug 2018 01:24:00 GMT', 'content-type': 'application/x-amz-json-1.1', 'content-length': '165', 'connection': 'keep-alive', 'x-amzn-requestid': '0c7ad599-a5aa-11e8-a9e9-659915761180'}, 'RetryAttempts': 0}}\n",
      "{'Sentiment': 'NEUTRAL', 'SentimentScore': {'Positive': 0.11791591346263885, 'Negative': 0.027847278863191605, 'Neutral': 0.8327258825302124, 'Mixed': 0.02151092328131199}, 'ResponseMetadata': {'RequestId': '0c91b8a1-a5aa-11e8-88ee-89debf0a6076', 'HTTPStatusCode': 200, 'HTTPHeaders': {'date': 'Wed, 22 Aug 2018 01:24:00 GMT', 'content-type': 'application/x-amz-json-1.1', 'content-length': '162', 'connection': 'keep-alive', 'x-amzn-requestid': '0c91b8a1-a5aa-11e8-88ee-89debf0a6076'}, 'RetryAttempts': 0}}\n",
      "{'Sentiment': 'NEGATIVE', 'SentimentScore': {'Positive': 0.08695201575756073, 'Negative': 0.7530097365379333, 'Neutral': 0.028966277837753296, 'Mixed': 0.13107195496559143}, 'ResponseMetadata': {'RequestId': '0ca05f05-a5aa-11e8-9c69-7db1af1277f0', 'HTTPStatusCode': 200, 'HTTPHeaders': {'date': 'Wed, 22 Aug 2018 01:24:01 GMT', 'content-type': 'application/x-amz-json-1.1', 'content-length': '163', 'connection': 'keep-alive', 'x-amzn-requestid': '0ca05f05-a5aa-11e8-9c69-7db1af1277f0'}, 'RetryAttempts': 0}}\n",
      "{'Sentiment': 'NEGATIVE', 'SentimentScore': {'Positive': 0.06192610412836075, 'Negative': 0.7545734643936157, 'Neutral': 0.07411165535449982, 'Mixed': 0.10938877612352371}, 'ResponseMetadata': {'RequestId': '0cb08bd8-a5aa-11e8-adac-f7604fed725b', 'HTTPStatusCode': 200, 'HTTPHeaders': {'date': 'Wed, 22 Aug 2018 01:24:01 GMT', 'content-type': 'application/x-amz-json-1.1', 'content-length': '162', 'connection': 'keep-alive', 'x-amzn-requestid': '0cb08bd8-a5aa-11e8-adac-f7604fed725b'}, 'RetryAttempts': 0}}\n",
      "{'Sentiment': 'NEUTRAL', 'SentimentScore': {'Positive': 0.03366902470588684, 'Negative': 0.3917787969112396, 'Neutral': 0.5386402010917664, 'Mixed': 0.035912033170461655}, 'ResponseMetadata': {'RequestId': '0cbfa691-a5aa-11e8-b93a-f1e2833c09ce', 'HTTPStatusCode': 200, 'HTTPHeaders': {'date': 'Wed, 22 Aug 2018 01:24:01 GMT', 'content-type': 'application/x-amz-json-1.1', 'content-length': '161', 'connection': 'keep-alive', 'x-amzn-requestid': '0cbfa691-a5aa-11e8-b93a-f1e2833c09ce'}, 'RetryAttempts': 0}}\n",
      "{'Sentiment': 'MIXED', 'SentimentScore': {'Positive': 0.03206314519047737, 'Negative': 0.18321242928504944, 'Neutral': 0.0016550337895751, 'Mixed': 0.7830694317817688}, 'ResponseMetadata': {'RequestId': '0ccd62a9-a5aa-11e8-bd5f-2d12aafa381c', 'HTTPStatusCode': 200, 'HTTPHeaders': {'date': 'Wed, 22 Aug 2018 01:24:01 GMT', 'content-type': 'application/x-amz-json-1.1', 'content-length': '158', 'connection': 'keep-alive', 'x-amzn-requestid': '0ccd62a9-a5aa-11e8-bd5f-2d12aafa381c'}, 'RetryAttempts': 0}}\n",
      "{'Sentiment': 'NEGATIVE', 'SentimentScore': {'Positive': 0.12266622483730316, 'Negative': 0.641179084777832, 'Neutral': 0.10720548778772354, 'Mixed': 0.12894923985004425}, 'ResponseMetadata': {'RequestId': '0cda8187-a5aa-11e8-8c25-8dfaf9f702af', 'HTTPStatusCode': 200, 'HTTPHeaders': {'date': 'Wed, 22 Aug 2018 01:24:01 GMT', 'content-type': 'application/x-amz-json-1.1', 'content-length': '161', 'connection': 'keep-alive', 'x-amzn-requestid': '0cda8187-a5aa-11e8-8c25-8dfaf9f702af'}, 'RetryAttempts': 0}}\n",
      "{'Sentiment': 'NEGATIVE', 'SentimentScore': {'Positive': 0.16994109749794006, 'Negative': 0.39270657300949097, 'Neutral': 0.3188101053237915, 'Mixed': 0.11854220181703568}, 'ResponseMetadata': {'RequestId': '0cf38822-a5aa-11e8-bd73-35d8d2ee0e50', 'HTTPStatusCode': 200, 'HTTPHeaders': {'date': 'Wed, 22 Aug 2018 01:24:01 GMT', 'content-type': 'application/x-amz-json-1.1', 'content-length': '162', 'connection': 'keep-alive', 'x-amzn-requestid': '0cf38822-a5aa-11e8-bd73-35d8d2ee0e50'}, 'RetryAttempts': 0}}\n",
      "{'Sentiment': 'NEGATIVE', 'SentimentScore': {'Positive': 0.03199758380651474, 'Negative': 0.8433826565742493, 'Neutral': 0.06377436965703964, 'Mixed': 0.06084541603922844}, 'ResponseMetadata': {'RequestId': '0d0b7d08-a5aa-11e8-85fc-133ac8d50853', 'HTTPStatusCode': 200, 'HTTPHeaders': {'date': 'Wed, 22 Aug 2018 01:24:01 GMT', 'content-type': 'application/x-amz-json-1.1', 'content-length': '162', 'connection': 'keep-alive', 'x-amzn-requestid': '0d0b7d08-a5aa-11e8-85fc-133ac8d50853'}, 'RetryAttempts': 0}}\n",
      "{'Sentiment': 'NEGATIVE', 'SentimentScore': {'Positive': 0.0006897878483869135, 'Negative': 0.9281858801841736, 'Neutral': 0.0015169712714850903, 'Mixed': 0.06960736960172653}, 'ResponseMetadata': {'RequestId': '0d1b0cc2-a5aa-11e8-a54c-579d1aae2c6e', 'HTTPStatusCode': 200, 'HTTPHeaders': {'date': 'Wed, 22 Aug 2018 01:24:01 GMT', 'content-type': 'application/x-amz-json-1.1', 'content-length': '165', 'connection': 'keep-alive', 'x-amzn-requestid': '0d1b0cc2-a5aa-11e8-a54c-579d1aae2c6e'}, 'RetryAttempts': 0}}\n",
      "{'Sentiment': 'POSITIVE', 'SentimentScore': {'Positive': 0.3640177249908447, 'Negative': 0.3420044183731079, 'Neutral': 0.07722248136997223, 'Mixed': 0.21675539016723633}, 'ResponseMetadata': {'RequestId': '0d282cbf-a5aa-11e8-94da-d5c7ea9d7817', 'HTTPStatusCode': 200, 'HTTPHeaders': {'date': 'Wed, 22 Aug 2018 01:24:01 GMT', 'content-type': 'application/x-amz-json-1.1', 'content-length': '161', 'connection': 'keep-alive', 'x-amzn-requestid': '0d282cbf-a5aa-11e8-94da-d5c7ea9d7817'}, 'RetryAttempts': 0}}\n",
      "{'Sentiment': 'MIXED', 'SentimentScore': {'Positive': 0.10550443828105927, 'Negative': 0.3215973675251007, 'Neutral': 0.2357175201177597, 'Mixed': 0.3371807038784027}, 'ResponseMetadata': {'RequestId': '0d3720f0-a5aa-11e8-b231-75341f50b1cb', 'HTTPStatusCode': 200, 'HTTPHeaders': {'date': 'Wed, 22 Aug 2018 01:24:01 GMT', 'content-type': 'application/x-amz-json-1.1', 'content-length': '157', 'connection': 'keep-alive', 'x-amzn-requestid': '0d3720f0-a5aa-11e8-b231-75341f50b1cb'}, 'RetryAttempts': 0}}\n",
      "{'Sentiment': 'NEUTRAL', 'SentimentScore': {'Positive': 0.083266980946064, 'Negative': 0.06361369043588638, 'Neutral': 0.8463129997253418, 'Mixed': 0.006806320510804653}, 'ResponseMetadata': {'RequestId': '0d43caf1-a5aa-11e8-a9e9-659915761180', 'HTTPStatusCode': 200, 'HTTPHeaders': {'date': 'Wed, 22 Aug 2018 01:24:02 GMT', 'content-type': 'application/x-amz-json-1.1', 'content-length': '160', 'connection': 'keep-alive', 'x-amzn-requestid': '0d43caf1-a5aa-11e8-a9e9-659915761180'}, 'RetryAttempts': 0}}\n",
      "{'Sentiment': 'MIXED', 'SentimentScore': {'Positive': 0.215703547000885, 'Negative': 0.2762714922428131, 'Neutral': 0.03235479071736336, 'Mixed': 0.4756701588630676}, 'ResponseMetadata': {'RequestId': '0d509bff-a5aa-11e8-bc99-03ea29243f9b', 'HTTPStatusCode': 200, 'HTTPHeaders': {'date': 'Wed, 22 Aug 2018 01:24:02 GMT', 'content-type': 'application/x-amz-json-1.1', 'content-length': '156', 'connection': 'keep-alive', 'x-amzn-requestid': '0d509bff-a5aa-11e8-bc99-03ea29243f9b'}, 'RetryAttempts': 0}}\n",
      "{'Sentiment': 'NEGATIVE', 'SentimentScore': {'Positive': 0.0002503992582205683, 'Negative': 0.9819599390029907, 'Neutral': 0.013145865872502327, 'Mixed': 0.004643832333385944}, 'ResponseMetadata': {'RequestId': '0d5dbbb9-a5aa-11e8-85fc-133ac8d50853', 'HTTPStatusCode': 200, 'HTTPHeaders': {'date': 'Wed, 22 Aug 2018 01:24:02 GMT', 'content-type': 'application/x-amz-json-1.1', 'content-length': '165', 'connection': 'keep-alive', 'x-amzn-requestid': '0d5dbbb9-a5aa-11e8-85fc-133ac8d50853'}, 'RetryAttempts': 0}}\n",
      "{'Sentiment': 'NEGATIVE', 'SentimentScore': {'Positive': 0.05971026048064232, 'Negative': 0.5300079584121704, 'Neutral': 0.0032035603653639555, 'Mixed': 0.4070781469345093}, 'ResponseMetadata': {'RequestId': '0d6e368d-a5aa-11e8-adac-f7604fed725b', 'HTTPStatusCode': 200, 'HTTPHeaders': {'date': 'Wed, 22 Aug 2018 01:24:02 GMT', 'content-type': 'application/x-amz-json-1.1', 'content-length': '163', 'connection': 'keep-alive', 'x-amzn-requestid': '0d6e368d-a5aa-11e8-adac-f7604fed725b'}, 'RetryAttempts': 0}}\n",
      "{'Sentiment': 'POSITIVE', 'SentimentScore': {'Positive': 0.400054395198822, 'Negative': 0.28745973110198975, 'Neutral': 0.0474424734711647, 'Mixed': 0.2650434076786041}, 'ResponseMetadata': {'RequestId': '0d7ab8d2-a5aa-11e8-abaa-5bd9fb10e857', 'HTTPStatusCode': 200, 'HTTPHeaders': {'date': 'Wed, 22 Aug 2018 01:24:02 GMT', 'content-type': 'application/x-amz-json-1.1', 'content-length': '159', 'connection': 'keep-alive', 'x-amzn-requestid': '0d7ab8d2-a5aa-11e8-abaa-5bd9fb10e857'}, 'RetryAttempts': 0}}\n"
     ]
    },
    {
     "name": "stdout",
     "output_type": "stream",
     "text": [
      "{'Sentiment': 'POSITIVE', 'SentimentScore': {'Positive': 0.9364628195762634, 'Negative': 0.034143298864364624, 'Neutral': 0.022770823910832405, 'Mixed': 0.006623090710490942}, 'ResponseMetadata': {'RequestId': '0d8a22fe-a5aa-11e8-bd5f-2d12aafa381c', 'HTTPStatusCode': 200, 'HTTPHeaders': {'date': 'Wed, 22 Aug 2018 01:24:02 GMT', 'content-type': 'application/x-amz-json-1.1', 'content-length': '165', 'connection': 'keep-alive', 'x-amzn-requestid': '0d8a22fe-a5aa-11e8-bd5f-2d12aafa381c'}, 'RetryAttempts': 0}}\n",
      "{'Sentiment': 'NEUTRAL', 'SentimentScore': {'Positive': 0.05593901500105858, 'Negative': 0.04168350622057915, 'Neutral': 0.899114191532135, 'Mixed': 0.003263258608058095}, 'ResponseMetadata': {'RequestId': '0d98052d-a5aa-11e8-8c25-8dfaf9f702af', 'HTTPStatusCode': 200, 'HTTPHeaders': {'date': 'Wed, 22 Aug 2018 01:24:02 GMT', 'content-type': 'application/x-amz-json-1.1', 'content-length': '161', 'connection': 'keep-alive', 'x-amzn-requestid': '0d98052d-a5aa-11e8-8c25-8dfaf9f702af'}, 'RetryAttempts': 0}}\n",
      "{'Sentiment': 'NEGATIVE', 'SentimentScore': {'Positive': 0.0171829704195261, 'Negative': 0.8679704666137695, 'Neutral': 0.03877713531255722, 'Mixed': 0.07606945186853409}, 'ResponseMetadata': {'RequestId': '0da4fdc2-a5aa-11e8-81c3-ef4e8be5100f', 'HTTPStatusCode': 200, 'HTTPHeaders': {'date': 'Wed, 22 Aug 2018 01:24:02 GMT', 'content-type': 'application/x-amz-json-1.1', 'content-length': '161', 'connection': 'keep-alive', 'x-amzn-requestid': '0da4fdc2-a5aa-11e8-81c3-ef4e8be5100f'}, 'RetryAttempts': 0}}\n",
      "{'Sentiment': 'NEGATIVE', 'SentimentScore': {'Positive': 0.03146892786026001, 'Negative': 0.8335703015327454, 'Neutral': 0.014019639231264591, 'Mixed': 0.1209411472082138}, 'ResponseMetadata': {'RequestId': '0db180f9-a5aa-11e8-bd73-35d8d2ee0e50', 'HTTPStatusCode': 200, 'HTTPHeaders': {'date': 'Wed, 22 Aug 2018 01:24:02 GMT', 'content-type': 'application/x-amz-json-1.1', 'content-length': '162', 'connection': 'keep-alive', 'x-amzn-requestid': '0db180f9-a5aa-11e8-bd73-35d8d2ee0e50'}, 'RetryAttempts': 0}}\n",
      "{'Sentiment': 'MIXED', 'SentimentScore': {'Positive': 0.003633165033534169, 'Negative': 0.22578147053718567, 'Neutral': 0.0014479446690529585, 'Mixed': 0.769137442111969}, 'ResponseMetadata': {'RequestId': '0dc09c53-a5aa-11e8-bf20-e9c06e0a11d1', 'HTTPStatusCode': 200, 'HTTPHeaders': {'date': 'Wed, 22 Aug 2018 01:24:02 GMT', 'content-type': 'application/x-amz-json-1.1', 'content-length': '161', 'connection': 'keep-alive', 'x-amzn-requestid': '0dc09c53-a5aa-11e8-bf20-e9c06e0a11d1'}, 'RetryAttempts': 0}}\n",
      "{'Sentiment': 'MIXED', 'SentimentScore': {'Positive': 0.28262612223625183, 'Negative': 0.019384365528821945, 'Neutral': 0.00683311652392149, 'Mixed': 0.6911563873291016}, 'ResponseMetadata': {'RequestId': '0dcd93d1-a5aa-11e8-9d3a-e5743fd937d0', 'HTTPStatusCode': 200, 'HTTPHeaders': {'date': 'Wed, 22 Aug 2018 01:24:02 GMT', 'content-type': 'application/x-amz-json-1.1', 'content-length': '160', 'connection': 'keep-alive', 'x-amzn-requestid': '0dcd93d1-a5aa-11e8-9d3a-e5743fd937d0'}, 'RetryAttempts': 0}}\n",
      "{'Sentiment': 'POSITIVE', 'SentimentScore': {'Positive': 0.6706659197807312, 'Negative': 0.007794757839292288, 'Neutral': 0.3127442002296448, 'Mixed': 0.00879510398954153}, 'ResponseMetadata': {'RequestId': '0dda8c38-a5aa-11e8-a54c-579d1aae2c6e', 'HTTPStatusCode': 200, 'HTTPHeaders': {'date': 'Wed, 22 Aug 2018 01:24:03 GMT', 'content-type': 'application/x-amz-json-1.1', 'content-length': '162', 'connection': 'keep-alive', 'x-amzn-requestid': '0dda8c38-a5aa-11e8-a54c-579d1aae2c6e'}, 'RetryAttempts': 0}}\n",
      "{'Sentiment': 'NEUTRAL', 'SentimentScore': {'Positive': 0.27997922897338867, 'Negative': 0.053205519914627075, 'Neutral': 0.6352039575576782, 'Mixed': 0.03161131590604782}, 'ResponseMetadata': {'RequestId': '0de75dbb-a5aa-11e8-b93a-f1e2833c09ce', 'HTTPStatusCode': 200, 'HTTPHeaders': {'date': 'Wed, 22 Aug 2018 01:24:03 GMT', 'content-type': 'application/x-amz-json-1.1', 'content-length': '162', 'connection': 'keep-alive', 'x-amzn-requestid': '0de75dbb-a5aa-11e8-b93a-f1e2833c09ce'}, 'RetryAttempts': 0}}\n",
      "{'Sentiment': 'MIXED', 'SentimentScore': {'Positive': 0.011893923394382, 'Negative': 0.1085951030254364, 'Neutral': 0.0013999377842992544, 'Mixed': 0.8781110644340515}, 'ResponseMetadata': {'RequestId': '0df5dccd-a5aa-11e8-b9eb-0d7d73fb2391', 'HTTPStatusCode': 200, 'HTTPHeaders': {'date': 'Wed, 22 Aug 2018 01:24:03 GMT', 'content-type': 'application/x-amz-json-1.1', 'content-length': '158', 'connection': 'keep-alive', 'x-amzn-requestid': '0df5dccd-a5aa-11e8-b9eb-0d7d73fb2391'}, 'RetryAttempts': 0}}\n",
      "{'Sentiment': 'POSITIVE', 'SentimentScore': {'Positive': 0.949043869972229, 'Negative': 0.0005287982639856637, 'Neutral': 0.003541590878739953, 'Mixed': 0.046885840594768524}, 'ResponseMetadata': {'RequestId': '0e0371b9-a5aa-11e8-a423-23f645849a04', 'HTTPStatusCode': 200, 'HTTPHeaders': {'date': 'Wed, 22 Aug 2018 01:24:03 GMT', 'content-type': 'application/x-amz-json-1.1', 'content-length': '164', 'connection': 'keep-alive', 'x-amzn-requestid': '0e0371b9-a5aa-11e8-a423-23f645849a04'}, 'RetryAttempts': 0}}\n",
      "{'Sentiment': 'POSITIVE', 'SentimentScore': {'Positive': 0.6717362403869629, 'Negative': 0.2734600901603699, 'Neutral': 0.022617459297180176, 'Mixed': 0.03218613192439079}, 'ResponseMetadata': {'RequestId': '0e0ff451-a5aa-11e8-8c25-8dfaf9f702af', 'HTTPStatusCode': 200, 'HTTPHeaders': {'date': 'Wed, 22 Aug 2018 01:24:03 GMT', 'content-type': 'application/x-amz-json-1.1', 'content-length': '162', 'connection': 'keep-alive', 'x-amzn-requestid': '0e0ff451-a5aa-11e8-8c25-8dfaf9f702af'}, 'RetryAttempts': 0}}\n",
      "{'Sentiment': 'MIXED', 'SentimentScore': {'Positive': 0.004409204237163067, 'Negative': 0.16177161037921906, 'Neutral': 0.0003446113259997219, 'Mixed': 0.8334745764732361}, 'ResponseMetadata': {'RequestId': '0e1e4c76-a5aa-11e8-81c3-ef4e8be5100f', 'HTTPStatusCode': 200, 'HTTPHeaders': {'date': 'Wed, 22 Aug 2018 01:24:03 GMT', 'content-type': 'application/x-amz-json-1.1', 'content-length': '161', 'connection': 'keep-alive', 'x-amzn-requestid': '0e1e4c76-a5aa-11e8-81c3-ef4e8be5100f'}, 'RetryAttempts': 0}}\n",
      "{'Sentiment': 'NEGATIVE', 'SentimentScore': {'Positive': 0.012308581732213497, 'Negative': 0.9134304523468018, 'Neutral': 0.027421897277235985, 'Mixed': 0.04683910682797432}, 'ResponseMetadata': {'RequestId': '0e2b444f-a5aa-11e8-805e-4377d030c79f', 'HTTPStatusCode': 200, 'HTTPHeaders': {'date': 'Wed, 22 Aug 2018 01:24:03 GMT', 'content-type': 'application/x-amz-json-1.1', 'content-length': '164', 'connection': 'keep-alive', 'x-amzn-requestid': '0e2b444f-a5aa-11e8-805e-4377d030c79f'}, 'RetryAttempts': 0}}\n",
      "{'Sentiment': 'NEGATIVE', 'SentimentScore': {'Positive': 0.0005937176756560802, 'Negative': 0.9794754981994629, 'Neutral': 0.0011398340575397015, 'Mixed': 0.01879095286130905}, 'ResponseMetadata': {'RequestId': '0e3be6a3-a5aa-11e8-9c69-7db1af1277f0', 'HTTPStatusCode': 200, 'HTTPHeaders': {'date': 'Wed, 22 Aug 2018 01:24:03 GMT', 'content-type': 'application/x-amz-json-1.1', 'content-length': '165', 'connection': 'keep-alive', 'x-amzn-requestid': '0e3be6a3-a5aa-11e8-9c69-7db1af1277f0'}, 'RetryAttempts': 0}}\n",
      "{'Sentiment': 'MIXED', 'SentimentScore': {'Positive': 0.32341063022613525, 'Negative': 0.10525365173816681, 'Neutral': 0.19136430323123932, 'Mixed': 0.379971444606781}, 'ResponseMetadata': {'RequestId': '0e48b768-a5aa-11e8-8f7d-cd5b090a526d', 'HTTPStatusCode': 200, 'HTTPHeaders': {'date': 'Wed, 22 Aug 2018 01:24:03 GMT', 'content-type': 'application/x-amz-json-1.1', 'content-length': '158', 'connection': 'keep-alive', 'x-amzn-requestid': '0e48b768-a5aa-11e8-8f7d-cd5b090a526d'}, 'RetryAttempts': 0}}\n",
      "{'Sentiment': 'NEUTRAL', 'SentimentScore': {'Positive': 0.05482389032840729, 'Negative': 0.31840604543685913, 'Neutral': 0.560601532459259, 'Mixed': 0.06616843491792679}, 'ResponseMetadata': {'RequestId': '0e54c545-a5aa-11e8-b847-61cf5ece24ed', 'HTTPStatusCode': 200, 'HTTPHeaders': {'date': 'Wed, 22 Aug 2018 01:24:03 GMT', 'content-type': 'application/x-amz-json-1.1', 'content-length': '160', 'connection': 'keep-alive', 'x-amzn-requestid': '0e54c545-a5aa-11e8-b847-61cf5ece24ed'}, 'RetryAttempts': 0}}\n",
      "{'Sentiment': 'NEGATIVE', 'SentimentScore': {'Positive': 0.0713191106915474, 'Negative': 0.8948615789413452, 'Neutral': 0.0143613051623106, 'Mixed': 0.019458040595054626}, 'ResponseMetadata': {'RequestId': '0e61e490-a5aa-11e8-ae3e-c1f1bbbc4558', 'HTTPStatusCode': 200, 'HTTPHeaders': {'date': 'Wed, 22 Aug 2018 01:24:03 GMT', 'content-type': 'application/x-amz-json-1.1', 'content-length': '161', 'connection': 'keep-alive', 'x-amzn-requestid': '0e61e490-a5aa-11e8-ae3e-c1f1bbbc4558'}, 'RetryAttempts': 0}}\n"
     ]
    },
    {
     "name": "stdout",
     "output_type": "stream",
     "text": [
      "{'Sentiment': 'NEGATIVE', 'SentimentScore': {'Positive': 0.06854753196239471, 'Negative': 0.6432740092277527, 'Neutral': 0.13451318442821503, 'Mixed': 0.153665229678154}, 'ResponseMetadata': {'RequestId': '0e7174f8-a5aa-11e8-ac20-bdca8459aef1', 'HTTPStatusCode': 200, 'HTTPHeaders': {'date': 'Wed, 22 Aug 2018 01:24:04 GMT', 'content-type': 'application/x-amz-json-1.1', 'content-length': '160', 'connection': 'keep-alive', 'x-amzn-requestid': '0e7174f8-a5aa-11e8-ac20-bdca8459aef1'}, 'RetryAttempts': 0}}\n",
      "{'Sentiment': 'POSITIVE', 'SentimentScore': {'Positive': 0.5953940153121948, 'Negative': 0.3660464882850647, 'Neutral': 0.017844391986727715, 'Mixed': 0.020715074613690376}, 'ResponseMetadata': {'RequestId': '0e84af64-a5aa-11e8-b50d-8301a8898004', 'HTTPStatusCode': 200, 'HTTPHeaders': {'date': 'Wed, 22 Aug 2018 01:24:04 GMT', 'content-type': 'application/x-amz-json-1.1', 'content-length': '163', 'connection': 'keep-alive', 'x-amzn-requestid': '0e84af64-a5aa-11e8-b50d-8301a8898004'}, 'RetryAttempts': 0}}\n",
      "{'Sentiment': 'NEGATIVE', 'SentimentScore': {'Positive': 0.09694693237543106, 'Negative': 0.6617689728736877, 'Neutral': 0.09874726831912994, 'Mixed': 0.14253678917884827}, 'ResponseMetadata': {'RequestId': '0e91a7bb-a5aa-11e8-81c3-ef4e8be5100f', 'HTTPStatusCode': 200, 'HTTPHeaders': {'date': 'Wed, 22 Aug 2018 01:24:04 GMT', 'content-type': 'application/x-amz-json-1.1', 'content-length': '162', 'connection': 'keep-alive', 'x-amzn-requestid': '0e91a7bb-a5aa-11e8-81c3-ef4e8be5100f'}, 'RetryAttempts': 0}}\n",
      "{'Sentiment': 'MIXED', 'SentimentScore': {'Positive': 0.00436320248991251, 'Negative': 0.09264321625232697, 'Neutral': 0.0007223506108857691, 'Mixed': 0.9022712707519531}, 'ResponseMetadata': {'RequestId': '0e9e2a89-a5aa-11e8-ad19-e94911d6863f', 'HTTPStatusCode': 200, 'HTTPHeaders': {'date': 'Wed, 22 Aug 2018 01:24:04 GMT', 'content-type': 'application/x-amz-json-1.1', 'content-length': '160', 'connection': 'keep-alive', 'x-amzn-requestid': '0e9e2a89-a5aa-11e8-ad19-e94911d6863f'}, 'RetryAttempts': 0}}\n",
      "{'Sentiment': 'NEGATIVE', 'SentimentScore': {'Positive': 0.009604386053979397, 'Negative': 0.8426110744476318, 'Neutral': 0.039528362452983856, 'Mixed': 0.10825617611408234}, 'ResponseMetadata': {'RequestId': '0eab989b-a5aa-11e8-bf20-e9c06e0a11d1', 'HTTPStatusCode': 200, 'HTTPHeaders': {'date': 'Wed, 22 Aug 2018 01:24:04 GMT', 'content-type': 'application/x-amz-json-1.1', 'content-length': '164', 'connection': 'keep-alive', 'x-amzn-requestid': '0eab989b-a5aa-11e8-bf20-e9c06e0a11d1'}, 'RetryAttempts': 0}}\n",
      "{'Sentiment': 'NEGATIVE', 'SentimentScore': {'Positive': 0.03935440257191658, 'Negative': 0.8457423448562622, 'Neutral': 0.05246949568390846, 'Mixed': 0.06243371218442917}, 'ResponseMetadata': {'RequestId': '0eb869c7-a5aa-11e8-85fc-133ac8d50853', 'HTTPStatusCode': 200, 'HTTPHeaders': {'date': 'Wed, 22 Aug 2018 01:24:04 GMT', 'content-type': 'application/x-amz-json-1.1', 'content-length': '162', 'connection': 'keep-alive', 'x-amzn-requestid': '0eb869c7-a5aa-11e8-85fc-133ac8d50853'}, 'RetryAttempts': 0}}\n",
      "{'Sentiment': 'NEGATIVE', 'SentimentScore': {'Positive': 0.15308386087417603, 'Negative': 0.7223196625709534, 'Neutral': 0.04722241312265396, 'Mixed': 0.07737404853105545}, 'ResponseMetadata': {'RequestId': '0ec75d34-a5aa-11e8-845a-674cd09bb0ce', 'HTTPStatusCode': 200, 'HTTPHeaders': {'date': 'Wed, 22 Aug 2018 01:24:04 GMT', 'content-type': 'application/x-amz-json-1.1', 'content-length': '162', 'connection': 'keep-alive', 'x-amzn-requestid': '0ec75d34-a5aa-11e8-845a-674cd09bb0ce'}, 'RetryAttempts': 0}}\n",
      "{'Sentiment': 'NEGATIVE', 'SentimentScore': {'Positive': 0.0011910356115549803, 'Negative': 0.9735651016235352, 'Neutral': 0.0031849807128310204, 'Mixed': 0.022058892995119095}, 'ResponseMetadata': {'RequestId': '0ed82600-a5aa-11e8-abaa-5bd9fb10e857', 'HTTPStatusCode': 200, 'HTTPHeaders': {'date': 'Wed, 22 Aug 2018 01:24:04 GMT', 'content-type': 'application/x-amz-json-1.1', 'content-length': '167', 'connection': 'keep-alive', 'x-amzn-requestid': '0ed82600-a5aa-11e8-abaa-5bd9fb10e857'}, 'RetryAttempts': 0}}\n",
      "{'Sentiment': 'POSITIVE', 'SentimentScore': {'Positive': 0.4203120172023773, 'Negative': 0.25276216864585876, 'Neutral': 0.01943483017385006, 'Mixed': 0.3074910044670105}, 'ResponseMetadata': {'RequestId': '0ee54565-a5aa-11e8-ae3e-c1f1bbbc4558', 'HTTPStatusCode': 200, 'HTTPHeaders': {'date': 'Wed, 22 Aug 2018 01:24:04 GMT', 'content-type': 'application/x-amz-json-1.1', 'content-length': '161', 'connection': 'keep-alive', 'x-amzn-requestid': '0ee54565-a5aa-11e8-ae3e-c1f1bbbc4558'}, 'RetryAttempts': 0}}\n",
      "{'Sentiment': 'POSITIVE', 'SentimentScore': {'Positive': 0.5898342132568359, 'Negative': 0.2490755170583725, 'Neutral': 0.042829979211091995, 'Mixed': 0.11826027184724808}, 'ResponseMetadata': {'RequestId': '0ef8f50a-a5aa-11e8-b50d-8301a8898004', 'HTTPStatusCode': 200, 'HTTPHeaders': {'date': 'Wed, 22 Aug 2018 01:24:04 GMT', 'content-type': 'application/x-amz-json-1.1', 'content-length': '162', 'connection': 'keep-alive', 'x-amzn-requestid': '0ef8f50a-a5aa-11e8-b50d-8301a8898004'}, 'RetryAttempts': 0}}\n",
      "{'Sentiment': 'NEUTRAL', 'SentimentScore': {'Positive': 0.01237245462834835, 'Negative': 0.26835042238235474, 'Neutral': 0.706814169883728, 'Mixed': 0.012462876737117767}, 'ResponseMetadata': {'RequestId': '0f0e786a-a5aa-11e8-805e-4377d030c79f', 'HTTPStatusCode': 200, 'HTTPHeaders': {'date': 'Wed, 22 Aug 2018 01:24:05 GMT', 'content-type': 'application/x-amz-json-1.1', 'content-length': '161', 'connection': 'keep-alive', 'x-amzn-requestid': '0f0e786a-a5aa-11e8-805e-4377d030c79f'}, 'RetryAttempts': 0}}\n",
      "{'Sentiment': 'NEGATIVE', 'SentimentScore': {'Positive': 0.03265741467475891, 'Negative': 0.7782012820243835, 'Neutral': 0.1527327448129654, 'Mixed': 0.03640864044427872}, 'ResponseMetadata': {'RequestId': '0f1ad532-a5aa-11e8-bf20-e9c06e0a11d1', 'HTTPStatusCode': 200, 'HTTPHeaders': {'date': 'Wed, 22 Aug 2018 01:24:05 GMT', 'content-type': 'application/x-amz-json-1.1', 'content-length': '161', 'connection': 'keep-alive', 'x-amzn-requestid': '0f1ad532-a5aa-11e8-bf20-e9c06e0a11d1'}, 'RetryAttempts': 0}}\n",
      "{'Sentiment': 'NEGATIVE', 'SentimentScore': {'Positive': 0.21982316672801971, 'Negative': 0.7190542817115784, 'Neutral': 0.001978718675673008, 'Mixed': 0.059143826365470886}, 'ResponseMetadata': {'RequestId': '0f281b6e-a5aa-11e8-9c69-7db1af1277f0', 'HTTPStatusCode': 200, 'HTTPHeaders': {'date': 'Wed, 22 Aug 2018 01:24:05 GMT', 'content-type': 'application/x-amz-json-1.1', 'content-length': '164', 'connection': 'keep-alive', 'x-amzn-requestid': '0f281b6e-a5aa-11e8-9c69-7db1af1277f0'}, 'RetryAttempts': 0}}\n",
      "{'Sentiment': 'POSITIVE', 'SentimentScore': {'Positive': 0.9947535991668701, 'Negative': 5.389204488892574e-06, 'Neutral': 0.005086601711809635, 'Mixed': 0.00015434545639436692}, 'ResponseMetadata': {'RequestId': '0f349e12-a5aa-11e8-8f7d-cd5b090a526d', 'HTTPStatusCode': 200, 'HTTPHeaders': {'date': 'Wed, 22 Aug 2018 01:24:05 GMT', 'content-type': 'application/x-amz-json-1.1', 'content-length': '166', 'connection': 'keep-alive', 'x-amzn-requestid': '0f349e12-a5aa-11e8-8f7d-cd5b090a526d'}, 'RetryAttempts': 0}}\n",
      "{'Sentiment': 'POSITIVE', 'SentimentScore': {'Positive': 0.837609052658081, 'Negative': 0.006129393819719553, 'Neutral': 0.1503770649433136, 'Mixed': 0.005884380079805851}, 'ResponseMetadata': {'RequestId': '0f416f8a-a5aa-11e8-b93a-f1e2833c09ce', 'HTTPStatusCode': 200, 'HTTPHeaders': {'date': 'Wed, 22 Aug 2018 01:24:05 GMT', 'content-type': 'application/x-amz-json-1.1', 'content-length': '162', 'connection': 'keep-alive', 'x-amzn-requestid': '0f416f8a-a5aa-11e8-b93a-f1e2833c09ce'}, 'RetryAttempts': 0}}\n",
      "{'Sentiment': 'NEUTRAL', 'SentimentScore': {'Positive': 0.16772758960723877, 'Negative': 0.2045586258172989, 'Neutral': 0.5317777395248413, 'Mixed': 0.09593600779771805}, 'ResponseMetadata': {'RequestId': '0f4e4140-a5aa-11e8-bd5f-2d12aafa381c', 'HTTPStatusCode': 200, 'HTTPHeaders': {'date': 'Wed, 22 Aug 2018 01:24:05 GMT', 'content-type': 'application/x-amz-json-1.1', 'content-length': '160', 'connection': 'keep-alive', 'x-amzn-requestid': '0f4e4140-a5aa-11e8-bd5f-2d12aafa381c'}, 'RetryAttempts': 0}}\n",
      "{'Sentiment': 'POSITIVE', 'SentimentScore': {'Positive': 0.5641757249832153, 'Negative': 0.016722392290830612, 'Neutral': 0.352661669254303, 'Mixed': 0.06644022464752197}, 'ResponseMetadata': {'RequestId': '0f5d0d81-a5aa-11e8-ac20-bdca8459aef1', 'HTTPStatusCode': 200, 'HTTPHeaders': {'date': 'Wed, 22 Aug 2018 01:24:05 GMT', 'content-type': 'application/x-amz-json-1.1', 'content-length': '161', 'connection': 'keep-alive', 'x-amzn-requestid': '0f5d0d81-a5aa-11e8-ac20-bdca8459aef1'}, 'RetryAttempts': 0}}\n",
      "{'Sentiment': 'NEGATIVE', 'SentimentScore': {'Positive': 0.0030252933502197266, 'Negative': 0.9800236225128174, 'Neutral': 0.010164009407162666, 'Mixed': 0.006787113845348358}, 'ResponseMetadata': {'RequestId': '0f6a0664-a5aa-11e8-81c3-ef4e8be5100f', 'HTTPStatusCode': 200, 'HTTPHeaders': {'date': 'Wed, 22 Aug 2018 01:24:05 GMT', 'content-type': 'application/x-amz-json-1.1', 'content-length': '166', 'connection': 'keep-alive', 'x-amzn-requestid': '0f6a0664-a5aa-11e8-81c3-ef4e8be5100f'}, 'RetryAttempts': 0}}\n",
      "{'Sentiment': 'NEGATIVE', 'SentimentScore': {'Positive': 0.002425075275823474, 'Negative': 0.8558510541915894, 'Neutral': 0.021761886775493622, 'Mixed': 0.11996198445558548}, 'ResponseMetadata': {'RequestId': '0f78abed-a5aa-11e8-805e-4377d030c79f', 'HTTPStatusCode': 200, 'HTTPHeaders': {'date': 'Wed, 22 Aug 2018 01:24:05 GMT', 'content-type': 'application/x-amz-json-1.1', 'content-length': '164', 'connection': 'keep-alive', 'x-amzn-requestid': '0f78abed-a5aa-11e8-805e-4377d030c79f'}, 'RetryAttempts': 0}}\n"
     ]
    },
    {
     "name": "stdout",
     "output_type": "stream",
     "text": [
      "{'Sentiment': 'NEUTRAL', 'SentimentScore': {'Positive': 0.0028022238984704018, 'Negative': 0.233041912317276, 'Neutral': 0.7491241693496704, 'Mixed': 0.015031697228550911}, 'ResponseMetadata': {'RequestId': '0f8667d5-a5aa-11e8-bc99-03ea29243f9b', 'HTTPStatusCode': 200, 'HTTPHeaders': {'date': 'Wed, 22 Aug 2018 01:24:05 GMT', 'content-type': 'application/x-amz-json-1.1', 'content-length': '162', 'connection': 'keep-alive', 'x-amzn-requestid': '0f8667d5-a5aa-11e8-bc99-03ea29243f9b'}, 'RetryAttempts': 0}}\n",
      "{'Sentiment': 'NEGATIVE', 'SentimentScore': {'Positive': 0.028304457664489746, 'Negative': 0.5917826890945435, 'Neutral': 0.3407350480556488, 'Mixed': 0.03917789086699486}, 'ResponseMetadata': {'RequestId': '0f93fcd4-a5aa-11e8-adac-f7604fed725b', 'HTTPStatusCode': 200, 'HTTPHeaders': {'date': 'Wed, 22 Aug 2018 01:24:05 GMT', 'content-type': 'application/x-amz-json-1.1', 'content-length': '162', 'connection': 'keep-alive', 'x-amzn-requestid': '0f93fcd4-a5aa-11e8-adac-f7604fed725b'}, 'RetryAttempts': 0}}\n",
      "{'Sentiment': 'MIXED', 'SentimentScore': {'Positive': 0.051768992096185684, 'Negative': 0.24834083020687103, 'Neutral': 0.21337130665779114, 'Mixed': 0.486518919467926}, 'ResponseMetadata': {'RequestId': '0fc87a12-a5aa-11e8-b50d-8301a8898004', 'HTTPStatusCode': 200, 'HTTPHeaders': {'date': 'Wed, 22 Aug 2018 01:24:06 GMT', 'content-type': 'application/x-amz-json-1.1', 'content-length': '159', 'connection': 'keep-alive', 'x-amzn-requestid': '0fc87a12-a5aa-11e8-b50d-8301a8898004'}, 'RetryAttempts': 0}}\n",
      "{'Sentiment': 'NEGATIVE', 'SentimentScore': {'Positive': 0.1798618733882904, 'Negative': 0.5222418308258057, 'Neutral': 0.08760532736778259, 'Mixed': 0.21029099822044373}, 'ResponseMetadata': {'RequestId': '0fd523f4-a5aa-11e8-ad19-e94911d6863f', 'HTTPStatusCode': 200, 'HTTPHeaders': {'date': 'Wed, 22 Aug 2018 01:24:06 GMT', 'content-type': 'application/x-amz-json-1.1', 'content-length': '161', 'connection': 'keep-alive', 'x-amzn-requestid': '0fd523f4-a5aa-11e8-ad19-e94911d6863f'}, 'RetryAttempts': 0}}\n"
     ]
    }
   ],
   "source": [
    "start_time = time.time()\n",
    "data_test500['y_pred_amazon'] = data_test500['body_text'].apply(lambda x: amazon_sentiment(x))\n",
    "end_time = time.time()\n",
    "pred_time = (end_time - start_time)\n",
    "time_item = (pred_time/len(data_test500))"
   ]
  },
  {
   "cell_type": "code",
   "execution_count": 53,
   "metadata": {
    "scrolled": false
   },
   "outputs": [
    {
     "name": "stdout",
     "output_type": "stream",
     "text": [
      "Classification Report\n",
      "----------------------\n",
      "             precision    recall  f1-score   support\n",
      "\n",
      "   negative       0.97      0.74      0.84       250\n",
      "   positive       0.79      0.98      0.87       250\n",
      "\n",
      "avg / total       0.88      0.86      0.85       500\n",
      "\n",
      "accuracy: 0.86\n",
      "ROC AUC Score : 0.8559999999999999\n",
      "F1 Score : 0.856\n"
     ]
    }
   ],
   "source": [
    "print('Classification Report')\n",
    "print('----------------------')\n",
    "print(classification_report(data_test500['label'], data_test500['y_pred_amazon'], labels = [0, 1], target_names=['negative', 'positive']))\n",
    "print('accuracy: {}'.format(round((data_test500['y_pred_amazon']==data_test500['label']).sum()/len(data_test500['label']), 2)))\n",
    "print(\"ROC AUC Score :\", roc_auc_score(data_test500['label'], data_test500['y_pred_amazon'], average='macro'))\n",
    "print(\"F1 Score :\", f1_score(data_test500['label'], data_test500['y_pred_amazon'], average='micro'))"
   ]
  },
  {
   "cell_type": "markdown",
   "metadata": {},
   "source": [
    "## IBM Natural Language Understanding"
   ]
  },
  {
   "cell_type": "markdown",
   "metadata": {},
   "source": [
    "### Pricing\n",
    "https://console.bluemix.net/catalog/services/natural-language-understanding?hideTours=true&cm_mmc=OSocial_Tumblr-_-Watson+Core_Watson+Core+-+Platform-_-WW_WW-_-wdc-ref&cm_mmca1=000000OF&cm_mmca2=10000409\n",
    "\n",
    "Free up to 30K per month\n",
    "\n",
    "\n",
    "Tiers\n",
    "Pricing<br>\n",
    "1 - 250,000<br>\n",
    "\\$0.00317 CAD/NLU Item <br> \n",
    "250,001 - 5,000,000<br>\n",
    "\\$0.001057 CAD/NLU Item <br>\n",
    "5,000,000+<br>\n",
    "\\$0.000212 CAD/NLU Item"
   ]
  },
  {
   "cell_type": "code",
   "execution_count": 54,
   "metadata": {},
   "outputs": [],
   "source": [
    "import json\n",
    "from watson_developer_cloud import NaturalLanguageUnderstandingV1\n",
    "from watson_developer_cloud.natural_language_understanding_v1 \\\n",
    "  import Features, SentimentOptions\n",
    "\n",
    "natural_language_understanding = NaturalLanguageUnderstandingV1(\n",
    "  username='', #Register to get username\n",
    "  password='', #Register to get password\n",
    "  version='2018-03-16')\n",
    "\n"
   ]
  },
  {
   "cell_type": "code",
   "execution_count": 55,
   "metadata": {},
   "outputs": [],
   "source": [
    "def ibmNLU_sentiment(text):\n",
    "    sentiment_score = natural_language_understanding.analyze(text=text, features=Features(\n",
    "        sentiment=SentimentOptions(document=True)))\n",
    "    if sentiment_score['sentiment']['document']['score'] < 0:\n",
    "        return 0\n",
    "    elif sentiment_score['sentiment']['document']['score'] > 0:\n",
    "        return 1\n",
    "    else:\n",
    "        return 2"
   ]
  },
  {
   "cell_type": "code",
   "execution_count": 56,
   "metadata": {},
   "outputs": [],
   "source": [
    "start_time = time.time()\n",
    "data_test500['y_pred_ibm'] = data_test500['body_text'].apply(lambda x: ibmNLU_sentiment(x))\n",
    "end_time = time.time()\n",
    "pred_time = (end_time - start_time)\n",
    "time_item = (pred_time/len(data_test500))"
   ]
  },
  {
   "cell_type": "code",
   "execution_count": 58,
   "metadata": {
    "scrolled": false
   },
   "outputs": [
    {
     "name": "stdout",
     "output_type": "stream",
     "text": [
      "Classification Report\n",
      "----------------------\n",
      "             precision    recall  f1-score   support\n",
      "\n",
      "   negative       0.92      0.75      0.83       250\n",
      "   positive       0.82      0.92      0.87       250\n",
      "\n",
      "avg / total       0.87      0.83      0.85       500\n",
      "\n",
      "accuracy: 0.83\n",
      "ROC AUC Score : 0.822144\n",
      "F1 Score : 0.834\n"
     ]
    }
   ],
   "source": [
    "print('Classification Report')\n",
    "print('----------------------')\n",
    "print(classification_report(data_test500['label'], data_test500['y_pred_ibm'], labels = [0, 1], target_names=['negative', 'positive']))\n",
    "print('accuracy: {}'.format(round((data_test500['y_pred_ibm']==data_test500['label']).sum()/len(data_test500['label']), 2)))\n",
    "print(\"ROC AUC Score :\", roc_auc_score(data_test500['label'], data_test500['y_pred_ibm'], average='macro'))\n",
    "print(\"F1 Score :\", f1_score(data_test500['label'], data_test500['y_pred_ibm'], average='micro'))"
   ]
  },
  {
   "cell_type": "markdown",
   "metadata": {},
   "source": [
    "## Aylien API"
   ]
  },
  {
   "cell_type": "code",
   "execution_count": 2,
   "metadata": {},
   "outputs": [],
   "source": [
    "from aylienapiclient import textapi\n",
    "\n",
    "client = textapi.Client(\"\", \"\") # Register to get keys"
   ]
  },
  {
   "cell_type": "code",
   "execution_count": 60,
   "metadata": {},
   "outputs": [],
   "source": [
    "def aylien_sentiment(text):\n",
    "    time.sleep(1)\n",
    "    sentiment_score = client.Sentiment({'text': text})\n",
    "    if 'negative' in sentiment_score['polarity'].lower():\n",
    "        return 0\n",
    "    elif 'positive' in sentiment_score['polarity'].lower() :\n",
    "        return 1\n",
    "    else:\n",
    "        return 2"
   ]
  },
  {
   "cell_type": "code",
   "execution_count": 61,
   "metadata": {},
   "outputs": [],
   "source": [
    "start_time = time.time()\n",
    "data_test500['y_pred_aylien'] = data_test500['body_text'].apply(lambda x: aylien_sentiment(x))\n",
    "end_time = time.time()\n",
    "pred_time = (end_time - start_time)\n",
    "time_item = (pred_time/len(data_test500))"
   ]
  },
  {
   "cell_type": "code",
   "execution_count": 62,
   "metadata": {
    "scrolled": false
   },
   "outputs": [
    {
     "name": "stdout",
     "output_type": "stream",
     "text": [
      "Classification Report\n",
      "----------------------\n",
      "             precision    recall  f1-score   support\n",
      "\n",
      "   negative       0.72      0.63      0.67       250\n",
      "   positive       0.72      0.56      0.63       250\n",
      "\n",
      "avg / total       0.72      0.59      0.65       500\n",
      "\n",
      "accuracy: 0.59\n",
      "ROC AUC Score : 0.672416\n",
      "F1 Score : 0.594\n"
     ]
    }
   ],
   "source": [
    "print('Classification Report')\n",
    "print('----------------------')\n",
    "print(classification_report(data_test500['label'], data_test500['y_pred_aylien'], labels = [0, 1], target_names=['negative', 'positive']))\n",
    "print('accuracy: {}'.format(round((data_test500['y_pred_aylien']==data_test500['label']).sum()/len(data_test500['label']), 2)))\n",
    "print(\"ROC AUC Score :\", roc_auc_score(data_test500['label'], data_test500['y_pred_aylien'], average='macro'))\n",
    "print(\"F1 Score :\", f1_score(data_test500['label'], data_test500['y_pred_aylien'], average='micro'))"
   ]
  },
  {
   "cell_type": "markdown",
   "metadata": {},
   "source": [
    "## Dandelion API"
   ]
  },
  {
   "cell_type": "code",
   "execution_count": 63,
   "metadata": {},
   "outputs": [],
   "source": [
    "def dandelion_sentiment(text):\n",
    "    sentiment_score = requests.post(\n",
    "    \"https://api.dandelion.eu/datatxt/sent/v1\",\n",
    "    data={\n",
    "        'text': text,\n",
    "        'token': ''}, #Register to get token\n",
    "\n",
    ")\n",
    "    if sentiment_score.json()['sentiment']['score'] < 0:\n",
    "        return 0\n",
    "    elif sentiment_score.json()['sentiment']['score'] > 0 :\n",
    "        return 1\n",
    "    else:\n",
    "        return 2"
   ]
  },
  {
   "cell_type": "code",
   "execution_count": 64,
   "metadata": {
    "scrolled": true
   },
   "outputs": [],
   "source": [
    "start_time = time.time()\n",
    "data_test500['y_pred_dandelion'] = data_test500['body_text'].apply(lambda x: dandelion_sentiment(x))\n",
    "end_time = time.time()\n",
    "pred_time = (end_time - start_time)\n",
    "time_item = (pred_time/len(data_test500))"
   ]
  },
  {
   "cell_type": "code",
   "execution_count": 65,
   "metadata": {
    "scrolled": true
   },
   "outputs": [
    {
     "name": "stdout",
     "output_type": "stream",
     "text": [
      "Classification Report\n",
      "----------------------\n",
      "             precision    recall  f1-score   support\n",
      "\n",
      "   negative       0.82      0.66      0.73       250\n",
      "   positive       0.74      0.84      0.79       250\n",
      "\n",
      "avg / total       0.78      0.75      0.76       500\n",
      "\n",
      "accuracy: 0.75\n",
      "ROC AUC Score : 0.7434399999999999\n",
      "F1 Score : 0.748\n"
     ]
    }
   ],
   "source": [
    "print('Classification Report')\n",
    "print('----------------------')\n",
    "print(classification_report(data_test500['label'], data_test500['y_pred_dandelion'], labels = [0, 1], target_names=['negative', 'positive']))\n",
    "print('accuracy: {}'.format(round((data_test500['y_pred_dandelion']==data_test500['label']).sum()/len(data_test500['label']), 2)))\n",
    "print(\"ROC AUC Score :\", roc_auc_score(data_test500['label'], data_test500['y_pred_dandelion'], average='macro'))\n",
    "print(\"F1 Score :\", f1_score(data_test500['label'], data_test500['y_pred_dandelion'], average='micro'))"
   ]
  }
 ],
 "metadata": {
  "kernelspec": {
   "display_name": "Python 3",
   "language": "python",
   "name": "python3"
  },
  "language_info": {
   "codemirror_mode": {
    "name": "ipython",
    "version": 3
   },
   "file_extension": ".py",
   "mimetype": "text/x-python",
   "name": "python",
   "nbconvert_exporter": "python",
   "pygments_lexer": "ipython3",
   "version": "3.6.4"
  }
 },
 "nbformat": 4,
 "nbformat_minor": 2
}
