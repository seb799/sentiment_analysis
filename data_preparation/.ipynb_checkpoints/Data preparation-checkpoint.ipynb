{
 "cells": [
  {
   "cell_type": "markdown",
   "metadata": {},
   "source": [
    "# Data Preparation for Language Modelling and Sentiment Analysis Classification"
   ]
  },
  {
   "cell_type": "markdown",
   "metadata": {},
   "source": [
    "## Importing libraries"
   ]
  },
  {
   "cell_type": "code",
   "execution_count": 1,
   "metadata": {},
   "outputs": [],
   "source": [
    "import pandas as pd\n",
    "import numpy as np\n",
    "import matplotlib.pyplot as plt\n",
    "# import seaborn as sns\n",
    "import gzip\n",
    "import re\n",
    "import sklearn\n",
    "from langdetect import detect\n",
    "from langdetect.lang_detect_exception import LangDetectException\n",
    "\n",
    "from pathlib import Path\n",
    "from sklearn.model_selection import train_test_split\n"
   ]
  },
  {
   "cell_type": "markdown",
   "metadata": {},
   "source": [
    "##### Path to the folder containing the data"
   ]
  },
  {
   "cell_type": "code",
   "execution_count": 2,
   "metadata": {},
   "outputs": [],
   "source": [
    "DATA_PATH = Path('../data/')"
   ]
  },
  {
   "cell_type": "markdown",
   "metadata": {},
   "source": [
    "## Data import scripts"
   ]
  },
  {
   "cell_type": "markdown",
   "metadata": {},
   "source": [
    "### Scraped Datasets"
   ]
  },
  {
   "cell_type": "code",
   "execution_count": 3,
   "metadata": {},
   "outputs": [],
   "source": [
    "def inspect_df(df):\n",
    "    print('First 5 reviews')\n",
    "    print(df.head())\n",
    "    print('Number of reviews per rating')\n",
    "    print(df.groupby('label').count())\n",
    "    \n",
    "    df.plot.hist(bins=5)\n",
    "    \n",
    "    \n",
    "def load_and_clean(file_path, rating_column_name, text_column_name):\n",
    "    df = pd.read_csv(DATA_PATH/file_path)\n",
    "    df = df[[rating_column_name, text_column_name]]\n",
    "    df.dropna(inplace=True)\n",
    "    df.drop_duplicates(inplace=True)\n",
    "    df.rename(columns = {rating_column_name : 'label', text_column_name : 'text'}, inplace=True)\n",
    "    df = df[df['label'].str.contains(r'\\d') == True]\n",
    "    df = df[df['text'].str.contains(r'\\w+') == True]\n",
    "    df['label'] = pd.to_numeric(df['label'].apply(lambda x: re.findall('\\d', x)[0]))\n",
    "    df.loc[(df.label==0), 'label'] = 1 #Converts 0.5 to 1\n",
    "  \n",
    "#     print(inspect_df(df))\n",
    "    return df"
   ]
  },
  {
   "cell_type": "markdown",
   "metadata": {},
   "source": [
    "### Existing Datasets (Amazon)"
   ]
  },
  {
   "cell_type": "markdown",
   "metadata": {},
   "source": [
    "##### Data import script adapted from McAuley. [Link](http://jmcauley.ucsd.edu/data/amazon/)"
   ]
  },
  {
   "cell_type": "code",
   "execution_count": 4,
   "metadata": {},
   "outputs": [],
   "source": [
    "# import pandas as pd\n",
    "# import gzip\n",
    "\n",
    "def parse(path):\n",
    "  g = gzip.open(path, 'rb')\n",
    "  for l in g:\n",
    "    yield eval(l)\n",
    "\n",
    "def getDF(path):\n",
    "  i = 0\n",
    "  df = {}\n",
    "  for d in parse(path):\n",
    "    df[i] = d\n",
    "    i += 1\n",
    "  return pd.DataFrame.from_dict(df, orient='index')\n",
    "\n",
    "def clean_data(df, review_text='reviewText', review_score='overall'):\n",
    "    df = df[[review_score, review_text]]\n",
    "    df = df.rename(columns= {review_score : 'label', review_text : 'text'})\n",
    "    df['label'] = pd.to_numeric(df['label'], downcast='integer')\n",
    "    return df\n"
   ]
  },
  {
   "cell_type": "markdown",
   "metadata": {},
   "source": [
    "## Language identifier functions"
   ]
  },
  {
   "cell_type": "code",
   "execution_count": 5,
   "metadata": {},
   "outputs": [],
   "source": [
    "def try_detect(x):\n",
    "    try:\n",
    "        y = detect(x)\n",
    "    except LangDetectException:\n",
    "        y = 'No lang'\n",
    "    return y\n",
    "\n",
    "def keep_lang(df, lang='en'):\n",
    "    \"\"\"Returns two dataframes, one containing only reviews of the specified language,\n",
    "    and the other containing all the reviews that were removed.\"\"\"\n",
    "    if lang == 'en':\n",
    "        lang_long = 'english'\n",
    "    elif lang == 'fr':\n",
    "        lang_long = 'french'\n",
    "    elif lang_long == 'es':\n",
    "        lang_long = 'spanish'\n",
    "    else:\n",
    "        lang_long = lang\n",
    "    ask = input('It make take a while, are you sure? (y/n)')\n",
    "    if (ask == 'y') | (ask == 'yes'):\n",
    "        print('finding non {0} reviews...'.format(lang_long))\n",
    "        df1 = df.copy()\n",
    "        df1['lang'] = df1['text'].apply(lambda x: try_detect(x))\n",
    "        print('removing non english reviews')\n",
    "        non_en = str(len(df1[df1['lang'] != lang]))\n",
    "        df2 = df1[df1['lang'] != lang]\n",
    "        df1 = df1[df1['lang'] == lang]\n",
    "        df1.drop(columns='lang', inplace=True)\n",
    "        print('{0} non {1} reviews were found and deleted'.format(non_en, lang_long))\n",
    "        return df1, df2\n",
    "    else:\n",
    "        print('You may try again at a later time.')\n"
   ]
  },
  {
   "cell_type": "markdown",
   "metadata": {},
   "source": [
    "## Sampling scripts"
   ]
  },
  {
   "cell_type": "code",
   "execution_count": 45,
   "metadata": {},
   "outputs": [],
   "source": [
    "def clas_trans_bin(df):\n",
    "    cdf = df.copy()\n",
    "    cdf.loc[(cdf.label==0) | (cdf.label==1) | (cdf.label==2), 'label'] = 0 #Negative reviews (0.5 to 2 out of 5)\n",
    "    cdf.loc[(cdf.label==4) | (cdf.label==5), 'label'] = 1 #Positive reviews (4 and 5 out of 5)\n",
    "    cdf.loc[(cdf.label==3), 'label'] = 2 #Neutral review (Can't be used for binary classification task)\n",
    "    cdf = cdf[cdf['label'] != 2]\n",
    "#     print(inspect_df(cdf))\n",
    "    \n",
    "    return cdf\n",
    "\n",
    "def lm_trans(df):\n",
    "    ldf=df.copy()\n",
    "    ldf.loc[(ldf.label<10), 'label'] = 0\n",
    "#     print(inspect_df(ldf))\n",
    "    \n",
    "    return ldf\n",
    "\n",
    "\n",
    "\n",
    "### This is to export the training, testing, and validation datasets to csv for modeling. \n",
    "def data_to_csv(data, max_pos=30000, max_neg=30000, test_size=0.1):\n",
    "    clas_data=clas_trans_bin(data)\n",
    "    len_neg = len(clas_data[clas_data['label']==0])\n",
    "    print(len_neg)\n",
    "    len_pos = len(clas_data[clas_data['label']==1])\n",
    "    print(len_pos)\n",
    "    if (len_neg < max_neg) | (len_pos < max_pos):\n",
    "        raise ValueError('Number of positive ({}) or negative ({}) reviews is less than passed in the argument.'.format(len_pos, len_neg))\n",
    "    else:\n",
    "        #Classifier model data for import\n",
    "        neg_data = clas_data[clas_data['label']==0].sample(n=max_neg, random_state=10)\n",
    "        pos_data = clas_data[clas_data['label']==1].sample(n=max_pos, random_state=10)\n",
    "        clas_data = pd.concat([neg_data, pos_data], ignore_index=True)\n",
    "        trn_df, valtest_df = train_test_split(clas_data, test_size=0.2)\n",
    "        val_df, test_df = train_test_split(valtest_df, test_size=0.5)\n",
    "        trn_df.to_csv(CLAS_PATH/'train.csv', header=False, index=False)\n",
    "        val_df.to_csv(CLAS_PATH/'val.csv', header=False, index=False)\n",
    "        test_df.to_csv(CLAS_PATH/'test.csv', header=False, index=False)\n",
    "        print('classifier model datasets')\n",
    "        print('training set : {0} reviews exported'.format(len(trn_df)))\n",
    "        print('validation set : {0} reviews exported'.format(len(val_df)))\n",
    "        print('testing set : {0}'.format(len(test_df)))\n",
    "        \n",
    "        #Language model data for import\n",
    "        lm_data = lm_trans(data)\n",
    "        lm_data = sklearn.utils.shuffle(lm_data, random_state=10)\n",
    "        lm_data = lm_data.sample(min(len(lm_data), 100000))\n",
    "        trn_df, val_df = train_test_split(lm_data, test_size=0.1)\n",
    "        trn_df.to_csv(LM_PATH/'train.csv', header=False, index=False)\n",
    "        val_df.to_csv(LM_PATH/'test.csv', header=False, index=False)\n",
    "\n",
    "        print('')\n",
    "        print('language model datasets')\n",
    "        print('training set : {0} reviews exported'.format(len(trn_df)))\n",
    "        print('validation set : {0} reviews exported'.format(len(val_df)))\n"
   ]
  },
  {
   "cell_type": "markdown",
   "metadata": {},
   "source": [
    "## Amazon Cell Phones and Accessories"
   ]
  },
  {
   "cell_type": "code",
   "execution_count": 18,
   "metadata": {},
   "outputs": [],
   "source": [
    "LM_PATH = Path('../data/cellphones_lm/')\n",
    "LM_PATH.mkdir(exist_ok=True)\n",
    "\n",
    "CLAS_PATH = Path('../data/cellphones_clas')\n",
    "CLAS_PATH.mkdir(exist_ok=True)"
   ]
  },
  {
   "cell_type": "code",
   "execution_count": 19,
   "metadata": {},
   "outputs": [],
   "source": [
    "cell_phones = clean_data(getDF('../data/reviews_Cell_Phones_and_Accessories_5.json.gz'))"
   ]
  },
  {
   "cell_type": "code",
   "execution_count": 22,
   "metadata": {},
   "outputs": [],
   "source": [
    "lm_data = lm_trans(cell_phones)"
   ]
  },
  {
   "cell_type": "code",
   "execution_count": 43,
   "metadata": {},
   "outputs": [
    {
     "name": "stdout",
     "output_type": "stream",
     "text": [
      "First 5 reviews\n",
      "   label                                               text\n",
      "0      1  They look good and stick good! I just don't li...\n",
      "1      1  These stickers work like the review says they ...\n",
      "2      1  These are awesome and make my phone look so st...\n",
      "3      1  Item arrived in great time and was in perfect ...\n",
      "4      1  awesome! stays on, and looks great. can be use...\n",
      "Number of reviews per rating\n",
      "         text\n",
      "label        \n",
      "0       24343\n",
      "1      148657\n"
     ]
    },
    {
     "data": {
      "image/png": "[encoded data removed]",
      "text/plain": [
       "<Figure size 432x288 with 1 Axes>"
      ]
     },
     "metadata": {},
     "output_type": "display_data"
    }
   ],
   "source": [
    "clas_data = clas_trans_bin(cell_phones)\n",
    "inspect_df(clas_data)"
   ]
  },
  {
   "cell_type": "code",
   "execution_count": 44,
   "metadata": {},
   "outputs": [
    {
     "data": {
      "text/plain": [
       "24343"
      ]
     },
     "execution_count": 44,
     "metadata": {},
     "output_type": "execute_result"
    }
   ],
   "source": [
    "len(clas_data[clas_data['label']==0])"
   ]
  },
  {
   "cell_type": "code",
   "execution_count": 53,
   "metadata": {
    "scrolled": true
   },
   "outputs": [
    {
     "name": "stdout",
     "output_type": "stream",
     "text": [
      "24343\n",
      "148657\n",
      "classifier model datasets\n",
      "training set : 40000 reviews exported\n",
      "validation set : 5000 reviews exported\n",
      "testing set : 5000\n",
      "\n",
      "language model datasets\n",
      "training set : 174995 reviews exported\n",
      "validation set : 19444 reviews exported\n"
     ]
    }
   ],
   "source": [
    "data_to_csv(cell_phones, max_pos=30000, max_neg=20000)"
   ]
  },
  {
   "cell_type": "markdown",
   "metadata": {},
   "source": [
    "## TripAdvisor Restaurant Reviews"
   ]
  },
  {
   "cell_type": "code",
   "execution_count": 8,
   "metadata": {},
   "outputs": [],
   "source": [
    "LM_PATH = Path('../data/restaurants_lm/')\n",
    "LM_PATH.mkdir(exist_ok=True)\n",
    "\n",
    "CLAS_PATH = Path('../data/restaurants_clas')\n",
    "CLAS_PATH.mkdir(exist_ok=True)"
   ]
  },
  {
   "cell_type": "code",
   "execution_count": 13,
   "metadata": {
    "scrolled": true
   },
   "outputs": [],
   "source": [
    "# r1 = load_and_clean('ottawa_restaurants.csv', 'global_rating', 'review_text')\n",
    "# r2 = load_and_clean('restaurants_toronto.csv', 'global_rating', 'review_text')\n",
    "# restaurants = pd.concat([r1, r2])"
   ]
  },
  {
   "cell_type": "code",
   "execution_count": 14,
   "metadata": {
    "scrolled": false
   },
   "outputs": [
    {
     "name": "stdout",
     "output_type": "stream",
     "text": [
      "It make take a while, are you sure? (y/n)y\n",
      "finding non english reviews...\n",
      "removing non english reviews\n",
      "1485 non english reviews were found and deleted\n"
     ]
    }
   ],
   "source": [
    "# restaurants_en, restaurants_other = keep_lang(restaurants)"
   ]
  },
  {
   "cell_type": "code",
   "execution_count": 16,
   "metadata": {},
   "outputs": [],
   "source": [
    "# restaurants_en[0].to_csv(DATA_PATH/'restaurants_en.csv')"
   ]
  },
  {
   "cell_type": "code",
   "execution_count": 9,
   "metadata": {},
   "outputs": [],
   "source": [
    "restaurants = pd.read_csv(DATA_PATH/'restaurants_en.csv', index_col=0)"
   ]
  },
  {
   "cell_type": "code",
   "execution_count": 57,
   "metadata": {},
   "outputs": [],
   "source": [
    "lm_data = lm_trans(restaurants)"
   ]
  },
  {
   "cell_type": "code",
   "execution_count": 9,
   "metadata": {},
   "outputs": [
    {
     "name": "stdout",
     "output_type": "stream",
     "text": [
      "First 5 reviews\n",
      "   label                                               text\n",
      "0      1  it is a nice place to buy italian food and to ...\n",
      "1      1   Tried Pure a couple times while visiting Ottawa.\n",
      "2      1  Had a great breakfast! very good service and v...\n",
      "3      1  My first visit. This place is busy. Good idea ...\n",
      "5      1  The food was really good and the service was a...\n",
      "Number of reviews per rating\n",
      "         text\n",
      "label        \n",
      "0       30566\n",
      "1      199128\n"
     ]
    },
    {
     "data": {
      "image/png": "[encoded data removed]",
      "text/plain": [
       "<matplotlib.figure.Figure at 0x10ba167b8>"
      ]
     },
     "metadata": {},
     "output_type": "display_data"
    }
   ],
   "source": [
    "clas_data = clas_trans_bin(restaurants)\n",
    "inspect_df(clas_data)"
   ]
  },
  {
   "cell_type": "code",
   "execution_count": 13,
   "metadata": {},
   "outputs": [
    {
     "name": "stdout",
     "output_type": "stream",
     "text": [
      "30566\n",
      "199128\n",
      "classifier model datasets\n",
      "training set : 32000 reviews exported\n",
      "validation set : 4000 reviews exported\n",
      "testing set : 4000\n",
      "\n",
      "language model datasets\n",
      "training set : 239176 reviews exported\n",
      "validation set : 26576 reviews exported\n"
     ]
    }
   ],
   "source": [
    "data_to_csv(restaurants, max_pos=20000, max_neg=20000)"
   ]
  },
  {
   "cell_type": "markdown",
   "metadata": {},
   "source": [
    "## TripAdvisor Hotel Reviews"
   ]
  },
  {
   "cell_type": "code",
   "execution_count": 10,
   "metadata": {},
   "outputs": [],
   "source": [
    "LM_PATH = Path('../data/hotels_lm/')\n",
    "LM_PATH.mkdir(exist_ok=True)\n",
    "\n",
    "CLAS_PATH = Path('../data/hotels_clas')\n",
    "CLAS_PATH.mkdir(exist_ok=True)"
   ]
  },
  {
   "cell_type": "code",
   "execution_count": 18,
   "metadata": {
    "scrolled": true
   },
   "outputs": [],
   "source": [
    "hotels = load_and_clean('hotels_sandiego.csv', 'review_rating', 'review_text')"
   ]
  },
  {
   "cell_type": "code",
   "execution_count": 19,
   "metadata": {
    "scrolled": false
   },
   "outputs": [
    {
     "name": "stdout",
     "output_type": "stream",
     "text": [
      "It make take a while, are you sure? (y/n)y\n",
      "finding non english reviews...\n",
      "removing non english reviews\n",
      "5299 non english reviews were found and deleted\n"
     ]
    }
   ],
   "source": [
    "hotels_en, hotels_other = keep_lang(hotels, 'en')"
   ]
  },
  {
   "cell_type": "code",
   "execution_count": 21,
   "metadata": {},
   "outputs": [],
   "source": [
    "hotels_en.to_csv(DATA_PATH/'hotels_en.csv')"
   ]
  },
  {
   "cell_type": "code",
   "execution_count": 11,
   "metadata": {},
   "outputs": [],
   "source": [
    "hotels = pd.read_csv(DATA_PATH/'hotels_en.csv', index_col=0)"
   ]
  },
  {
   "cell_type": "code",
   "execution_count": 16,
   "metadata": {},
   "outputs": [],
   "source": [
    "lm_data = lm_trans(hotels)"
   ]
  },
  {
   "cell_type": "code",
   "execution_count": 17,
   "metadata": {},
   "outputs": [],
   "source": [
    "clas_data = clas_trans_bin(hotels)\n",
    "# inspect_df(clas_data)"
   ]
  },
  {
   "cell_type": "code",
   "execution_count": 19,
   "metadata": {
    "scrolled": true
   },
   "outputs": [
    {
     "name": "stdout",
     "output_type": "stream",
     "text": [
      "First 5 reviews\n",
      "   label                                               text\n",
      "1      1  This hotel was a great value for a city hotel ...\n",
      "2      1  Urban Boutique has a great very helpful staff....\n",
      "3      1  Rooms were so nice ! Very boutique-ish. Staff ...\n",
      "4      1  Absolutely recommended this hotel to anyone. R...\n",
      "5      1  We stayed here for my boyfriends birthday and ...\n",
      "Number of reviews per rating\n",
      "         text\n",
      "label        \n",
      "0       21276\n",
      "1      165927\n"
     ]
    },
    {
     "data": {
      "image/png": "[encoded data removed]",
      "text/plain": [
       "<Figure size 432x288 with 1 Axes>"
      ]
     },
     "metadata": {},
     "output_type": "display_data"
    }
   ],
   "source": [
    "inspect_df(clas_data)"
   ]
  },
  {
   "cell_type": "code",
   "execution_count": 10,
   "metadata": {},
   "outputs": [
    {
     "name": "stdout",
     "output_type": "stream",
     "text": [
      "20541\n",
      "162119\n",
      "classifier model datasets\n",
      "training set : 32000 reviews exported\n",
      "validation set : 4000 reviews exported\n",
      "testing set : 4000\n",
      "\n",
      "language model datasets\n",
      "training set : 186451 reviews exported\n",
      "validation set : 20717 reviews exported\n"
     ]
    }
   ],
   "source": [
    "data_to_csv(hotels, max_pos=20000, max_neg=20000)"
   ]
  },
  {
   "cell_type": "markdown",
   "metadata": {},
   "source": [
    "## TripAdvisor Things to Do Reviews"
   ]
  },
  {
   "cell_type": "code",
   "execution_count": 12,
   "metadata": {},
   "outputs": [],
   "source": [
    "LM_PATH = Path('../data/activities_lm/')\n",
    "LM_PATH.mkdir(exist_ok=True)\n",
    "\n",
    "CLAS_PATH = Path('../data/activities_clas')\n",
    "CLAS_PATH.mkdir(exist_ok=True)"
   ]
  },
  {
   "cell_type": "code",
   "execution_count": 58,
   "metadata": {
    "scrolled": true
   },
   "outputs": [],
   "source": [
    "a1 = load_and_clean('activities_toronto.csv', 'review_rating', 'review_text')"
   ]
  },
  {
   "cell_type": "code",
   "execution_count": 59,
   "metadata": {
    "scrolled": true
   },
   "outputs": [],
   "source": [
    "a2 = load_and_clean('activities_san_diego.csv', 'review_rating', 'review_text')"
   ]
  },
  {
   "cell_type": "code",
   "execution_count": 60,
   "metadata": {},
   "outputs": [],
   "source": [
    "a3 = load_and_clean('activities_Alba_Dallas.csv', 'review_rating', 'review_text')"
   ]
  },
  {
   "cell_type": "code",
   "execution_count": 61,
   "metadata": {},
   "outputs": [],
   "source": [
    "a4 = load_and_clean('activities_calgary.csv', 'review_rating', 'review_text')"
   ]
  },
  {
   "cell_type": "code",
   "execution_count": 62,
   "metadata": {},
   "outputs": [],
   "source": [
    "activities = pd.concat([a1, a2, a3, a4])"
   ]
  },
  {
   "cell_type": "code",
   "execution_count": 63,
   "metadata": {
    "scrolled": true
   },
   "outputs": [
    {
     "name": "stdout",
     "output_type": "stream",
     "text": [
      "         text\n",
      "label        \n",
      "1        5894\n",
      "2        7495\n",
      "3       26125\n",
      "4       85146\n",
      "5      187944\n"
     ]
    }
   ],
   "source": [
    "print(activities.groupby('label').count())"
   ]
  },
  {
   "cell_type": "code",
   "execution_count": 64,
   "metadata": {
    "scrolled": true
   },
   "outputs": [
    {
     "name": "stdout",
     "output_type": "stream",
     "text": [
      "It make take a while, are you sure? (y/n)y\n",
      "finding non english reviews...\n",
      "removing non english reviews\n",
      "583 non english reviews were found and deleted\n"
     ]
    }
   ],
   "source": [
    "activities_en, activities_other = keep_lang(activities)"
   ]
  },
  {
   "cell_type": "code",
   "execution_count": 65,
   "metadata": {},
   "outputs": [],
   "source": [
    "activities_en.to_csv(DATA_PATH/'activities_en.csv')"
   ]
  },
  {
   "cell_type": "code",
   "execution_count": 13,
   "metadata": {},
   "outputs": [],
   "source": [
    "activities = pd.read_csv(DATA_PATH/'activities_en.csv', index_col=0)"
   ]
  },
  {
   "cell_type": "code",
   "execution_count": 15,
   "metadata": {
    "scrolled": true
   },
   "outputs": [
    {
     "name": "stdout",
     "output_type": "stream",
     "text": [
      "First 5 reviews\n",
      "   label                                               text\n",
      "0      1  a good rainy day activity. nice informative di...\n",
      "1      0  I have been to many aquariums the world over, ...\n",
      "2      1  If you haven’t gone yet, this is a place you m...\n",
      "3      1  Great aquarium, my 18 year old insisted on a s...\n",
      "4      1  We visited the aquarium as part of a combo tic...\n",
      "Number of reviews per rating\n",
      "         text\n",
      "label        \n",
      "0       13352\n",
      "1      272599\n"
     ]
    },
    {
     "data": {
      "image/png": "[encoded data removed]",
      "text/plain": [
       "<matplotlib.figure.Figure at 0x10da38ac8>"
      ]
     },
     "metadata": {},
     "output_type": "display_data"
    }
   ],
   "source": [
    "inspect_df(clas_trans_bin(activities))"
   ]
  },
  {
   "cell_type": "code",
   "execution_count": null,
   "metadata": {},
   "outputs": [],
   "source": [
    "lm_data = lm_trans(activities)"
   ]
  },
  {
   "cell_type": "code",
   "execution_count": null,
   "metadata": {},
   "outputs": [],
   "source": [
    "clas_data = clas_trans_bin(activities)"
   ]
  },
  {
   "cell_type": "code",
   "execution_count": 66,
   "metadata": {},
   "outputs": [
    {
     "name": "stdout",
     "output_type": "stream",
     "text": [
      "13389\n",
      "273090\n",
      "classifier model datasets\n",
      "training set : 22711 reviews exported\n",
      "validation set : 2839 reviews exported\n",
      "testing set : 2839\n",
      "\n",
      "language model datasets\n",
      "training set : 281343 reviews exported\n",
      "validation set : 31261 reviews exported\n"
     ]
    }
   ],
   "source": [
    "data_to_csv(activities, max_neg=13389, max_pos=15000)"
   ]
  },
  {
   "cell_type": "markdown",
   "metadata": {},
   "source": [
    "## Rotten Tomatoes Consumer Movie Reviews"
   ]
  },
  {
   "cell_type": "code",
   "execution_count": 14,
   "metadata": {},
   "outputs": [],
   "source": [
    "LM_PATH = Path('../data/movies_lm/')\n",
    "LM_PATH.mkdir(exist_ok=True)\n",
    "\n",
    "CLAS_PATH = Path('../data/movies_clas')\n",
    "CLAS_PATH.mkdir(exist_ok=True)"
   ]
  },
  {
   "cell_type": "code",
   "execution_count": 2,
   "metadata": {
    "collapsed": true
   },
   "outputs": [
    {
     "ename": "NameError",
     "evalue": "name 'load_and_clean' is not defined",
     "output_type": "error",
     "traceback": [
      "\u001b[0;31m---------------------------------------------------------------------------\u001b[0m",
      "\u001b[0;31mNameError\u001b[0m                                 Traceback (most recent call last)",
      "\u001b[0;32m<ipython-input-2-b03858f715fa>\u001b[0m in \u001b[0;36m<module>\u001b[0;34m()\u001b[0m\n\u001b[0;32m----> 1\u001b[0;31m \u001b[0mmovies_consumer\u001b[0m \u001b[0;34m=\u001b[0m \u001b[0mload_and_clean\u001b[0m\u001b[0;34m(\u001b[0m\u001b[0;34m'rotten_reviews.csv'\u001b[0m\u001b[0;34m,\u001b[0m \u001b[0;34m'review_score'\u001b[0m\u001b[0;34m,\u001b[0m \u001b[0;34m'review_text'\u001b[0m\u001b[0;34m)\u001b[0m\u001b[0;34m\u001b[0m\u001b[0m\n\u001b[0m\u001b[1;32m      2\u001b[0m \u001b[0mmovies_consumer\u001b[0m\u001b[0;34m[\u001b[0m\u001b[0;34m'text'\u001b[0m\u001b[0;34m]\u001b[0m \u001b[0;34m=\u001b[0m \u001b[0mmovies_consumer\u001b[0m\u001b[0;34m[\u001b[0m\u001b[0;34m'text'\u001b[0m\u001b[0;34m]\u001b[0m\u001b[0;34m.\u001b[0m\u001b[0mstr\u001b[0m\u001b[0;34m[\u001b[0m\u001b[0;36m3\u001b[0m\u001b[0;34m:\u001b[0m\u001b[0;34m]\u001b[0m\u001b[0;34m\u001b[0m\u001b[0m\n\u001b[1;32m      3\u001b[0m \u001b[0;31m# # inspect_df(movies_consumer)\u001b[0m\u001b[0;34m\u001b[0m\u001b[0;34m\u001b[0m\u001b[0m\n",
      "\u001b[0;31mNameError\u001b[0m: name 'load_and_clean' is not defined"
     ]
    }
   ],
   "source": [
    "movies_consumer = load_and_clean('rotten_reviews.csv', 'review_score', 'review_text')\n",
    "movies_consumer['text'] = movies_consumer['text'].str[3:]\n",
    "# # inspect_df(movies_consumer)"
   ]
  },
  {
   "cell_type": "code",
   "execution_count": 47,
   "metadata": {},
   "outputs": [],
   "source": [
    "movies_consumer.to_csv(DATA_PATH/'movies_clean.csv')"
   ]
  },
  {
   "cell_type": "code",
   "execution_count": 15,
   "metadata": {},
   "outputs": [],
   "source": [
    "movies_consumer = pd.read_csv(DATA_PATH/'movies_clean.csv', index_col=0)"
   ]
  },
  {
   "cell_type": "code",
   "execution_count": 49,
   "metadata": {
    "scrolled": true
   },
   "outputs": [
    {
     "data": {
      "text/plain": [
       "label    117687\n",
       "text     117687\n",
       "dtype: int64"
      ]
     },
     "execution_count": 49,
     "metadata": {},
     "output_type": "execute_result"
    }
   ],
   "source": [
    "movies_consumer.count()"
   ]
  },
  {
   "cell_type": "code",
   "execution_count": 12,
   "metadata": {
    "scrolled": false
   },
   "outputs": [
    {
     "name": "stdout",
     "output_type": "stream",
     "text": [
      "First 5 reviews\n",
      "    label                                               text\n",
      "1       1  I really enjoyed this movie in class, great st...\n",
      "2       0  ssssssssllllllllllooooooooooooowwwww. makes la...\n",
      "5       0  I watched it for 5 minutes..... Felicity Kenda...\n",
      "8       1  Historical accuracy and depth of story aside, ...\n",
      "10      1                            A great family movie ??\n",
      "Number of reviews per rating\n",
      "        text\n",
      "label       \n",
      "0      36294\n",
      "1      58354\n"
     ]
    },
    {
     "data": {
      "image/png": "[encoded data removed]",
      "text/plain": [
       "<matplotlib.figure.Figure at 0x10dad9c88>"
      ]
     },
     "metadata": {},
     "output_type": "display_data"
    }
   ],
   "source": [
    "inspect_df(clas_trans_bin(movies_consumer))"
   ]
  },
  {
   "cell_type": "code",
   "execution_count": 53,
   "metadata": {},
   "outputs": [
    {
     "name": "stdout",
     "output_type": "stream",
     "text": [
      "It make take a while, are you sure? (y/n)y\n",
      "finding non english reviews...\n",
      "removing non english reviews\n",
      "5207 non english reviews were found and deleted\n"
     ]
    }
   ],
   "source": [
    "movies_en, movies_other = keep_lang(movies_consumer)"
   ]
  },
  {
   "cell_type": "code",
   "execution_count": 54,
   "metadata": {},
   "outputs": [
    {
     "data": {
      "text/html": [
       "<div>\n",
       "<style scoped>\n",
       "    .dataframe tbody tr th:only-of-type {\n",
       "        vertical-align: middle;\n",
       "    }\n",
       "\n",
       "    .dataframe tbody tr th {\n",
       "        vertical-align: top;\n",
       "    }\n",
       "\n",
       "    .dataframe thead th {\n",
       "        text-align: right;\n",
       "    }\n",
       "</style>\n",
       "<table border=\"1\" class=\"dataframe\">\n",
       "  <thead>\n",
       "    <tr style=\"text-align: right;\">\n",
       "      <th></th>\n",
       "      <th>label</th>\n",
       "      <th>text</th>\n",
       "    </tr>\n",
       "  </thead>\n",
       "  <tbody>\n",
       "    <tr>\n",
       "      <th>0</th>\n",
       "      <td>3</td>\n",
       "      <td>Particularly acute in catching the peculiar ma...</td>\n",
       "    </tr>\n",
       "    <tr>\n",
       "      <th>1</th>\n",
       "      <td>4</td>\n",
       "      <td>I really enjoyed this movie in class, great st...</td>\n",
       "    </tr>\n",
       "    <tr>\n",
       "      <th>2</th>\n",
       "      <td>2</td>\n",
       "      <td>ssssssssllllllllllooooooooooooowwwww. makes la...</td>\n",
       "    </tr>\n",
       "    <tr>\n",
       "      <th>4</th>\n",
       "      <td>3</td>\n",
       "      <td>An early Merchant/Ivory film featuring the rea...</td>\n",
       "    </tr>\n",
       "    <tr>\n",
       "      <th>5</th>\n",
       "      <td>2</td>\n",
       "      <td>I watched it for 5 minutes..... Felicity Kenda...</td>\n",
       "    </tr>\n",
       "  </tbody>\n",
       "</table>\n",
       "</div>"
      ],
      "text/plain": [
       "   label                                               text\n",
       "0      3  Particularly acute in catching the peculiar ma...\n",
       "1      4  I really enjoyed this movie in class, great st...\n",
       "2      2  ssssssssllllllllllooooooooooooowwwww. makes la...\n",
       "4      3  An early Merchant/Ivory film featuring the rea...\n",
       "5      2  I watched it for 5 minutes..... Felicity Kenda..."
      ]
     },
     "execution_count": 54,
     "metadata": {},
     "output_type": "execute_result"
    }
   ],
   "source": [
    "movies_consumer.head()"
   ]
  },
  {
   "cell_type": "code",
   "execution_count": 55,
   "metadata": {},
   "outputs": [],
   "source": [
    "movies_en.to_csv(DATA_PATH/'movies_en.csv')"
   ]
  },
  {
   "cell_type": "code",
   "execution_count": 16,
   "metadata": {},
   "outputs": [],
   "source": [
    "movies_consumer = pd.read_csv(DATA_PATH/'movies_en.csv', index_col=0)"
   ]
  },
  {
   "cell_type": "code",
   "execution_count": 56,
   "metadata": {
    "scrolled": true
   },
   "outputs": [
    {
     "name": "stdout",
     "output_type": "stream",
     "text": [
      "36294\n",
      "58354\n",
      "classifier model datasets\n",
      "training set : 54400 reviews exported\n",
      "validation set : 6800 reviews exported\n",
      "testing set : 6800\n",
      "\n",
      "language model datasets\n",
      "training set : 105918 reviews exported\n",
      "validation set : 11769 reviews exported\n"
     ]
    }
   ],
   "source": [
    "data_to_csv(movies_consumer, max_pos=35000, max_neg=33000)"
   ]
  },
  {
   "cell_type": "code",
   "execution_count": null,
   "metadata": {},
   "outputs": [],
   "source": []
  },
  {
   "cell_type": "code",
   "execution_count": null,
   "metadata": {},
   "outputs": [],
   "source": []
  },
  {
   "cell_type": "markdown",
   "metadata": {},
   "source": [
    "## General Language Model Dataset"
   ]
  },
  {
   "cell_type": "code",
   "execution_count": 25,
   "metadata": {},
   "outputs": [],
   "source": [
    "LM_PATH = Path('../data/general_lm/')\n",
    "LM_PATH.mkdir(exist_ok=True)\n",
    "\n",
    "CLAS_PATH = Path('../data/general_clas')\n",
    "CLAS_PATH.mkdir(exist_ok=True)"
   ]
  },
  {
   "cell_type": "code",
   "execution_count": 42,
   "metadata": {},
   "outputs": [
    {
     "data": {
      "text/plain": [
       "1091860"
      ]
     },
     "execution_count": 42,
     "metadata": {},
     "output_type": "execute_result"
    }
   ],
   "source": [
    "all_data = pd.concat([movies_consumer, activities, hotels, restaurants, cell_phones])\n",
    "len(all_data)"
   ]
  },
  {
   "cell_type": "code",
   "execution_count": 39,
   "metadata": {},
   "outputs": [],
   "source": [
    "general_lm_data = all_data.sample(n=100000, random_state=10)"
   ]
  },
  {
   "cell_type": "code",
   "execution_count": 41,
   "metadata": {
    "scrolled": true
   },
   "outputs": [
    {
     "name": "stdout",
     "output_type": "stream",
     "text": [
      "First 5 reviews\n",
      "        label                                               text\n",
      "70797       3  Not bad but not great. Asked for extra everyth...\n",
      "45655       4  Great event for an afternoon at the symphony w...\n",
      "41557       2  My husband and I went to McEwan today. Disable...\n",
      "124842      5  best suits movie of 2016, best love movie of 2...\n",
      "121974      5  I have a lot of fun with these cases as I like...\n",
      "Number of reviews per rating\n",
      "        text\n",
      "label       \n",
      "1       5774\n",
      "2       5507\n",
      "3      11807\n",
      "4      27315\n",
      "5      49597\n"
     ]
    },
    {
     "data": {
      "image/png": "[encoded data removed]",
      "text/plain": [
       "<matplotlib.figure.Figure at 0x1a28078518>"
      ]
     },
     "metadata": {},
     "output_type": "display_data"
    }
   ],
   "source": [
    "inspect_df(general_lm_data)"
   ]
  },
  {
   "cell_type": "code",
   "execution_count": 46,
   "metadata": {},
   "outputs": [
    {
     "name": "stdout",
     "output_type": "stream",
     "text": [
      "123637\n",
      "838141\n",
      "classifier model datasets\n",
      "training set : 72000 reviews exported\n",
      "validation set : 9000 reviews exported\n",
      "testing set : 9000\n",
      "\n",
      "language model datasets\n",
      "training set : 90000 reviews exported\n",
      "validation set : 10000 reviews exported\n"
     ]
    }
   ],
   "source": [
    "data_to_csv(all_data, max_pos=45000, max_neg=45000)"
   ]
  },
  {
   "cell_type": "code",
   "execution_count": null,
   "metadata": {},
   "outputs": [],
   "source": []
  }
 ],
 "metadata": {
  "kernelspec": {
   "display_name": "Python 3",
   "language": "python",
   "name": "python3"
  },
  "language_info": {
   "codemirror_mode": {
    "name": "ipython",
    "version": 3
   },
   "file_extension": ".py",
   "mimetype": "text/x-python",
   "name": "python",
   "nbconvert_exporter": "python",
   "pygments_lexer": "ipython3",
   "version": "3.6.4"
  }
 },
 "nbformat": 4,
 "nbformat_minor": 2
}
